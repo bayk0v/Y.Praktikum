{
 "cells": [
  {
   "cell_type": "markdown",
   "metadata": {},
   "source": [
    "# Определение перспективного тарифа для телеком компании"
   ]
  },
  {
   "cell_type": "markdown",
   "metadata": {},
   "source": [
    "Вы аналитик компании «Мегалайн» — федерального оператора сотовой связи. Клиентам предлагают два тарифных плана: «Смарт» и «Ультра». Чтобы скорректировать рекламный бюджет, коммерческий департамент хочет понять, какой тариф приносит больше денег.\n",
    "Вам предстоит сделать предварительный анализ тарифов на небольшой выборке клиентов. В вашем распоряжении данные 500 пользователей «Мегалайна»: кто они, откуда, каким тарифом пользуются, сколько звонков и сообщений каждый отправил за 2018 год. Нужно проанализировать поведение клиентов и сделать вывод — какой тариф лучше."
   ]
  },
  {
   "cell_type": "markdown",
   "metadata": {},
   "source": [
    "### Шаг 1. Откроем файл с данными и изучим общую информацию"
   ]
  },
  {
   "cell_type": "code",
   "execution_count": 1,
   "metadata": {},
   "outputs": [],
   "source": [
    "# импорт библиотеки pandas\n",
    "import pandas as pd \n",
    "# импортируем библиотеки для визуализации matplotlib.pyplot, colors\n",
    "import matplotlib.pyplot as plt\n",
    "from matplotlib import colors\n",
    "# импортируем библиотеки для мат.расчетов\n",
    "import math\n",
    "import numpy as np\n",
    "from scipy import stats as st\n",
    "\n",
    "# чтение файлов с данными с последующим сохранением \n",
    "call=pd.read_csv('/datasets/calls.csv')\n",
    "internet=pd.read_csv('/datasets/internet.csv')\n",
    "messages=pd.read_csv('/datasets/messages.csv')\n",
    "tariffs=pd.read_csv('/datasets/tariffs.csv')\n",
    "users=pd.read_csv('/datasets/users.csv')"
   ]
  },
  {
   "cell_type": "markdown",
   "metadata": {},
   "source": [
    "С помощью метода info() и head() ознакомимся с данными каждой из таблиц."
   ]
  },
  {
   "cell_type": "code",
   "execution_count": 2,
   "metadata": {},
   "outputs": [
    {
     "name": "stdout",
     "output_type": "stream",
     "text": [
      "<class 'pandas.core.frame.DataFrame'>\n",
      "RangeIndex: 202607 entries, 0 to 202606\n",
      "Data columns (total 4 columns):\n",
      "id           202607 non-null object\n",
      "call_date    202607 non-null object\n",
      "duration     202607 non-null float64\n",
      "user_id      202607 non-null int64\n",
      "dtypes: float64(1), int64(1), object(2)\n",
      "memory usage: 6.2+ MB\n",
      "None\n"
     ]
    },
    {
     "data": {
      "text/html": [
       "<div>\n",
       "<style scoped>\n",
       "    .dataframe tbody tr th:only-of-type {\n",
       "        vertical-align: middle;\n",
       "    }\n",
       "\n",
       "    .dataframe tbody tr th {\n",
       "        vertical-align: top;\n",
       "    }\n",
       "\n",
       "    .dataframe thead th {\n",
       "        text-align: right;\n",
       "    }\n",
       "</style>\n",
       "<table border=\"1\" class=\"dataframe\">\n",
       "  <thead>\n",
       "    <tr style=\"text-align: right;\">\n",
       "      <th></th>\n",
       "      <th>id</th>\n",
       "      <th>call_date</th>\n",
       "      <th>duration</th>\n",
       "      <th>user_id</th>\n",
       "    </tr>\n",
       "  </thead>\n",
       "  <tbody>\n",
       "    <tr>\n",
       "      <td>0</td>\n",
       "      <td>1000_0</td>\n",
       "      <td>2018-07-25</td>\n",
       "      <td>0.00</td>\n",
       "      <td>1000</td>\n",
       "    </tr>\n",
       "    <tr>\n",
       "      <td>1</td>\n",
       "      <td>1000_1</td>\n",
       "      <td>2018-08-17</td>\n",
       "      <td>0.00</td>\n",
       "      <td>1000</td>\n",
       "    </tr>\n",
       "    <tr>\n",
       "      <td>2</td>\n",
       "      <td>1000_2</td>\n",
       "      <td>2018-06-11</td>\n",
       "      <td>2.85</td>\n",
       "      <td>1000</td>\n",
       "    </tr>\n",
       "    <tr>\n",
       "      <td>3</td>\n",
       "      <td>1000_3</td>\n",
       "      <td>2018-09-21</td>\n",
       "      <td>13.80</td>\n",
       "      <td>1000</td>\n",
       "    </tr>\n",
       "    <tr>\n",
       "      <td>4</td>\n",
       "      <td>1000_4</td>\n",
       "      <td>2018-12-15</td>\n",
       "      <td>5.18</td>\n",
       "      <td>1000</td>\n",
       "    </tr>\n",
       "  </tbody>\n",
       "</table>\n",
       "</div>"
      ],
      "text/plain": [
       "       id   call_date  duration  user_id\n",
       "0  1000_0  2018-07-25      0.00     1000\n",
       "1  1000_1  2018-08-17      0.00     1000\n",
       "2  1000_2  2018-06-11      2.85     1000\n",
       "3  1000_3  2018-09-21     13.80     1000\n",
       "4  1000_4  2018-12-15      5.18     1000"
      ]
     },
     "execution_count": 2,
     "metadata": {},
     "output_type": "execute_result"
    }
   ],
   "source": [
    "print(call.info())\n",
    "call.head()"
   ]
  },
  {
   "cell_type": "markdown",
   "metadata": {},
   "source": [
    "Таблица calls (информация о звонках):\n",
    "* id — уникальный номер звонка\n",
    "* call_date — дата звонка\n",
    "* duration — длительность звонка в минутах\n",
    "* user_id — идентификатор пользователя, сделавшего звонок"
   ]
  },
  {
   "cell_type": "code",
   "execution_count": 3,
   "metadata": {},
   "outputs": [
    {
     "name": "stdout",
     "output_type": "stream",
     "text": [
      "<class 'pandas.core.frame.DataFrame'>\n",
      "RangeIndex: 149396 entries, 0 to 149395\n",
      "Data columns (total 4 columns):\n",
      "id              149396 non-null object\n",
      "mb_used         149396 non-null float64\n",
      "session_date    149396 non-null object\n",
      "user_id         149396 non-null int64\n",
      "dtypes: float64(1), int64(1), object(2)\n",
      "memory usage: 4.6+ MB\n",
      "None\n"
     ]
    },
    {
     "data": {
      "text/html": [
       "<div>\n",
       "<style scoped>\n",
       "    .dataframe tbody tr th:only-of-type {\n",
       "        vertical-align: middle;\n",
       "    }\n",
       "\n",
       "    .dataframe tbody tr th {\n",
       "        vertical-align: top;\n",
       "    }\n",
       "\n",
       "    .dataframe thead th {\n",
       "        text-align: right;\n",
       "    }\n",
       "</style>\n",
       "<table border=\"1\" class=\"dataframe\">\n",
       "  <thead>\n",
       "    <tr style=\"text-align: right;\">\n",
       "      <th></th>\n",
       "      <th>id</th>\n",
       "      <th>mb_used</th>\n",
       "      <th>session_date</th>\n",
       "      <th>user_id</th>\n",
       "    </tr>\n",
       "  </thead>\n",
       "  <tbody>\n",
       "    <tr>\n",
       "      <td>0</td>\n",
       "      <td>1000_0</td>\n",
       "      <td>112.95</td>\n",
       "      <td>2018-11-25</td>\n",
       "      <td>1000</td>\n",
       "    </tr>\n",
       "    <tr>\n",
       "      <td>1</td>\n",
       "      <td>1000_1</td>\n",
       "      <td>1052.81</td>\n",
       "      <td>2018-09-07</td>\n",
       "      <td>1000</td>\n",
       "    </tr>\n",
       "    <tr>\n",
       "      <td>2</td>\n",
       "      <td>1000_2</td>\n",
       "      <td>1197.26</td>\n",
       "      <td>2018-06-25</td>\n",
       "      <td>1000</td>\n",
       "    </tr>\n",
       "    <tr>\n",
       "      <td>3</td>\n",
       "      <td>1000_3</td>\n",
       "      <td>550.27</td>\n",
       "      <td>2018-08-22</td>\n",
       "      <td>1000</td>\n",
       "    </tr>\n",
       "    <tr>\n",
       "      <td>4</td>\n",
       "      <td>1000_4</td>\n",
       "      <td>302.56</td>\n",
       "      <td>2018-09-24</td>\n",
       "      <td>1000</td>\n",
       "    </tr>\n",
       "  </tbody>\n",
       "</table>\n",
       "</div>"
      ],
      "text/plain": [
       "       id  mb_used session_date  user_id\n",
       "0  1000_0   112.95   2018-11-25     1000\n",
       "1  1000_1  1052.81   2018-09-07     1000\n",
       "2  1000_2  1197.26   2018-06-25     1000\n",
       "3  1000_3   550.27   2018-08-22     1000\n",
       "4  1000_4   302.56   2018-09-24     1000"
      ]
     },
     "execution_count": 3,
     "metadata": {},
     "output_type": "execute_result"
    }
   ],
   "source": [
    "print(internet.info())\n",
    "internet.head()"
   ]
  },
  {
   "cell_type": "markdown",
   "metadata": {},
   "source": [
    "Таблица internet (информация об интернет-сессиях):\n",
    "* id — уникальный номер сессии\n",
    "* mb_used — объём потраченного за сессию интернет-трафика (в мегабайтах)\n",
    "* session_date — дата интернет-сессии\n",
    "* user_id — идентификатор пользователя"
   ]
  },
  {
   "cell_type": "code",
   "execution_count": 4,
   "metadata": {},
   "outputs": [
    {
     "name": "stdout",
     "output_type": "stream",
     "text": [
      "<class 'pandas.core.frame.DataFrame'>\n",
      "RangeIndex: 123036 entries, 0 to 123035\n",
      "Data columns (total 3 columns):\n",
      "id              123036 non-null object\n",
      "message_date    123036 non-null object\n",
      "user_id         123036 non-null int64\n",
      "dtypes: int64(1), object(2)\n",
      "memory usage: 2.8+ MB\n",
      "None\n"
     ]
    },
    {
     "data": {
      "text/html": [
       "<div>\n",
       "<style scoped>\n",
       "    .dataframe tbody tr th:only-of-type {\n",
       "        vertical-align: middle;\n",
       "    }\n",
       "\n",
       "    .dataframe tbody tr th {\n",
       "        vertical-align: top;\n",
       "    }\n",
       "\n",
       "    .dataframe thead th {\n",
       "        text-align: right;\n",
       "    }\n",
       "</style>\n",
       "<table border=\"1\" class=\"dataframe\">\n",
       "  <thead>\n",
       "    <tr style=\"text-align: right;\">\n",
       "      <th></th>\n",
       "      <th>id</th>\n",
       "      <th>message_date</th>\n",
       "      <th>user_id</th>\n",
       "    </tr>\n",
       "  </thead>\n",
       "  <tbody>\n",
       "    <tr>\n",
       "      <td>0</td>\n",
       "      <td>1000_0</td>\n",
       "      <td>2018-06-27</td>\n",
       "      <td>1000</td>\n",
       "    </tr>\n",
       "    <tr>\n",
       "      <td>1</td>\n",
       "      <td>1000_1</td>\n",
       "      <td>2018-10-08</td>\n",
       "      <td>1000</td>\n",
       "    </tr>\n",
       "    <tr>\n",
       "      <td>2</td>\n",
       "      <td>1000_2</td>\n",
       "      <td>2018-08-04</td>\n",
       "      <td>1000</td>\n",
       "    </tr>\n",
       "    <tr>\n",
       "      <td>3</td>\n",
       "      <td>1000_3</td>\n",
       "      <td>2018-06-16</td>\n",
       "      <td>1000</td>\n",
       "    </tr>\n",
       "    <tr>\n",
       "      <td>4</td>\n",
       "      <td>1000_4</td>\n",
       "      <td>2018-12-05</td>\n",
       "      <td>1000</td>\n",
       "    </tr>\n",
       "  </tbody>\n",
       "</table>\n",
       "</div>"
      ],
      "text/plain": [
       "       id message_date  user_id\n",
       "0  1000_0   2018-06-27     1000\n",
       "1  1000_1   2018-10-08     1000\n",
       "2  1000_2   2018-08-04     1000\n",
       "3  1000_3   2018-06-16     1000\n",
       "4  1000_4   2018-12-05     1000"
      ]
     },
     "execution_count": 4,
     "metadata": {},
     "output_type": "execute_result"
    }
   ],
   "source": [
    "print(messages.info())\n",
    "messages.head()"
   ]
  },
  {
   "cell_type": "markdown",
   "metadata": {},
   "source": [
    "Таблица messages (информация о сообщениях):\n",
    "* id — уникальный номер сообщения\n",
    "* message_date — дата сообщения\n",
    "* user_id — идентификатор пользователя, отправившего сообщение"
   ]
  },
  {
   "cell_type": "code",
   "execution_count": 5,
   "metadata": {},
   "outputs": [
    {
     "name": "stdout",
     "output_type": "stream",
     "text": [
      "<class 'pandas.core.frame.DataFrame'>\n",
      "RangeIndex: 2 entries, 0 to 1\n",
      "Data columns (total 8 columns):\n",
      "messages_included        2 non-null int64\n",
      "mg_per_month_included    2 non-null int64\n",
      "minutes_included         2 non-null int64\n",
      "rub_monthly_fee          2 non-null int64\n",
      "rub_per_gb               2 non-null int64\n",
      "rub_per_message          2 non-null int64\n",
      "rub_per_minute           2 non-null int64\n",
      "tariff_name              2 non-null object\n",
      "dtypes: int64(7), object(1)\n",
      "memory usage: 256.0+ bytes\n",
      "None\n"
     ]
    },
    {
     "data": {
      "text/html": [
       "<div>\n",
       "<style scoped>\n",
       "    .dataframe tbody tr th:only-of-type {\n",
       "        vertical-align: middle;\n",
       "    }\n",
       "\n",
       "    .dataframe tbody tr th {\n",
       "        vertical-align: top;\n",
       "    }\n",
       "\n",
       "    .dataframe thead th {\n",
       "        text-align: right;\n",
       "    }\n",
       "</style>\n",
       "<table border=\"1\" class=\"dataframe\">\n",
       "  <thead>\n",
       "    <tr style=\"text-align: right;\">\n",
       "      <th></th>\n",
       "      <th>messages_included</th>\n",
       "      <th>mg_per_month_included</th>\n",
       "      <th>minutes_included</th>\n",
       "      <th>rub_monthly_fee</th>\n",
       "      <th>rub_per_gb</th>\n",
       "      <th>rub_per_message</th>\n",
       "      <th>rub_per_minute</th>\n",
       "      <th>tariff_name</th>\n",
       "    </tr>\n",
       "  </thead>\n",
       "  <tbody>\n",
       "    <tr>\n",
       "      <td>0</td>\n",
       "      <td>50</td>\n",
       "      <td>15360</td>\n",
       "      <td>500</td>\n",
       "      <td>550</td>\n",
       "      <td>200</td>\n",
       "      <td>3</td>\n",
       "      <td>3</td>\n",
       "      <td>smart</td>\n",
       "    </tr>\n",
       "    <tr>\n",
       "      <td>1</td>\n",
       "      <td>1000</td>\n",
       "      <td>30720</td>\n",
       "      <td>3000</td>\n",
       "      <td>1950</td>\n",
       "      <td>150</td>\n",
       "      <td>1</td>\n",
       "      <td>1</td>\n",
       "      <td>ultra</td>\n",
       "    </tr>\n",
       "  </tbody>\n",
       "</table>\n",
       "</div>"
      ],
      "text/plain": [
       "   messages_included  mg_per_month_included  minutes_included  \\\n",
       "0                 50                  15360               500   \n",
       "1               1000                  30720              3000   \n",
       "\n",
       "   rub_monthly_fee  rub_per_gb  rub_per_message  rub_per_minute tariff_name  \n",
       "0              550         200                3               3       smart  \n",
       "1             1950         150                1               1       ultra  "
      ]
     },
     "execution_count": 5,
     "metadata": {},
     "output_type": "execute_result"
    }
   ],
   "source": [
    "print(tariffs.info())\n",
    "tariffs.head()"
   ]
  },
  {
   "cell_type": "markdown",
   "metadata": {},
   "source": [
    "Таблица tariffs (информация о тарифах):\n",
    "* tariff_name — название тарифа\n",
    "* rub_monthly_fee — ежемесячная абонентская плата в рублях\n",
    "* minutes_included — количество минут разговора в месяц, включённых в абонентскую плату\n",
    "* messages_included — количество сообщений в месяц, включённых в абонентскую плату\n",
    "* mb_per_month_included — объём интернет-трафика, включённого в абонентскую плату (в мегабайтах)\n",
    "* rub_per_minute — стоимость минуты разговора сверх тарифного пакета (например, если в тарифе 100 минут разговора в месяц, то со 101 минуты будет взиматься плата)\n",
    "* rub_per_message — стоимость отправки сообщения сверх тарифного пакета\n",
    "* rub_per_gb — стоимость дополнительного гигабайта интернет-трафика сверх тарифного пакета (1 гигабайт = 1024 мегабайта)"
   ]
  },
  {
   "cell_type": "code",
   "execution_count": 6,
   "metadata": {},
   "outputs": [
    {
     "name": "stdout",
     "output_type": "stream",
     "text": [
      "<class 'pandas.core.frame.DataFrame'>\n",
      "RangeIndex: 500 entries, 0 to 499\n",
      "Data columns (total 8 columns):\n",
      "user_id       500 non-null int64\n",
      "age           500 non-null int64\n",
      "churn_date    38 non-null object\n",
      "city          500 non-null object\n",
      "first_name    500 non-null object\n",
      "last_name     500 non-null object\n",
      "reg_date      500 non-null object\n",
      "tariff        500 non-null object\n",
      "dtypes: int64(2), object(6)\n",
      "memory usage: 31.4+ KB\n",
      "None\n"
     ]
    },
    {
     "data": {
      "text/html": [
       "<div>\n",
       "<style scoped>\n",
       "    .dataframe tbody tr th:only-of-type {\n",
       "        vertical-align: middle;\n",
       "    }\n",
       "\n",
       "    .dataframe tbody tr th {\n",
       "        vertical-align: top;\n",
       "    }\n",
       "\n",
       "    .dataframe thead th {\n",
       "        text-align: right;\n",
       "    }\n",
       "</style>\n",
       "<table border=\"1\" class=\"dataframe\">\n",
       "  <thead>\n",
       "    <tr style=\"text-align: right;\">\n",
       "      <th></th>\n",
       "      <th>user_id</th>\n",
       "      <th>age</th>\n",
       "      <th>churn_date</th>\n",
       "      <th>city</th>\n",
       "      <th>first_name</th>\n",
       "      <th>last_name</th>\n",
       "      <th>reg_date</th>\n",
       "      <th>tariff</th>\n",
       "    </tr>\n",
       "  </thead>\n",
       "  <tbody>\n",
       "    <tr>\n",
       "      <td>0</td>\n",
       "      <td>1000</td>\n",
       "      <td>52</td>\n",
       "      <td>NaN</td>\n",
       "      <td>Краснодар</td>\n",
       "      <td>Рафаил</td>\n",
       "      <td>Верещагин</td>\n",
       "      <td>2018-05-25</td>\n",
       "      <td>ultra</td>\n",
       "    </tr>\n",
       "    <tr>\n",
       "      <td>1</td>\n",
       "      <td>1001</td>\n",
       "      <td>41</td>\n",
       "      <td>NaN</td>\n",
       "      <td>Москва</td>\n",
       "      <td>Иван</td>\n",
       "      <td>Ежов</td>\n",
       "      <td>2018-11-01</td>\n",
       "      <td>smart</td>\n",
       "    </tr>\n",
       "    <tr>\n",
       "      <td>2</td>\n",
       "      <td>1002</td>\n",
       "      <td>59</td>\n",
       "      <td>NaN</td>\n",
       "      <td>Стерлитамак</td>\n",
       "      <td>Евгений</td>\n",
       "      <td>Абрамович</td>\n",
       "      <td>2018-06-17</td>\n",
       "      <td>smart</td>\n",
       "    </tr>\n",
       "    <tr>\n",
       "      <td>3</td>\n",
       "      <td>1003</td>\n",
       "      <td>23</td>\n",
       "      <td>NaN</td>\n",
       "      <td>Москва</td>\n",
       "      <td>Белла</td>\n",
       "      <td>Белякова</td>\n",
       "      <td>2018-08-17</td>\n",
       "      <td>ultra</td>\n",
       "    </tr>\n",
       "    <tr>\n",
       "      <td>4</td>\n",
       "      <td>1004</td>\n",
       "      <td>68</td>\n",
       "      <td>NaN</td>\n",
       "      <td>Новокузнецк</td>\n",
       "      <td>Татьяна</td>\n",
       "      <td>Авдеенко</td>\n",
       "      <td>2018-05-14</td>\n",
       "      <td>ultra</td>\n",
       "    </tr>\n",
       "  </tbody>\n",
       "</table>\n",
       "</div>"
      ],
      "text/plain": [
       "   user_id  age churn_date         city first_name  last_name    reg_date  \\\n",
       "0     1000   52        NaN    Краснодар     Рафаил  Верещагин  2018-05-25   \n",
       "1     1001   41        NaN       Москва       Иван       Ежов  2018-11-01   \n",
       "2     1002   59        NaN  Стерлитамак    Евгений  Абрамович  2018-06-17   \n",
       "3     1003   23        NaN       Москва      Белла   Белякова  2018-08-17   \n",
       "4     1004   68        NaN  Новокузнецк    Татьяна   Авдеенко  2018-05-14   \n",
       "\n",
       "  tariff  \n",
       "0  ultra  \n",
       "1  smart  \n",
       "2  smart  \n",
       "3  ultra  \n",
       "4  ultra  "
      ]
     },
     "execution_count": 6,
     "metadata": {},
     "output_type": "execute_result"
    }
   ],
   "source": [
    "print(users.info())\n",
    "users.head()"
   ]
  },
  {
   "cell_type": "markdown",
   "metadata": {},
   "source": [
    "Таблица users (информация о пользователях):\n",
    "* user_id — уникальный идентификатор пользователя\n",
    "* first_name — имя пользователя\n",
    "* last_name — фамилия пользователя\n",
    "* age — возраст пользователя (годы)\n",
    "* reg_date — дата подключения тарифа (день, месяц, год)\n",
    "* churn_date — дата прекращения пользования тарифом (если значение пропущено, то тариф ещё действовал на момент выгрузки данных)\n",
    "* city — город проживания пользователя\n",
    "* tariff — название тарифного плана"
   ]
  },
  {
   "cell_type": "markdown",
   "metadata": {},
   "source": [
    "## Вывод:"
   ]
  },
  {
   "cell_type": "markdown",
   "metadata": {},
   "source": [
    "* Мы имеем 5 таблиц, разной длины. \n",
    "\n",
    "* Таблица users имеет пустые значения,необходимо посмотреть и проверить можно ли их заполнить.\n",
    "\n",
    "* Во всех таблица поле отображающее дату, имеет формат object, необходимо преобразовать в формат даты.\n",
    "\n",
    "* В столбце mb_used таблицы internet содержится информация о трафике в формате float, необходимо округлить значения до целого и поменять формат данных на int. Тоже самое для столбца duration таблицы call. Округление необходимо произвести для расчета потраченных пакетных минут/трафика округляемых сточность 1мин/1Мб."
   ]
  },
  {
   "cell_type": "markdown",
   "metadata": {},
   "source": [
    "### Шаг 2. Подготовим данные"
   ]
  },
  {
   "cell_type": "markdown",
   "metadata": {},
   "source": [
    "Определим порядок действий:\n",
    "* 2.1 Приведем столбцы с датой к нужным типу datetime64. \n",
    "* 2.2 Проверка на наличие дубликатов\n",
    "* 2.2.1 Переформатирование таблицы users, проверка на наличие дублей среди клиентов.\n",
    "* 2.2.2 Проверка столбца tariff таблицы users на количество значений\n",
    "* 2.3 Замена нулевых значений в столбце duration таблицы call.\n",
    "* 2.4 Замена нулевых значений в столбце mb_used таблицы internet.\n",
    "* 2.5 Подсчитаем для каждого пользователя величины\n",
    "* 2.5.1 cделанных звонков и израсходованных минут разговора по месяцам.\n",
    "* 2.5.2 количество отправленных сообщений по месяцам\n",
    "* 2.5.3 объем израсходованного интернет-трафика по месяцам\n",
    "* 2.5.4 помесячную выручку с каждого пользователя"
   ]
  },
  {
   "cell_type": "markdown",
   "metadata": {},
   "source": [
    "#### 2.1 Приведем столбцы всех таблиц содержащие дату в формате 'object' к формату datetime64.\n",
    "Для этого напишем функцию column_to_datetime. "
   ]
  },
  {
   "cell_type": "code",
   "execution_count": 7,
   "metadata": {},
   "outputs": [],
   "source": [
    "# используем метод to_datetime\n",
    "def column_to_datetime(table,column):\n",
    "    table[column] = pd.to_datetime(table[column], format='%Y-%m-%d %H:%M')\n",
    "    print('Выполнена замена формата данных в таблице столбца',column, 'на \"datetime64\"')\n",
    "    return"
   ]
  },
  {
   "cell_type": "markdown",
   "metadata": {},
   "source": [
    "Применим функцию 'column_to_datetime' к следующим столбцам таблиц:\n",
    "* call_date таблица call\n",
    "* session_date таблица internet\n",
    "* message_date таблица message\n",
    "* churn_date и reg_date\tтаблица users"
   ]
  },
  {
   "cell_type": "code",
   "execution_count": 8,
   "metadata": {},
   "outputs": [
    {
     "name": "stdout",
     "output_type": "stream",
     "text": [
      "Выполнена замена формата данных в таблице столбца call_date на \"datetime64\"\n",
      "Выполнена замена формата данных в таблице столбца session_date на \"datetime64\"\n",
      "Выполнена замена формата данных в таблице столбца message_date на \"datetime64\"\n",
      "Выполнена замена формата данных в таблице столбца reg_date на \"datetime64\"\n",
      "Выполнена замена формата данных в таблице столбца churn_date на \"datetime64\"\n"
     ]
    }
   ],
   "source": [
    "column_to_datetime(call,'call_date')\n",
    "column_to_datetime(internet,'session_date')\n",
    "column_to_datetime(messages,'message_date')\n",
    "column_to_datetime(users,'reg_date')\n",
    "column_to_datetime(users,'churn_date')"
   ]
  },
  {
   "cell_type": "markdown",
   "metadata": {},
   "source": [
    "#### 2.2 Проверка на наличие дублей."
   ]
  },
  {
   "cell_type": "code",
   "execution_count": 9,
   "metadata": {},
   "outputs": [],
   "source": [
    "# проверим на дубликаты исходные таблицы\n",
    "def duplicate(table):\n",
    "    print(\"Количество дубликатов в таблице:\", table.duplicated().sum())"
   ]
  },
  {
   "cell_type": "code",
   "execution_count": 10,
   "metadata": {},
   "outputs": [
    {
     "name": "stdout",
     "output_type": "stream",
     "text": [
      "Количество дубликатов в таблице: 0\n",
      "Количество дубликатов в таблице: 0\n",
      "Количество дубликатов в таблице: 0\n",
      "Количество дубликатов в таблице: 0\n"
     ]
    }
   ],
   "source": [
    "duplicate(call)\n",
    "duplicate(users)\n",
    "duplicate(internet)\n",
    "duplicate(messages)"
   ]
  },
  {
   "cell_type": "markdown",
   "metadata": {},
   "source": [
    "#### 2.2.1 Переформатирование таблицы users, проверка на наличие дублей среди клиентов.\n",
    "По опыту прошлых проектов, знаем, что разный регистр букв и наличие буквы \"ё\" может давать дубли строк.\n",
    "Поэтому приведем столбцы имеющие значения в качестве строк к единому формату.\n",
    "Мы узнаем есть ли дубли среди клиентов."
   ]
  },
  {
   "cell_type": "code",
   "execution_count": 11,
   "metadata": {},
   "outputs": [],
   "source": [
    "# замену буквы 'ё' на 'е'\n",
    "users.loc[:,'city']=users.loc[:,'city'].replace('ё', 'е', regex = True)\n",
    "users.loc[:,'first_name']=users.loc[:,'first_name'].replace('ё', 'е', regex = True)\n",
    "users.loc[:,'last_name']=users.loc[:,'last_name'].replace('ё', 'е', regex = True)"
   ]
  },
  {
   "cell_type": "code",
   "execution_count": 12,
   "metadata": {},
   "outputs": [],
   "source": [
    "#перевод в верхний регистр значений столбца\n",
    "users['city']=users['city'].str.upper() \n",
    "users['first_name']=users['first_name'].str.upper() \n",
    "users['last_name']=users['last_name'].str.upper() "
   ]
  },
  {
   "cell_type": "code",
   "execution_count": 13,
   "metadata": {},
   "outputs": [
    {
     "data": {
      "text/html": [
       "<div>\n",
       "<style scoped>\n",
       "    .dataframe tbody tr th:only-of-type {\n",
       "        vertical-align: middle;\n",
       "    }\n",
       "\n",
       "    .dataframe tbody tr th {\n",
       "        vertical-align: top;\n",
       "    }\n",
       "\n",
       "    .dataframe thead th {\n",
       "        text-align: right;\n",
       "    }\n",
       "</style>\n",
       "<table border=\"1\" class=\"dataframe\">\n",
       "  <thead>\n",
       "    <tr style=\"text-align: right;\">\n",
       "      <th></th>\n",
       "      <th>age</th>\n",
       "      <th>city</th>\n",
       "      <th>first_name</th>\n",
       "      <th>last_name</th>\n",
       "      <th>user_id</th>\n",
       "    </tr>\n",
       "  </thead>\n",
       "  <tbody>\n",
       "    <tr>\n",
       "      <td>0</td>\n",
       "      <td>52</td>\n",
       "      <td>КРАСНОДАР</td>\n",
       "      <td>РАФАИЛ</td>\n",
       "      <td>ВЕРЕЩАГИН</td>\n",
       "      <td>1000</td>\n",
       "    </tr>\n",
       "    <tr>\n",
       "      <td>1</td>\n",
       "      <td>41</td>\n",
       "      <td>МОСКВА</td>\n",
       "      <td>ИВАН</td>\n",
       "      <td>ЕЖОВ</td>\n",
       "      <td>1001</td>\n",
       "    </tr>\n",
       "    <tr>\n",
       "      <td>2</td>\n",
       "      <td>59</td>\n",
       "      <td>СТЕРЛИТАМАК</td>\n",
       "      <td>ЕВГЕНИЙ</td>\n",
       "      <td>АБРАМОВИЧ</td>\n",
       "      <td>1002</td>\n",
       "    </tr>\n",
       "    <tr>\n",
       "      <td>3</td>\n",
       "      <td>23</td>\n",
       "      <td>МОСКВА</td>\n",
       "      <td>БЕЛЛА</td>\n",
       "      <td>БЕЛЯКОВА</td>\n",
       "      <td>1003</td>\n",
       "    </tr>\n",
       "    <tr>\n",
       "      <td>4</td>\n",
       "      <td>68</td>\n",
       "      <td>НОВОКУЗНЕЦК</td>\n",
       "      <td>ТАТЬЯНА</td>\n",
       "      <td>АВДЕЕНКО</td>\n",
       "      <td>1004</td>\n",
       "    </tr>\n",
       "  </tbody>\n",
       "</table>\n",
       "</div>"
      ],
      "text/plain": [
       "   age         city first_name  last_name  user_id\n",
       "0   52    КРАСНОДАР     РАФАИЛ  ВЕРЕЩАГИН     1000\n",
       "1   41       МОСКВА       ИВАН       ЕЖОВ     1001\n",
       "2   59  СТЕРЛИТАМАК    ЕВГЕНИЙ  АБРАМОВИЧ     1002\n",
       "3   23       МОСКВА      БЕЛЛА   БЕЛЯКОВА     1003\n",
       "4   68  НОВОКУЗНЕЦК    ТАТЬЯНА   АВДЕЕНКО     1004"
      ]
     },
     "execution_count": 13,
     "metadata": {},
     "output_type": "execute_result"
    }
   ],
   "source": [
    "#перевод в верхний регистр значений столбца\n",
    "check_users=users[['age','city','first_name','last_name','user_id']]\n",
    "check_users.head()"
   ]
  },
  {
   "cell_type": "code",
   "execution_count": 14,
   "metadata": {},
   "outputs": [],
   "source": [
    "# объявляем функцию, с параметрами название словаря, и срез таблицы по которой будет формироватся словарь\n",
    "def make_dict_for_4_values(name_of_dict,table):\n",
    "    for i in range(len(table)):\n",
    "        try:\n",
    "            # сначала пытаемся добавить к ключу еще одно значение в список\n",
    "            name_of_dict[str(table.loc[i][0])+'#'+str(table.loc[i][1])+'#'+str(table.loc[i][2])+'#'+str(table.loc[i][3])].append(table.loc[i][4])\n",
    "        except AttributeError:\n",
    "        # если ключ,имеет уже значение, то создаем список из значений\n",
    "            name_of_dict[str(table.loc[i][0])+'#'+str(table.loc[i][1])+'#'+str(table.loc[i][2])+'#'+str(table.loc[i][3])]=([name_of_dict[str(table.loc[i][0])+'#'+str(table.loc[i][1])+'#'+str(table.loc[i][2])+'#'+str(table.loc[i][3])],table.loc[i][4]])\n",
    "        # ключ со значениями больше одного,добавляем в список many_values_of_keys_4\n",
    "            many_values_of_keys_4.append(str(table.loc[i][0])+'#'+str(table.loc[i][1])+'#'+str(table.loc[i][2])+'#'+str(table.loc[i][3]))\n",
    "        # если ключа нет в словаре, создаем первую пару ключ-значение\n",
    "        except KeyError:\n",
    "            name_of_dict[str(table.loc[i][0])+'#'+str(table.loc[i][1])+'#'+str(table.loc[i][2])+'#'+str(table.loc[i][3])]=(table.loc[i][4])\n",
    "    print('Длина словаря:',len(name_of_dict),'\\\\n','Количество ключей имеющих больше одного значения',len(many_values_of_keys_4))"
   ]
  },
  {
   "cell_type": "code",
   "execution_count": 15,
   "metadata": {},
   "outputs": [
    {
     "name": "stdout",
     "output_type": "stream",
     "text": [
      "Длина словаря: 500 \\n Количество ключей имеющих больше одного значения 0\n"
     ]
    }
   ],
   "source": [
    "# объявляем cловарь-справочник\n",
    "dict_users={}\n",
    "# объявляем список для ключей имеющих больше одного значения\n",
    "many_values_of_keys_4=[]\n",
    "# формируем cловарь используя написаную функцию \n",
    "make_dict_for_4_values(dict_users,check_users)"
   ]
  },
  {
   "cell_type": "markdown",
   "metadata": {},
   "source": [
    "Все клиенты уникальны."
   ]
  },
  {
   "cell_type": "markdown",
   "metadata": {},
   "source": [
    "#### 2.2.2 Проверка столбца tariff таблицы users на количество значений"
   ]
  },
  {
   "cell_type": "code",
   "execution_count": 16,
   "metadata": {},
   "outputs": [
    {
     "data": {
      "text/plain": [
       "array(['ultra', 'smart'], dtype=object)"
      ]
     },
     "execution_count": 16,
     "metadata": {},
     "output_type": "execute_result"
    }
   ],
   "source": [
    "users['tariff'].unique()"
   ]
  },
  {
   "cell_type": "markdown",
   "metadata": {},
   "source": [
    "Все в порядке, столбец 'tariff' имеет только да значения.\n",
    "Проверка дублей завершена, аномалий не найдено."
   ]
  },
  {
   "cell_type": "markdown",
   "metadata": {},
   "source": [
    "#### 2.3 Замена нулевых значений в столбце duration таблицы call."
   ]
  },
  {
   "cell_type": "markdown",
   "metadata": {},
   "source": [
    "По условию задачи у большого количество звонков длительность — 0.0 минут. Это проблема в данных, предположим, что был сбой в системе, и клиенты немного поговорили, но это не залогировались.  К тому же в детализации обычно не указывают звонки в которых не было соединения, в наших данных соединения есть,значит такие соединения необходимо учитывать.\n",
    "Также было пояснено, что оплата в тарифе идет за любое соединение нетарифицируемого порога нет.\n",
    "Необходимо поменять значения 0 на значение, которое сможет быть учтено при подсчете количества расходуемого количества минут  включенного в тариф. Заменим 0 на значение 0.001 при условии, что таких значений не окажется в столбце 'duration',чтобы  навсякий случай хранить информацию у произощедшем сбое."
   ]
  },
  {
   "cell_type": "code",
   "execution_count": 17,
   "metadata": {},
   "outputs": [
    {
     "name": "stdout",
     "output_type": "stream",
     "text": [
      "Количество соединений имеющих длительность 0.001 - 0\n"
     ]
    }
   ],
   "source": [
    "print('Количество соединений имеющих длительность 0.001 -', len(call.query('duration==0.001')['duration']))"
   ]
  },
  {
   "cell_type": "markdown",
   "metadata": {},
   "source": [
    "Произведем замену в столбце 'duration'"
   ]
  },
  {
   "cell_type": "code",
   "execution_count": 18,
   "metadata": {},
   "outputs": [
    {
     "name": "stdout",
     "output_type": "stream",
     "text": [
      "Значений 0 в столбце duration: 39613\n"
     ]
    }
   ],
   "source": [
    "index_duration_0=call.query('duration==0').index.tolist()\n",
    "print('Значений 0 в столбце duration:',len(index_duration_0))\n",
    "call.loc[index_duration_0, 'duration']=0.001"
   ]
  },
  {
   "cell_type": "markdown",
   "metadata": {},
   "source": [
    "Проверим замену."
   ]
  },
  {
   "cell_type": "code",
   "execution_count": 19,
   "metadata": {},
   "outputs": [
    {
     "name": "stdout",
     "output_type": "stream",
     "text": [
      "Количество соединений имеющих нулевую длительность соединения - 0\n"
     ]
    }
   ],
   "source": [
    "print('Количество соединений имеющих нулевую длительность соединения -', len(call.query('duration==0')['duration']))"
   ]
  },
  {
   "cell_type": "markdown",
   "metadata": {},
   "source": [
    "Замена произведена.\n",
    "\n",
    "Для расчета количества предоплаченных минут необходимо округлить значения минут в столбце duration до целого числа."
   ]
  },
  {
   "cell_type": "code",
   "execution_count": 20,
   "metadata": {},
   "outputs": [
    {
     "name": "stderr",
     "output_type": "stream",
     "text": [
      "/opt/conda/lib/python3.7/site-packages/ipykernel_launcher.py:2: SettingWithCopyWarning: \n",
      "A value is trying to be set on a copy of a slice from a DataFrame\n",
      "\n",
      "See the caveats in the documentation: http://pandas.pydata.org/pandas-docs/stable/user_guide/indexing.html#returning-a-view-versus-a-copy\n",
      "  \n"
     ]
    }
   ],
   "source": [
    "for i in range(len(call['duration'])):\n",
    "    call['duration'][i]=math.ceil(call['duration'][i])"
   ]
  },
  {
   "cell_type": "markdown",
   "metadata": {},
   "source": [
    "Замена произведена успешно.\n",
    "Поменяем тип данных столбца duration на целочисленный,используем метод astype()"
   ]
  },
  {
   "cell_type": "code",
   "execution_count": 21,
   "metadata": {},
   "outputs": [],
   "source": [
    "call['duration']=call['duration'].astype('int')"
   ]
  },
  {
   "cell_type": "markdown",
   "metadata": {},
   "source": [
    "Проверим замену."
   ]
  },
  {
   "cell_type": "code",
   "execution_count": 22,
   "metadata": {},
   "outputs": [
    {
     "name": "stdout",
     "output_type": "stream",
     "text": [
      "<class 'pandas.core.frame.DataFrame'>\n",
      "RangeIndex: 202607 entries, 0 to 202606\n",
      "Data columns (total 4 columns):\n",
      "id           202607 non-null object\n",
      "call_date    202607 non-null datetime64[ns]\n",
      "duration     202607 non-null int64\n",
      "user_id      202607 non-null int64\n",
      "dtypes: datetime64[ns](1), int64(2), object(1)\n",
      "memory usage: 6.2+ MB\n"
     ]
    }
   ],
   "source": [
    "call.info()"
   ]
  },
  {
   "cell_type": "markdown",
   "metadata": {},
   "source": [
    "Замена произведена успешно."
   ]
  },
  {
   "cell_type": "markdown",
   "metadata": {},
   "source": [
    "#### 2.4 Замена нулевых значений в столбце mb_used таблицы internet."
   ]
  },
  {
   "cell_type": "markdown",
   "metadata": {},
   "source": [
    "Используем ту же логику и действия, что и в обработке нулевых значений в пункте 2.3"
   ]
  },
  {
   "cell_type": "code",
   "execution_count": 23,
   "metadata": {},
   "outputs": [
    {
     "name": "stdout",
     "output_type": "stream",
     "text": [
      "Количество соединений имеющих расход трафика равный 0.001 - 0\n"
     ]
    }
   ],
   "source": [
    "print('Количество соединений имеющих расход трафика равный 0.001 -', len(internet.query('mb_used==0.001')['mb_used']))"
   ]
  },
  {
   "cell_type": "markdown",
   "metadata": {},
   "source": [
    "Произведем замену в столбце 'mb_used'"
   ]
  },
  {
   "cell_type": "code",
   "execution_count": 24,
   "metadata": {},
   "outputs": [
    {
     "data": {
      "text/html": [
       "<div>\n",
       "<style scoped>\n",
       "    .dataframe tbody tr th:only-of-type {\n",
       "        vertical-align: middle;\n",
       "    }\n",
       "\n",
       "    .dataframe tbody tr th {\n",
       "        vertical-align: top;\n",
       "    }\n",
       "\n",
       "    .dataframe thead th {\n",
       "        text-align: right;\n",
       "    }\n",
       "</style>\n",
       "<table border=\"1\" class=\"dataframe\">\n",
       "  <thead>\n",
       "    <tr style=\"text-align: right;\">\n",
       "      <th></th>\n",
       "      <th>id</th>\n",
       "      <th>mb_used</th>\n",
       "      <th>session_date</th>\n",
       "      <th>user_id</th>\n",
       "    </tr>\n",
       "  </thead>\n",
       "  <tbody>\n",
       "    <tr>\n",
       "      <td>11</td>\n",
       "      <td>1000_11</td>\n",
       "      <td>0.0</td>\n",
       "      <td>2018-08-28</td>\n",
       "      <td>1000</td>\n",
       "    </tr>\n",
       "    <tr>\n",
       "      <td>38</td>\n",
       "      <td>1000_38</td>\n",
       "      <td>0.0</td>\n",
       "      <td>2018-11-27</td>\n",
       "      <td>1000</td>\n",
       "    </tr>\n",
       "    <tr>\n",
       "      <td>46</td>\n",
       "      <td>1000_46</td>\n",
       "      <td>0.0</td>\n",
       "      <td>2018-06-30</td>\n",
       "      <td>1000</td>\n",
       "    </tr>\n",
       "    <tr>\n",
       "      <td>67</td>\n",
       "      <td>1000_67</td>\n",
       "      <td>0.0</td>\n",
       "      <td>2018-06-16</td>\n",
       "      <td>1000</td>\n",
       "    </tr>\n",
       "    <tr>\n",
       "      <td>72</td>\n",
       "      <td>1000_72</td>\n",
       "      <td>0.0</td>\n",
       "      <td>2018-06-15</td>\n",
       "      <td>1000</td>\n",
       "    </tr>\n",
       "  </tbody>\n",
       "</table>\n",
       "</div>"
      ],
      "text/plain": [
       "         id  mb_used session_date  user_id\n",
       "11  1000_11      0.0   2018-08-28     1000\n",
       "38  1000_38      0.0   2018-11-27     1000\n",
       "46  1000_46      0.0   2018-06-30     1000\n",
       "67  1000_67      0.0   2018-06-16     1000\n",
       "72  1000_72      0.0   2018-06-15     1000"
      ]
     },
     "execution_count": 24,
     "metadata": {},
     "output_type": "execute_result"
    }
   ],
   "source": [
    "internet.query('mb_used==0').head()"
   ]
  },
  {
   "cell_type": "code",
   "execution_count": 25,
   "metadata": {},
   "outputs": [
    {
     "name": "stdout",
     "output_type": "stream",
     "text": [
      "Значений 0 в столбце mb_used: 19598\n"
     ]
    }
   ],
   "source": [
    "index_mb_used_0=internet.query('mb_used==0').index.tolist()\n",
    "print('Значений 0 в столбце mb_used:',len(index_mb_used_0))\n",
    "internet.loc[index_mb_used_0, 'mb_used']=0.001"
   ]
  },
  {
   "cell_type": "markdown",
   "metadata": {},
   "source": [
    "Проверим замену."
   ]
  },
  {
   "cell_type": "code",
   "execution_count": 26,
   "metadata": {},
   "outputs": [
    {
     "name": "stdout",
     "output_type": "stream",
     "text": [
      "Количество соединений имеющих нулевой расход трафика - 0\n"
     ]
    }
   ],
   "source": [
    "print('Количество соединений имеющих нулевой расход трафика -', len(internet.query('mb_used==0')['mb_used']))"
   ]
  },
  {
   "cell_type": "code",
   "execution_count": 27,
   "metadata": {},
   "outputs": [
    {
     "name": "stderr",
     "output_type": "stream",
     "text": [
      "/opt/conda/lib/python3.7/site-packages/ipykernel_launcher.py:2: SettingWithCopyWarning: \n",
      "A value is trying to be set on a copy of a slice from a DataFrame\n",
      "\n",
      "See the caveats in the documentation: http://pandas.pydata.org/pandas-docs/stable/user_guide/indexing.html#returning-a-view-versus-a-copy\n",
      "  \n"
     ]
    }
   ],
   "source": [
    "for i in range(len(internet['mb_used'])):\n",
    "    internet['mb_used'][i]=math.ceil(internet['mb_used'][i])"
   ]
  },
  {
   "cell_type": "markdown",
   "metadata": {},
   "source": [
    "Замена произведена успешно.\n",
    "Поменяем тип данных столбца duration на целочисленный,используем метод astype()"
   ]
  },
  {
   "cell_type": "code",
   "execution_count": 28,
   "metadata": {},
   "outputs": [],
   "source": [
    "internet['mb_used']=internet['mb_used'].astype('int')"
   ]
  },
  {
   "cell_type": "markdown",
   "metadata": {},
   "source": [
    "Проверим замену типа данных для столбца 'mb_used'"
   ]
  },
  {
   "cell_type": "code",
   "execution_count": 29,
   "metadata": {},
   "outputs": [
    {
     "name": "stdout",
     "output_type": "stream",
     "text": [
      "<class 'pandas.core.frame.DataFrame'>\n",
      "RangeIndex: 149396 entries, 0 to 149395\n",
      "Data columns (total 4 columns):\n",
      "id              149396 non-null object\n",
      "mb_used         149396 non-null int64\n",
      "session_date    149396 non-null datetime64[ns]\n",
      "user_id         149396 non-null int64\n",
      "dtypes: datetime64[ns](1), int64(2), object(1)\n",
      "memory usage: 4.6+ MB\n"
     ]
    }
   ],
   "source": [
    "internet.info()"
   ]
  },
  {
   "cell_type": "markdown",
   "metadata": {},
   "source": [
    "Замена произведена успешно."
   ]
  },
  {
   "cell_type": "markdown",
   "metadata": {},
   "source": [
    "#### 2.5 Подсчитаем количество сделанных звонков и израсходованных минут разговора по месяцам.\n",
    "Для начала добавим столбец месяц в таблицу call с помощью метода dt.month, создадим для этого функцию add_month"
   ]
  },
  {
   "cell_type": "code",
   "execution_count": 30,
   "metadata": {},
   "outputs": [],
   "source": [
    "# добавляем столбец 'month'\n",
    "def add_month(table,column):\n",
    "    table['month'] = table[column].dt.month\n",
    "    return table\n"
   ]
  },
  {
   "cell_type": "markdown",
   "metadata": {},
   "source": [
    "Запустим функцию add_monthс параметрами таблицы call и столбца даты call_date"
   ]
  },
  {
   "cell_type": "code",
   "execution_count": 31,
   "metadata": {},
   "outputs": [
    {
     "data": {
      "text/html": [
       "<div>\n",
       "<style scoped>\n",
       "    .dataframe tbody tr th:only-of-type {\n",
       "        vertical-align: middle;\n",
       "    }\n",
       "\n",
       "    .dataframe tbody tr th {\n",
       "        vertical-align: top;\n",
       "    }\n",
       "\n",
       "    .dataframe thead th {\n",
       "        text-align: right;\n",
       "    }\n",
       "</style>\n",
       "<table border=\"1\" class=\"dataframe\">\n",
       "  <thead>\n",
       "    <tr style=\"text-align: right;\">\n",
       "      <th></th>\n",
       "      <th>id</th>\n",
       "      <th>call_date</th>\n",
       "      <th>duration</th>\n",
       "      <th>user_id</th>\n",
       "      <th>month</th>\n",
       "    </tr>\n",
       "  </thead>\n",
       "  <tbody>\n",
       "    <tr>\n",
       "      <td>0</td>\n",
       "      <td>1000_0</td>\n",
       "      <td>2018-07-25</td>\n",
       "      <td>1</td>\n",
       "      <td>1000</td>\n",
       "      <td>7</td>\n",
       "    </tr>\n",
       "    <tr>\n",
       "      <td>1</td>\n",
       "      <td>1000_1</td>\n",
       "      <td>2018-08-17</td>\n",
       "      <td>1</td>\n",
       "      <td>1000</td>\n",
       "      <td>8</td>\n",
       "    </tr>\n",
       "    <tr>\n",
       "      <td>2</td>\n",
       "      <td>1000_2</td>\n",
       "      <td>2018-06-11</td>\n",
       "      <td>3</td>\n",
       "      <td>1000</td>\n",
       "      <td>6</td>\n",
       "    </tr>\n",
       "    <tr>\n",
       "      <td>3</td>\n",
       "      <td>1000_3</td>\n",
       "      <td>2018-09-21</td>\n",
       "      <td>14</td>\n",
       "      <td>1000</td>\n",
       "      <td>9</td>\n",
       "    </tr>\n",
       "    <tr>\n",
       "      <td>4</td>\n",
       "      <td>1000_4</td>\n",
       "      <td>2018-12-15</td>\n",
       "      <td>6</td>\n",
       "      <td>1000</td>\n",
       "      <td>12</td>\n",
       "    </tr>\n",
       "    <tr>\n",
       "      <td>...</td>\n",
       "      <td>...</td>\n",
       "      <td>...</td>\n",
       "      <td>...</td>\n",
       "      <td>...</td>\n",
       "      <td>...</td>\n",
       "    </tr>\n",
       "    <tr>\n",
       "      <td>202602</td>\n",
       "      <td>1499_215</td>\n",
       "      <td>2018-12-26</td>\n",
       "      <td>1</td>\n",
       "      <td>1499</td>\n",
       "      <td>12</td>\n",
       "    </tr>\n",
       "    <tr>\n",
       "      <td>202603</td>\n",
       "      <td>1499_216</td>\n",
       "      <td>2018-10-18</td>\n",
       "      <td>19</td>\n",
       "      <td>1499</td>\n",
       "      <td>10</td>\n",
       "    </tr>\n",
       "    <tr>\n",
       "      <td>202604</td>\n",
       "      <td>1499_217</td>\n",
       "      <td>2018-11-10</td>\n",
       "      <td>11</td>\n",
       "      <td>1499</td>\n",
       "      <td>11</td>\n",
       "    </tr>\n",
       "    <tr>\n",
       "      <td>202605</td>\n",
       "      <td>1499_218</td>\n",
       "      <td>2018-10-06</td>\n",
       "      <td>5</td>\n",
       "      <td>1499</td>\n",
       "      <td>10</td>\n",
       "    </tr>\n",
       "    <tr>\n",
       "      <td>202606</td>\n",
       "      <td>1499_219</td>\n",
       "      <td>2018-12-14</td>\n",
       "      <td>20</td>\n",
       "      <td>1499</td>\n",
       "      <td>12</td>\n",
       "    </tr>\n",
       "  </tbody>\n",
       "</table>\n",
       "<p>202607 rows × 5 columns</p>\n",
       "</div>"
      ],
      "text/plain": [
       "              id  call_date  duration  user_id  month\n",
       "0         1000_0 2018-07-25         1     1000      7\n",
       "1         1000_1 2018-08-17         1     1000      8\n",
       "2         1000_2 2018-06-11         3     1000      6\n",
       "3         1000_3 2018-09-21        14     1000      9\n",
       "4         1000_4 2018-12-15         6     1000     12\n",
       "...          ...        ...       ...      ...    ...\n",
       "202602  1499_215 2018-12-26         1     1499     12\n",
       "202603  1499_216 2018-10-18        19     1499     10\n",
       "202604  1499_217 2018-11-10        11     1499     11\n",
       "202605  1499_218 2018-10-06         5     1499     10\n",
       "202606  1499_219 2018-12-14        20     1499     12\n",
       "\n",
       "[202607 rows x 5 columns]"
      ]
     },
     "execution_count": 31,
     "metadata": {},
     "output_type": "execute_result"
    }
   ],
   "source": [
    "add_month(call,'call_date')"
   ]
  },
  {
   "cell_type": "markdown",
   "metadata": {},
   "source": [
    "Добавим в таблицу call столбец 'user_id_month', который будет являться идентификатором клиента и месяца в котором осуществлял звонки. Для этого сделаем функцию make_user_id_month, которая делает контакенацию из двух строчных объектов 'user_id' и 'month'"
   ]
  },
  {
   "cell_type": "code",
   "execution_count": 32,
   "metadata": {},
   "outputs": [],
   "source": [
    "def make_user_id_month(table):\n",
    "    table['user_id']=table['user_id'].astype('str')\n",
    "    table['month']=table['month'].astype('str')\n",
    "    table['user_id_month']=table['user_id']+table['month']\n",
    "    return table"
   ]
  },
  {
   "cell_type": "code",
   "execution_count": 33,
   "metadata": {},
   "outputs": [
    {
     "data": {
      "text/html": [
       "<div>\n",
       "<style scoped>\n",
       "    .dataframe tbody tr th:only-of-type {\n",
       "        vertical-align: middle;\n",
       "    }\n",
       "\n",
       "    .dataframe tbody tr th {\n",
       "        vertical-align: top;\n",
       "    }\n",
       "\n",
       "    .dataframe thead th {\n",
       "        text-align: right;\n",
       "    }\n",
       "</style>\n",
       "<table border=\"1\" class=\"dataframe\">\n",
       "  <thead>\n",
       "    <tr style=\"text-align: right;\">\n",
       "      <th></th>\n",
       "      <th>id</th>\n",
       "      <th>call_date</th>\n",
       "      <th>duration</th>\n",
       "      <th>user_id</th>\n",
       "      <th>month</th>\n",
       "      <th>user_id_month</th>\n",
       "    </tr>\n",
       "  </thead>\n",
       "  <tbody>\n",
       "    <tr>\n",
       "      <td>0</td>\n",
       "      <td>1000_0</td>\n",
       "      <td>2018-07-25</td>\n",
       "      <td>1</td>\n",
       "      <td>1000</td>\n",
       "      <td>7</td>\n",
       "      <td>10007</td>\n",
       "    </tr>\n",
       "    <tr>\n",
       "      <td>1</td>\n",
       "      <td>1000_1</td>\n",
       "      <td>2018-08-17</td>\n",
       "      <td>1</td>\n",
       "      <td>1000</td>\n",
       "      <td>8</td>\n",
       "      <td>10008</td>\n",
       "    </tr>\n",
       "    <tr>\n",
       "      <td>2</td>\n",
       "      <td>1000_2</td>\n",
       "      <td>2018-06-11</td>\n",
       "      <td>3</td>\n",
       "      <td>1000</td>\n",
       "      <td>6</td>\n",
       "      <td>10006</td>\n",
       "    </tr>\n",
       "    <tr>\n",
       "      <td>3</td>\n",
       "      <td>1000_3</td>\n",
       "      <td>2018-09-21</td>\n",
       "      <td>14</td>\n",
       "      <td>1000</td>\n",
       "      <td>9</td>\n",
       "      <td>10009</td>\n",
       "    </tr>\n",
       "    <tr>\n",
       "      <td>4</td>\n",
       "      <td>1000_4</td>\n",
       "      <td>2018-12-15</td>\n",
       "      <td>6</td>\n",
       "      <td>1000</td>\n",
       "      <td>12</td>\n",
       "      <td>100012</td>\n",
       "    </tr>\n",
       "    <tr>\n",
       "      <td>...</td>\n",
       "      <td>...</td>\n",
       "      <td>...</td>\n",
       "      <td>...</td>\n",
       "      <td>...</td>\n",
       "      <td>...</td>\n",
       "      <td>...</td>\n",
       "    </tr>\n",
       "    <tr>\n",
       "      <td>202602</td>\n",
       "      <td>1499_215</td>\n",
       "      <td>2018-12-26</td>\n",
       "      <td>1</td>\n",
       "      <td>1499</td>\n",
       "      <td>12</td>\n",
       "      <td>149912</td>\n",
       "    </tr>\n",
       "    <tr>\n",
       "      <td>202603</td>\n",
       "      <td>1499_216</td>\n",
       "      <td>2018-10-18</td>\n",
       "      <td>19</td>\n",
       "      <td>1499</td>\n",
       "      <td>10</td>\n",
       "      <td>149910</td>\n",
       "    </tr>\n",
       "    <tr>\n",
       "      <td>202604</td>\n",
       "      <td>1499_217</td>\n",
       "      <td>2018-11-10</td>\n",
       "      <td>11</td>\n",
       "      <td>1499</td>\n",
       "      <td>11</td>\n",
       "      <td>149911</td>\n",
       "    </tr>\n",
       "    <tr>\n",
       "      <td>202605</td>\n",
       "      <td>1499_218</td>\n",
       "      <td>2018-10-06</td>\n",
       "      <td>5</td>\n",
       "      <td>1499</td>\n",
       "      <td>10</td>\n",
       "      <td>149910</td>\n",
       "    </tr>\n",
       "    <tr>\n",
       "      <td>202606</td>\n",
       "      <td>1499_219</td>\n",
       "      <td>2018-12-14</td>\n",
       "      <td>20</td>\n",
       "      <td>1499</td>\n",
       "      <td>12</td>\n",
       "      <td>149912</td>\n",
       "    </tr>\n",
       "  </tbody>\n",
       "</table>\n",
       "<p>202607 rows × 6 columns</p>\n",
       "</div>"
      ],
      "text/plain": [
       "              id  call_date  duration user_id month user_id_month\n",
       "0         1000_0 2018-07-25         1    1000     7         10007\n",
       "1         1000_1 2018-08-17         1    1000     8         10008\n",
       "2         1000_2 2018-06-11         3    1000     6         10006\n",
       "3         1000_3 2018-09-21        14    1000     9         10009\n",
       "4         1000_4 2018-12-15         6    1000    12        100012\n",
       "...          ...        ...       ...     ...   ...           ...\n",
       "202602  1499_215 2018-12-26         1    1499    12        149912\n",
       "202603  1499_216 2018-10-18        19    1499    10        149910\n",
       "202604  1499_217 2018-11-10        11    1499    11        149911\n",
       "202605  1499_218 2018-10-06         5    1499    10        149910\n",
       "202606  1499_219 2018-12-14        20    1499    12        149912\n",
       "\n",
       "[202607 rows x 6 columns]"
      ]
     },
     "execution_count": 33,
     "metadata": {},
     "output_type": "execute_result"
    }
   ],
   "source": [
    "# добавляем столбец user_id_month в таблицу call с помощью функции make_user_id_month\n",
    "make_user_id_month(call)"
   ]
  },
  {
   "cell_type": "markdown",
   "metadata": {},
   "source": [
    "Сделаем фукцию, которая будет добавлять столбцы, в которых будет подсчитана количество звонков/трафика/смс и суммарный объем звонков/трафика за месяц."
   ]
  },
  {
   "cell_type": "code",
   "execution_count": 34,
   "metadata": {},
   "outputs": [],
   "source": [
    "def info_per_month(table,column):\n",
    "    try:\n",
    "        sum_per_month=table.groupby('user_id_month')[column].sum()\n",
    "        sum_per_month=pd.DataFrame(sum_per_month)\n",
    "        sum_per_month.rename(columns={column:'sum_of_' + column}, inplace=True)\n",
    "        table=table.merge(sum_per_month,on='user_id_month')\n",
    "    except TypeError:\n",
    "        pass\n",
    "    count_per_month=table.groupby('user_id_month')[column].count()\n",
    "    count_per_month=pd.DataFrame(count_per_month)\n",
    "    count_per_month.rename(columns={column:'count_of_' + column}, inplace=True)\n",
    "    table=table.merge(count_per_month,on='user_id_month')\n",
    "    return table"
   ]
  },
  {
   "cell_type": "markdown",
   "metadata": {},
   "source": [
    "Добавим столбцы количество  и суммарный объем  звонков за месяц в таблицу call с помощью функции info_per_month."
   ]
  },
  {
   "cell_type": "code",
   "execution_count": 35,
   "metadata": {},
   "outputs": [
    {
     "data": {
      "text/html": [
       "<div>\n",
       "<style scoped>\n",
       "    .dataframe tbody tr th:only-of-type {\n",
       "        vertical-align: middle;\n",
       "    }\n",
       "\n",
       "    .dataframe tbody tr th {\n",
       "        vertical-align: top;\n",
       "    }\n",
       "\n",
       "    .dataframe thead th {\n",
       "        text-align: right;\n",
       "    }\n",
       "</style>\n",
       "<table border=\"1\" class=\"dataframe\">\n",
       "  <thead>\n",
       "    <tr style=\"text-align: right;\">\n",
       "      <th></th>\n",
       "      <th>id</th>\n",
       "      <th>call_date</th>\n",
       "      <th>duration</th>\n",
       "      <th>user_id</th>\n",
       "      <th>month</th>\n",
       "      <th>user_id_month</th>\n",
       "      <th>sum_of_duration</th>\n",
       "      <th>count_of_duration</th>\n",
       "    </tr>\n",
       "  </thead>\n",
       "  <tbody>\n",
       "    <tr>\n",
       "      <td>0</td>\n",
       "      <td>1000_0</td>\n",
       "      <td>2018-07-25</td>\n",
       "      <td>1</td>\n",
       "      <td>1000</td>\n",
       "      <td>7</td>\n",
       "      <td>10007</td>\n",
       "      <td>346</td>\n",
       "      <td>47</td>\n",
       "    </tr>\n",
       "    <tr>\n",
       "      <td>1</td>\n",
       "      <td>1000_12</td>\n",
       "      <td>2018-07-05</td>\n",
       "      <td>3</td>\n",
       "      <td>1000</td>\n",
       "      <td>7</td>\n",
       "      <td>10007</td>\n",
       "      <td>346</td>\n",
       "      <td>47</td>\n",
       "    </tr>\n",
       "    <tr>\n",
       "      <td>2</td>\n",
       "      <td>1000_15</td>\n",
       "      <td>2018-07-27</td>\n",
       "      <td>10</td>\n",
       "      <td>1000</td>\n",
       "      <td>7</td>\n",
       "      <td>10007</td>\n",
       "      <td>346</td>\n",
       "      <td>47</td>\n",
       "    </tr>\n",
       "    <tr>\n",
       "      <td>3</td>\n",
       "      <td>1000_25</td>\n",
       "      <td>2018-07-21</td>\n",
       "      <td>15</td>\n",
       "      <td>1000</td>\n",
       "      <td>7</td>\n",
       "      <td>10007</td>\n",
       "      <td>346</td>\n",
       "      <td>47</td>\n",
       "    </tr>\n",
       "    <tr>\n",
       "      <td>4</td>\n",
       "      <td>1000_29</td>\n",
       "      <td>2018-07-19</td>\n",
       "      <td>12</td>\n",
       "      <td>1000</td>\n",
       "      <td>7</td>\n",
       "      <td>10007</td>\n",
       "      <td>346</td>\n",
       "      <td>47</td>\n",
       "    </tr>\n",
       "  </tbody>\n",
       "</table>\n",
       "</div>"
      ],
      "text/plain": [
       "        id  call_date  duration user_id month user_id_month  sum_of_duration  \\\n",
       "0   1000_0 2018-07-25         1    1000     7         10007              346   \n",
       "1  1000_12 2018-07-05         3    1000     7         10007              346   \n",
       "2  1000_15 2018-07-27        10    1000     7         10007              346   \n",
       "3  1000_25 2018-07-21        15    1000     7         10007              346   \n",
       "4  1000_29 2018-07-19        12    1000     7         10007              346   \n",
       "\n",
       "   count_of_duration  \n",
       "0                 47  \n",
       "1                 47  \n",
       "2                 47  \n",
       "3                 47  \n",
       "4                 47  "
      ]
     },
     "execution_count": 35,
     "metadata": {},
     "output_type": "execute_result"
    }
   ],
   "source": [
    "# добавляем столбцы\n",
    "call=info_per_month(call,'duration')\n",
    "# выведем несколько строк таблицы\n",
    "call.head()"
   ]
  },
  {
   "cell_type": "markdown",
   "metadata": {},
   "source": [
    "Сформируем таблицу summary_of_users в которой будем хранить ежемесячный расход по звонкам/трафику/смс."
   ]
  },
  {
   "cell_type": "code",
   "execution_count": 36,
   "metadata": {},
   "outputs": [],
   "source": [
    "summary_of_users=call.groupby('user_id_month')[['sum_of_duration','count_of_duration']].mean()"
   ]
  },
  {
   "cell_type": "markdown",
   "metadata": {},
   "source": [
    "Выведем несколько строк таблицы."
   ]
  },
  {
   "cell_type": "code",
   "execution_count": 37,
   "metadata": {},
   "outputs": [
    {
     "data": {
      "text/html": [
       "<div>\n",
       "<style scoped>\n",
       "    .dataframe tbody tr th:only-of-type {\n",
       "        vertical-align: middle;\n",
       "    }\n",
       "\n",
       "    .dataframe tbody tr th {\n",
       "        vertical-align: top;\n",
       "    }\n",
       "\n",
       "    .dataframe thead th {\n",
       "        text-align: right;\n",
       "    }\n",
       "</style>\n",
       "<table border=\"1\" class=\"dataframe\">\n",
       "  <thead>\n",
       "    <tr style=\"text-align: right;\">\n",
       "      <th></th>\n",
       "      <th>sum_of_duration</th>\n",
       "      <th>count_of_duration</th>\n",
       "    </tr>\n",
       "    <tr>\n",
       "      <th>user_id_month</th>\n",
       "      <th></th>\n",
       "      <th></th>\n",
       "    </tr>\n",
       "  </thead>\n",
       "  <tbody>\n",
       "    <tr>\n",
       "      <td>100010</td>\n",
       "      <td>363</td>\n",
       "      <td>57</td>\n",
       "    </tr>\n",
       "    <tr>\n",
       "      <td>100011</td>\n",
       "      <td>344</td>\n",
       "      <td>43</td>\n",
       "    </tr>\n",
       "    <tr>\n",
       "      <td>100012</td>\n",
       "      <td>341</td>\n",
       "      <td>46</td>\n",
       "    </tr>\n",
       "    <tr>\n",
       "      <td>10005</td>\n",
       "      <td>164</td>\n",
       "      <td>22</td>\n",
       "    </tr>\n",
       "    <tr>\n",
       "      <td>10006</td>\n",
       "      <td>187</td>\n",
       "      <td>43</td>\n",
       "    </tr>\n",
       "  </tbody>\n",
       "</table>\n",
       "</div>"
      ],
      "text/plain": [
       "               sum_of_duration  count_of_duration\n",
       "user_id_month                                    \n",
       "100010                     363                 57\n",
       "100011                     344                 43\n",
       "100012                     341                 46\n",
       "10005                      164                 22\n",
       "10006                      187                 43"
      ]
     },
     "execution_count": 37,
     "metadata": {},
     "output_type": "execute_result"
    }
   ],
   "source": [
    "summary_of_users.head()"
   ]
  },
  {
   "cell_type": "markdown",
   "metadata": {},
   "source": [
    "#### 2.5.2 Подсчитаем количество отправленных сообщений по месяцам\n",
    "Добавим столбец месяц в таблицу messages с помощью функции add_month"
   ]
  },
  {
   "cell_type": "code",
   "execution_count": 38,
   "metadata": {},
   "outputs": [
    {
     "data": {
      "text/html": [
       "<div>\n",
       "<style scoped>\n",
       "    .dataframe tbody tr th:only-of-type {\n",
       "        vertical-align: middle;\n",
       "    }\n",
       "\n",
       "    .dataframe tbody tr th {\n",
       "        vertical-align: top;\n",
       "    }\n",
       "\n",
       "    .dataframe thead th {\n",
       "        text-align: right;\n",
       "    }\n",
       "</style>\n",
       "<table border=\"1\" class=\"dataframe\">\n",
       "  <thead>\n",
       "    <tr style=\"text-align: right;\">\n",
       "      <th></th>\n",
       "      <th>id</th>\n",
       "      <th>message_date</th>\n",
       "      <th>user_id</th>\n",
       "      <th>month</th>\n",
       "    </tr>\n",
       "  </thead>\n",
       "  <tbody>\n",
       "    <tr>\n",
       "      <td>0</td>\n",
       "      <td>1000_0</td>\n",
       "      <td>2018-06-27</td>\n",
       "      <td>1000</td>\n",
       "      <td>6</td>\n",
       "    </tr>\n",
       "    <tr>\n",
       "      <td>1</td>\n",
       "      <td>1000_1</td>\n",
       "      <td>2018-10-08</td>\n",
       "      <td>1000</td>\n",
       "      <td>10</td>\n",
       "    </tr>\n",
       "    <tr>\n",
       "      <td>2</td>\n",
       "      <td>1000_2</td>\n",
       "      <td>2018-08-04</td>\n",
       "      <td>1000</td>\n",
       "      <td>8</td>\n",
       "    </tr>\n",
       "    <tr>\n",
       "      <td>3</td>\n",
       "      <td>1000_3</td>\n",
       "      <td>2018-06-16</td>\n",
       "      <td>1000</td>\n",
       "      <td>6</td>\n",
       "    </tr>\n",
       "    <tr>\n",
       "      <td>4</td>\n",
       "      <td>1000_4</td>\n",
       "      <td>2018-12-05</td>\n",
       "      <td>1000</td>\n",
       "      <td>12</td>\n",
       "    </tr>\n",
       "    <tr>\n",
       "      <td>...</td>\n",
       "      <td>...</td>\n",
       "      <td>...</td>\n",
       "      <td>...</td>\n",
       "      <td>...</td>\n",
       "    </tr>\n",
       "    <tr>\n",
       "      <td>123031</td>\n",
       "      <td>1499_179</td>\n",
       "      <td>2018-12-12</td>\n",
       "      <td>1499</td>\n",
       "      <td>12</td>\n",
       "    </tr>\n",
       "    <tr>\n",
       "      <td>123032</td>\n",
       "      <td>1499_180</td>\n",
       "      <td>2018-09-28</td>\n",
       "      <td>1499</td>\n",
       "      <td>9</td>\n",
       "    </tr>\n",
       "    <tr>\n",
       "      <td>123033</td>\n",
       "      <td>1499_181</td>\n",
       "      <td>2018-09-27</td>\n",
       "      <td>1499</td>\n",
       "      <td>9</td>\n",
       "    </tr>\n",
       "    <tr>\n",
       "      <td>123034</td>\n",
       "      <td>1499_182</td>\n",
       "      <td>2018-11-15</td>\n",
       "      <td>1499</td>\n",
       "      <td>11</td>\n",
       "    </tr>\n",
       "    <tr>\n",
       "      <td>123035</td>\n",
       "      <td>1499_183</td>\n",
       "      <td>2018-11-16</td>\n",
       "      <td>1499</td>\n",
       "      <td>11</td>\n",
       "    </tr>\n",
       "  </tbody>\n",
       "</table>\n",
       "<p>123036 rows × 4 columns</p>\n",
       "</div>"
      ],
      "text/plain": [
       "              id message_date  user_id  month\n",
       "0         1000_0   2018-06-27     1000      6\n",
       "1         1000_1   2018-10-08     1000     10\n",
       "2         1000_2   2018-08-04     1000      8\n",
       "3         1000_3   2018-06-16     1000      6\n",
       "4         1000_4   2018-12-05     1000     12\n",
       "...          ...          ...      ...    ...\n",
       "123031  1499_179   2018-12-12     1499     12\n",
       "123032  1499_180   2018-09-28     1499      9\n",
       "123033  1499_181   2018-09-27     1499      9\n",
       "123034  1499_182   2018-11-15     1499     11\n",
       "123035  1499_183   2018-11-16     1499     11\n",
       "\n",
       "[123036 rows x 4 columns]"
      ]
     },
     "execution_count": 38,
     "metadata": {},
     "output_type": "execute_result"
    }
   ],
   "source": [
    "add_month(messages,'message_date')"
   ]
  },
  {
   "cell_type": "markdown",
   "metadata": {},
   "source": [
    "Добавим в таблицу messages столбец user_id_month, с помощью функции make_user_id_month"
   ]
  },
  {
   "cell_type": "code",
   "execution_count": 39,
   "metadata": {},
   "outputs": [
    {
     "data": {
      "text/html": [
       "<div>\n",
       "<style scoped>\n",
       "    .dataframe tbody tr th:only-of-type {\n",
       "        vertical-align: middle;\n",
       "    }\n",
       "\n",
       "    .dataframe tbody tr th {\n",
       "        vertical-align: top;\n",
       "    }\n",
       "\n",
       "    .dataframe thead th {\n",
       "        text-align: right;\n",
       "    }\n",
       "</style>\n",
       "<table border=\"1\" class=\"dataframe\">\n",
       "  <thead>\n",
       "    <tr style=\"text-align: right;\">\n",
       "      <th></th>\n",
       "      <th>id</th>\n",
       "      <th>message_date</th>\n",
       "      <th>user_id</th>\n",
       "      <th>month</th>\n",
       "      <th>user_id_month</th>\n",
       "    </tr>\n",
       "  </thead>\n",
       "  <tbody>\n",
       "    <tr>\n",
       "      <td>0</td>\n",
       "      <td>1000_0</td>\n",
       "      <td>2018-06-27</td>\n",
       "      <td>1000</td>\n",
       "      <td>6</td>\n",
       "      <td>10006</td>\n",
       "    </tr>\n",
       "    <tr>\n",
       "      <td>1</td>\n",
       "      <td>1000_1</td>\n",
       "      <td>2018-10-08</td>\n",
       "      <td>1000</td>\n",
       "      <td>10</td>\n",
       "      <td>100010</td>\n",
       "    </tr>\n",
       "    <tr>\n",
       "      <td>2</td>\n",
       "      <td>1000_2</td>\n",
       "      <td>2018-08-04</td>\n",
       "      <td>1000</td>\n",
       "      <td>8</td>\n",
       "      <td>10008</td>\n",
       "    </tr>\n",
       "    <tr>\n",
       "      <td>3</td>\n",
       "      <td>1000_3</td>\n",
       "      <td>2018-06-16</td>\n",
       "      <td>1000</td>\n",
       "      <td>6</td>\n",
       "      <td>10006</td>\n",
       "    </tr>\n",
       "    <tr>\n",
       "      <td>4</td>\n",
       "      <td>1000_4</td>\n",
       "      <td>2018-12-05</td>\n",
       "      <td>1000</td>\n",
       "      <td>12</td>\n",
       "      <td>100012</td>\n",
       "    </tr>\n",
       "    <tr>\n",
       "      <td>...</td>\n",
       "      <td>...</td>\n",
       "      <td>...</td>\n",
       "      <td>...</td>\n",
       "      <td>...</td>\n",
       "      <td>...</td>\n",
       "    </tr>\n",
       "    <tr>\n",
       "      <td>123031</td>\n",
       "      <td>1499_179</td>\n",
       "      <td>2018-12-12</td>\n",
       "      <td>1499</td>\n",
       "      <td>12</td>\n",
       "      <td>149912</td>\n",
       "    </tr>\n",
       "    <tr>\n",
       "      <td>123032</td>\n",
       "      <td>1499_180</td>\n",
       "      <td>2018-09-28</td>\n",
       "      <td>1499</td>\n",
       "      <td>9</td>\n",
       "      <td>14999</td>\n",
       "    </tr>\n",
       "    <tr>\n",
       "      <td>123033</td>\n",
       "      <td>1499_181</td>\n",
       "      <td>2018-09-27</td>\n",
       "      <td>1499</td>\n",
       "      <td>9</td>\n",
       "      <td>14999</td>\n",
       "    </tr>\n",
       "    <tr>\n",
       "      <td>123034</td>\n",
       "      <td>1499_182</td>\n",
       "      <td>2018-11-15</td>\n",
       "      <td>1499</td>\n",
       "      <td>11</td>\n",
       "      <td>149911</td>\n",
       "    </tr>\n",
       "    <tr>\n",
       "      <td>123035</td>\n",
       "      <td>1499_183</td>\n",
       "      <td>2018-11-16</td>\n",
       "      <td>1499</td>\n",
       "      <td>11</td>\n",
       "      <td>149911</td>\n",
       "    </tr>\n",
       "  </tbody>\n",
       "</table>\n",
       "<p>123036 rows × 5 columns</p>\n",
       "</div>"
      ],
      "text/plain": [
       "              id message_date user_id month user_id_month\n",
       "0         1000_0   2018-06-27    1000     6         10006\n",
       "1         1000_1   2018-10-08    1000    10        100010\n",
       "2         1000_2   2018-08-04    1000     8         10008\n",
       "3         1000_3   2018-06-16    1000     6         10006\n",
       "4         1000_4   2018-12-05    1000    12        100012\n",
       "...          ...          ...     ...   ...           ...\n",
       "123031  1499_179   2018-12-12    1499    12        149912\n",
       "123032  1499_180   2018-09-28    1499     9         14999\n",
       "123033  1499_181   2018-09-27    1499     9         14999\n",
       "123034  1499_182   2018-11-15    1499    11        149911\n",
       "123035  1499_183   2018-11-16    1499    11        149911\n",
       "\n",
       "[123036 rows x 5 columns]"
      ]
     },
     "execution_count": 39,
     "metadata": {},
     "output_type": "execute_result"
    }
   ],
   "source": [
    "make_user_id_month(messages)"
   ]
  },
  {
   "cell_type": "markdown",
   "metadata": {},
   "source": [
    "Добавим столбцец количество смс за месяц в таблицу messages с помощью функции info_per_month."
   ]
  },
  {
   "cell_type": "code",
   "execution_count": 40,
   "metadata": {},
   "outputs": [
    {
     "data": {
      "text/html": [
       "<div>\n",
       "<style scoped>\n",
       "    .dataframe tbody tr th:only-of-type {\n",
       "        vertical-align: middle;\n",
       "    }\n",
       "\n",
       "    .dataframe tbody tr th {\n",
       "        vertical-align: top;\n",
       "    }\n",
       "\n",
       "    .dataframe thead th {\n",
       "        text-align: right;\n",
       "    }\n",
       "</style>\n",
       "<table border=\"1\" class=\"dataframe\">\n",
       "  <thead>\n",
       "    <tr style=\"text-align: right;\">\n",
       "      <th></th>\n",
       "      <th>id</th>\n",
       "      <th>message_date</th>\n",
       "      <th>user_id</th>\n",
       "      <th>month</th>\n",
       "      <th>user_id_month</th>\n",
       "      <th>count_of_message_date</th>\n",
       "    </tr>\n",
       "  </thead>\n",
       "  <tbody>\n",
       "    <tr>\n",
       "      <td>0</td>\n",
       "      <td>1000_0</td>\n",
       "      <td>2018-06-27</td>\n",
       "      <td>1000</td>\n",
       "      <td>6</td>\n",
       "      <td>10006</td>\n",
       "      <td>60</td>\n",
       "    </tr>\n",
       "    <tr>\n",
       "      <td>1</td>\n",
       "      <td>1000_3</td>\n",
       "      <td>2018-06-16</td>\n",
       "      <td>1000</td>\n",
       "      <td>6</td>\n",
       "      <td>10006</td>\n",
       "      <td>60</td>\n",
       "    </tr>\n",
       "    <tr>\n",
       "      <td>2</td>\n",
       "      <td>1000_5</td>\n",
       "      <td>2018-06-20</td>\n",
       "      <td>1000</td>\n",
       "      <td>6</td>\n",
       "      <td>10006</td>\n",
       "      <td>60</td>\n",
       "    </tr>\n",
       "    <tr>\n",
       "      <td>3</td>\n",
       "      <td>1000_8</td>\n",
       "      <td>2018-06-25</td>\n",
       "      <td>1000</td>\n",
       "      <td>6</td>\n",
       "      <td>10006</td>\n",
       "      <td>60</td>\n",
       "    </tr>\n",
       "    <tr>\n",
       "      <td>4</td>\n",
       "      <td>1000_16</td>\n",
       "      <td>2018-06-25</td>\n",
       "      <td>1000</td>\n",
       "      <td>6</td>\n",
       "      <td>10006</td>\n",
       "      <td>60</td>\n",
       "    </tr>\n",
       "  </tbody>\n",
       "</table>\n",
       "</div>"
      ],
      "text/plain": [
       "        id message_date user_id month user_id_month  count_of_message_date\n",
       "0   1000_0   2018-06-27    1000     6         10006                     60\n",
       "1   1000_3   2018-06-16    1000     6         10006                     60\n",
       "2   1000_5   2018-06-20    1000     6         10006                     60\n",
       "3   1000_8   2018-06-25    1000     6         10006                     60\n",
       "4  1000_16   2018-06-25    1000     6         10006                     60"
      ]
     },
     "execution_count": 40,
     "metadata": {},
     "output_type": "execute_result"
    }
   ],
   "source": [
    "# добавляем столбец с количеством смс, обновляем таблицу\n",
    "messages=info_per_month(messages,'message_date')\n",
    "# выведем несколько строк\n",
    "messages.head()"
   ]
  },
  {
   "cell_type": "markdown",
   "metadata": {},
   "source": [
    "Переименуем столбец count_of_message_date в count_of_message"
   ]
  },
  {
   "cell_type": "code",
   "execution_count": 41,
   "metadata": {},
   "outputs": [
    {
     "data": {
      "text/html": [
       "<div>\n",
       "<style scoped>\n",
       "    .dataframe tbody tr th:only-of-type {\n",
       "        vertical-align: middle;\n",
       "    }\n",
       "\n",
       "    .dataframe tbody tr th {\n",
       "        vertical-align: top;\n",
       "    }\n",
       "\n",
       "    .dataframe thead th {\n",
       "        text-align: right;\n",
       "    }\n",
       "</style>\n",
       "<table border=\"1\" class=\"dataframe\">\n",
       "  <thead>\n",
       "    <tr style=\"text-align: right;\">\n",
       "      <th></th>\n",
       "      <th>id</th>\n",
       "      <th>message_date</th>\n",
       "      <th>user_id</th>\n",
       "      <th>month</th>\n",
       "      <th>user_id_month</th>\n",
       "      <th>count_of_message</th>\n",
       "    </tr>\n",
       "  </thead>\n",
       "  <tbody>\n",
       "    <tr>\n",
       "      <td>123031</td>\n",
       "      <td>1499_143</td>\n",
       "      <td>2018-09-27</td>\n",
       "      <td>1499</td>\n",
       "      <td>9</td>\n",
       "      <td>14999</td>\n",
       "      <td>11</td>\n",
       "    </tr>\n",
       "    <tr>\n",
       "      <td>123032</td>\n",
       "      <td>1499_162</td>\n",
       "      <td>2018-09-29</td>\n",
       "      <td>1499</td>\n",
       "      <td>9</td>\n",
       "      <td>14999</td>\n",
       "      <td>11</td>\n",
       "    </tr>\n",
       "    <tr>\n",
       "      <td>123033</td>\n",
       "      <td>1499_170</td>\n",
       "      <td>2018-09-29</td>\n",
       "      <td>1499</td>\n",
       "      <td>9</td>\n",
       "      <td>14999</td>\n",
       "      <td>11</td>\n",
       "    </tr>\n",
       "    <tr>\n",
       "      <td>123034</td>\n",
       "      <td>1499_180</td>\n",
       "      <td>2018-09-28</td>\n",
       "      <td>1499</td>\n",
       "      <td>9</td>\n",
       "      <td>14999</td>\n",
       "      <td>11</td>\n",
       "    </tr>\n",
       "    <tr>\n",
       "      <td>123035</td>\n",
       "      <td>1499_181</td>\n",
       "      <td>2018-09-27</td>\n",
       "      <td>1499</td>\n",
       "      <td>9</td>\n",
       "      <td>14999</td>\n",
       "      <td>11</td>\n",
       "    </tr>\n",
       "  </tbody>\n",
       "</table>\n",
       "</div>"
      ],
      "text/plain": [
       "              id message_date user_id month user_id_month  count_of_message\n",
       "123031  1499_143   2018-09-27    1499     9         14999                11\n",
       "123032  1499_162   2018-09-29    1499     9         14999                11\n",
       "123033  1499_170   2018-09-29    1499     9         14999                11\n",
       "123034  1499_180   2018-09-28    1499     9         14999                11\n",
       "123035  1499_181   2018-09-27    1499     9         14999                11"
      ]
     },
     "execution_count": 41,
     "metadata": {},
     "output_type": "execute_result"
    }
   ],
   "source": [
    "messages.rename(columns={'count_of_message_date':'count_of_message'}, inplace=True)\n",
    "# проверим переименование\n",
    "messages.tail()"
   ]
  },
  {
   "cell_type": "code",
   "execution_count": 42,
   "metadata": {},
   "outputs": [
    {
     "data": {
      "text/plain": [
       "user_id_month\n",
       "100010    73\n",
       "100011    58\n",
       "100012    70\n",
       "10005     22\n",
       "10006     60\n",
       "          ..\n",
       "14989     44\n",
       "149910    48\n",
       "149911    59\n",
       "149912    66\n",
       "14999     11\n",
       "Name: count_of_message, Length: 2717, dtype: int64"
      ]
     },
     "execution_count": 42,
     "metadata": {},
     "output_type": "execute_result"
    }
   ],
   "source": [
    "messages.groupby('user_id_month')['count_of_message'].mean()"
   ]
  },
  {
   "cell_type": "markdown",
   "metadata": {},
   "source": [
    "Добавим информацию о количестве смс в таблицу summary_of_users с помощью метода merge"
   ]
  },
  {
   "cell_type": "code",
   "execution_count": 43,
   "metadata": {},
   "outputs": [
    {
     "data": {
      "text/html": [
       "<div>\n",
       "<style scoped>\n",
       "    .dataframe tbody tr th:only-of-type {\n",
       "        vertical-align: middle;\n",
       "    }\n",
       "\n",
       "    .dataframe tbody tr th {\n",
       "        vertical-align: top;\n",
       "    }\n",
       "\n",
       "    .dataframe thead th {\n",
       "        text-align: right;\n",
       "    }\n",
       "</style>\n",
       "<table border=\"1\" class=\"dataframe\">\n",
       "  <thead>\n",
       "    <tr style=\"text-align: right;\">\n",
       "      <th></th>\n",
       "      <th>sum_of_duration</th>\n",
       "      <th>count_of_duration</th>\n",
       "      <th>count_of_message</th>\n",
       "    </tr>\n",
       "    <tr>\n",
       "      <th>user_id_month</th>\n",
       "      <th></th>\n",
       "      <th></th>\n",
       "      <th></th>\n",
       "    </tr>\n",
       "  </thead>\n",
       "  <tbody>\n",
       "    <tr>\n",
       "      <td>100010</td>\n",
       "      <td>363.0</td>\n",
       "      <td>57.0</td>\n",
       "      <td>73.0</td>\n",
       "    </tr>\n",
       "    <tr>\n",
       "      <td>100011</td>\n",
       "      <td>344.0</td>\n",
       "      <td>43.0</td>\n",
       "      <td>58.0</td>\n",
       "    </tr>\n",
       "    <tr>\n",
       "      <td>100012</td>\n",
       "      <td>341.0</td>\n",
       "      <td>46.0</td>\n",
       "      <td>70.0</td>\n",
       "    </tr>\n",
       "    <tr>\n",
       "      <td>10005</td>\n",
       "      <td>164.0</td>\n",
       "      <td>22.0</td>\n",
       "      <td>22.0</td>\n",
       "    </tr>\n",
       "    <tr>\n",
       "      <td>10006</td>\n",
       "      <td>187.0</td>\n",
       "      <td>43.0</td>\n",
       "      <td>60.0</td>\n",
       "    </tr>\n",
       "  </tbody>\n",
       "</table>\n",
       "</div>"
      ],
      "text/plain": [
       "               sum_of_duration  count_of_duration  count_of_message\n",
       "user_id_month                                                      \n",
       "100010                   363.0               57.0              73.0\n",
       "100011                   344.0               43.0              58.0\n",
       "100012                   341.0               46.0              70.0\n",
       "10005                    164.0               22.0              22.0\n",
       "10006                    187.0               43.0              60.0"
      ]
     },
     "execution_count": 43,
     "metadata": {},
     "output_type": "execute_result"
    }
   ],
   "source": [
    "summary_of_users=summary_of_users.merge(messages.groupby('user_id_month')['count_of_message'].mean(),on='user_id_month',how='outer')\n",
    "summary_of_users.head()"
   ]
  },
  {
   "cell_type": "markdown",
   "metadata": {},
   "source": [
    "#### 2.5.3 Подсчитаем объем израсходованного интернет-трафика по месяцам\n",
    "Добавим столбец месяц в таблицу internet с помощью функции add_month"
   ]
  },
  {
   "cell_type": "code",
   "execution_count": null,
   "metadata": {},
   "outputs": [],
   "source": [
    "add_month(internet,'session_date')"
   ]
  },
  {
   "cell_type": "markdown",
   "metadata": {},
   "source": [
    "Добавим в таблицу internet столбец user_id_month, с помощью функции make_user_id_month"
   ]
  },
  {
   "cell_type": "code",
   "execution_count": 45,
   "metadata": {},
   "outputs": [
    {
     "data": {
      "text/html": [
       "<div>\n",
       "<style scoped>\n",
       "    .dataframe tbody tr th:only-of-type {\n",
       "        vertical-align: middle;\n",
       "    }\n",
       "\n",
       "    .dataframe tbody tr th {\n",
       "        vertical-align: top;\n",
       "    }\n",
       "\n",
       "    .dataframe thead th {\n",
       "        text-align: right;\n",
       "    }\n",
       "</style>\n",
       "<table border=\"1\" class=\"dataframe\">\n",
       "  <thead>\n",
       "    <tr style=\"text-align: right;\">\n",
       "      <th></th>\n",
       "      <th>id</th>\n",
       "      <th>mb_used</th>\n",
       "      <th>session_date</th>\n",
       "      <th>user_id</th>\n",
       "      <th>month</th>\n",
       "      <th>user_id_month</th>\n",
       "    </tr>\n",
       "  </thead>\n",
       "  <tbody>\n",
       "    <tr>\n",
       "      <td>0</td>\n",
       "      <td>1000_0</td>\n",
       "      <td>113</td>\n",
       "      <td>2018-11-25</td>\n",
       "      <td>1000</td>\n",
       "      <td>11</td>\n",
       "      <td>100011</td>\n",
       "    </tr>\n",
       "    <tr>\n",
       "      <td>1</td>\n",
       "      <td>1000_1</td>\n",
       "      <td>1053</td>\n",
       "      <td>2018-09-07</td>\n",
       "      <td>1000</td>\n",
       "      <td>9</td>\n",
       "      <td>10009</td>\n",
       "    </tr>\n",
       "    <tr>\n",
       "      <td>2</td>\n",
       "      <td>1000_2</td>\n",
       "      <td>1198</td>\n",
       "      <td>2018-06-25</td>\n",
       "      <td>1000</td>\n",
       "      <td>6</td>\n",
       "      <td>10006</td>\n",
       "    </tr>\n",
       "    <tr>\n",
       "      <td>3</td>\n",
       "      <td>1000_3</td>\n",
       "      <td>551</td>\n",
       "      <td>2018-08-22</td>\n",
       "      <td>1000</td>\n",
       "      <td>8</td>\n",
       "      <td>10008</td>\n",
       "    </tr>\n",
       "    <tr>\n",
       "      <td>4</td>\n",
       "      <td>1000_4</td>\n",
       "      <td>303</td>\n",
       "      <td>2018-09-24</td>\n",
       "      <td>1000</td>\n",
       "      <td>9</td>\n",
       "      <td>10009</td>\n",
       "    </tr>\n",
       "    <tr>\n",
       "      <td>...</td>\n",
       "      <td>...</td>\n",
       "      <td>...</td>\n",
       "      <td>...</td>\n",
       "      <td>...</td>\n",
       "      <td>...</td>\n",
       "      <td>...</td>\n",
       "    </tr>\n",
       "    <tr>\n",
       "      <td>149391</td>\n",
       "      <td>1499_152</td>\n",
       "      <td>319</td>\n",
       "      <td>2018-10-03</td>\n",
       "      <td>1499</td>\n",
       "      <td>10</td>\n",
       "      <td>149910</td>\n",
       "    </tr>\n",
       "    <tr>\n",
       "      <td>149392</td>\n",
       "      <td>1499_153</td>\n",
       "      <td>491</td>\n",
       "      <td>2018-12-14</td>\n",
       "      <td>1499</td>\n",
       "      <td>12</td>\n",
       "      <td>149912</td>\n",
       "    </tr>\n",
       "    <tr>\n",
       "      <td>149393</td>\n",
       "      <td>1499_154</td>\n",
       "      <td>1</td>\n",
       "      <td>2018-10-27</td>\n",
       "      <td>1499</td>\n",
       "      <td>10</td>\n",
       "      <td>149910</td>\n",
       "    </tr>\n",
       "    <tr>\n",
       "      <td>149394</td>\n",
       "      <td>1499_155</td>\n",
       "      <td>1247</td>\n",
       "      <td>2018-11-26</td>\n",
       "      <td>1499</td>\n",
       "      <td>11</td>\n",
       "      <td>149911</td>\n",
       "    </tr>\n",
       "    <tr>\n",
       "      <td>149395</td>\n",
       "      <td>1499_156</td>\n",
       "      <td>545</td>\n",
       "      <td>2018-10-26</td>\n",
       "      <td>1499</td>\n",
       "      <td>10</td>\n",
       "      <td>149910</td>\n",
       "    </tr>\n",
       "  </tbody>\n",
       "</table>\n",
       "<p>149396 rows × 6 columns</p>\n",
       "</div>"
      ],
      "text/plain": [
       "              id  mb_used session_date user_id month user_id_month\n",
       "0         1000_0      113   2018-11-25    1000    11        100011\n",
       "1         1000_1     1053   2018-09-07    1000     9         10009\n",
       "2         1000_2     1198   2018-06-25    1000     6         10006\n",
       "3         1000_3      551   2018-08-22    1000     8         10008\n",
       "4         1000_4      303   2018-09-24    1000     9         10009\n",
       "...          ...      ...          ...     ...   ...           ...\n",
       "149391  1499_152      319   2018-10-03    1499    10        149910\n",
       "149392  1499_153      491   2018-12-14    1499    12        149912\n",
       "149393  1499_154        1   2018-10-27    1499    10        149910\n",
       "149394  1499_155     1247   2018-11-26    1499    11        149911\n",
       "149395  1499_156      545   2018-10-26    1499    10        149910\n",
       "\n",
       "[149396 rows x 6 columns]"
      ]
     },
     "execution_count": 45,
     "metadata": {},
     "output_type": "execute_result"
    }
   ],
   "source": [
    "make_user_id_month(internet)"
   ]
  },
  {
   "cell_type": "code",
   "execution_count": 46,
   "metadata": {},
   "outputs": [
    {
     "data": {
      "text/html": [
       "<div>\n",
       "<style scoped>\n",
       "    .dataframe tbody tr th:only-of-type {\n",
       "        vertical-align: middle;\n",
       "    }\n",
       "\n",
       "    .dataframe tbody tr th {\n",
       "        vertical-align: top;\n",
       "    }\n",
       "\n",
       "    .dataframe thead th {\n",
       "        text-align: right;\n",
       "    }\n",
       "</style>\n",
       "<table border=\"1\" class=\"dataframe\">\n",
       "  <thead>\n",
       "    <tr style=\"text-align: right;\">\n",
       "      <th></th>\n",
       "      <th>id</th>\n",
       "      <th>mb_used</th>\n",
       "      <th>session_date</th>\n",
       "      <th>user_id</th>\n",
       "      <th>month</th>\n",
       "      <th>user_id_month</th>\n",
       "      <th>sum_of_mb_used</th>\n",
       "      <th>count_of_mb_used</th>\n",
       "    </tr>\n",
       "  </thead>\n",
       "  <tbody>\n",
       "    <tr>\n",
       "      <td>0</td>\n",
       "      <td>1000_0</td>\n",
       "      <td>113</td>\n",
       "      <td>2018-11-25</td>\n",
       "      <td>1000</td>\n",
       "      <td>11</td>\n",
       "      <td>100011</td>\n",
       "      <td>14769</td>\n",
       "      <td>24</td>\n",
       "    </tr>\n",
       "    <tr>\n",
       "      <td>1</td>\n",
       "      <td>1000_18</td>\n",
       "      <td>659</td>\n",
       "      <td>2018-11-01</td>\n",
       "      <td>1000</td>\n",
       "      <td>11</td>\n",
       "      <td>100011</td>\n",
       "      <td>14769</td>\n",
       "      <td>24</td>\n",
       "    </tr>\n",
       "    <tr>\n",
       "      <td>2</td>\n",
       "      <td>1000_19</td>\n",
       "      <td>453</td>\n",
       "      <td>2018-11-28</td>\n",
       "      <td>1000</td>\n",
       "      <td>11</td>\n",
       "      <td>100011</td>\n",
       "      <td>14769</td>\n",
       "      <td>24</td>\n",
       "    </tr>\n",
       "    <tr>\n",
       "      <td>3</td>\n",
       "      <td>1000_26</td>\n",
       "      <td>952</td>\n",
       "      <td>2018-11-06</td>\n",
       "      <td>1000</td>\n",
       "      <td>11</td>\n",
       "      <td>100011</td>\n",
       "      <td>14769</td>\n",
       "      <td>24</td>\n",
       "    </tr>\n",
       "    <tr>\n",
       "      <td>4</td>\n",
       "      <td>1000_29</td>\n",
       "      <td>623</td>\n",
       "      <td>2018-11-15</td>\n",
       "      <td>1000</td>\n",
       "      <td>11</td>\n",
       "      <td>100011</td>\n",
       "      <td>14769</td>\n",
       "      <td>24</td>\n",
       "    </tr>\n",
       "  </tbody>\n",
       "</table>\n",
       "</div>"
      ],
      "text/plain": [
       "        id  mb_used session_date user_id month user_id_month  sum_of_mb_used  \\\n",
       "0   1000_0      113   2018-11-25    1000    11        100011           14769   \n",
       "1  1000_18      659   2018-11-01    1000    11        100011           14769   \n",
       "2  1000_19      453   2018-11-28    1000    11        100011           14769   \n",
       "3  1000_26      952   2018-11-06    1000    11        100011           14769   \n",
       "4  1000_29      623   2018-11-15    1000    11        100011           14769   \n",
       "\n",
       "   count_of_mb_used  \n",
       "0                24  \n",
       "1                24  \n",
       "2                24  \n",
       "3                24  \n",
       "4                24  "
      ]
     },
     "execution_count": 46,
     "metadata": {},
     "output_type": "execute_result"
    }
   ],
   "source": [
    "internet=info_per_month(internet,'mb_used')\n",
    "internet.head()"
   ]
  },
  {
   "cell_type": "markdown",
   "metadata": {},
   "source": [
    "Переименуем столбец count_of_mb_used в count_of_sessions"
   ]
  },
  {
   "cell_type": "code",
   "execution_count": 47,
   "metadata": {},
   "outputs": [
    {
     "data": {
      "text/html": [
       "<div>\n",
       "<style scoped>\n",
       "    .dataframe tbody tr th:only-of-type {\n",
       "        vertical-align: middle;\n",
       "    }\n",
       "\n",
       "    .dataframe tbody tr th {\n",
       "        vertical-align: top;\n",
       "    }\n",
       "\n",
       "    .dataframe thead th {\n",
       "        text-align: right;\n",
       "    }\n",
       "</style>\n",
       "<table border=\"1\" class=\"dataframe\">\n",
       "  <thead>\n",
       "    <tr style=\"text-align: right;\">\n",
       "      <th></th>\n",
       "      <th>id</th>\n",
       "      <th>mb_used</th>\n",
       "      <th>session_date</th>\n",
       "      <th>user_id</th>\n",
       "      <th>month</th>\n",
       "      <th>user_id_month</th>\n",
       "      <th>sum_of_mb_used</th>\n",
       "      <th>count_of_sessions</th>\n",
       "    </tr>\n",
       "  </thead>\n",
       "  <tbody>\n",
       "    <tr>\n",
       "      <td>149391</td>\n",
       "      <td>1499_10</td>\n",
       "      <td>1</td>\n",
       "      <td>2018-09-29</td>\n",
       "      <td>1499</td>\n",
       "      <td>9</td>\n",
       "      <td>14999</td>\n",
       "      <td>1849</td>\n",
       "      <td>5</td>\n",
       "    </tr>\n",
       "    <tr>\n",
       "      <td>149392</td>\n",
       "      <td>1499_58</td>\n",
       "      <td>7</td>\n",
       "      <td>2018-09-28</td>\n",
       "      <td>1499</td>\n",
       "      <td>9</td>\n",
       "      <td>14999</td>\n",
       "      <td>1849</td>\n",
       "      <td>5</td>\n",
       "    </tr>\n",
       "    <tr>\n",
       "      <td>149393</td>\n",
       "      <td>1499_98</td>\n",
       "      <td>1139</td>\n",
       "      <td>2018-09-29</td>\n",
       "      <td>1499</td>\n",
       "      <td>9</td>\n",
       "      <td>14999</td>\n",
       "      <td>1849</td>\n",
       "      <td>5</td>\n",
       "    </tr>\n",
       "    <tr>\n",
       "      <td>149394</td>\n",
       "      <td>1499_112</td>\n",
       "      <td>340</td>\n",
       "      <td>2018-09-29</td>\n",
       "      <td>1499</td>\n",
       "      <td>9</td>\n",
       "      <td>14999</td>\n",
       "      <td>1849</td>\n",
       "      <td>5</td>\n",
       "    </tr>\n",
       "    <tr>\n",
       "      <td>149395</td>\n",
       "      <td>1499_135</td>\n",
       "      <td>362</td>\n",
       "      <td>2018-09-30</td>\n",
       "      <td>1499</td>\n",
       "      <td>9</td>\n",
       "      <td>14999</td>\n",
       "      <td>1849</td>\n",
       "      <td>5</td>\n",
       "    </tr>\n",
       "  </tbody>\n",
       "</table>\n",
       "</div>"
      ],
      "text/plain": [
       "              id  mb_used session_date user_id month user_id_month  \\\n",
       "149391   1499_10        1   2018-09-29    1499     9         14999   \n",
       "149392   1499_58        7   2018-09-28    1499     9         14999   \n",
       "149393   1499_98     1139   2018-09-29    1499     9         14999   \n",
       "149394  1499_112      340   2018-09-29    1499     9         14999   \n",
       "149395  1499_135      362   2018-09-30    1499     9         14999   \n",
       "\n",
       "        sum_of_mb_used  count_of_sessions  \n",
       "149391            1849                  5  \n",
       "149392            1849                  5  \n",
       "149393            1849                  5  \n",
       "149394            1849                  5  \n",
       "149395            1849                  5  "
      ]
     },
     "execution_count": 47,
     "metadata": {},
     "output_type": "execute_result"
    }
   ],
   "source": [
    "internet.rename(columns={'count_of_mb_used':'count_of_sessions'}, inplace=True)\n",
    "# проверим переименование\n",
    "internet.tail()"
   ]
  },
  {
   "cell_type": "markdown",
   "metadata": {},
   "source": [
    "Добавим информацию о количестве расходуемого трафика и сессий в таблицу summary_of_users с помощью метода merge"
   ]
  },
  {
   "cell_type": "code",
   "execution_count": 48,
   "metadata": {},
   "outputs": [
    {
     "data": {
      "text/html": [
       "<div>\n",
       "<style scoped>\n",
       "    .dataframe tbody tr th:only-of-type {\n",
       "        vertical-align: middle;\n",
       "    }\n",
       "\n",
       "    .dataframe tbody tr th {\n",
       "        vertical-align: top;\n",
       "    }\n",
       "\n",
       "    .dataframe thead th {\n",
       "        text-align: right;\n",
       "    }\n",
       "</style>\n",
       "<table border=\"1\" class=\"dataframe\">\n",
       "  <thead>\n",
       "    <tr style=\"text-align: right;\">\n",
       "      <th></th>\n",
       "      <th>sum_of_duration</th>\n",
       "      <th>count_of_duration</th>\n",
       "      <th>count_of_message</th>\n",
       "      <th>sum_of_mb_used</th>\n",
       "      <th>count_of_sessions</th>\n",
       "    </tr>\n",
       "    <tr>\n",
       "      <th>user_id_month</th>\n",
       "      <th></th>\n",
       "      <th></th>\n",
       "      <th></th>\n",
       "      <th></th>\n",
       "      <th></th>\n",
       "    </tr>\n",
       "  </thead>\n",
       "  <tbody>\n",
       "    <tr>\n",
       "      <td>100010</td>\n",
       "      <td>363.0</td>\n",
       "      <td>57.0</td>\n",
       "      <td>73.0</td>\n",
       "      <td>14717.0</td>\n",
       "      <td>27.0</td>\n",
       "    </tr>\n",
       "    <tr>\n",
       "      <td>100011</td>\n",
       "      <td>344.0</td>\n",
       "      <td>43.0</td>\n",
       "      <td>58.0</td>\n",
       "      <td>14769.0</td>\n",
       "      <td>24.0</td>\n",
       "    </tr>\n",
       "    <tr>\n",
       "      <td>100012</td>\n",
       "      <td>341.0</td>\n",
       "      <td>46.0</td>\n",
       "      <td>70.0</td>\n",
       "      <td>9829.0</td>\n",
       "      <td>21.0</td>\n",
       "    </tr>\n",
       "    <tr>\n",
       "      <td>10005</td>\n",
       "      <td>164.0</td>\n",
       "      <td>22.0</td>\n",
       "      <td>22.0</td>\n",
       "      <td>2257.0</td>\n",
       "      <td>5.0</td>\n",
       "    </tr>\n",
       "    <tr>\n",
       "      <td>10006</td>\n",
       "      <td>187.0</td>\n",
       "      <td>43.0</td>\n",
       "      <td>60.0</td>\n",
       "      <td>23262.0</td>\n",
       "      <td>49.0</td>\n",
       "    </tr>\n",
       "  </tbody>\n",
       "</table>\n",
       "</div>"
      ],
      "text/plain": [
       "               sum_of_duration  count_of_duration  count_of_message  \\\n",
       "user_id_month                                                         \n",
       "100010                   363.0               57.0              73.0   \n",
       "100011                   344.0               43.0              58.0   \n",
       "100012                   341.0               46.0              70.0   \n",
       "10005                    164.0               22.0              22.0   \n",
       "10006                    187.0               43.0              60.0   \n",
       "\n",
       "               sum_of_mb_used  count_of_sessions  \n",
       "user_id_month                                     \n",
       "100010                14717.0               27.0  \n",
       "100011                14769.0               24.0  \n",
       "100012                 9829.0               21.0  \n",
       "10005                  2257.0                5.0  \n",
       "10006                 23262.0               49.0  "
      ]
     },
     "execution_count": 48,
     "metadata": {},
     "output_type": "execute_result"
    }
   ],
   "source": [
    "summary_of_users=summary_of_users.merge(internet.groupby('user_id_month')[['sum_of_mb_used','count_of_sessions']].mean(),on='user_id_month',how='outer')\n",
    "# проверим добавление\n",
    "summary_of_users.head()"
   ]
  },
  {
   "cell_type": "markdown",
   "metadata": {},
   "source": [
    "При складывании таблиц у нас могли появится пропуски у клиентов,которые могли использовать только часть услуг пакета. \n",
    "Например,только звонки и интернет без смс. Проверим это с помощью метода isnull().sum()"
   ]
  },
  {
   "cell_type": "code",
   "execution_count": 49,
   "metadata": {},
   "outputs": [
    {
     "data": {
      "text/plain": [
       "sum_of_duration       40\n",
       "count_of_duration     40\n",
       "count_of_message     497\n",
       "sum_of_mb_used        11\n",
       "count_of_sessions     11\n",
       "dtype: int64"
      ]
     },
     "execution_count": 49,
     "metadata": {},
     "output_type": "execute_result"
    }
   ],
   "source": [
    "summary_of_users.isnull().sum()"
   ]
  },
  {
   "cell_type": "markdown",
   "metadata": {},
   "source": [
    "Гипотеза подтвердилась, заполним 0 пустые строки с помощью метода fillna()"
   ]
  },
  {
   "cell_type": "code",
   "execution_count": 50,
   "metadata": {},
   "outputs": [],
   "source": [
    "summary_of_users = summary_of_users.fillna(0)"
   ]
  },
  {
   "cell_type": "markdown",
   "metadata": {},
   "source": [
    "Чтобы неперегружать таблицу, сделаем краткую версию таблицы summary_of_users без столбцов количество звонков и сессий выхода в интернет,сохраним её в переменную summary_of_users_short."
   ]
  },
  {
   "cell_type": "code",
   "execution_count": 51,
   "metadata": {},
   "outputs": [
    {
     "data": {
      "text/html": [
       "<div>\n",
       "<style scoped>\n",
       "    .dataframe tbody tr th:only-of-type {\n",
       "        vertical-align: middle;\n",
       "    }\n",
       "\n",
       "    .dataframe tbody tr th {\n",
       "        vertical-align: top;\n",
       "    }\n",
       "\n",
       "    .dataframe thead th {\n",
       "        text-align: right;\n",
       "    }\n",
       "</style>\n",
       "<table border=\"1\" class=\"dataframe\">\n",
       "  <thead>\n",
       "    <tr style=\"text-align: right;\">\n",
       "      <th></th>\n",
       "      <th>sum_of_duration</th>\n",
       "      <th>count_of_message</th>\n",
       "      <th>sum_of_mb_used</th>\n",
       "    </tr>\n",
       "    <tr>\n",
       "      <th>user_id_month</th>\n",
       "      <th></th>\n",
       "      <th></th>\n",
       "      <th></th>\n",
       "    </tr>\n",
       "  </thead>\n",
       "  <tbody>\n",
       "    <tr>\n",
       "      <td>100010</td>\n",
       "      <td>363.0</td>\n",
       "      <td>73.0</td>\n",
       "      <td>14717.0</td>\n",
       "    </tr>\n",
       "    <tr>\n",
       "      <td>100011</td>\n",
       "      <td>344.0</td>\n",
       "      <td>58.0</td>\n",
       "      <td>14769.0</td>\n",
       "    </tr>\n",
       "    <tr>\n",
       "      <td>100012</td>\n",
       "      <td>341.0</td>\n",
       "      <td>70.0</td>\n",
       "      <td>9829.0</td>\n",
       "    </tr>\n",
       "    <tr>\n",
       "      <td>10005</td>\n",
       "      <td>164.0</td>\n",
       "      <td>22.0</td>\n",
       "      <td>2257.0</td>\n",
       "    </tr>\n",
       "    <tr>\n",
       "      <td>10006</td>\n",
       "      <td>187.0</td>\n",
       "      <td>60.0</td>\n",
       "      <td>23262.0</td>\n",
       "    </tr>\n",
       "  </tbody>\n",
       "</table>\n",
       "</div>"
      ],
      "text/plain": [
       "               sum_of_duration  count_of_message  sum_of_mb_used\n",
       "user_id_month                                                   \n",
       "100010                   363.0              73.0         14717.0\n",
       "100011                   344.0              58.0         14769.0\n",
       "100012                   341.0              70.0          9829.0\n",
       "10005                    164.0              22.0          2257.0\n",
       "10006                    187.0              60.0         23262.0"
      ]
     },
     "execution_count": 51,
     "metadata": {},
     "output_type": "execute_result"
    }
   ],
   "source": [
    "summary_of_users_short=summary_of_users\n",
    "del summary_of_users_short['count_of_duration']\n",
    "del summary_of_users_short['count_of_sessions']\n",
    "summary_of_users_short.head()"
   ]
  },
  {
   "cell_type": "markdown",
   "metadata": {},
   "source": [
    "#### 2.5.4 Подсчитаем помесячную выручку с каждого пользователя\n",
    "Чтобы расчитать помесячную выручку с каждого пользователя (вычтите бесплатный лимит из суммарного количества звонков, сообщений и интернет-трафика; остаток умножьте на значение из тарифного плана; прибавьте абонентскую плату, соответствующую тарифному плану)"
   ]
  },
  {
   "cell_type": "code",
   "execution_count": 52,
   "metadata": {},
   "outputs": [],
   "source": [
    "# добавим в таблиц summary_of_users_short столбцы over_call, over_mb, over_sms\n",
    "summary_of_users_short['over_call']=0\n",
    "summary_of_users_short['over_mb']=0\n",
    "summary_of_users_short['over_sms']=0\n",
    "summary_of_users_short['revenue']=0\n",
    "summary_of_users_short['tariff']=''\n",
    "summary_of_users_short['user_id']=0"
   ]
  },
  {
   "cell_type": "code",
   "execution_count": 53,
   "metadata": {},
   "outputs": [
    {
     "data": {
      "text/html": [
       "<div>\n",
       "<style scoped>\n",
       "    .dataframe tbody tr th:only-of-type {\n",
       "        vertical-align: middle;\n",
       "    }\n",
       "\n",
       "    .dataframe tbody tr th {\n",
       "        vertical-align: top;\n",
       "    }\n",
       "\n",
       "    .dataframe thead th {\n",
       "        text-align: right;\n",
       "    }\n",
       "</style>\n",
       "<table border=\"1\" class=\"dataframe\">\n",
       "  <thead>\n",
       "    <tr style=\"text-align: right;\">\n",
       "      <th></th>\n",
       "      <th>sum_of_duration</th>\n",
       "      <th>count_of_message</th>\n",
       "      <th>sum_of_mb_used</th>\n",
       "      <th>over_call</th>\n",
       "      <th>over_mb</th>\n",
       "      <th>over_sms</th>\n",
       "      <th>revenue</th>\n",
       "      <th>tariff</th>\n",
       "      <th>user_id</th>\n",
       "    </tr>\n",
       "    <tr>\n",
       "      <th>user_id_month</th>\n",
       "      <th></th>\n",
       "      <th></th>\n",
       "      <th></th>\n",
       "      <th></th>\n",
       "      <th></th>\n",
       "      <th></th>\n",
       "      <th></th>\n",
       "      <th></th>\n",
       "      <th></th>\n",
       "    </tr>\n",
       "  </thead>\n",
       "  <tbody>\n",
       "    <tr>\n",
       "      <td>100010</td>\n",
       "      <td>363.0</td>\n",
       "      <td>73.0</td>\n",
       "      <td>14717.0</td>\n",
       "      <td>0</td>\n",
       "      <td>0</td>\n",
       "      <td>0</td>\n",
       "      <td>0</td>\n",
       "      <td></td>\n",
       "      <td>0</td>\n",
       "    </tr>\n",
       "    <tr>\n",
       "      <td>100011</td>\n",
       "      <td>344.0</td>\n",
       "      <td>58.0</td>\n",
       "      <td>14769.0</td>\n",
       "      <td>0</td>\n",
       "      <td>0</td>\n",
       "      <td>0</td>\n",
       "      <td>0</td>\n",
       "      <td></td>\n",
       "      <td>0</td>\n",
       "    </tr>\n",
       "    <tr>\n",
       "      <td>100012</td>\n",
       "      <td>341.0</td>\n",
       "      <td>70.0</td>\n",
       "      <td>9829.0</td>\n",
       "      <td>0</td>\n",
       "      <td>0</td>\n",
       "      <td>0</td>\n",
       "      <td>0</td>\n",
       "      <td></td>\n",
       "      <td>0</td>\n",
       "    </tr>\n",
       "    <tr>\n",
       "      <td>10005</td>\n",
       "      <td>164.0</td>\n",
       "      <td>22.0</td>\n",
       "      <td>2257.0</td>\n",
       "      <td>0</td>\n",
       "      <td>0</td>\n",
       "      <td>0</td>\n",
       "      <td>0</td>\n",
       "      <td></td>\n",
       "      <td>0</td>\n",
       "    </tr>\n",
       "    <tr>\n",
       "      <td>10006</td>\n",
       "      <td>187.0</td>\n",
       "      <td>60.0</td>\n",
       "      <td>23262.0</td>\n",
       "      <td>0</td>\n",
       "      <td>0</td>\n",
       "      <td>0</td>\n",
       "      <td>0</td>\n",
       "      <td></td>\n",
       "      <td>0</td>\n",
       "    </tr>\n",
       "  </tbody>\n",
       "</table>\n",
       "</div>"
      ],
      "text/plain": [
       "               sum_of_duration  count_of_message  sum_of_mb_used  over_call  \\\n",
       "user_id_month                                                                 \n",
       "100010                   363.0              73.0         14717.0          0   \n",
       "100011                   344.0              58.0         14769.0          0   \n",
       "100012                   341.0              70.0          9829.0          0   \n",
       "10005                    164.0              22.0          2257.0          0   \n",
       "10006                    187.0              60.0         23262.0          0   \n",
       "\n",
       "               over_mb  over_sms  revenue tariff  user_id  \n",
       "user_id_month                                              \n",
       "100010               0         0        0               0  \n",
       "100011               0         0        0               0  \n",
       "100012               0         0        0               0  \n",
       "10005                0         0        0               0  \n",
       "10006                0         0        0               0  "
      ]
     },
     "execution_count": 53,
     "metadata": {},
     "output_type": "execute_result"
    }
   ],
   "source": [
    "# проверим добавление столбцов.\n",
    "summary_of_users_short.head()"
   ]
  },
  {
   "cell_type": "code",
   "execution_count": 54,
   "metadata": {},
   "outputs": [],
   "source": [
    "# перенесем индексы с user_id_month в столбец 'user_id_month'\n",
    "summary_of_users_short['user_id_month']=summary_of_users_short.index.tolist()"
   ]
  },
  {
   "cell_type": "code",
   "execution_count": 55,
   "metadata": {},
   "outputs": [
    {
     "data": {
      "text/html": [
       "<div>\n",
       "<style scoped>\n",
       "    .dataframe tbody tr th:only-of-type {\n",
       "        vertical-align: middle;\n",
       "    }\n",
       "\n",
       "    .dataframe tbody tr th {\n",
       "        vertical-align: top;\n",
       "    }\n",
       "\n",
       "    .dataframe thead th {\n",
       "        text-align: right;\n",
       "    }\n",
       "</style>\n",
       "<table border=\"1\" class=\"dataframe\">\n",
       "  <thead>\n",
       "    <tr style=\"text-align: right;\">\n",
       "      <th></th>\n",
       "      <th>messages_included</th>\n",
       "      <th>mg_per_month_included</th>\n",
       "      <th>minutes_included</th>\n",
       "      <th>rub_monthly_fee</th>\n",
       "      <th>rub_per_gb</th>\n",
       "      <th>rub_per_message</th>\n",
       "      <th>rub_per_minute</th>\n",
       "      <th>tariff_name</th>\n",
       "    </tr>\n",
       "  </thead>\n",
       "  <tbody>\n",
       "    <tr>\n",
       "      <td>0</td>\n",
       "      <td>50</td>\n",
       "      <td>15360</td>\n",
       "      <td>500</td>\n",
       "      <td>550</td>\n",
       "      <td>200</td>\n",
       "      <td>3</td>\n",
       "      <td>3</td>\n",
       "      <td>smart</td>\n",
       "    </tr>\n",
       "    <tr>\n",
       "      <td>1</td>\n",
       "      <td>1000</td>\n",
       "      <td>30720</td>\n",
       "      <td>3000</td>\n",
       "      <td>1950</td>\n",
       "      <td>150</td>\n",
       "      <td>1</td>\n",
       "      <td>1</td>\n",
       "      <td>ultra</td>\n",
       "    </tr>\n",
       "  </tbody>\n",
       "</table>\n",
       "</div>"
      ],
      "text/plain": [
       "   messages_included  mg_per_month_included  minutes_included  \\\n",
       "0                 50                  15360               500   \n",
       "1               1000                  30720              3000   \n",
       "\n",
       "   rub_monthly_fee  rub_per_gb  rub_per_message  rub_per_minute tariff_name  \n",
       "0              550         200                3               3       smart  \n",
       "1             1950         150                1               1       ultra  "
      ]
     },
     "execution_count": 55,
     "metadata": {},
     "output_type": "execute_result"
    }
   ],
   "source": [
    "# для удобства выведем таблицу tariffs\n",
    "tariffs"
   ]
  },
  {
   "cell_type": "markdown",
   "metadata": {},
   "source": [
    "Запустим построчный цикл для расчета выручки по каждому из клиентов."
   ]
  },
  {
   "cell_type": "code",
   "execution_count": 56,
   "metadata": {},
   "outputs": [
    {
     "name": "stderr",
     "output_type": "stream",
     "text": [
      "/opt/conda/lib/python3.7/site-packages/ipykernel_launcher.py:5: SettingWithCopyWarning: \n",
      "A value is trying to be set on a copy of a slice from a DataFrame\n",
      "\n",
      "See the caveats in the documentation: http://pandas.pydata.org/pandas-docs/stable/user_guide/indexing.html#returning-a-view-versus-a-copy\n",
      "  \"\"\"\n",
      "/opt/conda/lib/python3.7/site-packages/ipykernel_launcher.py:31: SettingWithCopyWarning: \n",
      "A value is trying to be set on a copy of a slice from a DataFrame\n",
      "\n",
      "See the caveats in the documentation: http://pandas.pydata.org/pandas-docs/stable/user_guide/indexing.html#returning-a-view-versus-a-copy\n",
      "/opt/conda/lib/python3.7/site-packages/ipykernel_launcher.py:32: SettingWithCopyWarning: \n",
      "A value is trying to be set on a copy of a slice from a DataFrame\n",
      "\n",
      "See the caveats in the documentation: http://pandas.pydata.org/pandas-docs/stable/user_guide/indexing.html#returning-a-view-versus-a-copy\n",
      "/opt/conda/lib/python3.7/site-packages/ipykernel_launcher.py:34: SettingWithCopyWarning: \n",
      "A value is trying to be set on a copy of a slice from a DataFrame\n",
      "\n",
      "See the caveats in the documentation: http://pandas.pydata.org/pandas-docs/stable/user_guide/indexing.html#returning-a-view-versus-a-copy\n",
      "/opt/conda/lib/python3.7/site-packages/ipykernel_launcher.py:35: SettingWithCopyWarning: \n",
      "A value is trying to be set on a copy of a slice from a DataFrame\n",
      "\n",
      "See the caveats in the documentation: http://pandas.pydata.org/pandas-docs/stable/user_guide/indexing.html#returning-a-view-versus-a-copy\n",
      "/opt/conda/lib/python3.7/site-packages/ipykernel_launcher.py:37: SettingWithCopyWarning: \n",
      "A value is trying to be set on a copy of a slice from a DataFrame\n",
      "\n",
      "See the caveats in the documentation: http://pandas.pydata.org/pandas-docs/stable/user_guide/indexing.html#returning-a-view-versus-a-copy\n",
      "/opt/conda/lib/python3.7/site-packages/ipykernel_launcher.py:38: SettingWithCopyWarning: \n",
      "A value is trying to be set on a copy of a slice from a DataFrame\n",
      "\n",
      "See the caveats in the documentation: http://pandas.pydata.org/pandas-docs/stable/user_guide/indexing.html#returning-a-view-versus-a-copy\n",
      "/opt/conda/lib/python3.7/site-packages/ipykernel_launcher.py:40: SettingWithCopyWarning: \n",
      "A value is trying to be set on a copy of a slice from a DataFrame\n",
      "\n",
      "See the caveats in the documentation: http://pandas.pydata.org/pandas-docs/stable/user_guide/indexing.html#returning-a-view-versus-a-copy\n",
      "/opt/conda/lib/python3.7/site-packages/ipykernel_launcher.py:43: SettingWithCopyWarning: \n",
      "A value is trying to be set on a copy of a slice from a DataFrame\n",
      "\n",
      "See the caveats in the documentation: http://pandas.pydata.org/pandas-docs/stable/user_guide/indexing.html#returning-a-view-versus-a-copy\n",
      "/opt/conda/lib/python3.7/site-packages/ipykernel_launcher.py:8: SettingWithCopyWarning: \n",
      "A value is trying to be set on a copy of a slice from a DataFrame\n",
      "\n",
      "See the caveats in the documentation: http://pandas.pydata.org/pandas-docs/stable/user_guide/indexing.html#returning-a-view-versus-a-copy\n",
      "  \n",
      "/opt/conda/lib/python3.7/site-packages/ipykernel_launcher.py:10: SettingWithCopyWarning: \n",
      "A value is trying to be set on a copy of a slice from a DataFrame\n",
      "\n",
      "See the caveats in the documentation: http://pandas.pydata.org/pandas-docs/stable/user_guide/indexing.html#returning-a-view-versus-a-copy\n",
      "  # Remove the CWD from sys.path while we load stuff.\n",
      "/opt/conda/lib/python3.7/site-packages/ipykernel_launcher.py:13: SettingWithCopyWarning: \n",
      "A value is trying to be set on a copy of a slice from a DataFrame\n",
      "\n",
      "See the caveats in the documentation: http://pandas.pydata.org/pandas-docs/stable/user_guide/indexing.html#returning-a-view-versus-a-copy\n",
      "  del sys.path[0]\n",
      "/opt/conda/lib/python3.7/site-packages/ipykernel_launcher.py:15: SettingWithCopyWarning: \n",
      "A value is trying to be set on a copy of a slice from a DataFrame\n",
      "\n",
      "See the caveats in the documentation: http://pandas.pydata.org/pandas-docs/stable/user_guide/indexing.html#returning-a-view-versus-a-copy\n",
      "  from ipykernel import kernelapp as app\n",
      "/opt/conda/lib/python3.7/site-packages/ipykernel_launcher.py:20: SettingWithCopyWarning: \n",
      "A value is trying to be set on a copy of a slice from a DataFrame\n",
      "\n",
      "See the caveats in the documentation: http://pandas.pydata.org/pandas-docs/stable/user_guide/indexing.html#returning-a-view-versus-a-copy\n",
      "/opt/conda/lib/python3.7/site-packages/ipykernel_launcher.py:23: SettingWithCopyWarning: \n",
      "A value is trying to be set on a copy of a slice from a DataFrame\n",
      "\n",
      "See the caveats in the documentation: http://pandas.pydata.org/pandas-docs/stable/user_guide/indexing.html#returning-a-view-versus-a-copy\n",
      "/opt/conda/lib/python3.7/site-packages/ipykernel_launcher.py:27: SettingWithCopyWarning: \n",
      "A value is trying to be set on a copy of a slice from a DataFrame\n",
      "\n",
      "See the caveats in the documentation: http://pandas.pydata.org/pandas-docs/stable/user_guide/indexing.html#returning-a-view-versus-a-copy\n",
      "/opt/conda/lib/python3.7/site-packages/ipykernel_launcher.py:18: SettingWithCopyWarning: \n",
      "A value is trying to be set on a copy of a slice from a DataFrame\n",
      "\n",
      "See the caveats in the documentation: http://pandas.pydata.org/pandas-docs/stable/user_guide/indexing.html#returning-a-view-versus-a-copy\n"
     ]
    }
   ],
   "source": [
    "for i in range(len(summary_of_users_short)):\n",
    "    # в переменной key храним извлеченый user_id из сцепки с месяцем\n",
    "    key=int(summary_of_users_short['user_id_month'][i][:4])\n",
    "    # записваем в столбец 'user_id'\n",
    "    summary_of_users_short['user_id'][i]=key\n",
    "    if 'smart' in list(users.query('user_id==@key')['tariff']):\n",
    "        # обращаемся в таблицу tariffs по названию тарифа, зная что индекс у тарифа СМАРТ - 0\n",
    "        summary_of_users_short['tariff'][i]=tariffs['tariff_name'][0]\n",
    "        # записываем разницу в звонках с количеством минут в пакете в столбец 'over_call'\n",
    "        summary_of_users_short['over_call'][i]=summary_of_users_short['sum_of_duration'][i]-tariffs['minutes_included'][0]\n",
    "        # добавляем условие, если не было превышение пакета, то записываем 0 в столбец over_call\n",
    "        if summary_of_users_short['over_call'][i]<0:\n",
    "            summary_of_users_short['over_call'][i]=0\n",
    "        # записываем разницу в расходе трафика с пакетным трафиком в столбец 'over_mb'\n",
    "        summary_of_users_short['over_mb'][i]=summary_of_users_short['sum_of_mb_used'][i]-tariffs['mg_per_month_included'][0]\n",
    "         # добавляем условие, если не было превышение пакета, то записываем 0 в столбец 'over_mb'\n",
    "        if summary_of_users_short['over_mb'][i]<0:\n",
    "            summary_of_users_short['over_mb'][i]=0\n",
    "        # записываем разницу в кол-ве смс с пакетом смс в столбец 'over_sms'\n",
    "        summary_of_users_short['over_sms'][i]=summary_of_users_short['count_of_message'][i]-tariffs['messages_included'][0]\n",
    "         # добавляем условие, если не было превышение пакета, то записываем 0 в столбец 'over_sms'\n",
    "        if summary_of_users_short['over_sms'][i]<0:\n",
    "            summary_of_users_short['over_sms'][i]=0\n",
    "        # считаем выручку базовая стоимостьпакета + перемноженный перерасход в соответствии с тарифом\n",
    "        summary_of_users_short['revenue'][i]=tariffs['rub_monthly_fee'][0]+(\n",
    "            math.ceil(summary_of_users_short['over_mb'][i]/1000)*tariffs['rub_per_gb'][0]+\n",
    "            summary_of_users_short['over_sms'][i]*tariffs['rub_per_message'][0]\n",
    "        )\n",
    "    else:\n",
    "        # те же самые действия для пакета ultra, только для подтягивания значений из tariffs строка с индексом 1 \n",
    "        summary_of_users_short['tariff'][i]=tariffs['tariff_name'][1]\n",
    "        summary_of_users_short['over_call'][i]=summary_of_users_short['sum_of_duration'][i]-tariffs['minutes_included'][1]\n",
    "        if summary_of_users_short['over_call'][i]<0:\n",
    "            summary_of_users_short['over_call'][i]=0\n",
    "        summary_of_users_short['over_mb'][i]=summary_of_users_short['sum_of_mb_used'][i]-tariffs['mg_per_month_included'][1]\n",
    "        if summary_of_users_short['over_mb'][i]<0:\n",
    "            summary_of_users_short['over_mb'][i]=0\n",
    "        summary_of_users_short['over_sms'][i]=summary_of_users_short['count_of_message'][i]-tariffs['messages_included'][1]\n",
    "        if summary_of_users_short['over_sms'][i]<0:\n",
    "            summary_of_users_short['over_sms'][i]=0\n",
    "        summary_of_users_short['revenue'][i]=tariffs['rub_monthly_fee'][1]+(\n",
    "            math.ceil(summary_of_users_short['over_mb'][i]/1000)*tariffs['rub_per_gb'][1]+\n",
    "            summary_of_users_short['over_sms'][i]*tariffs['rub_per_message'][1]\n",
    "        )"
   ]
  },
  {
   "cell_type": "code",
   "execution_count": 57,
   "metadata": {},
   "outputs": [
    {
     "data": {
      "text/html": [
       "<div>\n",
       "<style scoped>\n",
       "    .dataframe tbody tr th:only-of-type {\n",
       "        vertical-align: middle;\n",
       "    }\n",
       "\n",
       "    .dataframe tbody tr th {\n",
       "        vertical-align: top;\n",
       "    }\n",
       "\n",
       "    .dataframe thead th {\n",
       "        text-align: right;\n",
       "    }\n",
       "</style>\n",
       "<table border=\"1\" class=\"dataframe\">\n",
       "  <thead>\n",
       "    <tr style=\"text-align: right;\">\n",
       "      <th></th>\n",
       "      <th>sum_of_duration</th>\n",
       "      <th>count_of_message</th>\n",
       "      <th>sum_of_mb_used</th>\n",
       "      <th>over_call</th>\n",
       "      <th>over_mb</th>\n",
       "      <th>over_sms</th>\n",
       "      <th>revenue</th>\n",
       "      <th>tariff</th>\n",
       "      <th>user_id</th>\n",
       "      <th>user_id_month</th>\n",
       "    </tr>\n",
       "    <tr>\n",
       "      <th>user_id_month</th>\n",
       "      <th></th>\n",
       "      <th></th>\n",
       "      <th></th>\n",
       "      <th></th>\n",
       "      <th></th>\n",
       "      <th></th>\n",
       "      <th></th>\n",
       "      <th></th>\n",
       "      <th></th>\n",
       "      <th></th>\n",
       "    </tr>\n",
       "  </thead>\n",
       "  <tbody>\n",
       "    <tr>\n",
       "      <td>148911</td>\n",
       "      <td>0.0</td>\n",
       "      <td>20.0</td>\n",
       "      <td>17526.0</td>\n",
       "      <td>0</td>\n",
       "      <td>2166</td>\n",
       "      <td>0</td>\n",
       "      <td>1150</td>\n",
       "      <td>smart</td>\n",
       "      <td>1489</td>\n",
       "      <td>148911</td>\n",
       "    </tr>\n",
       "    <tr>\n",
       "      <td>148912</td>\n",
       "      <td>0.0</td>\n",
       "      <td>35.0</td>\n",
       "      <td>17349.0</td>\n",
       "      <td>0</td>\n",
       "      <td>1989</td>\n",
       "      <td>0</td>\n",
       "      <td>950</td>\n",
       "      <td>smart</td>\n",
       "      <td>1489</td>\n",
       "      <td>148912</td>\n",
       "    </tr>\n",
       "    <tr>\n",
       "      <td>14898</td>\n",
       "      <td>0.0</td>\n",
       "      <td>17.0</td>\n",
       "      <td>11072.0</td>\n",
       "      <td>0</td>\n",
       "      <td>0</td>\n",
       "      <td>0</td>\n",
       "      <td>550</td>\n",
       "      <td>smart</td>\n",
       "      <td>1489</td>\n",
       "      <td>14898</td>\n",
       "    </tr>\n",
       "    <tr>\n",
       "      <td>14899</td>\n",
       "      <td>0.0</td>\n",
       "      <td>32.0</td>\n",
       "      <td>17246.0</td>\n",
       "      <td>0</td>\n",
       "      <td>1886</td>\n",
       "      <td>0</td>\n",
       "      <td>950</td>\n",
       "      <td>smart</td>\n",
       "      <td>1489</td>\n",
       "      <td>14899</td>\n",
       "    </tr>\n",
       "    <tr>\n",
       "      <td>14764</td>\n",
       "      <td>0.0</td>\n",
       "      <td>0.0</td>\n",
       "      <td>531.0</td>\n",
       "      <td>0</td>\n",
       "      <td>0</td>\n",
       "      <td>0</td>\n",
       "      <td>1950</td>\n",
       "      <td>ultra</td>\n",
       "      <td>1476</td>\n",
       "      <td>14764</td>\n",
       "    </tr>\n",
       "  </tbody>\n",
       "</table>\n",
       "</div>"
      ],
      "text/plain": [
       "               sum_of_duration  count_of_message  sum_of_mb_used  over_call  \\\n",
       "user_id_month                                                                 \n",
       "148911                     0.0              20.0         17526.0          0   \n",
       "148912                     0.0              35.0         17349.0          0   \n",
       "14898                      0.0              17.0         11072.0          0   \n",
       "14899                      0.0              32.0         17246.0          0   \n",
       "14764                      0.0               0.0           531.0          0   \n",
       "\n",
       "               over_mb  over_sms  revenue tariff  user_id user_id_month  \n",
       "user_id_month                                                            \n",
       "148911            2166         0     1150  smart     1489        148911  \n",
       "148912            1989         0      950  smart     1489        148912  \n",
       "14898                0         0      550  smart     1489         14898  \n",
       "14899             1886         0      950  smart     1489         14899  \n",
       "14764                0         0     1950  ultra     1476         14764  "
      ]
     },
     "execution_count": 57,
     "metadata": {},
     "output_type": "execute_result"
    }
   ],
   "source": [
    "# проверим заполнение\n",
    "summary_of_users_short.tail()"
   ]
  },
  {
   "cell_type": "markdown",
   "metadata": {},
   "source": [
    "Сделаем функцию info_of_client для вывода информации по расходу и выручки длякаждого клиента."
   ]
  },
  {
   "cell_type": "code",
   "execution_count": 58,
   "metadata": {},
   "outputs": [],
   "source": [
    "dict_of_month={1:'январе',2:'феврале',3:'марте',4:'апреле',5:'мае',6:'июне',7:'июле',8:'августе',9:'сентябре',10:'октябре',11:'ноябре',12:'декабре'}\n",
    "# функция получения данных о клиенте за месяц\n",
    "def info_of_client(id_client,month):\n",
    "    klient=str(id_client)\n",
    "    index=users.query('user_id == @klient')['user_id'].index.tolist()\n",
    "    print('Клиент:', users.loc[index[0],'last_name'], users.loc[index[0],'first_name'],'Тариф:', users.loc[index[0],'tariff'])\n",
    "    query=str(id_client)+str(month)\n",
    "    print('Потратил в',dict_of_month[month],'месяце:',summary_of_users_short.loc[query,'revenue'],'рублей','\\n')\n",
    "    print('Количество израсходованных минут:',summary_of_users_short.loc[query,'sum_of_duration'])\n",
    "    if summary_of_users_short.loc[query,'over_call']>0:\n",
    "        print('Количество израсходованных минут сверх пакета:',summary_of_users_short.loc[query,'over_call'],'\\n')\n",
    "    print('Количество отправленных СМС:',summary_of_users_short.loc[query,'count_of_message'])\n",
    "    if summary_of_users_short.loc[query,'over_sms']>0:\n",
    "        print('Количество отправленных СМС сверх пакета:',summary_of_users_short.loc[query,'over_sms'],'\\n')\n",
    "    print('Количество израсходованного трафика:',summary_of_users_short.loc[query,'sum_of_mb_used'],'Мб') \n",
    "    if summary_of_users_short.loc[query,'over_mb']>0:\n",
    "        print('Количество израсходованного трафика сверх пакета:',summary_of_users_short.loc[query,'over_mb'],'Мб')"
   ]
  },
  {
   "cell_type": "markdown",
   "metadata": {},
   "source": [
    "Выведем пару примеров работы функции."
   ]
  },
  {
   "cell_type": "code",
   "execution_count": 59,
   "metadata": {},
   "outputs": [
    {
     "name": "stdout",
     "output_type": "stream",
     "text": [
      "Клиент: АГЕЕВА КАРОЛИНА Тариф: smart\n",
      "Потратил в ноябре месяце: 550 рублей \n",
      "\n",
      "Количество израсходованных минут: 387.0\n",
      "Количество отправленных СМС: 14.0\n",
      "Количество израсходованного трафика: 14180.0 Мб\n"
     ]
    }
   ],
   "source": [
    "info_of_client(1497,11)"
   ]
  },
  {
   "cell_type": "code",
   "execution_count": 60,
   "metadata": {},
   "outputs": [
    {
     "name": "stdout",
     "output_type": "stream",
     "text": [
      "Клиент: БЛОХИН ТРИФОН Тариф: smart\n",
      "Потратил в декабре месяце: 1753 рублей \n",
      "\n",
      "Количество израсходованных минут: 533.0\n",
      "Количество израсходованных минут сверх пакета: 33 \n",
      "\n",
      "Количество отправленных СМС: 51.0\n",
      "Количество отправленных СМС сверх пакета: 1 \n",
      "\n",
      "Количество израсходованного трафика: 20770.0 Мб\n",
      "Количество израсходованного трафика сверх пакета: 5410 Мб\n"
     ]
    }
   ],
   "source": [
    "info_of_client(1496,12)"
   ]
  },
  {
   "cell_type": "markdown",
   "metadata": {},
   "source": [
    "## Вывод:"
   ]
  },
  {
   "cell_type": "markdown",
   "metadata": {},
   "source": [
    "#### Мы сделали функционал, который позволяет получить информацию по любому клиенту в разрезе месяца. Можно автоматизировать данный функционал для рассылки персональных предложений по смс, для клиентов которые тратят сверх пакета."
   ]
  },
  {
   "cell_type": "markdown",
   "metadata": {},
   "source": [
    "### Шаг 3. Проанализируйте данные\n",
    "Опишите поведение клиентов оператора, исходя из выборки. Сколько минут разговора, сколько сообщений и какой объём интернет-трафика требуется пользователям каждого тарифа в месяц? Посчитайте среднее количество, дисперсию и стандартное отклонение. Постройте гистограммы. Опишите распределения."
   ]
  },
  {
   "cell_type": "markdown",
   "metadata": {},
   "source": [
    "### 3.1 Статистика величин по каждому из тарифов.\n",
    "Исследуем по каждому из тарифов средние значения, дисперсию и стандартное отклонение минут разговора, сколько сообщений и какой объём интернет-трафика израсходован. \n",
    "Сформируем функцию print_parametrs, в которой используем метод describe() для получения необходимых данных."
   ]
  },
  {
   "cell_type": "code",
   "execution_count": 61,
   "metadata": {},
   "outputs": [],
   "source": [
    "def print_parametrs(tariff_name):\n",
    "    var=tariff_name\n",
    "    table=summary_of_users_short.query('tariff==@var')[['sum_of_duration','count_of_message','sum_of_mb_used','revenue']].describe()\n",
    "    print('Статистика по тарифу:',var)\n",
    "    print('Клиенты в среднем тратят: минут -',math.ceil(table['sum_of_duration']['mean']),'смс -',math.ceil(table['count_of_message']['mean']),'трафика-',math.ceil(table['sum_of_mb_used']['mean']),'Mb')\n",
    "    print('Стандартное отклонение составляет: в минутах -',math.ceil(table['sum_of_duration']['std']),'смс -',math.ceil(table['count_of_message']['std']),'трафика-',math.ceil(table['sum_of_mb_used']['std']),'Mb')\n",
    "    print('Дисперсия составляет: по минутам -',math.ceil(table['sum_of_duration']['std']**2),'смс -',math.ceil(table['count_of_message']['std']**2),'трафика-',math.ceil(table['sum_of_mb_used']['std']**2),'Mb')\n",
    "    print('Средняя выручка:',math.ceil(table['revenue']['mean']), 'руб. медианное значение выручки:',math.ceil(table['revenue']['50%']),'руб.')"
   ]
  },
  {
   "cell_type": "code",
   "execution_count": 62,
   "metadata": {},
   "outputs": [
    {
     "name": "stdout",
     "output_type": "stream",
     "text": [
      "Статистика по тарифу: ultra\n",
      "Клиенты в среднем тратят: минут - 541 смс - 50 трафика- 19489 Mb\n",
      "Стандартное отклонение составляет: в минутах - 326 смс - 48 трафика- 10098 Mb\n",
      "Дисперсия составляет: по минутам - 106106 смс - 2286 трафика- 101951581 Mb\n",
      "Средняя выручка: 2074 руб. медианное значение выручки: 1950 руб.\n"
     ]
    }
   ],
   "source": [
    "# вызовем функцию по тарифу ultra \n",
    "print_parametrs(\"ultra\")"
   ]
  },
  {
   "cell_type": "code",
   "execution_count": 63,
   "metadata": {},
   "outputs": [
    {
     "name": "stdout",
     "output_type": "stream",
     "text": [
      "Статистика по тарифу: smart\n",
      "Клиенты в среднем тратят: минут - 430 смс - 34 трафика- 16238 Mb\n",
      "Стандартное отклонение составляет: в минутах - 195 смс - 29 трафика- 5880 Mb\n",
      "Дисперсия составляет: по минутам - 37975 смс - 797 трафика- 34571992 Mb\n",
      "Средняя выручка: 1182 руб. медианное значение выручки: 950 руб.\n"
     ]
    }
   ],
   "source": [
    "# вызовем функцию по тарифу smart \n",
    "print_parametrs(\"smart\")"
   ]
  },
  {
   "cell_type": "markdown",
   "metadata": {},
   "source": [
    "##### Средняя выручка по тарифу СМАРТ: 1182 руб. медианное значение выручки: 950 руб, это в два раза больше, чем стоит сам пакет!!"
   ]
  },
  {
   "cell_type": "markdown",
   "metadata": {},
   "source": [
    "### 3.2 Статистика величин по каждому из клиентов.\n",
    "Сделаем функцию print_parametrs_for_user."
   ]
  },
  {
   "cell_type": "code",
   "execution_count": 64,
   "metadata": {},
   "outputs": [],
   "source": [
    "def print_parametrs_for_user(client):\n",
    "    var=client\n",
    "    table=summary_of_users_short.query('user_id==@var')[['sum_of_duration','count_of_message','sum_of_mb_used','revenue']].describe()\n",
    "    index=users.query('user_id == @var')['user_id'].index.tolist()\n",
    "    print('Клиент:', users.loc[index[0],'last_name'], users.loc[index[0],'first_name'],'User_ID:',var,'Тариф:', users.loc[index[0],'tariff'])\n",
    "    print('Клиент в среднем тратит: минут -',math.ceil(table['sum_of_duration']['mean']),'смс -',math.ceil(table['count_of_message']['mean']),'трафика-',math.ceil(table['sum_of_mb_used']['mean']),'Mb')\n",
    "    print('Стандартное отклонение составляет: в минутах -',math.ceil(table['sum_of_duration']['std']),'смс -',math.ceil(table['count_of_message']['std']),'трафика-',math.ceil(table['sum_of_mb_used']['std']),'Mb')\n",
    "    print('Дисперсия составляет: по минутам -',math.ceil(table['sum_of_duration']['std']**2),'смс -',math.ceil(table['count_of_message']['std']**2),'трафика-',math.ceil(table['sum_of_mb_used']['std']**2),'Mb')\n",
    "    print('Средняя выручка:',math.ceil(table['revenue']['mean']), 'руб.' )"
   ]
  },
  {
   "cell_type": "code",
   "execution_count": 65,
   "metadata": {},
   "outputs": [
    {
     "name": "stdout",
     "output_type": "stream",
     "text": [
      "Клиент: АРТЕМОВ РЕНАТ User_ID: 1400 Тариф: smart\n",
      "Клиент в среднем тратит: минут - 492 смс - 48 трафика- 20141 Mb\n",
      "Стандартное отклонение составляет: в минутах - 177 смс - 23 трафика- 7644 Mb\n",
      "Дисперсия составляет: по минутам - 31195 смс - 495 трафика- 58425899 Mb\n",
      "Средняя выручка: 1929 руб.\n"
     ]
    }
   ],
   "source": [
    "print_parametrs_for_user(1400)"
   ]
  },
  {
   "cell_type": "markdown",
   "metadata": {},
   "source": [
    "### 3.3 Построим гистограммы по каждому из параметров пакета «Ультра» и «Смарт»."
   ]
  },
  {
   "cell_type": "markdown",
   "metadata": {},
   "source": [
    "### 3.3.1 Построим гистограмму по объему потраченных минут в соответствии с тарифом."
   ]
  },
  {
   "cell_type": "code",
   "execution_count": 66,
   "metadata": {},
   "outputs": [
    {
     "data": {
      "text/plain": [
       "<matplotlib.axes._subplots.AxesSubplot at 0x7fae61425da0>"
      ]
     },
     "execution_count": 66,
     "metadata": {},
     "output_type": "execute_result"
    },
    {
     "data": {
      "image/png": "[encoded data removed]",
      "text/plain": [
       "<Figure size 720x360 with 1 Axes>"
      ]
     },
     "metadata": {
      "needs_background": "light"
     },
     "output_type": "display_data"
    }
   ],
   "source": [
    "summary_of_users_short.query('tariff==\"smart\"')['sum_of_duration'].plot(bins=20,kind='hist',histtype='step',linewidth=4,figsize=(10,5),legend=True)\n",
    "summary_of_users_short.query('tariff==\"ultra\"')['sum_of_duration'].plot(bins=20,kind='hist',histtype='step',linewidth=4,figsize=(10,5),grid=True,legend=True)"
   ]
  },
  {
   "cell_type": "markdown",
   "metadata": {},
   "source": [
    "* 1.Наглядно, что половине клиентов по тарифу Смарт не хватает пакета минут.Пока на этом оператор неплохо зарабатывает.\n",
    "* 2.В пакете Ультра нет ни одного клиента, который бы \"выговорил\" весь пакет. Основной массе клиентов хватило бы пакета в 1300 минут."
   ]
  },
  {
   "cell_type": "markdown",
   "metadata": {},
   "source": [
    "Отобразим сказанное для клиентов тарифа СМАРТ в цифрах."
   ]
  },
  {
   "cell_type": "code",
   "execution_count": 67,
   "metadata": {},
   "outputs": [
    {
     "name": "stdout",
     "output_type": "stream",
     "text": [
      "36.4 % клиентов тарифа СМАРТ не хватает пакета минут\n"
     ]
    }
   ],
   "source": [
    "print(((summary_of_users_short.query('tariff==\"smart\" & over_call>0')['user_id_month'].count()/summary_of_users_short.query('tariff==\"smart\"')['user_id_month'].count())*100).round(1),\"% клиентов тарифа СМАРТ не хватает пакета минут\")"
   ]
  },
  {
   "cell_type": "markdown",
   "metadata": {},
   "source": [
    "### 3.3.2 Построим гистограмму по объему трафика в соответствии с тарифом."
   ]
  },
  {
   "cell_type": "code",
   "execution_count": 68,
   "metadata": {},
   "outputs": [
    {
     "data": {
      "text/plain": [
       "<matplotlib.axes._subplots.AxesSubplot at 0x7fae6757c8d0>"
      ]
     },
     "execution_count": 68,
     "metadata": {},
     "output_type": "execute_result"
    },
    {
     "data": {
      "image/png": "[encoded data removed]",
      "text/plain": [
       "<Figure size 720x360 with 1 Axes>"
      ]
     },
     "metadata": {
      "needs_background": "light"
     },
     "output_type": "display_data"
    }
   ],
   "source": [
    "summary_of_users_short.query('tariff==\"smart\"')['sum_of_mb_used'].plot(bins=10,kind='hist',histtype='step',linewidth=4,figsize=(10,5),legend=True)\n",
    "summary_of_users_short.query('tariff==\"ultra\"')['sum_of_mb_used'].plot(bins=10,kind='hist',histtype='step',linewidth=4,figsize=(10,5),grid=True,legend=True)"
   ]
  },
  {
   "cell_type": "markdown",
   "metadata": {},
   "source": [
    "* 1.Наглядно, что почти половине клиентов по тарифу Смарт не хватает пакета интернета. Часть клиентов может превысить пакетный  расход трафика вдвое.\n",
    "* 2.Примерно треть клиентов тарифа Ультра нуждаются в дополнительных гигабайтах"
   ]
  },
  {
   "cell_type": "markdown",
   "metadata": {},
   "source": [
    "Теперь в цифрах."
   ]
  },
  {
   "cell_type": "code",
   "execution_count": 69,
   "metadata": {},
   "outputs": [
    {
     "name": "stdout",
     "output_type": "stream",
     "text": [
      "58.8 % клиентов тарифа СМАРТ не хватает пакета интернета\n"
     ]
    }
   ],
   "source": [
    "print(((summary_of_users_short.query('tariff==\"smart\" & over_mb>0')['user_id_month'].count()/summary_of_users_short.query('tariff==\"smart\"')['user_id_month'].count())*100).round(1),\"% клиентов тарифа СМАРТ не хватает пакета интернета\")"
   ]
  },
  {
   "cell_type": "code",
   "execution_count": 70,
   "metadata": {},
   "outputs": [
    {
     "name": "stdout",
     "output_type": "stream",
     "text": [
      "13.6 % клиентов тарифа УЛЬТРА не хватает пакета интернета\n"
     ]
    }
   ],
   "source": [
    "print(((summary_of_users_short.query('tariff==\"ultra\" & over_mb>0')['user_id_month'].count()/summary_of_users_short.query('tariff==\"ultra\"')['user_id_month'].count())*100).round(1),\"% клиентов тарифа УЛЬТРА не хватает пакета интернета\")"
   ]
  },
  {
   "cell_type": "markdown",
   "metadata": {},
   "source": [
    "### 3.3.3 Построим гистограмму по объему потраченных смс в соответствии с тарифом."
   ]
  },
  {
   "cell_type": "code",
   "execution_count": 71,
   "metadata": {},
   "outputs": [
    {
     "data": {
      "text/plain": [
       "<matplotlib.axes._subplots.AxesSubplot at 0x7fae5ec36a58>"
      ]
     },
     "execution_count": 71,
     "metadata": {},
     "output_type": "execute_result"
    },
    {
     "data": {
      "image/png": "[encoded data removed]",
      "text/plain": [
       "<Figure size 720x360 with 1 Axes>"
      ]
     },
     "metadata": {
      "needs_background": "light"
     },
     "output_type": "display_data"
    }
   ],
   "source": [
    "summary_of_users_short.query('tariff==\"smart\"')['count_of_message'].plot(bins=10,kind='hist',histtype='step',linewidth=4,figsize=(10,5),legend=True)\n",
    "summary_of_users_short.query('tariff==\"ultra\"')['count_of_message'].plot(bins=10,kind='hist',histtype='step',linewidth=4,figsize=(10,5),grid=True,legend=True)"
   ]
  },
  {
   "cell_type": "markdown",
   "metadata": {},
   "source": [
    "Казалось бы, СМС - это прошлый век в эпоху мессенджеров, но клиенты продолжают ими пользоваться.\n",
    "* 1. Клиенты тарифа Смарт по прежнему переплачивают за допополнительные смс.\n",
    "* 2. Клиентам тарифа Ультра хватило бы пакета в 300 смс, но маркетинг есть маркетинг. Пока люди клюют на удочку больших цифр, этим надо пользоватся."
   ]
  },
  {
   "cell_type": "code",
   "execution_count": 72,
   "metadata": {},
   "outputs": [
    {
     "name": "stdout",
     "output_type": "stream",
     "text": [
      "25.3 % клиентов тарифа СМАРТ не хватает пакета СМС\n"
     ]
    }
   ],
   "source": [
    "print(((summary_of_users_short.query('tariff==\"smart\" & over_sms>0')['user_id_month'].count()/summary_of_users_short.query('tariff==\"smart\"')['user_id_month'].count())*100).round(1),\"% клиентов тарифа СМАРТ не хватает пакета СМС\")"
   ]
  },
  {
   "cell_type": "markdown",
   "metadata": {},
   "source": [
    "### 3.3.4 Попробуем найти закономерности у клиентов, которые прекратили пользоватся тарифом.\n",
    "Найдем этих клиентов из таблицы users по столбцу churn_date."
   ]
  },
  {
   "cell_type": "code",
   "execution_count": 73,
   "metadata": {},
   "outputs": [],
   "source": [
    "outflow_users=users.query('churn_date.notnull()')['user_id']"
   ]
  },
  {
   "cell_type": "markdown",
   "metadata": {},
   "source": [
    "Подсчитаем отток клиентов."
   ]
  },
  {
   "cell_type": "code",
   "execution_count": 74,
   "metadata": {},
   "outputs": [
    {
     "name": "stdout",
     "output_type": "stream",
     "text": [
      "Отток клиентов по данной выборке за 2018 составил: 7.6 %\n"
     ]
    }
   ],
   "source": [
    "print('Отток клиентов по данной выборке за 2018 составил:',len(outflow_users)/len(users)*100,'%')"
   ]
  },
  {
   "cell_type": "markdown",
   "metadata": {},
   "source": [
    "Я пока не сотрудник «Мегалайн», но считаю, что отток в 7.6 % в год серьезной цифрой. Не знаю насколько выборка по клиентам репрезентативна, но это большой \"звонок\" для поиска проблем."
   ]
  },
  {
   "cell_type": "markdown",
   "metadata": {},
   "source": [
    "Рассчитаем отток клиентов для каждого из тарифов. \n",
    "Для начала определим количество клиентов из выборки для каждого из тарифов."
   ]
  },
  {
   "cell_type": "code",
   "execution_count": 75,
   "metadata": {},
   "outputs": [
    {
     "name": "stdout",
     "output_type": "stream",
     "text": [
      "Количество клиентов подключенных к тарифу ultra: 149\n",
      "Количество клиентов подключенных к тарифу smart: 351\n"
     ]
    }
   ],
   "source": [
    "users_of_ultra=users.query('tariff==\"ultra\"')['tariff'].count()\n",
    "users_of_smart=users.query('tariff==\"smart\"')['tariff'].count()\n",
    "print('Количество клиентов подключенных к тарифу ultra:',users_of_ultra)\n",
    "print('Количество клиентов подключенных к тарифу smart:',users_of_smart)"
   ]
  },
  {
   "cell_type": "code",
   "execution_count": 76,
   "metadata": {},
   "outputs": [
    {
     "name": "stdout",
     "output_type": "stream",
     "text": [
      "Отток клиентов по данной выборке за 2018 по тарифу СМАРТ составил: 6.6 %\n",
      "Отток клиентов по данной выборке за 2018 по тарифу УЛЬТРА составил: 10.1 %\n"
     ]
    }
   ],
   "source": [
    "outflow_users_smart=users.query('user_id in @outflow_users & tariff==\"smart\"')['user_id']\n",
    "outflow_users_ultra=users.query('user_id in @outflow_users & tariff==\"ultra\"')['user_id']\n",
    "print('Отток клиентов по данной выборке за 2018 по тарифу СМАРТ составил:',(len(outflow_users_smart)/users_of_smart*100).round(1),'%')\n",
    "print('Отток клиентов по данной выборке за 2018 по тарифу УЛЬТРА составил:',(len(outflow_users_ultra)/users_of_ultra*100).round(1),'%')"
   ]
  },
  {
   "cell_type": "markdown",
   "metadata": {},
   "source": [
    "6,6% сбежали с тарифа СМАРТ, явно что-то с ним не так, попробуем отследить причину. \n",
    "Гипотеза 1. Овертрафик.\n",
    "Гипотеза 2. Пакет слишком велик для клиентов."
   ]
  },
  {
   "cell_type": "code",
   "execution_count": 77,
   "metadata": {},
   "outputs": [
    {
     "data": {
      "text/html": [
       "<div>\n",
       "<style scoped>\n",
       "    .dataframe tbody tr th:only-of-type {\n",
       "        vertical-align: middle;\n",
       "    }\n",
       "\n",
       "    .dataframe tbody tr th {\n",
       "        vertical-align: top;\n",
       "    }\n",
       "\n",
       "    .dataframe thead th {\n",
       "        text-align: right;\n",
       "    }\n",
       "</style>\n",
       "<table border=\"1\" class=\"dataframe\">\n",
       "  <thead>\n",
       "    <tr style=\"text-align: right;\">\n",
       "      <th></th>\n",
       "      <th>sum_of_duration</th>\n",
       "      <th>over_call</th>\n",
       "      <th>count_of_message</th>\n",
       "      <th>over_sms</th>\n",
       "      <th>sum_of_mb_used</th>\n",
       "      <th>over_mb</th>\n",
       "    </tr>\n",
       "  </thead>\n",
       "  <tbody>\n",
       "    <tr>\n",
       "      <td>count</td>\n",
       "      <td>111.000000</td>\n",
       "      <td>111.000000</td>\n",
       "      <td>111.000000</td>\n",
       "      <td>111.000000</td>\n",
       "      <td>111.000000</td>\n",
       "      <td>111.000000</td>\n",
       "    </tr>\n",
       "    <tr>\n",
       "      <td>mean</td>\n",
       "      <td>335.072072</td>\n",
       "      <td>9.576577</td>\n",
       "      <td>29.495495</td>\n",
       "      <td>3.108108</td>\n",
       "      <td>14990.900901</td>\n",
       "      <td>2432.909910</td>\n",
       "    </tr>\n",
       "    <tr>\n",
       "      <td>std</td>\n",
       "      <td>148.100808</td>\n",
       "      <td>34.119456</td>\n",
       "      <td>23.591552</td>\n",
       "      <td>9.891550</td>\n",
       "      <td>6408.826287</td>\n",
       "      <td>3388.439717</td>\n",
       "    </tr>\n",
       "    <tr>\n",
       "      <td>min</td>\n",
       "      <td>18.000000</td>\n",
       "      <td>0.000000</td>\n",
       "      <td>0.000000</td>\n",
       "      <td>0.000000</td>\n",
       "      <td>1162.000000</td>\n",
       "      <td>0.000000</td>\n",
       "    </tr>\n",
       "    <tr>\n",
       "      <td>25%</td>\n",
       "      <td>227.500000</td>\n",
       "      <td>0.000000</td>\n",
       "      <td>12.500000</td>\n",
       "      <td>0.000000</td>\n",
       "      <td>9454.500000</td>\n",
       "      <td>0.000000</td>\n",
       "    </tr>\n",
       "    <tr>\n",
       "      <td>50%</td>\n",
       "      <td>342.000000</td>\n",
       "      <td>0.000000</td>\n",
       "      <td>26.000000</td>\n",
       "      <td>0.000000</td>\n",
       "      <td>15312.000000</td>\n",
       "      <td>0.000000</td>\n",
       "    </tr>\n",
       "    <tr>\n",
       "      <td>75%</td>\n",
       "      <td>430.000000</td>\n",
       "      <td>0.000000</td>\n",
       "      <td>43.000000</td>\n",
       "      <td>0.000000</td>\n",
       "      <td>19906.000000</td>\n",
       "      <td>4546.000000</td>\n",
       "    </tr>\n",
       "    <tr>\n",
       "      <td>max</td>\n",
       "      <td>748.000000</td>\n",
       "      <td>248.000000</td>\n",
       "      <td>106.000000</td>\n",
       "      <td>56.000000</td>\n",
       "      <td>28687.000000</td>\n",
       "      <td>13327.000000</td>\n",
       "    </tr>\n",
       "  </tbody>\n",
       "</table>\n",
       "</div>"
      ],
      "text/plain": [
       "       sum_of_duration   over_call  count_of_message    over_sms  \\\n",
       "count       111.000000  111.000000        111.000000  111.000000   \n",
       "mean        335.072072    9.576577         29.495495    3.108108   \n",
       "std         148.100808   34.119456         23.591552    9.891550   \n",
       "min          18.000000    0.000000          0.000000    0.000000   \n",
       "25%         227.500000    0.000000         12.500000    0.000000   \n",
       "50%         342.000000    0.000000         26.000000    0.000000   \n",
       "75%         430.000000    0.000000         43.000000    0.000000   \n",
       "max         748.000000  248.000000        106.000000   56.000000   \n",
       "\n",
       "       sum_of_mb_used       over_mb  \n",
       "count      111.000000    111.000000  \n",
       "mean     14990.900901   2432.909910  \n",
       "std       6408.826287   3388.439717  \n",
       "min       1162.000000      0.000000  \n",
       "25%       9454.500000      0.000000  \n",
       "50%      15312.000000      0.000000  \n",
       "75%      19906.000000   4546.000000  \n",
       "max      28687.000000  13327.000000  "
      ]
     },
     "execution_count": 77,
     "metadata": {},
     "output_type": "execute_result"
    }
   ],
   "source": [
    "summary_of_users_short.query('user_id in @outflow_users_smart')[['sum_of_duration','over_call','count_of_message','over_sms','sum_of_mb_used','over_mb']].describe()"
   ]
  },
  {
   "cell_type": "markdown",
   "metadata": {},
   "source": [
    "Отток клиентов в тарифе СМАРТ говорит о том, что люди не выговаривают пакет. Необходимо ввести пакет ценовой категории ниже,чем СМАРТ. Например СМАРТ ЛАЙТ всего 400руб и у вас - 350минут 20смс 10Гб. \n",
    "\n",
    "10.1 % сбежали с тарифа Ультра, сделаем анализ."
   ]
  },
  {
   "cell_type": "code",
   "execution_count": 78,
   "metadata": {},
   "outputs": [
    {
     "data": {
      "text/html": [
       "<div>\n",
       "<style scoped>\n",
       "    .dataframe tbody tr th:only-of-type {\n",
       "        vertical-align: middle;\n",
       "    }\n",
       "\n",
       "    .dataframe tbody tr th {\n",
       "        vertical-align: top;\n",
       "    }\n",
       "\n",
       "    .dataframe thead th {\n",
       "        text-align: right;\n",
       "    }\n",
       "</style>\n",
       "<table border=\"1\" class=\"dataframe\">\n",
       "  <thead>\n",
       "    <tr style=\"text-align: right;\">\n",
       "      <th></th>\n",
       "      <th>sum_of_duration</th>\n",
       "      <th>over_call</th>\n",
       "      <th>count_of_message</th>\n",
       "      <th>over_sms</th>\n",
       "      <th>sum_of_mb_used</th>\n",
       "      <th>over_mb</th>\n",
       "    </tr>\n",
       "  </thead>\n",
       "  <tbody>\n",
       "    <tr>\n",
       "      <td>count</td>\n",
       "      <td>76.000000</td>\n",
       "      <td>76.0</td>\n",
       "      <td>76.000000</td>\n",
       "      <td>76.0</td>\n",
       "      <td>76.000000</td>\n",
       "      <td>76.000000</td>\n",
       "    </tr>\n",
       "    <tr>\n",
       "      <td>mean</td>\n",
       "      <td>475.407895</td>\n",
       "      <td>0.0</td>\n",
       "      <td>27.171053</td>\n",
       "      <td>0.0</td>\n",
       "      <td>18030.605263</td>\n",
       "      <td>1018.302632</td>\n",
       "    </tr>\n",
       "    <tr>\n",
       "      <td>std</td>\n",
       "      <td>281.788440</td>\n",
       "      <td>0.0</td>\n",
       "      <td>33.863014</td>\n",
       "      <td>0.0</td>\n",
       "      <td>11262.016204</td>\n",
       "      <td>2983.448868</td>\n",
       "    </tr>\n",
       "    <tr>\n",
       "      <td>min</td>\n",
       "      <td>13.000000</td>\n",
       "      <td>0.0</td>\n",
       "      <td>0.000000</td>\n",
       "      <td>0.0</td>\n",
       "      <td>0.000000</td>\n",
       "      <td>0.000000</td>\n",
       "    </tr>\n",
       "    <tr>\n",
       "      <td>25%</td>\n",
       "      <td>268.750000</td>\n",
       "      <td>0.0</td>\n",
       "      <td>0.000000</td>\n",
       "      <td>0.0</td>\n",
       "      <td>9957.000000</td>\n",
       "      <td>0.000000</td>\n",
       "    </tr>\n",
       "    <tr>\n",
       "      <td>50%</td>\n",
       "      <td>438.000000</td>\n",
       "      <td>0.0</td>\n",
       "      <td>11.000000</td>\n",
       "      <td>0.0</td>\n",
       "      <td>18110.000000</td>\n",
       "      <td>0.000000</td>\n",
       "    </tr>\n",
       "    <tr>\n",
       "      <td>75%</td>\n",
       "      <td>731.000000</td>\n",
       "      <td>0.0</td>\n",
       "      <td>44.250000</td>\n",
       "      <td>0.0</td>\n",
       "      <td>23577.750000</td>\n",
       "      <td>0.000000</td>\n",
       "    </tr>\n",
       "    <tr>\n",
       "      <td>max</td>\n",
       "      <td>1109.000000</td>\n",
       "      <td>0.0</td>\n",
       "      <td>117.000000</td>\n",
       "      <td>0.0</td>\n",
       "      <td>45226.000000</td>\n",
       "      <td>14506.000000</td>\n",
       "    </tr>\n",
       "  </tbody>\n",
       "</table>\n",
       "</div>"
      ],
      "text/plain": [
       "       sum_of_duration  over_call  count_of_message  over_sms  sum_of_mb_used  \\\n",
       "count        76.000000       76.0         76.000000      76.0       76.000000   \n",
       "mean        475.407895        0.0         27.171053       0.0    18030.605263   \n",
       "std         281.788440        0.0         33.863014       0.0    11262.016204   \n",
       "min          13.000000        0.0          0.000000       0.0        0.000000   \n",
       "25%         268.750000        0.0          0.000000       0.0     9957.000000   \n",
       "50%         438.000000        0.0         11.000000       0.0    18110.000000   \n",
       "75%         731.000000        0.0         44.250000       0.0    23577.750000   \n",
       "max        1109.000000        0.0        117.000000       0.0    45226.000000   \n",
       "\n",
       "            over_mb  \n",
       "count     76.000000  \n",
       "mean    1018.302632  \n",
       "std     2983.448868  \n",
       "min        0.000000  \n",
       "25%        0.000000  \n",
       "50%        0.000000  \n",
       "75%        0.000000  \n",
       "max    14506.000000  "
      ]
     },
     "execution_count": 78,
     "metadata": {},
     "output_type": "execute_result"
    }
   ],
   "source": [
    "summary_of_users_short.query('user_id in @outflow_users_ultra')[['sum_of_duration','over_call','count_of_message','over_sms','sum_of_mb_used','over_mb']].describe()"
   ]
  },
  {
   "cell_type": "markdown",
   "metadata": {},
   "source": [
    "Отток клиентов в тарифе УЛЬТРА говорит о том, что люди не выговаривают пакет. Необходимо ввести пакет ценовой категории ниже,чем УЛЬТРА. Например СМАРТ ХЛ.\n",
    "10.1 % сбежали с тарифа Ультра, сделаем анализ."
   ]
  },
  {
   "cell_type": "markdown",
   "metadata": {},
   "source": [
    "## Вывод:"
   ]
  },
  {
   "cell_type": "markdown",
   "metadata": {},
   "source": [
    "#### Клиенты компании «Мегалайн» позволяют хорошо зарабатывать на переплатах тарифа СМАРТ. На графиках мы проанализировали явные провалы в пакете минут, интернет трафика и даже смс  для данного тарифа.\n",
    "\n",
    "#### Пока клиенты лояльны к нам, мы зарабатывает, но придет час и случится глобальный отток клиентов, которых возможно будет не вернуть в условиях жесточайшей конкуренции операторов связи.\n",
    "\n",
    "#### Неоходимы срочные меры по внедрению нового пакетного тарифа, в котором будет учтен ооток клиентов, которые не выговаривают тариф.  СМАРТ ЛАЙТ всего 400руб и у вас - 350минут 20смс 10Гб. СМАРТ ЛАЙТ позволит также зарабатывать на переплате за интернет трафик, пока клиенты готовы платить.\n",
    "\n",
    "#### Также необходимо проработать потребности клиентов пакетов СМАРТ. При формировании нового пакета СМАРТ ХЛ, обратить внимание на цифры:\n",
    "#### * 58.8 % клиентов тарифа СМАРТ не хватает пакета интернета\n",
    "#### * 36.4 % клиентов тарифа СМАРТ не хватает пакета минут\n",
    "#### * 25.3 % клиентов тарифа СМАРТ не хватает пакета СМС\n",
    "\n",
    "\n",
    "#### По тарифу Ультра заметен перерасход трафика по интернету  у 1/3клиентов. В условиях высокой конкуренции среди операторов, цена в 1950руб. должна подразумевать удовлетворение всех потребностей клиентов данного тарифа. Необходимо увеличить планку пакета интернета до 50Гб.\n"
   ]
  },
  {
   "cell_type": "markdown",
   "metadata": {},
   "source": [
    "### Шаг 4. Проверьте гипотезы\n",
    "средняя выручка пользователей тарифов «Ультра» и «Смарт» различается;\n",
    "средняя выручка пользователей из Москвы отличается от выручки пользователей из других регионов;\n",
    "Пороговое значение alpha задайте самостоятельно.\n",
    "Поясните:\n",
    "как вы формулировали нулевую и альтернативную гипотезы;\n",
    "какой критерий использовали для проверки гипотез и почему."
   ]
  },
  {
   "cell_type": "markdown",
   "metadata": {},
   "source": [
    "### 4.1 Проверим гипотезу, что средняя выручка клиентов тарифов «Ультра» и «Смарт» различается.\n"
   ]
  },
  {
   "cell_type": "markdown",
   "metadata": {},
   "source": [
    "Проверим гипотезу, что средняя выручка клиентов тарифов «Ультра» и «Смарт» различается. \n",
    "\n",
    "Для проверки гипотезы о равенстве среднего генеральной совокупности некоторому значению используется метод (Стьюдента) для это в Python есть библиотека scipy импортировав которую можно провести данный тест scipy.stats.ttest_1samp (array, popmean).\n",
    "Для проведения данного теста необходимо выбрать уровень значимости.\n",
    "Уровень значимости — это суммарная вероятность того, что измеренное эмпирически значение окажется далеко от среднего. Выберем уровень значимости — 1%. Если наблюдаемое на выборке значение попадает в эту зону, вероятность такого события при верной нулевой гипотезе признаётся слишком малым (это определяется уровнем значимости). Следовательно, у нас есть основание отвергнуть нулевую гипотезу.\n",
    "\n",
    "Создамим функцию make_ttest."
   ]
  },
  {
   "cell_type": "code",
   "execution_count": 79,
   "metadata": {},
   "outputs": [],
   "source": [
    "def make_ttest(array,mean,alpha):\n",
    "    alph = alpha # критический уровень статистической значимости\n",
    "    results = st.ttest_1samp(\n",
    "        array, \n",
    "        mean)\n",
    "    print('p-значение: ', results.pvalue)\n",
    "    if (results.pvalue < alph):\n",
    "        print(\"Отвергаем нулевую гипотезу\")\n",
    "    else:\n",
    "        print(\"Не получилось отвергнуть нулевую гипотезу\")"
   ]
  },
  {
   "cell_type": "markdown",
   "metadata": {},
   "source": [
    "Рассчитаем величину среднего mean_revenue_of_smart и сохраним массив по которому удем проводить исследование в переменную array_revenue."
   ]
  },
  {
   "cell_type": "code",
   "execution_count": 80,
   "metadata": {},
   "outputs": [],
   "source": [
    " # revenue общий стобец с выручкой по смарту и ультра\n",
    "array_revenue =summary_of_users_short['revenue']\n",
    "# средняя выручка по смарту \n",
    "mean_revenue_of_smart = summary_of_users_short.query('tariff==\"smart\"')['revenue'].mean()"
   ]
  },
  {
   "cell_type": "code",
   "execution_count": 81,
   "metadata": {},
   "outputs": [
    {
     "name": "stdout",
     "output_type": "stream",
     "text": [
      "p-значение:  2.1203917376069048e-82\n",
      "Отвергаем нулевую гипотезу\n"
     ]
    }
   ],
   "source": [
    "make_ttest(array_revenue,mean_revenue_of_smart,0.01)"
   ]
  },
  {
   "cell_type": "markdown",
   "metadata": {},
   "source": [
    "##### Отвергаем нулевую гипотезу, означает, что генеральные совокупности величин различны, равносильно  утверждению, что средняя выручка клиентов тарифов «Ультра» и «Смарт» различается."
   ]
  },
  {
   "cell_type": "markdown",
   "metadata": {},
   "source": [
    "### 4.2 Проверим гипотезу, средняя выручка пользователей из Москвы отличается от выручки пользователей из других регионов.\n",
    "Для начала найдем клиентов из Москвы, запишим их в переменную list_of_clients_msk."
   ]
  },
  {
   "cell_type": "code",
   "execution_count": 82,
   "metadata": {},
   "outputs": [],
   "source": [
    "# список клиентов из Москвы\n",
    "list_of_clients_msk=users.query('city==\"МОСКВА\"')['user_id'].unique()"
   ]
  },
  {
   "cell_type": "code",
   "execution_count": 83,
   "metadata": {},
   "outputs": [
    {
     "data": {
      "text/plain": [
       "1482.659574468085"
      ]
     },
     "execution_count": 83,
     "metadata": {},
     "output_type": "execute_result"
    }
   ],
   "source": [
    "# средняя выручка клиентов из Москвы\n",
    "mean_of_client_msk=summary_of_users_short.query('user_id in @list_of_clients_msk')['revenue'].mean()\n",
    "mean_of_client_msk"
   ]
  },
  {
   "cell_type": "markdown",
   "metadata": {},
   "source": [
    "Проверим гипотезу, подставив расчитанные выше параметры в ранее созданную функцию make_ttest."
   ]
  },
  {
   "cell_type": "code",
   "execution_count": 84,
   "metadata": {},
   "outputs": [
    {
     "name": "stdout",
     "output_type": "stream",
     "text": [
      "p-значение:  0.0457175895900096\n",
      "Не получилось отвергнуть нулевую гипотезу\n"
     ]
    }
   ],
   "source": [
    "make_ttest(array_revenue,mean_of_client_msk,0.01)"
   ]
  },
  {
   "cell_type": "markdown",
   "metadata": {},
   "source": [
    "##### Не получилось отвергнуть нулевую гипотезу, означает, что генеральные совокупности величин равны, равносильно утверждению, что средняя выручка клиентов тарифов из разных городов одинакова.\n",
    "\n",
    "Проделаем тоже самое для каждого из тарифов."
   ]
  },
  {
   "cell_type": "code",
   "execution_count": 85,
   "metadata": {},
   "outputs": [
    {
     "data": {
      "text/plain": [
       "2077.3333333333335"
      ]
     },
     "execution_count": 85,
     "metadata": {},
     "output_type": "execute_result"
    }
   ],
   "source": [
    "# средняя выручка клиентов из Москвы, тариф УЛЬТРА\n",
    "mean_of_client_msk_ultra=summary_of_users_short.query('tariff==\"ultra\" & user_id in @list_of_clients_msk')['revenue'].mean()\n",
    "mean_of_client_msk_ultra"
   ]
  },
  {
   "cell_type": "code",
   "execution_count": 86,
   "metadata": {},
   "outputs": [],
   "source": [
    "# массив с выручкой тариф ультра\n",
    "array_revenue_ultra =summary_of_users_short.query('tariff==\"ultra\"')['revenue']"
   ]
  },
  {
   "cell_type": "markdown",
   "metadata": {},
   "source": [
    "Проведем тест Стьюдента подставив расчитанные выше параметры в ранее созданную функцию make_ttest."
   ]
  },
  {
   "cell_type": "code",
   "execution_count": 87,
   "metadata": {},
   "outputs": [
    {
     "name": "stdout",
     "output_type": "stream",
     "text": [
      "p-значение:  0.7366176537534399\n",
      "Не получилось отвергнуть нулевую гипотезу\n"
     ]
    }
   ],
   "source": [
    "make_ttest(array_revenue_ultra,mean_of_client_msk_ultra,0.01)"
   ]
  },
  {
   "cell_type": "markdown",
   "metadata": {},
   "source": [
    "##### Не получилось отвергнуть нулевую гипотезу, означает, что генеральные совокупности величин равны.  Равносильно утверждению, что выручка клиентов из Москвы и других городов,по тарифу «Ультра» одинакова.\n",
    "Осуществим такую же проверку для тарифа \"Смарт\""
   ]
  },
  {
   "cell_type": "code",
   "execution_count": 88,
   "metadata": {},
   "outputs": [
    {
     "data": {
      "text/plain": [
       "1136.0233160621763"
      ]
     },
     "execution_count": 88,
     "metadata": {},
     "output_type": "execute_result"
    }
   ],
   "source": [
    "# средняя выручка клиентов из Москвы, тариф СМАРТ\n",
    "mean_of_client_msk_smart=summary_of_users_short.query('tariff==\"smart\" & user_id in @list_of_clients_msk')['revenue'].mean()\n",
    "mean_of_client_msk_smart"
   ]
  },
  {
   "cell_type": "code",
   "execution_count": 89,
   "metadata": {},
   "outputs": [],
   "source": [
    "# массив с выручкой тариф СМАРТ\n",
    "array_revenue_smart =summary_of_users_short.query('tariff==\"smart\"')['revenue']"
   ]
  },
  {
   "cell_type": "markdown",
   "metadata": {},
   "source": [
    "Проведем тест Стьюдента подставив расчитанные выше параметры в ранее созданную функцию make_ttest."
   ]
  },
  {
   "cell_type": "code",
   "execution_count": 90,
   "metadata": {},
   "outputs": [
    {
     "name": "stdout",
     "output_type": "stream",
     "text": [
      "p-значение:  0.004229530921765892\n",
      "Отвергаем нулевую гипотезу\n"
     ]
    }
   ],
   "source": [
    "make_ttest(array_revenue_smart,mean_of_client_msk_smart,0.01)"
   ]
  },
  {
   "cell_type": "markdown",
   "metadata": {},
   "source": [
    "##### Отвергаем нулевую гипотезу, означает, что генеральные совокупности величин различны, равносильно  утверждению, что средняя выручка для тарифа  «Смарт» из Москвы и других городов различна."
   ]
  },
  {
   "cell_type": "markdown",
   "metadata": {},
   "source": [
    "### 4.3 Проверим суммарную выручку по каждому из тарифов."
   ]
  },
  {
   "cell_type": "markdown",
   "metadata": {},
   "source": [
    "Построим гистограммы распределения выручки в соответствии с тарифом."
   ]
  },
  {
   "cell_type": "code",
   "execution_count": 91,
   "metadata": {},
   "outputs": [
    {
     "data": {
      "text/plain": [
       "<matplotlib.axes._subplots.AxesSubplot at 0x7fae5ebda4a8>"
      ]
     },
     "execution_count": 91,
     "metadata": {},
     "output_type": "execute_result"
    },
    {
     "data": {
      "image/png": "[encoded data removed]",
      "text/plain": [
       "<Figure size 720x360 with 1 Axes>"
      ]
     },
     "metadata": {
      "needs_background": "light"
     },
     "output_type": "display_data"
    }
   ],
   "source": [
    "summary_of_users_short.query('tariff==\"smart\"')['revenue'].plot(kind='hist',histtype='step',linewidth=4,figsize=(10,5),legend=True)\n",
    "summary_of_users_short.query('tariff==\"ultra\"')['revenue'].plot(kind='hist',histtype='step',linewidth=4,figsize=(10,5),grid=True,legend=True)"
   ]
  },
  {
   "cell_type": "markdown",
   "metadata": {},
   "source": [
    "Получилось не наглядно, по гистограмме можно лишь судить, что клиентов тарифа \"Смарт\" больше чем \"Ультра\". И то, что выручка от клиентов СМАРТА в основном на уровне около 1000, а у клиентов \"Ультра\" в районе 2000. Посмотрим на объем вручки в целом."
   ]
  },
  {
   "cell_type": "code",
   "execution_count": 92,
   "metadata": {},
   "outputs": [
    {
     "name": "stdout",
     "output_type": "stream",
     "text": [
      "56.3 % от всего объема выручки составляю клиенты тарифа СМАРТ\n",
      "Клиентов тарифа СМАРТ в 2.4 больше, чем клиентов УЛЬТРА\n"
     ]
    }
   ],
   "source": [
    "print((summary_of_users_short.query('tariff==\"smart\"')['revenue'].sum()/summary_of_users_short['revenue'].sum()*100).round(1),'% от всего объема выручки составляю клиенты тарифа СМАРТ')\n",
    "print('Клиентов тарифа СМАРТ в',(users_of_smart/users_of_ultra).round(1), 'больше, чем клиентов УЛЬТРА')"
   ]
  },
  {
   "cell_type": "markdown",
   "metadata": {},
   "source": [
    "Клиенты тарифа УЛЬТРА очень важны для Мегалайн, т.к. это почти половина от выручки,при том, что их количество в 2.4 раза меньше, чем клиентов тарифа СМАРТ."
   ]
  },
  {
   "cell_type": "markdown",
   "metadata": {},
   "source": [
    "### Шаг 5. Общий вывод"
   ]
  },
  {
   "cell_type": "raw",
   "metadata": {},
   "source": [
    "1. Необходимо сообщить программистам о замеченом сбое в биллинге, для принятия соотвествующих мер по исключению подобных повторений. Каждый такой сбой потеря денег.\n",
    "\n",
    "2. Проанализировав данные в разделе 3, пришли к выводу, что коммерческому департаменту нужно думать не о корректировки рекламного бюджета для дальнейшей раскрутки пакетов СМАРТ и УЛЬТРА, а о срочном внедрении новых тарифов.\n",
    "\n",
    "Необходим новый пакетный тариф, в котором будет учтен отток клиентов, которые не выговаривают тариф.  \n",
    "СМАРТ ЛАЙТ всего 400руб и у вас - 350минут 20смс 10Гб. СМАРТ ЛАЙТ позволит, также зарабатывать на переплате за интернет трафик, до тех пор пока клиенты готовы платить.\n",
    "\n",
    "Также необходимо проработать потребности клиентов пакетов СМАРТ на будующие. При формировании нового пакета СМАРТ ХЛ, обратить внимание на анализ переплат клиентов пакета СМАРТ:\n",
    "* 58.8 % клиентов тарифа СМАРТ не хватает пакета интернета\n",
    "* 36.4 % клиентов тарифа СМАРТ не хватает пакета минут\n",
    "* 25.3 % клиентов тарифа СМАРТ не хватает пакета СМС\n",
    "\n",
    "В условиях высокой конкуренции среди операторов - главное снизить серьезный отток клиентов, который мы наблюдаем по клиентам тарифа УЛЬТРА. Клиенты тарифа УЛЬТРА очень важны для Мегалайн, т.к. это почти половина от выручки,при том, что их количество в 2.4 раза меньше, чем клиентов тарифа СМАРТ. Для удержания клиентов \"УЛЬТРА\" можно придложить интернет анлим.\n",
    "\n",
    "Как вариант, без введения новых тарифов СМАРТ ХЛ, можно проработать доп. пакет для тарифа СМАРТ, хотя бы для интернета.\n",
    "\n",
    "3. Рекламный бюджет можно съэкономить сделав персональную смс рассылку для клиентов у которых есть переплаты в соответствии с пакетом. Мы сформировали функционал позволяющий получить информацию по-любому клиенту, автоматизировав который, на поиск переплат, может быть индикатором для смс рассылки на подключению дополнительного пакета интернет трафика."
   ]
  }
 ],
 "metadata": {
  "kernelspec": {
   "display_name": "Python 3",
   "language": "python",
   "name": "python3"
  },
  "language_info": {
   "codemirror_mode": {
    "name": "ipython",
    "version": 3
   },
   "file_extension": ".py",
   "mimetype": "text/x-python",
   "name": "python",
   "nbconvert_exporter": "python",
   "pygments_lexer": "ipython3",
   "version": "3.7.4"
  }
 },
 "nbformat": 4,
 "nbformat_minor": 2
}
