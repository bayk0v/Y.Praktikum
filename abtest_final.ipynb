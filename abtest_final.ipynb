{
 "cells": [
  {
   "cell_type": "markdown",
   "metadata": {},
   "source": [
    "# Аналитика крупного интернет-магазина. \n",
    "### Вместе с отделом маркетинга вы подготовили список гипотез для увеличения выручки. Приоритизируйте гипотезы, запустите A/B-тест и проанализируйте результаты. "
   ]
  },
  {
   "cell_type": "markdown",
   "metadata": {},
   "source": [
    "<a name=\"0.0\"></a>\n",
    "## Содержание:\n",
    "* [1. Загрузим данные и подготовимся к их анализу](#0.0)\n",
    "* [2. Приоритизация гипотез](#2.0)\n",
    "     - [2.1. ICE](#2.1)\n",
    "     - [2.2. RICE](#2.2)\n",
    "         \n",
    "* [3. Анализ A/B-теста](#3.0)\n",
    "     - [3.1 Постройте график кумулятивной выручки по группам. Сделайте выводы и предположения.](#3.1)\n",
    "     - [3.2 Постройте график кумулятивного среднего чека по группам. Сделайте выводы и предположения.](#3.2)\n",
    "     - [3.3 Постройте график относительного изменения кумулятивного среднего чека группы B к группе A. Сделайте выводы и предположения.](#3.3)\n",
    "     - [3.4 Постройте график кумулятивной конверсии по группам. Сделайте выводы и предположения.](#3.4)\n",
    "     - [3.5 Постройте график относительного изменения кумулятивной конверсии группы B к группе A. Сделайте выводы и предположения.](#3.5)\n",
    "     - [3.6 Постройте точечный график количества заказов по пользователям. Сделайте выводы и предположения.](#3.6)\n",
    "     - [3.7. Посчитайте 95-й и 99-й перцентили количества заказов на пользователя. Выберите границу для определения аномальных пользователей.](#3.7)\n",
    "     - [3.8 Постройте точечный график стоимостей заказов. Сделайте выводы и предположения.](#3.8)\n",
    "     - [3.9 Постройте точечный график стоимостей заказов. Сделайте выводы и предположения.](#3.9)\n",
    "     - [3.10 Посчитайте статистическую значимость различий в конверсии между группами по «сырым» данным. Сделайте выводы и предположения.](#3.10)\n",
    "     - [3.11 Посчитайте статистическую значимость различий в среднем чеке заказа между группами по «сырым» данным. Сделайте выводы и предположения.](#3.11)\n",
    "     - [3.12 Очистка данных.](#3.12)\n",
    "     - [3.12.1 LEVEL1: Очистим данные, уберем заказы больше 4 и где выручка составила больше 58233.2 у.е.](#3.12.1)\n",
    "     - [3.12.2 LEVEL2: Чистка данных.](#3.12.2)     \n",
    "     - [3.13 Посчитайте статистическую значимость различий в конверсии между группами по «очищенным» данным. Сделайте выводы и предположения.](#3.13)\n",
    "     - [3.13 Посчитайте статистическую значимость различий в среднем чеке заказа между группами по «очищенным» данным. Сделайте выводы и предположения.](#3.14)\n",
    "     - [3.15 Выводы.](#3.15)"
   ]
  },
  {
   "cell_type": "markdown",
   "metadata": {},
   "source": [
    "<a name=\"1.\"></a><br/>\n",
    "<font size=\"5\"><b>1. Загрузим данные и подготовимся к их анализу</b></font>.<br/>\n",
    "<font size=\"2\">([к содержанию](#0.0))</font><br/>"
   ]
  },
  {
   "cell_type": "code",
   "execution_count": 1,
   "metadata": {},
   "outputs": [],
   "source": [
    "import time\n",
    "start_1 = time.time()\n",
    "# импорт библиотеки pandas\n",
    "import pandas as pd \n",
    "# библиотеки для визуализации\n",
    "import matplotlib.pyplot as plt\n",
    "# импортируем библиотеки для мат.расчетов\n",
    "import numpy as np\n",
    "import scipy.stats as stats\n",
    "\n",
    "\n",
    "pd.set_option('display.max_colwidth', -1)\n",
    "#pd.set_option('max_colwidth', 800)"
   ]
  },
  {
   "cell_type": "code",
   "execution_count": 2,
   "metadata": {},
   "outputs": [],
   "source": [
    "hypothesis = pd.read_csv('/datasets/hypothesis.csv')\n",
    "orders = pd.read_csv('/datasets/orders.csv')\n",
    "visitors = pd.read_csv('/datasets/visitors.csv')"
   ]
  },
  {
   "cell_type": "code",
   "execution_count": 3,
   "metadata": {},
   "outputs": [],
   "source": [
    "def info(name):\n",
    "    print(name.head(5),'\\n'*2,'-'*100)\n",
    "    print('Информация')\n",
    "    print(name.info(),'\\n'*2,'-'*100)\n",
    "    print('Количество пропусков:')\n",
    "    print(name.isnull().sum(),'\\n'*2,'-'*100)\n",
    "    print('Количество дубликатов:',name.duplicated().sum())    "
   ]
  },
  {
   "cell_type": "code",
   "execution_count": 4,
   "metadata": {},
   "outputs": [
    {
     "name": "stdout",
     "output_type": "stream",
     "text": [
      "                                                                                                     Hypothesis  \\\n",
      "0  Добавить два новых канала привлечения трафика, что позволит привлекать на 30% больше пользователей             \n",
      "1  Запустить собственную службу доставки, что сократит срок доставки заказов                                      \n",
      "2  Добавить блоки рекомендаций товаров на сайт интернет магазина, чтобы повысить конверсию и средний чек заказа   \n",
      "3  Изменить структура категорий, что увеличит конверсию, т.к. пользователи быстрее найдут нужный товар            \n",
      "4  Изменить цвет фона главной страницы, чтобы увеличить вовлеченность пользователей                               \n",
      "\n",
      "   Reach  Impact  Confidence  Efforts  \n",
      "0  3      10      8           6        \n",
      "1  2      5       4           10       \n",
      "2  8      3       7           3        \n",
      "3  8      3       3           8        \n",
      "4  3      1       1           1         \n",
      "\n",
      " ----------------------------------------------------------------------------------------------------\n",
      "Информация\n",
      "<class 'pandas.core.frame.DataFrame'>\n",
      "RangeIndex: 9 entries, 0 to 8\n",
      "Data columns (total 5 columns):\n",
      "Hypothesis    9 non-null object\n",
      "Reach         9 non-null int64\n",
      "Impact        9 non-null int64\n",
      "Confidence    9 non-null int64\n",
      "Efforts       9 non-null int64\n",
      "dtypes: int64(4), object(1)\n",
      "memory usage: 488.0+ bytes\n",
      "None \n",
      "\n",
      " ----------------------------------------------------------------------------------------------------\n",
      "Количество пропусков:\n",
      "Hypothesis    0\n",
      "Reach         0\n",
      "Impact        0\n",
      "Confidence    0\n",
      "Efforts       0\n",
      "dtype: int64 \n",
      "\n",
      " ----------------------------------------------------------------------------------------------------\n",
      "Количество дубликатов: 0\n"
     ]
    }
   ],
   "source": [
    "info(hypothesis)"
   ]
  },
  {
   "cell_type": "markdown",
   "metadata": {},
   "source": [
    "* Hypothesis — краткое описание гипотезы;\n",
    "* Reach — охват пользователей по 10-балльной шкале;\n",
    "* Impact — влияние на пользователей по 10-балльной шкале;\n",
    "* Confidence — уверенность в гипотезе по 10-балльной шкале;\n",
    "* Efforts — затраты ресурсов на проверку гипотезы по 10-балльной шкале. Чем больше значение Efforts, тем дороже проверка гипотезы."
   ]
  },
  {
   "cell_type": "code",
   "execution_count": 5,
   "metadata": {},
   "outputs": [
    {
     "name": "stdout",
     "output_type": "stream",
     "text": [
      "   transactionId   visitorId        date  revenue group\n",
      "0  3667963787     3312258926  2019-08-15  1650     B   \n",
      "1  2804400009     3642806036  2019-08-15  730      B   \n",
      "2  2961555356     4069496402  2019-08-15  400      A   \n",
      "3  3797467345     1196621759  2019-08-15  9759     B   \n",
      "4  2282983706     2322279887  2019-08-15  2308     B    \n",
      "\n",
      " ----------------------------------------------------------------------------------------------------\n",
      "Информация\n",
      "<class 'pandas.core.frame.DataFrame'>\n",
      "RangeIndex: 1197 entries, 0 to 1196\n",
      "Data columns (total 5 columns):\n",
      "transactionId    1197 non-null int64\n",
      "visitorId        1197 non-null int64\n",
      "date             1197 non-null object\n",
      "revenue          1197 non-null int64\n",
      "group            1197 non-null object\n",
      "dtypes: int64(3), object(2)\n",
      "memory usage: 46.9+ KB\n",
      "None \n",
      "\n",
      " ----------------------------------------------------------------------------------------------------\n",
      "Количество пропусков:\n",
      "transactionId    0\n",
      "visitorId        0\n",
      "date             0\n",
      "revenue          0\n",
      "group            0\n",
      "dtype: int64 \n",
      "\n",
      " ----------------------------------------------------------------------------------------------------\n",
      "Количество дубликатов: 0\n"
     ]
    }
   ],
   "source": [
    "info(orders)"
   ]
  },
  {
   "cell_type": "markdown",
   "metadata": {},
   "source": [
    "transactionId — идентификатор заказа;\n",
    "visitorId — идентификатор пользователя, совершившего заказ;\n",
    "date — дата, когда был совершён заказ;\n",
    "revenue — выручка заказа;\n",
    "group — группа A/B-теста, в которую попал заказ."
   ]
  },
  {
   "cell_type": "code",
   "execution_count": 6,
   "metadata": {},
   "outputs": [
    {
     "name": "stdout",
     "output_type": "stream",
     "text": [
      "         date group  visitors\n",
      "0  2019-08-01  A     719     \n",
      "1  2019-08-02  A     619     \n",
      "2  2019-08-03  A     507     \n",
      "3  2019-08-04  A     717     \n",
      "4  2019-08-05  A     756      \n",
      "\n",
      " ----------------------------------------------------------------------------------------------------\n",
      "Информация\n",
      "<class 'pandas.core.frame.DataFrame'>\n",
      "RangeIndex: 62 entries, 0 to 61\n",
      "Data columns (total 3 columns):\n",
      "date        62 non-null object\n",
      "group       62 non-null object\n",
      "visitors    62 non-null int64\n",
      "dtypes: int64(1), object(2)\n",
      "memory usage: 1.6+ KB\n",
      "None \n",
      "\n",
      " ----------------------------------------------------------------------------------------------------\n",
      "Количество пропусков:\n",
      "date        0\n",
      "group       0\n",
      "visitors    0\n",
      "dtype: int64 \n",
      "\n",
      " ----------------------------------------------------------------------------------------------------\n",
      "Количество дубликатов: 0\n"
     ]
    }
   ],
   "source": [
    "info(visitors)"
   ]
  },
  {
   "cell_type": "code",
   "execution_count": 8,
   "metadata": {},
   "outputs": [
    {
     "data": {
      "text/html": [
       "<div>\n",
       "<style scoped>\n",
       "    .dataframe tbody tr th:only-of-type {\n",
       "        vertical-align: middle;\n",
       "    }\n",
       "\n",
       "    .dataframe tbody tr th {\n",
       "        vertical-align: top;\n",
       "    }\n",
       "\n",
       "    .dataframe thead th {\n",
       "        text-align: right;\n",
       "    }\n",
       "</style>\n",
       "<table border=\"1\" class=\"dataframe\">\n",
       "  <thead>\n",
       "    <tr style=\"text-align: right;\">\n",
       "      <th></th>\n",
       "      <th>transactionId</th>\n",
       "      <th>visitorId</th>\n",
       "      <th>date</th>\n",
       "      <th>revenue</th>\n",
       "      <th>group</th>\n",
       "    </tr>\n",
       "  </thead>\n",
       "  <tbody>\n",
       "    <tr>\n",
       "      <td>425</td>\n",
       "      <td>590470918</td>\n",
       "      <td>1920142716</td>\n",
       "      <td>2019-08-19</td>\n",
       "      <td>1294500</td>\n",
       "      <td>B</td>\n",
       "    </tr>\n",
       "    <tr>\n",
       "      <td>1196</td>\n",
       "      <td>3936777065</td>\n",
       "      <td>2108080724</td>\n",
       "      <td>2019-08-15</td>\n",
       "      <td>202740</td>\n",
       "      <td>B</td>\n",
       "    </tr>\n",
       "    <tr>\n",
       "      <td>858</td>\n",
       "      <td>192721366</td>\n",
       "      <td>1316129916</td>\n",
       "      <td>2019-08-27</td>\n",
       "      <td>93940</td>\n",
       "      <td>A</td>\n",
       "    </tr>\n",
       "    <tr>\n",
       "      <td>1136</td>\n",
       "      <td>666610489</td>\n",
       "      <td>1307669133</td>\n",
       "      <td>2019-08-13</td>\n",
       "      <td>92550</td>\n",
       "      <td>A</td>\n",
       "    </tr>\n",
       "    <tr>\n",
       "      <td>744</td>\n",
       "      <td>3668308183</td>\n",
       "      <td>888512513</td>\n",
       "      <td>2019-08-27</td>\n",
       "      <td>86620</td>\n",
       "      <td>B</td>\n",
       "    </tr>\n",
       "    <tr>\n",
       "      <td>682</td>\n",
       "      <td>1216533772</td>\n",
       "      <td>4266935830</td>\n",
       "      <td>2019-08-29</td>\n",
       "      <td>78990</td>\n",
       "      <td>B</td>\n",
       "    </tr>\n",
       "    <tr>\n",
       "      <td>662</td>\n",
       "      <td>1811671147</td>\n",
       "      <td>4266935830</td>\n",
       "      <td>2019-08-29</td>\n",
       "      <td>78990</td>\n",
       "      <td>A</td>\n",
       "    </tr>\n",
       "    <tr>\n",
       "      <td>743</td>\n",
       "      <td>3603576309</td>\n",
       "      <td>4133034833</td>\n",
       "      <td>2019-08-09</td>\n",
       "      <td>67990</td>\n",
       "      <td>A</td>\n",
       "    </tr>\n",
       "    <tr>\n",
       "      <td>1103</td>\n",
       "      <td>1348774318</td>\n",
       "      <td>1164614297</td>\n",
       "      <td>2019-08-12</td>\n",
       "      <td>66350</td>\n",
       "      <td>A</td>\n",
       "    </tr>\n",
       "    <tr>\n",
       "      <td>1099</td>\n",
       "      <td>316924019</td>\n",
       "      <td>148427295</td>\n",
       "      <td>2019-08-12</td>\n",
       "      <td>65710</td>\n",
       "      <td>A</td>\n",
       "    </tr>\n",
       "  </tbody>\n",
       "</table>\n",
       "</div>"
      ],
      "text/plain": [
       "      transactionId   visitorId        date  revenue group\n",
       "425   590470918      1920142716  2019-08-19  1294500  B   \n",
       "1196  3936777065     2108080724  2019-08-15  202740   B   \n",
       "858   192721366      1316129916  2019-08-27  93940    A   \n",
       "1136  666610489      1307669133  2019-08-13  92550    A   \n",
       "744   3668308183     888512513   2019-08-27  86620    B   \n",
       "682   1216533772     4266935830  2019-08-29  78990    B   \n",
       "662   1811671147     4266935830  2019-08-29  78990    A   \n",
       "743   3603576309     4133034833  2019-08-09  67990    A   \n",
       "1103  1348774318     1164614297  2019-08-12  66350    A   \n",
       "1099  316924019      148427295   2019-08-12  65710    A   "
      ]
     },
     "execution_count": 8,
     "metadata": {},
     "output_type": "execute_result"
    }
   ],
   "source": [
    "orders.sort_values('revenue', ascending=False).head(10)"
   ]
  },
  {
   "cell_type": "markdown",
   "metadata": {},
   "source": [
    "date — дата;\n",
    "group — группа A/B-теста;\n",
    "visitors — количество пользователей в указанную дату в указанной группе A/B-теста"
   ]
  },
  {
   "cell_type": "markdown",
   "metadata": {},
   "source": [
    "<a name=\"2.0\"></a><br/>\n",
    "<font size=\"5\"><b>2. Приоритизация гипотез</b></font><br/>\n",
    "<a name=\"2.1\"></a><br/>\n",
    "<font size=\"4\">2.1 ICE</font><br/>\n",
    "<font size=\"2\">([к содержанию](#0.0))</font><br/>"
   ]
  },
  {
   "cell_type": "markdown",
   "metadata": {},
   "source": [
    "ICE (от англ. impact, confidence, effort / ease «влияние, уверенность, усилия / простота») — один из самых популярных способов приоритизации задач:"
   ]
  },
  {
   "attachments": {
    "ice3.jpg": {
     "image/jpeg": "[encoded data removed]"
    }
   },
   "cell_type": "markdown",
   "metadata": {},
   "source": [
    "![ice3.jpg](attachment:ice3.jpg)"
   ]
  },
  {
   "cell_type": "code",
   "execution_count": 7,
   "metadata": {},
   "outputs": [
    {
     "data": {
      "text/html": [
       "<div>\n",
       "<style scoped>\n",
       "    .dataframe tbody tr th:only-of-type {\n",
       "        vertical-align: middle;\n",
       "    }\n",
       "\n",
       "    .dataframe tbody tr th {\n",
       "        vertical-align: top;\n",
       "    }\n",
       "\n",
       "    .dataframe thead th {\n",
       "        text-align: right;\n",
       "    }\n",
       "</style>\n",
       "<table border=\"1\" class=\"dataframe\">\n",
       "  <thead>\n",
       "    <tr style=\"text-align: right;\">\n",
       "      <th></th>\n",
       "      <th>Hypothesis</th>\n",
       "      <th>Ice_score</th>\n",
       "    </tr>\n",
       "  </thead>\n",
       "  <tbody>\n",
       "    <tr>\n",
       "      <td>8</td>\n",
       "      <td>Запустить акцию, дающую скидку на товар в день рождения</td>\n",
       "      <td>16.20</td>\n",
       "    </tr>\n",
       "    <tr>\n",
       "      <td>0</td>\n",
       "      <td>Добавить два новых канала привлечения трафика, что позволит привлекать на 30% больше пользователей</td>\n",
       "      <td>13.33</td>\n",
       "    </tr>\n",
       "    <tr>\n",
       "      <td>7</td>\n",
       "      <td>Добавить форму подписки на все основные страницы, чтобы собрать базу клиентов для email-рассылок</td>\n",
       "      <td>11.20</td>\n",
       "    </tr>\n",
       "    <tr>\n",
       "      <td>6</td>\n",
       "      <td>Показать на главной странице баннеры с актуальными акциями и распродажами, чтобы увеличить конверсию</td>\n",
       "      <td>8.00</td>\n",
       "    </tr>\n",
       "    <tr>\n",
       "      <td>2</td>\n",
       "      <td>Добавить блоки рекомендаций товаров на сайт интернет магазина, чтобы повысить конверсию и средний чек заказа</td>\n",
       "      <td>7.00</td>\n",
       "    </tr>\n",
       "    <tr>\n",
       "      <td>1</td>\n",
       "      <td>Запустить собственную службу доставки, что сократит срок доставки заказов</td>\n",
       "      <td>2.00</td>\n",
       "    </tr>\n",
       "    <tr>\n",
       "      <td>5</td>\n",
       "      <td>Добавить страницу отзывов клиентов о магазине, что позволит увеличить количество заказов</td>\n",
       "      <td>1.33</td>\n",
       "    </tr>\n",
       "    <tr>\n",
       "      <td>3</td>\n",
       "      <td>Изменить структура категорий, что увеличит конверсию, т.к. пользователи быстрее найдут нужный товар</td>\n",
       "      <td>1.12</td>\n",
       "    </tr>\n",
       "    <tr>\n",
       "      <td>4</td>\n",
       "      <td>Изменить цвет фона главной страницы, чтобы увеличить вовлеченность пользователей</td>\n",
       "      <td>1.00</td>\n",
       "    </tr>\n",
       "  </tbody>\n",
       "</table>\n",
       "</div>"
      ],
      "text/plain": [
       "                                                                                                     Hypothesis  \\\n",
       "8  Запустить акцию, дающую скидку на товар в день рождения                                                        \n",
       "0  Добавить два новых канала привлечения трафика, что позволит привлекать на 30% больше пользователей             \n",
       "7  Добавить форму подписки на все основные страницы, чтобы собрать базу клиентов для email-рассылок               \n",
       "6  Показать на главной странице баннеры с актуальными акциями и распродажами, чтобы увеличить конверсию           \n",
       "2  Добавить блоки рекомендаций товаров на сайт интернет магазина, чтобы повысить конверсию и средний чек заказа   \n",
       "1  Запустить собственную службу доставки, что сократит срок доставки заказов                                      \n",
       "5  Добавить страницу отзывов клиентов о магазине, что позволит увеличить количество заказов                       \n",
       "3  Изменить структура категорий, что увеличит конверсию, т.к. пользователи быстрее найдут нужный товар            \n",
       "4  Изменить цвет фона главной страницы, чтобы увеличить вовлеченность пользователей                               \n",
       "\n",
       "   Ice_score  \n",
       "8  16.20      \n",
       "0  13.33      \n",
       "7  11.20      \n",
       "6  8.00       \n",
       "2  7.00       \n",
       "1  2.00       \n",
       "5  1.33       \n",
       "3  1.12       \n",
       "4  1.00       "
      ]
     },
     "execution_count": 7,
     "metadata": {},
     "output_type": "execute_result"
    }
   ],
   "source": [
    "hypothesis['Ice_score']=(hypothesis['Impact']*hypothesis['Confidence']/hypothesis['Efforts']).round(2)\n",
    "hypothesis.sort_values(by='Ice_score', ascending=False)[['Hypothesis','Ice_score']]"
   ]
  },
  {
   "cell_type": "markdown",
   "metadata": {},
   "source": [
    "<a name=\"2.2\"></a><br/>\n",
    "<font size=\"4\">2.2 RICE</font><br/>\n",
    "<font size=\"2\">([к содержанию](#0.0))</font><br/>"
   ]
  },
  {
   "cell_type": "markdown",
   "metadata": {},
   "source": [
    "Примените фреймворк RICE для приоритизации гипотез. Отсортируйте их по убыванию приоритета."
   ]
  },
  {
   "attachments": {
    "rice.jpeg": {
     "image/jpeg": "[encoded data removed]"
    }
   },
   "cell_type": "markdown",
   "metadata": {},
   "source": [
    "![rice.jpeg](attachment:rice.jpeg)"
   ]
  },
  {
   "cell_type": "code",
   "execution_count": 8,
   "metadata": {},
   "outputs": [
    {
     "data": {
      "text/html": [
       "<div>\n",
       "<style scoped>\n",
       "    .dataframe tbody tr th:only-of-type {\n",
       "        vertical-align: middle;\n",
       "    }\n",
       "\n",
       "    .dataframe tbody tr th {\n",
       "        vertical-align: top;\n",
       "    }\n",
       "\n",
       "    .dataframe thead th {\n",
       "        text-align: right;\n",
       "    }\n",
       "</style>\n",
       "<table border=\"1\" class=\"dataframe\">\n",
       "  <thead>\n",
       "    <tr style=\"text-align: right;\">\n",
       "      <th></th>\n",
       "      <th>Hypothesis</th>\n",
       "      <th>Rice_score</th>\n",
       "      <th>Ice_score</th>\n",
       "    </tr>\n",
       "  </thead>\n",
       "  <tbody>\n",
       "    <tr>\n",
       "      <td>7</td>\n",
       "      <td>Добавить форму подписки на все основные страницы, чтобы собрать базу клиентов для email-рассылок</td>\n",
       "      <td>112.0</td>\n",
       "      <td>11.20</td>\n",
       "    </tr>\n",
       "    <tr>\n",
       "      <td>2</td>\n",
       "      <td>Добавить блоки рекомендаций товаров на сайт интернет магазина, чтобы повысить конверсию и средний чек заказа</td>\n",
       "      <td>56.0</td>\n",
       "      <td>7.00</td>\n",
       "    </tr>\n",
       "    <tr>\n",
       "      <td>0</td>\n",
       "      <td>Добавить два новых канала привлечения трафика, что позволит привлекать на 30% больше пользователей</td>\n",
       "      <td>40.0</td>\n",
       "      <td>13.33</td>\n",
       "    </tr>\n",
       "    <tr>\n",
       "      <td>6</td>\n",
       "      <td>Показать на главной странице баннеры с актуальными акциями и распродажами, чтобы увеличить конверсию</td>\n",
       "      <td>40.0</td>\n",
       "      <td>8.00</td>\n",
       "    </tr>\n",
       "    <tr>\n",
       "      <td>8</td>\n",
       "      <td>Запустить акцию, дающую скидку на товар в день рождения</td>\n",
       "      <td>16.2</td>\n",
       "      <td>16.20</td>\n",
       "    </tr>\n",
       "    <tr>\n",
       "      <td>3</td>\n",
       "      <td>Изменить структура категорий, что увеличит конверсию, т.к. пользователи быстрее найдут нужный товар</td>\n",
       "      <td>9.0</td>\n",
       "      <td>1.12</td>\n",
       "    </tr>\n",
       "    <tr>\n",
       "      <td>1</td>\n",
       "      <td>Запустить собственную службу доставки, что сократит срок доставки заказов</td>\n",
       "      <td>4.0</td>\n",
       "      <td>2.00</td>\n",
       "    </tr>\n",
       "    <tr>\n",
       "      <td>5</td>\n",
       "      <td>Добавить страницу отзывов клиентов о магазине, что позволит увеличить количество заказов</td>\n",
       "      <td>4.0</td>\n",
       "      <td>1.33</td>\n",
       "    </tr>\n",
       "    <tr>\n",
       "      <td>4</td>\n",
       "      <td>Изменить цвет фона главной страницы, чтобы увеличить вовлеченность пользователей</td>\n",
       "      <td>3.0</td>\n",
       "      <td>1.00</td>\n",
       "    </tr>\n",
       "  </tbody>\n",
       "</table>\n",
       "</div>"
      ],
      "text/plain": [
       "                                                                                                     Hypothesis  \\\n",
       "7  Добавить форму подписки на все основные страницы, чтобы собрать базу клиентов для email-рассылок               \n",
       "2  Добавить блоки рекомендаций товаров на сайт интернет магазина, чтобы повысить конверсию и средний чек заказа   \n",
       "0  Добавить два новых канала привлечения трафика, что позволит привлекать на 30% больше пользователей             \n",
       "6  Показать на главной странице баннеры с актуальными акциями и распродажами, чтобы увеличить конверсию           \n",
       "8  Запустить акцию, дающую скидку на товар в день рождения                                                        \n",
       "3  Изменить структура категорий, что увеличит конверсию, т.к. пользователи быстрее найдут нужный товар            \n",
       "1  Запустить собственную службу доставки, что сократит срок доставки заказов                                      \n",
       "5  Добавить страницу отзывов клиентов о магазине, что позволит увеличить количество заказов                       \n",
       "4  Изменить цвет фона главной страницы, чтобы увеличить вовлеченность пользователей                               \n",
       "\n",
       "   Rice_score  Ice_score  \n",
       "7  112.0       11.20      \n",
       "2  56.0        7.00       \n",
       "0  40.0        13.33      \n",
       "6  40.0        8.00       \n",
       "8  16.2        16.20      \n",
       "3  9.0         1.12       \n",
       "1  4.0         2.00       \n",
       "5  4.0         1.33       \n",
       "4  3.0         1.00       "
      ]
     },
     "execution_count": 8,
     "metadata": {},
     "output_type": "execute_result"
    }
   ],
   "source": [
    "hypothesis['Rice_score']=hypothesis['Impact']*hypothesis['Reach']*hypothesis['Confidence']/hypothesis['Efforts']\n",
    "hypothesis.sort_values(by='Rice_score', ascending=False)[['Hypothesis','Rice_score','Ice_score']]"
   ]
  },
  {
   "cell_type": "markdown",
   "metadata": {},
   "source": [
    "##### Мы видим, что результат приоритизация гипотез методом RICE имеет отличные результаты от метода ICE, т.к. показатель REACH имеет сущетсвенное влияние на приоритизацию.\n",
    "##### Нас интересуют в первую очередь гипотезы имеющие высокий рейтинг.\n",
    "##### Так например, гипотеза \"Запустить акцию, дающую скидку на товар в день рождения\" - оказалась лишь на пятом месте ведь охватат пользователей небольшой.\n",
    "##### Гипотеза \"Добавить форму подписки на все основные страницы, чтобы собрать базу клиентов для email-рассылок\" оказалась на первом месте, охват пользователей самый большой. E-mail рассылки могут значительно увеличить конверсию повторной покупки!"
   ]
  },
  {
   "cell_type": "markdown",
   "metadata": {},
   "source": [
    "<a name=\"3.0\"></a><br/>\n",
    "<a name=\"3.1\"></a><br/>\n",
    "<font size=\"5\">3. Анализ A/B-теста</font><br/>\n",
    "<font size=\"3\">3.1 Постройте график кумулятивной выручки по группам. Сделайте выводы и предположения.</font><br/>\n",
    "<font size=\"2\">([к содержанию](#0.0))</font><br/>"
   ]
  },
  {
   "cell_type": "code",
   "execution_count": 9,
   "metadata": {},
   "outputs": [],
   "source": [
    "orders_A=orders[orders['group']==\"A\"]\n",
    "orders_B=orders[orders['group']==\"B\"]"
   ]
  },
  {
   "cell_type": "code",
   "execution_count": 10,
   "metadata": {},
   "outputs": [
    {
     "data": {
      "text/html": [
       "<div>\n",
       "<style scoped>\n",
       "    .dataframe tbody tr th:only-of-type {\n",
       "        vertical-align: middle;\n",
       "    }\n",
       "\n",
       "    .dataframe tbody tr th {\n",
       "        vertical-align: top;\n",
       "    }\n",
       "\n",
       "    .dataframe thead th {\n",
       "        text-align: right;\n",
       "    }\n",
       "</style>\n",
       "<table border=\"1\" class=\"dataframe\">\n",
       "  <thead>\n",
       "    <tr style=\"text-align: right;\">\n",
       "      <th></th>\n",
       "      <th>date</th>\n",
       "      <th>revenue</th>\n",
       "      <th>count_of_orders</th>\n",
       "      <th>cum_revenue</th>\n",
       "      <th>cum_count_of_orders</th>\n",
       "    </tr>\n",
       "  </thead>\n",
       "  <tbody>\n",
       "    <tr>\n",
       "      <td>0</td>\n",
       "      <td>2019-08-01</td>\n",
       "      <td>148579</td>\n",
       "      <td>24</td>\n",
       "      <td>148579</td>\n",
       "      <td>24</td>\n",
       "    </tr>\n",
       "    <tr>\n",
       "      <td>1</td>\n",
       "      <td>2019-08-02</td>\n",
       "      <td>93822</td>\n",
       "      <td>20</td>\n",
       "      <td>242401</td>\n",
       "      <td>44</td>\n",
       "    </tr>\n",
       "    <tr>\n",
       "      <td>2</td>\n",
       "      <td>2019-08-03</td>\n",
       "      <td>112473</td>\n",
       "      <td>24</td>\n",
       "      <td>354874</td>\n",
       "      <td>68</td>\n",
       "    </tr>\n",
       "    <tr>\n",
       "      <td>3</td>\n",
       "      <td>2019-08-04</td>\n",
       "      <td>70825</td>\n",
       "      <td>16</td>\n",
       "      <td>425699</td>\n",
       "      <td>84</td>\n",
       "    </tr>\n",
       "    <tr>\n",
       "      <td>4</td>\n",
       "      <td>2019-08-05</td>\n",
       "      <td>124218</td>\n",
       "      <td>25</td>\n",
       "      <td>549917</td>\n",
       "      <td>109</td>\n",
       "    </tr>\n",
       "  </tbody>\n",
       "</table>\n",
       "</div>"
      ],
      "text/plain": [
       "         date  revenue  count_of_orders  cum_revenue  cum_count_of_orders\n",
       "0  2019-08-01  148579   24               148579       24                 \n",
       "1  2019-08-02  93822    20               242401       44                 \n",
       "2  2019-08-03  112473   24               354874       68                 \n",
       "3  2019-08-04  70825    16               425699       84                 \n",
       "4  2019-08-05  124218   25               549917       109                "
      ]
     },
     "execution_count": 10,
     "metadata": {},
     "output_type": "execute_result"
    }
   ],
   "source": [
    "orders_A=orders_A.groupby('date').agg({'revenue':'sum','transactionId':'nunique'})\n",
    "orders_A.rename(columns={'transactionId': 'count_of_orders'}, inplace=True)\n",
    "orders_A['cum_revenue']=orders_A['revenue'].cumsum()\n",
    "orders_A['cum_count_of_orders']=orders_A['count_of_orders'].cumsum()\n",
    "orders_A=orders_A.reset_index()\n",
    "orders_A.head()"
   ]
  },
  {
   "cell_type": "code",
   "execution_count": 11,
   "metadata": {},
   "outputs": [
    {
     "data": {
      "text/html": [
       "<div>\n",
       "<style scoped>\n",
       "    .dataframe tbody tr th:only-of-type {\n",
       "        vertical-align: middle;\n",
       "    }\n",
       "\n",
       "    .dataframe tbody tr th {\n",
       "        vertical-align: top;\n",
       "    }\n",
       "\n",
       "    .dataframe thead th {\n",
       "        text-align: right;\n",
       "    }\n",
       "</style>\n",
       "<table border=\"1\" class=\"dataframe\">\n",
       "  <thead>\n",
       "    <tr style=\"text-align: right;\">\n",
       "      <th></th>\n",
       "      <th>date</th>\n",
       "      <th>revenue</th>\n",
       "      <th>count_of_orders</th>\n",
       "      <th>cum_revenue</th>\n",
       "      <th>cum_count_of_orders</th>\n",
       "    </tr>\n",
       "  </thead>\n",
       "  <tbody>\n",
       "    <tr>\n",
       "      <td>0</td>\n",
       "      <td>2019-08-01</td>\n",
       "      <td>101217</td>\n",
       "      <td>21</td>\n",
       "      <td>101217</td>\n",
       "      <td>21</td>\n",
       "    </tr>\n",
       "    <tr>\n",
       "      <td>1</td>\n",
       "      <td>2019-08-02</td>\n",
       "      <td>165531</td>\n",
       "      <td>24</td>\n",
       "      <td>266748</td>\n",
       "      <td>45</td>\n",
       "    </tr>\n",
       "    <tr>\n",
       "      <td>2</td>\n",
       "      <td>2019-08-03</td>\n",
       "      <td>114248</td>\n",
       "      <td>16</td>\n",
       "      <td>380996</td>\n",
       "      <td>61</td>\n",
       "    </tr>\n",
       "    <tr>\n",
       "      <td>3</td>\n",
       "      <td>2019-08-04</td>\n",
       "      <td>108571</td>\n",
       "      <td>17</td>\n",
       "      <td>489567</td>\n",
       "      <td>78</td>\n",
       "    </tr>\n",
       "    <tr>\n",
       "      <td>4</td>\n",
       "      <td>2019-08-05</td>\n",
       "      <td>92428</td>\n",
       "      <td>23</td>\n",
       "      <td>581995</td>\n",
       "      <td>101</td>\n",
       "    </tr>\n",
       "  </tbody>\n",
       "</table>\n",
       "</div>"
      ],
      "text/plain": [
       "         date  revenue  count_of_orders  cum_revenue  cum_count_of_orders\n",
       "0  2019-08-01  101217   21               101217       21                 \n",
       "1  2019-08-02  165531   24               266748       45                 \n",
       "2  2019-08-03  114248   16               380996       61                 \n",
       "3  2019-08-04  108571   17               489567       78                 \n",
       "4  2019-08-05  92428    23               581995       101                "
      ]
     },
     "execution_count": 11,
     "metadata": {},
     "output_type": "execute_result"
    }
   ],
   "source": [
    "orders_B=orders_B.groupby('date').agg({'revenue':'sum','transactionId':'nunique'})\n",
    "orders_B.rename(columns={'transactionId': 'count_of_orders'}, inplace=True)\n",
    "orders_B['cum_revenue']=orders_B['revenue'].cumsum()\n",
    "orders_B['cum_count_of_orders']=orders_B['count_of_orders'].cumsum()\n",
    "orders_B=orders_B.reset_index()\n",
    "orders_B.head()"
   ]
  },
  {
   "cell_type": "code",
   "execution_count": 12,
   "metadata": {},
   "outputs": [],
   "source": [
    "# функция для графика\n",
    "def make_graf(table1,table2,col,title):\n",
    "    fig, ax = plt.subplots(figsize=(15,6))\n",
    "    plt.plot(table1['date'], table1[col], 'o-r', label='Group A')\n",
    "    plt.text(table1.loc[table1[table1[col]==table1[col].max()].index[0],'date'], table1[col].max(), int(table1[col].max()), horizontalalignment='center',rotation=30,verticalalignment='bottom', fontdict={'fontweight':500, 'size':12})\n",
    "    plt.plot(table2['date'], table2[col], 'o-g', label='Group B')\n",
    "    plt.text(table2.loc[table2[table2[col]==table2[col].max()].index[0],'date'], table2[col].max(), int(table2[col].max()), horizontalalignment='right',rotation=30,verticalalignment='top', fontdict={'fontweight':500, 'size':12})\n",
    "    ax.set_xticklabels(table1['date'],rotation=45)\n",
    "    plt.grid(True)\n",
    "    plt.title(title,fontsize='xx-large')\n",
    "    plt.legend(loc='upper left')"
   ]
  },
  {
   "cell_type": "code",
   "execution_count": 13,
   "metadata": {},
   "outputs": [
    {
     "data": {
      "image/png": "[encoded data removed]",
      "text/plain": [
       "<Figure size 1080x432 with 1 Axes>"
      ]
     },
     "metadata": {
      "needs_background": "light"
     },
     "output_type": "display_data"
    }
   ],
   "source": [
    "make_graf(orders_A,orders_B,'cum_revenue','График кумулятивной выручки по группам')"
   ]
  },
  {
   "cell_type": "markdown",
   "metadata": {},
   "source": [
    "##### На графике видно как кумулятивная выручка обоих групп растет примерно с равным темпом до 2019-08-18, затем 2019-08-19 резкий рост выручки в группе B."
   ]
  },
  {
   "cell_type": "code",
   "execution_count": 14,
   "metadata": {},
   "outputs": [
    {
     "name": "stdout",
     "output_type": "stream",
     "text": [
      "Итог суммарной выручки группы В превысил выручку А на 1822957\n",
      "т.е. группа В на 30.9% превысила этот показатель группы А\n"
     ]
    }
   ],
   "source": [
    "print('Итог суммарной выручки группы В превысил выручку А на',orders_B['cum_revenue'].max()-orders_A['cum_revenue'].max())\n",
    "print('т.е. группа В на {:.1%} превысила этот показатель группы А'.format(1-orders_A['cum_revenue'].max()/orders_B['cum_revenue'].max()))"
   ]
  },
  {
   "cell_type": "markdown",
   "metadata": {},
   "source": [
    "<a name=\"3.2\"></a><br/>\n",
    "<font size=\"3\">3.2 Постройте график кумулятивного среднего чека по группам. Сделайте выводы и предположения.</font><br/>\n",
    "<font size=\"2\">([к содержанию](#0.0))</font><br/>"
   ]
  },
  {
   "cell_type": "code",
   "execution_count": 15,
   "metadata": {},
   "outputs": [],
   "source": [
    "orders_A['cum_mean_check']=orders_A['cum_revenue']/orders_A['cum_count_of_orders']\n",
    "orders_B['cum_mean_check']=orders_B['cum_revenue']/orders_B['cum_count_of_orders']"
   ]
  },
  {
   "cell_type": "code",
   "execution_count": 16,
   "metadata": {},
   "outputs": [
    {
     "data": {
      "image/png": "[encoded data removed]",
      "text/plain": [
       "<Figure size 1080x432 with 1 Axes>"
      ]
     },
     "metadata": {
      "needs_background": "light"
     },
     "output_type": "display_data"
    }
   ],
   "source": [
    "make_graf(orders_A,orders_B,'cum_mean_check','График кумулятивного среднего чека по группам')"
   ]
  },
  {
   "cell_type": "markdown",
   "metadata": {},
   "source": [
    "##### На графике видно как и с графиком кумулятивная выручки, что кумулятивный средний чек обоих групп растет примерно с равным темпом до 2019-08-18, затем 2019-08-19 резкий рост среднего чека в группе B.\n",
    "##### На графике выведены максимальные значения по кумулятивному среднему чеку каждой из групп."
   ]
  },
  {
   "cell_type": "markdown",
   "metadata": {},
   "source": [
    "<a name=\"3.3\"></a><br/>\n",
    "<font size=\"3\">3.3 Постройте график относительного изменения кумулятивного среднего чека группы B к группе A. Сделайте выводы и предположения.</font><br/>\n",
    "<font size=\"2\">([к содержанию](#0.0))</font><br/>"
   ]
  },
  {
   "cell_type": "code",
   "execution_count": 17,
   "metadata": {},
   "outputs": [
    {
     "data": {
      "text/html": [
       "<div>\n",
       "<style scoped>\n",
       "    .dataframe tbody tr th:only-of-type {\n",
       "        vertical-align: middle;\n",
       "    }\n",
       "\n",
       "    .dataframe tbody tr th {\n",
       "        vertical-align: top;\n",
       "    }\n",
       "\n",
       "    .dataframe thead th {\n",
       "        text-align: right;\n",
       "    }\n",
       "</style>\n",
       "<table border=\"1\" class=\"dataframe\">\n",
       "  <thead>\n",
       "    <tr style=\"text-align: right;\">\n",
       "      <th></th>\n",
       "      <th>date</th>\n",
       "      <th>revenueA</th>\n",
       "      <th>count_of_ordersA</th>\n",
       "      <th>cum_revenueA</th>\n",
       "      <th>cum_count_of_ordersA</th>\n",
       "      <th>cum_mean_checkA</th>\n",
       "      <th>revenueB</th>\n",
       "      <th>count_of_ordersB</th>\n",
       "      <th>cum_revenueB</th>\n",
       "      <th>cum_count_of_ordersB</th>\n",
       "      <th>cum_mean_checkB</th>\n",
       "    </tr>\n",
       "  </thead>\n",
       "  <tbody>\n",
       "    <tr>\n",
       "      <td>0</td>\n",
       "      <td>2019-08-01</td>\n",
       "      <td>148579</td>\n",
       "      <td>24</td>\n",
       "      <td>148579</td>\n",
       "      <td>24</td>\n",
       "      <td>6190.791667</td>\n",
       "      <td>101217</td>\n",
       "      <td>21</td>\n",
       "      <td>101217</td>\n",
       "      <td>21</td>\n",
       "      <td>4819.857143</td>\n",
       "    </tr>\n",
       "    <tr>\n",
       "      <td>1</td>\n",
       "      <td>2019-08-02</td>\n",
       "      <td>93822</td>\n",
       "      <td>20</td>\n",
       "      <td>242401</td>\n",
       "      <td>44</td>\n",
       "      <td>5509.113636</td>\n",
       "      <td>165531</td>\n",
       "      <td>24</td>\n",
       "      <td>266748</td>\n",
       "      <td>45</td>\n",
       "      <td>5927.733333</td>\n",
       "    </tr>\n",
       "    <tr>\n",
       "      <td>2</td>\n",
       "      <td>2019-08-03</td>\n",
       "      <td>112473</td>\n",
       "      <td>24</td>\n",
       "      <td>354874</td>\n",
       "      <td>68</td>\n",
       "      <td>5218.735294</td>\n",
       "      <td>114248</td>\n",
       "      <td>16</td>\n",
       "      <td>380996</td>\n",
       "      <td>61</td>\n",
       "      <td>6245.836066</td>\n",
       "    </tr>\n",
       "    <tr>\n",
       "      <td>3</td>\n",
       "      <td>2019-08-04</td>\n",
       "      <td>70825</td>\n",
       "      <td>16</td>\n",
       "      <td>425699</td>\n",
       "      <td>84</td>\n",
       "      <td>5067.845238</td>\n",
       "      <td>108571</td>\n",
       "      <td>17</td>\n",
       "      <td>489567</td>\n",
       "      <td>78</td>\n",
       "      <td>6276.500000</td>\n",
       "    </tr>\n",
       "    <tr>\n",
       "      <td>4</td>\n",
       "      <td>2019-08-05</td>\n",
       "      <td>124218</td>\n",
       "      <td>25</td>\n",
       "      <td>549917</td>\n",
       "      <td>109</td>\n",
       "      <td>5045.110092</td>\n",
       "      <td>92428</td>\n",
       "      <td>23</td>\n",
       "      <td>581995</td>\n",
       "      <td>101</td>\n",
       "      <td>5762.326733</td>\n",
       "    </tr>\n",
       "  </tbody>\n",
       "</table>\n",
       "</div>"
      ],
      "text/plain": [
       "         date  revenueA  count_of_ordersA  cum_revenueA  cum_count_of_ordersA  \\\n",
       "0  2019-08-01  148579    24                148579        24                     \n",
       "1  2019-08-02  93822     20                242401        44                     \n",
       "2  2019-08-03  112473    24                354874        68                     \n",
       "3  2019-08-04  70825     16                425699        84                     \n",
       "4  2019-08-05  124218    25                549917        109                    \n",
       "\n",
       "   cum_mean_checkA  revenueB  count_of_ordersB  cum_revenueB  \\\n",
       "0  6190.791667      101217    21                101217         \n",
       "1  5509.113636      165531    24                266748         \n",
       "2  5218.735294      114248    16                380996         \n",
       "3  5067.845238      108571    17                489567         \n",
       "4  5045.110092      92428     23                581995         \n",
       "\n",
       "   cum_count_of_ordersB  cum_mean_checkB  \n",
       "0  21                    4819.857143      \n",
       "1  45                    5927.733333      \n",
       "2  61                    6245.836066      \n",
       "3  78                    6276.500000      \n",
       "4  101                   5762.326733      "
      ]
     },
     "execution_count": 17,
     "metadata": {},
     "output_type": "execute_result"
    }
   ],
   "source": [
    "mergedCummulative= orders_A.merge(orders_B, left_on='date', right_on='date', how='left', suffixes=['A', 'B'])\n",
    "mergedCummulative.head()"
   ]
  },
  {
   "cell_type": "code",
   "execution_count": 18,
   "metadata": {},
   "outputs": [
    {
     "data": {
      "text/plain": [
       "Text(0.5, 1.0, 'График относительного изменения кумулятивного среднего чека группы B к группе A')"
      ]
     },
     "execution_count": 18,
     "metadata": {},
     "output_type": "execute_result"
    },
    {
     "data": {
      "image/png": "[encoded data removed]",
      "text/plain": [
       "<Figure size 1080x432 with 1 Axes>"
      ]
     },
     "metadata": {
      "needs_background": "light"
     },
     "output_type": "display_data"
    }
   ],
   "source": [
    "fig, ax = plt.subplots(figsize=(15,6))\n",
    "# cтроим отношение средних чеков\n",
    "plt.plot(mergedCummulative['date'], mergedCummulative['cum_mean_checkB']/mergedCummulative['cum_mean_checkA']-1)\n",
    "# добавляем ось X\n",
    "plt.axhline(y=0, color='black', linestyle='--')\n",
    "\n",
    "ax.set_xticklabels(mergedCummulative['date'],rotation=45)\n",
    "plt.grid(True)\n",
    "plt.title('График относительного изменения кумулятивного среднего чека группы B к группе A',fontsize='xx-large')"
   ]
  },
  {
   "cell_type": "markdown",
   "metadata": {},
   "source": [
    "##### На графике видно, что кумулятивный средний чек группы B почти на протяжение всего периода был выше, чем у группы А. За исключением старта и периода с 2019-08-11 по 2019-08-15."
   ]
  },
  {
   "cell_type": "markdown",
   "metadata": {},
   "source": [
    "<a name=\"3.4\"></a><br/>\n",
    "<font size=\"3\">3.4 Постройте график кумулятивной конверсии по группам. Сделайте выводы и предположения.</font><br/>\n",
    "<font size=\"2\">([к содержанию](#0.0))</font><br/>"
   ]
  },
  {
   "cell_type": "markdown",
   "metadata": {},
   "source": [
    "Аналогично проанализируем график кумулятивной конверсии(визиты в заказы)."
   ]
  },
  {
   "cell_type": "code",
   "execution_count": 19,
   "metadata": {},
   "outputs": [],
   "source": [
    "visitors_A=visitors.query('group==\"A\"')[['date','visitors']]\n",
    "visitors_A.rename(columns={'visitors': 'visitorsA'}, inplace=True)\n",
    "visitors_A['cum_visitorsA']=visitors_A['visitorsA'].cumsum()\n",
    "\n",
    "visitors_B=visitors.query('group==\"B\"')[['date','visitors']].reset_index()\n",
    "del visitors_B['index']\n",
    "visitors_B.rename(columns={'visitors': 'visitorsB'}, inplace=True)\n",
    "visitors_B['cum_visitorsB']=visitors_B['visitorsB'].cumsum()"
   ]
  },
  {
   "cell_type": "code",
   "execution_count": 20,
   "metadata": {},
   "outputs": [],
   "source": [
    "mergedCummulative=mergedCummulative.merge(visitors_A, on='date')\n",
    "mergedCummulative=mergedCummulative.merge(visitors_B, on='date')"
   ]
  },
  {
   "cell_type": "code",
   "execution_count": 21,
   "metadata": {},
   "outputs": [],
   "source": [
    "mergedCummulative['conversionA'] = (mergedCummulative['cum_count_of_ordersA']/mergedCummulative['cum_visitorsA']).round(5)\n",
    "mergedCummulative['conversionB'] = (mergedCummulative['cum_count_of_ordersB']/mergedCummulative['cum_visitorsB']).round(5)"
   ]
  },
  {
   "cell_type": "code",
   "execution_count": 22,
   "metadata": {},
   "outputs": [
    {
     "data": {
      "text/plain": [
       "Text(0.5, 1.0, 'График кумулятивной конверсии по группам')"
      ]
     },
     "execution_count": 22,
     "metadata": {},
     "output_type": "execute_result"
    },
    {
     "data": {
      "image/png": "[encoded data removed]",
      "text/plain": [
       "<Figure size 1080x432 with 1 Axes>"
      ]
     },
     "metadata": {
      "needs_background": "light"
     },
     "output_type": "display_data"
    }
   ],
   "source": [
    "fig, ax = plt.subplots(figsize=(15,6))\n",
    "plt.plot(mergedCummulative['date'], mergedCummulative['conversionA'],'o-r',label='Group A')\n",
    "plt.plot(mergedCummulative['date'], mergedCummulative['conversionB'],'o-g',label='Group B')\n",
    "ax.set_xticklabels(mergedCummulative['date'],rotation=45)\n",
    "plt.grid(True)\n",
    "plt.legend()\n",
    "plt.title('График кумулятивной конверсии по группам',fontsize='xx-large')"
   ]
  },
  {
   "cell_type": "markdown",
   "metadata": {},
   "source": [
    "##### Конверсия у группы B выше, чем у группы А. Визитеры группы B чаще становятся покупателями."
   ]
  },
  {
   "cell_type": "markdown",
   "metadata": {},
   "source": [
    "<a name=\"3.5\"></a><br/>\n",
    "<font size=\"3\">3.5 Постройте график относительного изменения кумулятивной конверсии группы B к группе A. Сделайте выводы и предположения.</font><br/>\n",
    "<font size=\"2\">([к содержанию](#0.0))</font><br/>"
   ]
  },
  {
   "cell_type": "code",
   "execution_count": 23,
   "metadata": {},
   "outputs": [
    {
     "data": {
      "text/plain": [
       "Text(0.5, 1.0, 'График относительного изменения кумулятивной конверсии группы B к группе A')"
      ]
     },
     "execution_count": 23,
     "metadata": {},
     "output_type": "execute_result"
    },
    {
     "data": {
      "image/png": "[encoded data removed]",
      "text/plain": [
       "<Figure size 1080x432 with 1 Axes>"
      ]
     },
     "metadata": {
      "needs_background": "light"
     },
     "output_type": "display_data"
    }
   ],
   "source": [
    "fig, ax = plt.subplots(figsize=(15,6))\n",
    "# cтроим отношение средних чеков\n",
    "plt.plot(mergedCummulative['date'], mergedCummulative['conversionB']/mergedCummulative['conversionA']-1)\n",
    "# добавляем ось X\n",
    "plt.axhline(y=0, color='black', linestyle='--')\n",
    "plt.axhline(y=(mergedCummulative.loc[30,'conversionB']/mergedCummulative.loc[30,'conversionA']-1), color='grey', linestyle='--')\n",
    "\n",
    "ax.set_xticklabels(mergedCummulative['date'],rotation=45)\n",
    "plt.grid(True)\n",
    "plt.title('График относительного изменения кумулятивной конверсии группы B к группе A',fontsize='xx-large')"
   ]
  },
  {
   "cell_type": "markdown",
   "metadata": {},
   "source": [
    "##### В начале теста группа B значительно проигрывала группе A, затем вырвалась вперёд. Несмотря на то, что рост у группы В нестабильный, все же превышает результаты группы А."
   ]
  },
  {
   "cell_type": "markdown",
   "metadata": {},
   "source": [
    "<a name=\"3.6\"></a><br/>\n",
    "<font size=\"3\">3.6 Постройте точечный график количества заказов по пользователям. Сделайте выводы и предположения.</font><br/>\n",
    "<font size=\"2\">([к содержанию](#0.0))</font><br/>"
   ]
  },
  {
   "cell_type": "code",
   "execution_count": 24,
   "metadata": {},
   "outputs": [
    {
     "data": {
      "text/html": [
       "<div>\n",
       "<style scoped>\n",
       "    .dataframe tbody tr th:only-of-type {\n",
       "        vertical-align: middle;\n",
       "    }\n",
       "\n",
       "    .dataframe tbody tr th {\n",
       "        vertical-align: top;\n",
       "    }\n",
       "\n",
       "    .dataframe thead th {\n",
       "        text-align: right;\n",
       "    }\n",
       "</style>\n",
       "<table border=\"1\" class=\"dataframe\">\n",
       "  <thead>\n",
       "    <tr style=\"text-align: right;\">\n",
       "      <th></th>\n",
       "      <th>transactionId</th>\n",
       "    </tr>\n",
       "    <tr>\n",
       "      <th>visitorId</th>\n",
       "      <th></th>\n",
       "    </tr>\n",
       "  </thead>\n",
       "  <tbody>\n",
       "    <tr>\n",
       "      <td>4256040402</td>\n",
       "      <td>11</td>\n",
       "    </tr>\n",
       "    <tr>\n",
       "      <td>2458001652</td>\n",
       "      <td>11</td>\n",
       "    </tr>\n",
       "    <tr>\n",
       "      <td>2378935119</td>\n",
       "      <td>9</td>\n",
       "    </tr>\n",
       "    <tr>\n",
       "      <td>2038680547</td>\n",
       "      <td>8</td>\n",
       "    </tr>\n",
       "    <tr>\n",
       "      <td>199603092</td>\n",
       "      <td>5</td>\n",
       "    </tr>\n",
       "    <tr>\n",
       "      <td>3062433592</td>\n",
       "      <td>5</td>\n",
       "    </tr>\n",
       "    <tr>\n",
       "      <td>237748145</td>\n",
       "      <td>5</td>\n",
       "    </tr>\n",
       "    <tr>\n",
       "      <td>3803269165</td>\n",
       "      <td>5</td>\n",
       "    </tr>\n",
       "    <tr>\n",
       "      <td>1230306981</td>\n",
       "      <td>5</td>\n",
       "    </tr>\n",
       "    <tr>\n",
       "      <td>3717692402</td>\n",
       "      <td>5</td>\n",
       "    </tr>\n",
       "  </tbody>\n",
       "</table>\n",
       "</div>"
      ],
      "text/plain": [
       "            transactionId\n",
       "visitorId                \n",
       "4256040402  11           \n",
       "2458001652  11           \n",
       "2378935119  9            \n",
       "2038680547  8            \n",
       "199603092   5            \n",
       "3062433592  5            \n",
       "237748145   5            \n",
       "3803269165  5            \n",
       "1230306981  5            \n",
       "3717692402  5            "
      ]
     },
     "execution_count": 24,
     "metadata": {},
     "output_type": "execute_result"
    }
   ],
   "source": [
    "ordersByUsers = orders.groupby('visitorId').agg({'transactionId' : 'nunique'})\n",
    "ordersByUsers.sort_values(by='transactionId',ascending=False).head(10)"
   ]
  },
  {
   "cell_type": "code",
   "execution_count": 25,
   "metadata": {},
   "outputs": [
    {
     "data": {
      "text/plain": [
       "Text(0.5, 1.0, 'Гистограмма заказов')"
      ]
     },
     "execution_count": 25,
     "metadata": {},
     "output_type": "execute_result"
    },
    {
     "data": {
      "image/png": "[encoded data removed]",
      "text/plain": [
       "<Figure size 864x288 with 1 Axes>"
      ]
     },
     "metadata": {
      "needs_background": "light"
     },
     "output_type": "display_data"
    }
   ],
   "source": [
    "fig, ax = plt.subplots(figsize=(12,4))\n",
    "plt.hist(ordersByUsers['transactionId'])\n",
    "plt.title('Гистограмма заказов',fontsize='xx-large')"
   ]
  },
  {
   "cell_type": "markdown",
   "metadata": {},
   "source": [
    "##### Большинство покупателей заказывали только один раз. Однако доля пользователей с двумя заказами тоже значительна.\n",
    "##### Построим точечную диаграмму числа заказов на одного пользователя:"
   ]
  },
  {
   "cell_type": "code",
   "execution_count": 26,
   "metadata": {},
   "outputs": [
    {
     "data": {
      "text/plain": [
       "Text(0.5, 1.0, 'Точечная диаграмма числа заказов на одного пользователя')"
      ]
     },
     "execution_count": 26,
     "metadata": {},
     "output_type": "execute_result"
    },
    {
     "data": {
      "image/png": "[encoded data removed]",
      "text/plain": [
       "<Figure size 864x288 with 1 Axes>"
      ]
     },
     "metadata": {
      "needs_background": "light"
     },
     "output_type": "display_data"
    }
   ],
   "source": [
    "fig, ax = plt.subplots(figsize=(12,4))\n",
    "x_values = pd.Series(range(0,len(ordersByUsers)))\n",
    "plt.scatter(x_values, ordersByUsers['transactionId'])\n",
    "plt.title('Точечная диаграмма числа заказов на одного пользователя',fontsize='xx-large')"
   ]
  },
  {
   "cell_type": "markdown",
   "metadata": {},
   "source": [
    "##### Выводы подтверждаются: много пользователей с двумя заказами. Их точная доля не ясна — непонятно, считать их аномалиями или нет. "
   ]
  },
  {
   "cell_type": "markdown",
   "metadata": {},
   "source": [
    "<a name=\"3.7\"></a><br/>\n",
    "<font size=\"3\">3.7 Посчитайте 95-й и 99-й перцентили количества заказов на пользователя. Выберите границу для определения аномальных пользователей.</font><br/>\n",
    "<font size=\"2\">([к содержанию](#0.0))</font><br/>"
   ]
  },
  {
   "cell_type": "code",
   "execution_count": 27,
   "metadata": {},
   "outputs": [
    {
     "data": {
      "text/plain": [
       "array([1., 2., 4.])"
      ]
     },
     "execution_count": 27,
     "metadata": {},
     "output_type": "execute_result"
    }
   ],
   "source": [
    "np.percentile(ordersByUsers['transactionId'], [90, 95, 99])"
   ]
  },
  {
   "cell_type": "markdown",
   "metadata": {},
   "source": [
    "##### Не более 5% пользователей заказывали 2раза. Необходимо выбрать 4 заказа на одного пользователя за нижнюю границу числа заказов, и отсеять аномальных пользователей по ней. "
   ]
  },
  {
   "cell_type": "code",
   "execution_count": 28,
   "metadata": {},
   "outputs": [
    {
     "data": {
      "text/plain": [
       "Text(0.5, 1.0, 'Точечная диаграмма числа заказов на одного пользователя')"
      ]
     },
     "execution_count": 28,
     "metadata": {},
     "output_type": "execute_result"
    },
    {
     "data": {
      "image/png": "[encoded data removed]",
      "text/plain": [
       "<Figure size 864x288 with 1 Axes>"
      ]
     },
     "metadata": {
      "needs_background": "light"
     },
     "output_type": "display_data"
    }
   ],
   "source": [
    "fig, ax = plt.subplots(figsize=(12,4))\n",
    "x_values = pd.Series(range(0,len(ordersByUsers[ordersByUsers['transactionId']<=4])))\n",
    "plt.scatter(x_values, ordersByUsers[ordersByUsers['transactionId']<=4])\n",
    "plt.title('Точечная диаграмма числа заказов на одного пользователя',fontsize='xx-large')"
   ]
  },
  {
   "cell_type": "markdown",
   "metadata": {},
   "source": [
    "<a name=\"3.8\"></a><br/>\n",
    "<font size=\"3\">3.8 Постройте точечный график стоимостей заказов. Сделайте выводы и предположения.</font><br/>\n",
    "<font size=\"2\">([к содержанию](#0.0))</font><br/>"
   ]
  },
  {
   "cell_type": "code",
   "execution_count": 29,
   "metadata": {},
   "outputs": [],
   "source": [
    "revenueByUsers=orders['revenue'].reset_index()"
   ]
  },
  {
   "cell_type": "code",
   "execution_count": 30,
   "metadata": {},
   "outputs": [
    {
     "data": {
      "text/plain": [
       "Text(0.5, 1.0, 'Точечный график стоимостей заказов')"
      ]
     },
     "execution_count": 30,
     "metadata": {},
     "output_type": "execute_result"
    },
    {
     "data": {
      "image/png": "[encoded data removed]",
      "text/plain": [
       "<Figure size 864x432 with 1 Axes>"
      ]
     },
     "metadata": {
      "needs_background": "light"
     },
     "output_type": "display_data"
    }
   ],
   "source": [
    "fig, ax = plt.subplots(figsize=(12,6))\n",
    "x_values = pd.Series(range(0,len(orders)))\n",
    "plt.scatter(x_values, revenueByUsers['revenue'])\n",
    "plt.title('Точечный график стоимостей заказов',fontsize='xx-large')"
   ]
  },
  {
   "cell_type": "markdown",
   "metadata": {},
   "source": [
    "##### По графику видны несколько аномалий, каких то выводов не возможно сделать.\n",
    "##### Посчитаем 95-й и 99-й перцентили стоимости заказов. Выберите границу для определения аномальных заказов."
   ]
  },
  {
   "cell_type": "markdown",
   "metadata": {},
   "source": [
    "<a name=\"3.9\"></a><br/>\n",
    "<font size=\"3\">3.9 Посчитайте 95-й и 99-й перцентили стоимости заказов. Выберите границу для определения аномальных заказов.</font><br/>\n",
    "<font size=\"2\">([к содержанию](#0.0))</font><br/>"
   ]
  },
  {
   "cell_type": "code",
   "execution_count": 31,
   "metadata": {},
   "outputs": [
    {
     "data": {
      "text/plain": [
       "array([28000. , 58233.2])"
      ]
     },
     "execution_count": 31,
     "metadata": {},
     "output_type": "execute_result"
    }
   ],
   "source": [
    "np.percentile(revenueByUsers['revenue'], [95, 99])"
   ]
  },
  {
   "cell_type": "markdown",
   "metadata": {},
   "source": [
    "##### Не более 5% пользователей заказывали на сумму больше 58233.2 Необходимо выбрать 58233.2 для заказа на одного пользователя за нижнюю границу суммы заказа, и отсеять аномальных пользователей по ней. "
   ]
  },
  {
   "cell_type": "code",
   "execution_count": 32,
   "metadata": {},
   "outputs": [
    {
     "data": {
      "text/plain": [
       "Text(0.5, 1.0, 'Точечный график стоимостей заказов')"
      ]
     },
     "execution_count": 32,
     "metadata": {},
     "output_type": "execute_result"
    },
    {
     "data": {
      "image/png": "[encoded data removed]",
      "text/plain": [
       "<Figure size 864x432 with 1 Axes>"
      ]
     },
     "metadata": {
      "needs_background": "light"
     },
     "output_type": "display_data"
    }
   ],
   "source": [
    "fig, ax = plt.subplots(figsize=(12,6))\n",
    "x_values = pd.Series(range(0,len(revenueByUsers[revenueByUsers['revenue']<=58233.2])))\n",
    "plt.scatter(x_values, revenueByUsers[revenueByUsers['revenue']<=58233.2]['revenue'])\n",
    "plt.title('Точечный график стоимостей заказов',fontsize='xx-large')"
   ]
  },
  {
   "cell_type": "markdown",
   "metadata": {},
   "source": [
    "##### Стало лучше, теперь отчетливо видно, что основная часть заказов вариируется до 5000 у.е."
   ]
  },
  {
   "cell_type": "markdown",
   "metadata": {},
   "source": [
    "<a name=\"3.10\"></a><br/>\n",
    "<font size=\"3\">3.10 Посчитайте статистическую значимость различий в конверсии между группами по «сырым» данным. Сделайте выводы и предположения.</font><br/>\n",
    "<font size=\"2\">([к содержанию](#0.0))</font><br/>"
   ]
  },
  {
   "cell_type": "code",
   "execution_count": 33,
   "metadata": {},
   "outputs": [
    {
     "data": {
      "text/html": [
       "<div>\n",
       "<style scoped>\n",
       "    .dataframe tbody tr th:only-of-type {\n",
       "        vertical-align: middle;\n",
       "    }\n",
       "\n",
       "    .dataframe tbody tr th {\n",
       "        vertical-align: top;\n",
       "    }\n",
       "\n",
       "    .dataframe thead th {\n",
       "        text-align: right;\n",
       "    }\n",
       "</style>\n",
       "<table border=\"1\" class=\"dataframe\">\n",
       "  <thead>\n",
       "    <tr style=\"text-align: right;\">\n",
       "      <th></th>\n",
       "      <th>date</th>\n",
       "      <th>revenueA</th>\n",
       "      <th>count_of_ordersA</th>\n",
       "      <th>cum_revenueA</th>\n",
       "      <th>cum_count_of_ordersA</th>\n",
       "      <th>cum_mean_checkA</th>\n",
       "      <th>revenueB</th>\n",
       "      <th>count_of_ordersB</th>\n",
       "      <th>cum_revenueB</th>\n",
       "      <th>cum_count_of_ordersB</th>\n",
       "      <th>cum_mean_checkB</th>\n",
       "      <th>visitorsA</th>\n",
       "      <th>cum_visitorsA</th>\n",
       "      <th>visitorsB</th>\n",
       "      <th>cum_visitorsB</th>\n",
       "      <th>conversionA</th>\n",
       "      <th>conversionB</th>\n",
       "    </tr>\n",
       "  </thead>\n",
       "  <tbody>\n",
       "    <tr>\n",
       "      <td>0</td>\n",
       "      <td>2019-08-01</td>\n",
       "      <td>148579</td>\n",
       "      <td>24</td>\n",
       "      <td>148579</td>\n",
       "      <td>24</td>\n",
       "      <td>6190.791667</td>\n",
       "      <td>101217</td>\n",
       "      <td>21</td>\n",
       "      <td>101217</td>\n",
       "      <td>21</td>\n",
       "      <td>4819.857143</td>\n",
       "      <td>719</td>\n",
       "      <td>719</td>\n",
       "      <td>713</td>\n",
       "      <td>713</td>\n",
       "      <td>0.03338</td>\n",
       "      <td>0.02945</td>\n",
       "    </tr>\n",
       "  </tbody>\n",
       "</table>\n",
       "</div>"
      ],
      "text/plain": [
       "         date  revenueA  count_of_ordersA  cum_revenueA  cum_count_of_ordersA  \\\n",
       "0  2019-08-01  148579    24                148579        24                     \n",
       "\n",
       "   cum_mean_checkA  revenueB  count_of_ordersB  cum_revenueB  \\\n",
       "0  6190.791667      101217    21                101217         \n",
       "\n",
       "   cum_count_of_ordersB  cum_mean_checkB  visitorsA  cum_visitorsA  visitorsB  \\\n",
       "0  21                    4819.857143      719        719            713         \n",
       "\n",
       "   cum_visitorsB  conversionA  conversionB  \n",
       "0  713            0.03338      0.02945      "
      ]
     },
     "execution_count": 33,
     "metadata": {},
     "output_type": "execute_result"
    }
   ],
   "source": [
    "mergedCummulative.head(1)"
   ]
  },
  {
   "cell_type": "code",
   "execution_count": 34,
   "metadata": {},
   "outputs": [
    {
     "name": "stdout",
     "output_type": "stream",
     "text": [
      "0.000000013\n",
      "0.10177\n"
     ]
    }
   ],
   "source": [
    "print(\"{0:.9f}\".format(stats.mannwhitneyu(mergedCummulative['conversionB'], mergedCummulative['conversionA'])[1]))\n",
    "print(\"{0:.5f}\".format(mergedCummulative['conversionB'].mean()/mergedCummulative['conversionA'].mean()-1))"
   ]
  },
  {
   "cell_type": "markdown",
   "metadata": {},
   "source": [
    "##### P-value значительно меньше 0.05, потому нулевую гипотезу отвергаем. Анализ «сырых данных» сообщает, что в конверсии между группами есть статистически значимые различия. Относительный прирост конверсии группы B к конверсии группы A равен 10.2%."
   ]
  },
  {
   "cell_type": "markdown",
   "metadata": {},
   "source": [
    "<a name=\"3.11\"></a><br/>\n",
    "<font size=\"3\">3.11 Посчитайте статистическую значимость различий в среднем чеке заказа между группами по «сырым» данным. Сделайте выводы и предположения.</font><br/>\n",
    "<font size=\"2\">([к содержанию](#0.0))</font><br/>"
   ]
  },
  {
   "cell_type": "code",
   "execution_count": 35,
   "metadata": {},
   "outputs": [
    {
     "data": {
      "text/html": [
       "<div>\n",
       "<style scoped>\n",
       "    .dataframe tbody tr th:only-of-type {\n",
       "        vertical-align: middle;\n",
       "    }\n",
       "\n",
       "    .dataframe tbody tr th {\n",
       "        vertical-align: top;\n",
       "    }\n",
       "\n",
       "    .dataframe thead th {\n",
       "        text-align: right;\n",
       "    }\n",
       "</style>\n",
       "<table border=\"1\" class=\"dataframe\">\n",
       "  <thead>\n",
       "    <tr style=\"text-align: right;\">\n",
       "      <th></th>\n",
       "      <th>transactionId</th>\n",
       "      <th>visitorId</th>\n",
       "      <th>date</th>\n",
       "      <th>revenue</th>\n",
       "      <th>group</th>\n",
       "    </tr>\n",
       "  </thead>\n",
       "  <tbody>\n",
       "    <tr>\n",
       "      <td>0</td>\n",
       "      <td>3667963787</td>\n",
       "      <td>3312258926</td>\n",
       "      <td>2019-08-15</td>\n",
       "      <td>1650</td>\n",
       "      <td>B</td>\n",
       "    </tr>\n",
       "    <tr>\n",
       "      <td>1</td>\n",
       "      <td>2804400009</td>\n",
       "      <td>3642806036</td>\n",
       "      <td>2019-08-15</td>\n",
       "      <td>730</td>\n",
       "      <td>B</td>\n",
       "    </tr>\n",
       "    <tr>\n",
       "      <td>2</td>\n",
       "      <td>2961555356</td>\n",
       "      <td>4069496402</td>\n",
       "      <td>2019-08-15</td>\n",
       "      <td>400</td>\n",
       "      <td>A</td>\n",
       "    </tr>\n",
       "    <tr>\n",
       "      <td>3</td>\n",
       "      <td>3797467345</td>\n",
       "      <td>1196621759</td>\n",
       "      <td>2019-08-15</td>\n",
       "      <td>9759</td>\n",
       "      <td>B</td>\n",
       "    </tr>\n",
       "    <tr>\n",
       "      <td>4</td>\n",
       "      <td>2282983706</td>\n",
       "      <td>2322279887</td>\n",
       "      <td>2019-08-15</td>\n",
       "      <td>2308</td>\n",
       "      <td>B</td>\n",
       "    </tr>\n",
       "  </tbody>\n",
       "</table>\n",
       "</div>"
      ],
      "text/plain": [
       "   transactionId   visitorId        date  revenue group\n",
       "0  3667963787     3312258926  2019-08-15  1650     B   \n",
       "1  2804400009     3642806036  2019-08-15  730      B   \n",
       "2  2961555356     4069496402  2019-08-15  400      A   \n",
       "3  3797467345     1196621759  2019-08-15  9759     B   \n",
       "4  2282983706     2322279887  2019-08-15  2308     B   "
      ]
     },
     "execution_count": 35,
     "metadata": {},
     "output_type": "execute_result"
    }
   ],
   "source": [
    "orders.head()"
   ]
  },
  {
   "cell_type": "code",
   "execution_count": 36,
   "metadata": {},
   "outputs": [
    {
     "name": "stdout",
     "output_type": "stream",
     "text": [
      "0.364645493\n",
      "0.25871\n"
     ]
    }
   ],
   "source": [
    "print(\"{0:.9f}\".format(stats.mannwhitneyu(orders.query('group==\"B\"')['revenue'], orders.query('group==\"A\"')['revenue'])[1]))\n",
    "print(\"{0:.5f}\".format(orders.query('group==\"B\"')['revenue'].mean()/orders.query('group==\"A\"')['revenue'].mean()-1))"
   ]
  },
  {
   "cell_type": "markdown",
   "metadata": {},
   "source": [
    "##### P-value больше 0.05 — статистически значимых отличий в среднем чеке между группами нет. А вот относительное различие среднего чека между сегментами составляет 25,9%"
   ]
  },
  {
   "cell_type": "markdown",
   "metadata": {},
   "source": [
    "<a name=\"3.12\"></a><br/>\n",
    "<a name=\"3.12.1\"></a><br/>\n",
    "<font size=\"3\">3.12 Чистка данных</font><br/>\n",
    "<font size=\"2\">([к содержанию](#0.0))</font><br/>\n",
    "\n",
    "<font size=\"3\">3.12.1 LEVEL1: Очистим данные, уберем заказы больше 4 и где выручка составила больше 58233.2 у.е.</font><br/>"
   ]
  },
  {
   "cell_type": "code",
   "execution_count": 37,
   "metadata": {},
   "outputs": [
    {
     "data": {
      "text/html": [
       "<div>\n",
       "<style scoped>\n",
       "    .dataframe tbody tr th:only-of-type {\n",
       "        vertical-align: middle;\n",
       "    }\n",
       "\n",
       "    .dataframe tbody tr th {\n",
       "        vertical-align: top;\n",
       "    }\n",
       "\n",
       "    .dataframe thead th {\n",
       "        text-align: right;\n",
       "    }\n",
       "</style>\n",
       "<table border=\"1\" class=\"dataframe\">\n",
       "  <thead>\n",
       "    <tr style=\"text-align: right;\">\n",
       "      <th></th>\n",
       "      <th>visitorId</th>\n",
       "      <th>transactionId</th>\n",
       "    </tr>\n",
       "  </thead>\n",
       "  <tbody>\n",
       "    <tr>\n",
       "      <td>0</td>\n",
       "      <td>5114589</td>\n",
       "      <td>1</td>\n",
       "    </tr>\n",
       "    <tr>\n",
       "      <td>1</td>\n",
       "      <td>6958315</td>\n",
       "      <td>1</td>\n",
       "    </tr>\n",
       "    <tr>\n",
       "      <td>2</td>\n",
       "      <td>8300375</td>\n",
       "      <td>2</td>\n",
       "    </tr>\n",
       "    <tr>\n",
       "      <td>3</td>\n",
       "      <td>11685486</td>\n",
       "      <td>1</td>\n",
       "    </tr>\n",
       "    <tr>\n",
       "      <td>4</td>\n",
       "      <td>39475350</td>\n",
       "      <td>1</td>\n",
       "    </tr>\n",
       "  </tbody>\n",
       "</table>\n",
       "</div>"
      ],
      "text/plain": [
       "   visitorId  transactionId\n",
       "0  5114589    1            \n",
       "1  6958315    1            \n",
       "2  8300375    2            \n",
       "3  11685486   1            \n",
       "4  39475350   1            "
      ]
     },
     "execution_count": 37,
     "metadata": {},
     "output_type": "execute_result"
    }
   ],
   "source": [
    "# у нас есть список покупателей и кол-во заказов\n",
    "ordersByUsers=ordersByUsers.reset_index()\n",
    "ordersByUsers.head()"
   ]
  },
  {
   "cell_type": "code",
   "execution_count": 38,
   "metadata": {},
   "outputs": [
    {
     "name": "stdout",
     "output_type": "stream",
     "text": [
      "Покупателей совершивших больше 4х заказов : 10\n"
     ]
    }
   ],
   "source": [
    "# составим список покупателей у которых больше 3х заказов, запишем в переменную anomaly_buyers1\n",
    "anomaly_buyers1=ordersByUsers.query('transactionId>4')['visitorId'].unique().tolist()\n",
    "print('Покупателей совершивших больше 4х заказов :',len(anomaly_buyers1))"
   ]
  },
  {
   "cell_type": "code",
   "execution_count": 39,
   "metadata": {},
   "outputs": [
    {
     "name": "stdout",
     "output_type": "stream",
     "text": [
      "Покупателей у которых выручка по заказу составила больше 58233.2 у.е.: 11\n"
     ]
    }
   ],
   "source": [
    "# составим список покупателей у которых выручка по заказу составила больше 40000 у.е., \n",
    "# запишем в переменную anomaly_buyers2\n",
    "anomaly_buyers2=orders.query('revenue>58233.2')['visitorId'].unique().tolist()\n",
    "print('Покупателей у которых выручка по заказу составила больше 58233.2 у.е.:',len(anomaly_buyers2))"
   ]
  },
  {
   "cell_type": "code",
   "execution_count": 40,
   "metadata": {},
   "outputs": [
    {
     "name": "stdout",
     "output_type": "stream",
     "text": [
      "Количесто покупателей данные по которам являются выбросы: 21\n"
     ]
    }
   ],
   "source": [
    "# единый список покупателей которые относятся к выбросам сохраним в anomaly_buyers2\n",
    "for name in anomaly_buyers1:\n",
    "    if name not in anomaly_buyers2:\n",
    "        anomaly_buyers2.append(name)        \n",
    "print('Количесто покупателей данные по которам являются выбросы:',len(anomaly_buyers2))"
   ]
  },
  {
   "cell_type": "code",
   "execution_count": 41,
   "metadata": {
    "scrolled": true
   },
   "outputs": [
    {
     "name": "stdout",
     "output_type": "stream",
     "text": [
      "Выручка от клиентов значение, которых мы подсчитали как выбросы: 2808409\n",
      "Выручка от массового клиента: 7184154\n",
      "Доля клиентов anomaly_buyers2 в 2.04% от всех клиентов, приносит нам  28.10% от всей выручки\n"
     ]
    }
   ],
   "source": [
    "print('Выручка от клиентов значение, которых мы подсчитали как выбросы:', orders.query('visitorId==@anomaly_buyers2')['revenue'].sum())\n",
    "print('Выручка от массового клиента:', orders.query('visitorId!=@anomaly_buyers2')['revenue'].sum())\n",
    "print('Доля клиентов anomaly_buyers2 в {:.2%} от всех клиентов,'.format(len(anomaly_buyers2)/len(ordersByUsers)), 'приносит нам  {:.2%} от всей выручки'.format(orders.query('visitorId==@anomaly_buyers2')['revenue'].sum()/orders['revenue'].sum()))"
   ]
  },
  {
   "cell_type": "markdown",
   "metadata": {},
   "source": [
    "##### Эти цифры говорят о том, что даже если выбрать пороги по заказам и выручки в 1%, такие пользователи делают нам 28% всей выручки, при том, что таких пользователей всего 2%!!\n",
    "##### Считаю просто необходимо вывести таких пользователей в отдельную касту Golden_buyers, затем провести тесты относительно этой группы, но предварительно нужно посмотреть в каком соотношении  распределились пользователи (группа А или В) внутри этой касты Golden_buyers.\n",
    "\n",
    "##### Нам стоит переорентировать все усилия для привлечения таких пользователей. У нас в разы сократятся трудоресурсы, если мы привлечем хотя бы еще половину от таких VIP покупателей и отпустим в свободное плавание \"массмаркет\"."
   ]
  },
  {
   "cell_type": "code",
   "execution_count": 42,
   "metadata": {},
   "outputs": [
    {
     "name": "stdout",
     "output_type": "stream",
     "text": [
      "Пользователей из группы A: 5 Пользователей из группы B: 4\n"
     ]
    }
   ],
   "source": [
    "# узнаем в каком соотношении распределились пользователи (группа А или В) внутри anomaly_buyers2\n",
    "A=0\n",
    "B=0\n",
    "for name in anomaly_buyers2:\n",
    "    name_of_group=orders.query('visitorId==@name')['group'].tolist()\n",
    "    if name_of_group==['A']:\n",
    "        A+=1\n",
    "    elif name_of_group==['B']:\n",
    "        B+=1\n",
    "print('Пользователей из группы A:',A,'Пользователей из группы B:',B)"
   ]
  },
  {
   "cell_type": "markdown",
   "metadata": {},
   "source": [
    "#####  Что мы видим? То, что из 21 пользователя 5 в группе А и 4 в В! Где остальные? выходят они в А и В одновременно.\n",
    "##### Один из основных принцип работы A/B-теста - один пользователь видит только одну версию на всём протяжении теста."
   ]
  },
  {
   "cell_type": "markdown",
   "metadata": {},
   "source": [
    "<a name=\"3.12.2\"></a><br/>\n",
    "<font size=\"3\">3.12.2 LEVEL2: Чистка данных.</font><br/>\n",
    "<font size=\"2\">([к содержанию](#0.0))</font><br/>\n",
    "Посмотрим, что с остальными пользователями."
   ]
  },
  {
   "cell_type": "code",
   "execution_count": 43,
   "metadata": {},
   "outputs": [
    {
     "name": "stdout",
     "output_type": "stream",
     "text": [
      "Количество клиентов, которые есть в двух группах одновременно: 58\n",
      "Размер выручки по этим клиентам составляет: 1558935\n"
     ]
    }
   ],
   "source": [
    "list_of_buyers_A=orders.query('group==\"A\"')['visitorId'].unique().tolist()\n",
    "list_of_buyers_B=orders.query('group==\"B\"')['visitorId'].unique().tolist()\n",
    "bad_buyers=[]\n",
    "for name in list_of_buyers_A:\n",
    "    if name in list_of_buyers_B:\n",
    "        bad_buyers.append(name)\n",
    "print('Количество клиентов, которые есть в двух группах одновременно:',len(bad_buyers))\n",
    "print('Размер выручки по этим клиентам составляет:', orders.query('visitorId==@bad_buyers')['revenue'].sum())\n"
   ]
  },
  {
   "cell_type": "markdown",
   "metadata": {},
   "source": [
    "##### Мы не можем просто так взять и выкинуть 58 клиентов, которые принесли нам 1,5млн. \n",
    "\n",
    "##### Что делать? \n",
    "\n",
    "* 1.Во-первых, надо уведомить людей кто предоставлял данные для тестов, что у них очередные проблеммы в данных.\n",
    "* 2.Попробуем самостоятельно почистить данные, пока ответственные ищют ошибку при выгрузке. \n",
    "\n",
    "##### Каким образом можем почистить? \n",
    "\n",
    "##### Можем найти первый визит пользователя и зафиксировать за ним группу первого визита, при условии, что в один и тот же день у него не было визитов под разными идентификаторами групп(если бы у нас фиксировалось еще и время прихода, а не только дата, то нам бы не пришлось делать доп.проверки)\n",
    "\n",
    "##### Проверим, есть ли пользователи, которые приходили в один и тот же день из разных групп."
   ]
  },
  {
   "cell_type": "code",
   "execution_count": 44,
   "metadata": {},
   "outputs": [
    {
     "data": {
      "text/html": [
       "<div>\n",
       "<style scoped>\n",
       "    .dataframe tbody tr th:only-of-type {\n",
       "        vertical-align: middle;\n",
       "    }\n",
       "\n",
       "    .dataframe tbody tr th {\n",
       "        vertical-align: top;\n",
       "    }\n",
       "\n",
       "    .dataframe thead th {\n",
       "        text-align: right;\n",
       "    }\n",
       "</style>\n",
       "<table border=\"1\" class=\"dataframe\">\n",
       "  <thead>\n",
       "    <tr style=\"text-align: right;\">\n",
       "      <th></th>\n",
       "      <th>visitorId</th>\n",
       "      <th>date</th>\n",
       "      <th>group</th>\n",
       "    </tr>\n",
       "  </thead>\n",
       "  <tbody>\n",
       "    <tr>\n",
       "      <td>0</td>\n",
       "      <td>4069496402</td>\n",
       "      <td>2019-08-15</td>\n",
       "      <td>A</td>\n",
       "    </tr>\n",
       "    <tr>\n",
       "      <td>1</td>\n",
       "      <td>963407295</td>\n",
       "      <td>2019-08-15</td>\n",
       "      <td>B</td>\n",
       "    </tr>\n",
       "    <tr>\n",
       "      <td>2</td>\n",
       "      <td>351125977</td>\n",
       "      <td>2019-08-15</td>\n",
       "      <td>B</td>\n",
       "    </tr>\n",
       "    <tr>\n",
       "      <td>3</td>\n",
       "      <td>3234906277</td>\n",
       "      <td>2019-08-15</td>\n",
       "      <td>B</td>\n",
       "    </tr>\n",
       "    <tr>\n",
       "      <td>4</td>\n",
       "      <td>199603092</td>\n",
       "      <td>2019-08-15</td>\n",
       "      <td>A</td>\n",
       "    </tr>\n",
       "  </tbody>\n",
       "</table>\n",
       "</div>"
      ],
      "text/plain": [
       "    visitorId        date group\n",
       "0  4069496402  2019-08-15  A   \n",
       "1  963407295   2019-08-15  B   \n",
       "2  351125977   2019-08-15  B   \n",
       "3  3234906277  2019-08-15  B   \n",
       "4  199603092   2019-08-15  A   "
      ]
     },
     "execution_count": 44,
     "metadata": {},
     "output_type": "execute_result"
    }
   ],
   "source": [
    "orders_bad_buyers=orders.query('visitorId==@bad_buyers').groupby('date')[['visitorId','date','group']].head()\n",
    "orders_bad_buyers=orders_bad_buyers.reset_index()\n",
    "del orders_bad_buyers['index']\n",
    "orders_bad_buyers.head()"
   ]
  },
  {
   "cell_type": "code",
   "execution_count": 45,
   "metadata": {},
   "outputs": [
    {
     "data": {
      "text/html": [
       "<div>\n",
       "<style scoped>\n",
       "    .dataframe tbody tr th:only-of-type {\n",
       "        vertical-align: middle;\n",
       "    }\n",
       "\n",
       "    .dataframe tbody tr th {\n",
       "        vertical-align: top;\n",
       "    }\n",
       "\n",
       "    .dataframe thead th {\n",
       "        text-align: right;\n",
       "    }\n",
       "</style>\n",
       "<table border=\"1\" class=\"dataframe\">\n",
       "  <thead>\n",
       "    <tr style=\"text-align: right;\">\n",
       "      <th></th>\n",
       "      <th>visitorId</th>\n",
       "      <th>date</th>\n",
       "    </tr>\n",
       "  </thead>\n",
       "  <tbody>\n",
       "    <tr>\n",
       "      <td>0</td>\n",
       "      <td>8300375</td>\n",
       "      <td>2019-08-01</td>\n",
       "    </tr>\n",
       "    <tr>\n",
       "      <td>1</td>\n",
       "      <td>199603092</td>\n",
       "      <td>2019-08-02</td>\n",
       "    </tr>\n",
       "    <tr>\n",
       "      <td>2</td>\n",
       "      <td>232979603</td>\n",
       "      <td>2019-08-31</td>\n",
       "    </tr>\n",
       "    <tr>\n",
       "      <td>3</td>\n",
       "      <td>237748145</td>\n",
       "      <td>2019-08-20</td>\n",
       "    </tr>\n",
       "    <tr>\n",
       "      <td>4</td>\n",
       "      <td>276558944</td>\n",
       "      <td>2019-08-12</td>\n",
       "    </tr>\n",
       "  </tbody>\n",
       "</table>\n",
       "</div>"
      ],
      "text/plain": [
       "   visitorId        date\n",
       "0  8300375    2019-08-01\n",
       "1  199603092  2019-08-02\n",
       "2  232979603  2019-08-31\n",
       "3  237748145  2019-08-20\n",
       "4  276558944  2019-08-12"
      ]
     },
     "execution_count": 45,
     "metadata": {},
     "output_type": "execute_result"
    }
   ],
   "source": [
    "first_visit_of_bad_buyers=pd.DataFrame(orders_bad_buyers.groupby('visitorId')['date'].min())\n",
    "first_visit_of_bad_buyers=first_visit_of_bad_buyers.reset_index()\n",
    "first_visit_of_bad_buyers.head()"
   ]
  },
  {
   "cell_type": "code",
   "execution_count": 46,
   "metadata": {
    "scrolled": true
   },
   "outputs": [
    {
     "name": "stdout",
     "output_type": "stream",
     "text": [
      "Количество покупателей,которые в свой ПЕРВЫЙ день покупки имели разные идентификаторы групп: 12\n",
      "Размер выручки по этим клиентам составляет: 358038 это 3.58% от всей выручки\n"
     ]
    }
   ],
   "source": [
    "epic_fail_uid=[]\n",
    "for i in range(len(first_visit_of_bad_buyers)):\n",
    "    uid=first_visit_of_bad_buyers.loc[i, 'visitorId']\n",
    "    date=first_visit_of_bad_buyers.loc[i, 'date']\n",
    "    if len(orders_bad_buyers.query('visitorId==@uid & date==@date')['group'].tolist())>1:\n",
    "        epic_fail_uid.append(uid)\n",
    "print('Количество покупателей,которые в свой ПЕРВЫЙ день покупки имели разные идентификаторы групп:', len(epic_fail_uid))\n",
    "print('Размер выручки по этим клиентам составляет:', orders.query('visitorId==@epic_fail_uid')['revenue'].sum(),'это {:.2%} от всей выручки'.format(orders.query('visitorId==@epic_fail_uid')['revenue'].sum()/orders['revenue'].sum()))"
   ]
  },
  {
   "cell_type": "code",
   "execution_count": 47,
   "metadata": {},
   "outputs": [
    {
     "data": {
      "text/html": [
       "<div>\n",
       "<style scoped>\n",
       "    .dataframe tbody tr th:only-of-type {\n",
       "        vertical-align: middle;\n",
       "    }\n",
       "\n",
       "    .dataframe tbody tr th {\n",
       "        vertical-align: top;\n",
       "    }\n",
       "\n",
       "    .dataframe thead th {\n",
       "        text-align: right;\n",
       "    }\n",
       "</style>\n",
       "<table border=\"1\" class=\"dataframe\">\n",
       "  <thead>\n",
       "    <tr style=\"text-align: right;\">\n",
       "      <th></th>\n",
       "      <th>transactionId</th>\n",
       "      <th>visitorId</th>\n",
       "      <th>date</th>\n",
       "      <th>revenue</th>\n",
       "      <th>group</th>\n",
       "    </tr>\n",
       "  </thead>\n",
       "  <tbody>\n",
       "    <tr>\n",
       "      <td>1094</td>\n",
       "      <td>3592955527</td>\n",
       "      <td>608641596</td>\n",
       "      <td>2019-08-14</td>\n",
       "      <td>16490</td>\n",
       "      <td>B</td>\n",
       "    </tr>\n",
       "    <tr>\n",
       "      <td>1095</td>\n",
       "      <td>2662137336</td>\n",
       "      <td>3733762160</td>\n",
       "      <td>2019-08-14</td>\n",
       "      <td>6490</td>\n",
       "      <td>B</td>\n",
       "    </tr>\n",
       "    <tr>\n",
       "      <td>1096</td>\n",
       "      <td>2203539145</td>\n",
       "      <td>370388673</td>\n",
       "      <td>2019-08-14</td>\n",
       "      <td>3190</td>\n",
       "      <td>A</td>\n",
       "    </tr>\n",
       "    <tr>\n",
       "      <td>1097</td>\n",
       "      <td>1807773912</td>\n",
       "      <td>573423106</td>\n",
       "      <td>2019-08-14</td>\n",
       "      <td>10550</td>\n",
       "      <td>A</td>\n",
       "    </tr>\n",
       "    <tr>\n",
       "      <td>1098</td>\n",
       "      <td>1947021204</td>\n",
       "      <td>1614305549</td>\n",
       "      <td>2019-08-14</td>\n",
       "      <td>100</td>\n",
       "      <td>A</td>\n",
       "    </tr>\n",
       "  </tbody>\n",
       "</table>\n",
       "</div>"
      ],
      "text/plain": [
       "      transactionId   visitorId        date  revenue group\n",
       "1094  3592955527     608641596   2019-08-14  16490    B   \n",
       "1095  2662137336     3733762160  2019-08-14  6490     B   \n",
       "1096  2203539145     370388673   2019-08-14  3190     A   \n",
       "1097  1807773912     573423106   2019-08-14  10550    A   \n",
       "1098  1947021204     1614305549  2019-08-14  100      A   "
      ]
     },
     "execution_count": 47,
     "metadata": {},
     "output_type": "execute_result"
    }
   ],
   "source": [
    "# почистим orders от неисправимых клиентов из списка epic_fail_uid и anomaly_buyers2\n",
    "filtred_uid=epic_fail_uid+anomaly_buyers2\n",
    "orders=orders.query('visitorId!=@filtred_uid')\n",
    "orders=orders.reset_index()\n",
    "del orders['index']\n",
    "orders.tail()"
   ]
  },
  {
   "cell_type": "markdown",
   "metadata": {},
   "source": [
    "##### Перекрасим группы покупателей в таблице orders по первой покупке.(Правильней нам делать это было бы по таблице визитов, но в ней только агригированные данные, нет информации по заходам)"
   ]
  },
  {
   "cell_type": "code",
   "execution_count": 48,
   "metadata": {},
   "outputs": [
    {
     "name": "stdout",
     "output_type": "stream",
     "text": [
      "Количество покупателей для исправления группы: 38\n"
     ]
    }
   ],
   "source": [
    "for name in filtred_uid:\n",
    "    try:\n",
    "        bad_buyers.remove(name)\n",
    "        continue\n",
    "    except ValueError:\n",
    "        continue\n",
    "print('Количество покупателей для исправления группы:',len(bad_buyers))"
   ]
  },
  {
   "cell_type": "code",
   "execution_count": 49,
   "metadata": {},
   "outputs": [
    {
     "data": {
      "text/html": [
       "<div>\n",
       "<style scoped>\n",
       "    .dataframe tbody tr th:only-of-type {\n",
       "        vertical-align: middle;\n",
       "    }\n",
       "\n",
       "    .dataframe tbody tr th {\n",
       "        vertical-align: top;\n",
       "    }\n",
       "\n",
       "    .dataframe thead th {\n",
       "        text-align: right;\n",
       "    }\n",
       "</style>\n",
       "<table border=\"1\" class=\"dataframe\">\n",
       "  <thead>\n",
       "    <tr style=\"text-align: right;\">\n",
       "      <th></th>\n",
       "      <th>transactionId</th>\n",
       "      <th>visitorId</th>\n",
       "      <th>date</th>\n",
       "      <th>revenue</th>\n",
       "      <th>group</th>\n",
       "    </tr>\n",
       "  </thead>\n",
       "  <tbody>\n",
       "    <tr>\n",
       "      <td>117</td>\n",
       "      <td>1665445278</td>\n",
       "      <td>1738359350</td>\n",
       "      <td>2019-08-22</td>\n",
       "      <td>3070</td>\n",
       "      <td>A</td>\n",
       "    </tr>\n",
       "    <tr>\n",
       "      <td>307</td>\n",
       "      <td>3006440800</td>\n",
       "      <td>1738359350</td>\n",
       "      <td>2019-08-28</td>\n",
       "      <td>890</td>\n",
       "      <td>B</td>\n",
       "    </tr>\n",
       "    <tr>\n",
       "      <td>794</td>\n",
       "      <td>2229298010</td>\n",
       "      <td>1738359350</td>\n",
       "      <td>2019-08-30</td>\n",
       "      <td>2000</td>\n",
       "      <td>B</td>\n",
       "    </tr>\n",
       "  </tbody>\n",
       "</table>\n",
       "</div>"
      ],
      "text/plain": [
       "     transactionId   visitorId        date  revenue group\n",
       "117  1665445278     1738359350  2019-08-22  3070     A   \n",
       "307  3006440800     1738359350  2019-08-28  890      B   \n",
       "794  2229298010     1738359350  2019-08-30  2000     B   "
      ]
     },
     "execution_count": 49,
     "metadata": {},
     "output_type": "execute_result"
    }
   ],
   "source": [
    "# проверка\n",
    "orders.query('visitorId==@bad_buyers[1]')"
   ]
  },
  {
   "cell_type": "code",
   "execution_count": 50,
   "metadata": {},
   "outputs": [],
   "source": [
    "# красим группы в нужную букву\n",
    "for name in bad_buyers:\n",
    "    date=orders.query('visitorId==@name')['date'].min()   \n",
    "    group=orders.query('visitorId==@name & date==@date')['group'].tolist()\n",
    "    index=orders.query('visitorId==@name').index.tolist()\n",
    "    orders.loc[index,'group']=group[0]"
   ]
  },
  {
   "cell_type": "code",
   "execution_count": 51,
   "metadata": {},
   "outputs": [
    {
     "data": {
      "text/html": [
       "<div>\n",
       "<style scoped>\n",
       "    .dataframe tbody tr th:only-of-type {\n",
       "        vertical-align: middle;\n",
       "    }\n",
       "\n",
       "    .dataframe tbody tr th {\n",
       "        vertical-align: top;\n",
       "    }\n",
       "\n",
       "    .dataframe thead th {\n",
       "        text-align: right;\n",
       "    }\n",
       "</style>\n",
       "<table border=\"1\" class=\"dataframe\">\n",
       "  <thead>\n",
       "    <tr style=\"text-align: right;\">\n",
       "      <th></th>\n",
       "      <th>transactionId</th>\n",
       "      <th>visitorId</th>\n",
       "      <th>date</th>\n",
       "      <th>revenue</th>\n",
       "      <th>group</th>\n",
       "    </tr>\n",
       "  </thead>\n",
       "  <tbody>\n",
       "    <tr>\n",
       "      <td>117</td>\n",
       "      <td>1665445278</td>\n",
       "      <td>1738359350</td>\n",
       "      <td>2019-08-22</td>\n",
       "      <td>3070</td>\n",
       "      <td>A</td>\n",
       "    </tr>\n",
       "    <tr>\n",
       "      <td>307</td>\n",
       "      <td>3006440800</td>\n",
       "      <td>1738359350</td>\n",
       "      <td>2019-08-28</td>\n",
       "      <td>890</td>\n",
       "      <td>A</td>\n",
       "    </tr>\n",
       "    <tr>\n",
       "      <td>794</td>\n",
       "      <td>2229298010</td>\n",
       "      <td>1738359350</td>\n",
       "      <td>2019-08-30</td>\n",
       "      <td>2000</td>\n",
       "      <td>A</td>\n",
       "    </tr>\n",
       "  </tbody>\n",
       "</table>\n",
       "</div>"
      ],
      "text/plain": [
       "     transactionId   visitorId        date  revenue group\n",
       "117  1665445278     1738359350  2019-08-22  3070     A   \n",
       "307  3006440800     1738359350  2019-08-28  890      A   \n",
       "794  2229298010     1738359350  2019-08-30  2000     A   "
      ]
     },
     "execution_count": 51,
     "metadata": {},
     "output_type": "execute_result"
    }
   ],
   "source": [
    "# проверка\n",
    "orders.query('visitorId==@bad_buyers[1]')"
   ]
  },
  {
   "cell_type": "markdown",
   "metadata": {},
   "source": [
    "##### Исправили,что смогли, но опять же есть большой вопрос к таблице визитов. \n",
    "##### Таблица визитов связана с orders, и поидее должен поменятся перевес количества визитов из группы А в В, но доказать наличие ошибок в ней по аналогии с orders у нас нет возможности, т.к данные там агрегированы."
   ]
  },
  {
   "cell_type": "markdown",
   "metadata": {},
   "source": [
    "<a name=\"3.13\"></a><br/>\n",
    "<font size=\"3\">3.13 Посчитайте статистическую значимость различий в конверсии между группами по «очищенным» данным. Сделайте выводы и предположения.</font><br/>\n",
    "<font size=\"2\">([к содержанию](#0.0))</font><br/>"
   ]
  },
  {
   "cell_type": "code",
   "execution_count": 52,
   "metadata": {},
   "outputs": [],
   "source": [
    "count_of_ordersByUsersA_clean=orders.query('group==\"A\"').groupby('date').agg({'transactionId':'nunique'}).reset_index()\n",
    "count_of_ordersByUsersA_clean['cum_count_of_ordersA_clean']=count_of_ordersByUsersA_clean['transactionId'].cumsum()\n",
    "count_of_ordersByUsersB_clean=orders.query('group==\"B\"').groupby('date').agg({'transactionId':'nunique'}).reset_index()\n",
    "count_of_ordersByUsersB_clean['cum_count_of_ordersB_clean']=count_of_ordersByUsersB_clean['transactionId'].cumsum()"
   ]
  },
  {
   "cell_type": "code",
   "execution_count": 53,
   "metadata": {},
   "outputs": [
    {
     "data": {
      "text/html": [
       "<div>\n",
       "<style scoped>\n",
       "    .dataframe tbody tr th:only-of-type {\n",
       "        vertical-align: middle;\n",
       "    }\n",
       "\n",
       "    .dataframe tbody tr th {\n",
       "        vertical-align: top;\n",
       "    }\n",
       "\n",
       "    .dataframe thead th {\n",
       "        text-align: right;\n",
       "    }\n",
       "</style>\n",
       "<table border=\"1\" class=\"dataframe\">\n",
       "  <thead>\n",
       "    <tr style=\"text-align: right;\">\n",
       "      <th></th>\n",
       "      <th>date</th>\n",
       "      <th>transactionId</th>\n",
       "      <th>cum_count_of_ordersA_clean</th>\n",
       "      <th>conversionA_clean</th>\n",
       "    </tr>\n",
       "  </thead>\n",
       "  <tbody>\n",
       "    <tr>\n",
       "      <td>26</td>\n",
       "      <td>2019-08-27</td>\n",
       "      <td>26</td>\n",
       "      <td>449</td>\n",
       "      <td>0.02742</td>\n",
       "    </tr>\n",
       "    <tr>\n",
       "      <td>27</td>\n",
       "      <td>2019-08-28</td>\n",
       "      <td>17</td>\n",
       "      <td>466</td>\n",
       "      <td>0.02746</td>\n",
       "    </tr>\n",
       "    <tr>\n",
       "      <td>28</td>\n",
       "      <td>2019-08-29</td>\n",
       "      <td>21</td>\n",
       "      <td>487</td>\n",
       "      <td>0.02775</td>\n",
       "    </tr>\n",
       "    <tr>\n",
       "      <td>29</td>\n",
       "      <td>2019-08-30</td>\n",
       "      <td>10</td>\n",
       "      <td>497</td>\n",
       "      <td>0.02755</td>\n",
       "    </tr>\n",
       "    <tr>\n",
       "      <td>30</td>\n",
       "      <td>2019-08-31</td>\n",
       "      <td>10</td>\n",
       "      <td>507</td>\n",
       "      <td>0.02706</td>\n",
       "    </tr>\n",
       "  </tbody>\n",
       "</table>\n",
       "</div>"
      ],
      "text/plain": [
       "          date  transactionId  cum_count_of_ordersA_clean  conversionA_clean\n",
       "26  2019-08-27  26             449                         0.02742          \n",
       "27  2019-08-28  17             466                         0.02746          \n",
       "28  2019-08-29  21             487                         0.02775          \n",
       "29  2019-08-30  10             497                         0.02755          \n",
       "30  2019-08-31  10             507                         0.02706          "
      ]
     },
     "execution_count": 53,
     "metadata": {},
     "output_type": "execute_result"
    }
   ],
   "source": [
    "count_of_ordersByUsersA_clean['conversionA_clean']=(count_of_ordersByUsersA_clean['cum_count_of_ordersA_clean']/mergedCummulative['cum_visitorsA']).round(5)\n",
    "count_of_ordersByUsersA_clean.tail()"
   ]
  },
  {
   "cell_type": "code",
   "execution_count": 54,
   "metadata": {},
   "outputs": [
    {
     "data": {
      "text/html": [
       "<div>\n",
       "<style scoped>\n",
       "    .dataframe tbody tr th:only-of-type {\n",
       "        vertical-align: middle;\n",
       "    }\n",
       "\n",
       "    .dataframe tbody tr th {\n",
       "        vertical-align: top;\n",
       "    }\n",
       "\n",
       "    .dataframe thead th {\n",
       "        text-align: right;\n",
       "    }\n",
       "</style>\n",
       "<table border=\"1\" class=\"dataframe\">\n",
       "  <thead>\n",
       "    <tr style=\"text-align: right;\">\n",
       "      <th></th>\n",
       "      <th>date</th>\n",
       "      <th>transactionId</th>\n",
       "      <th>cum_count_of_ordersB_clean</th>\n",
       "      <th>conversionB_clean</th>\n",
       "    </tr>\n",
       "  </thead>\n",
       "  <tbody>\n",
       "    <tr>\n",
       "      <td>26</td>\n",
       "      <td>2019-08-27</td>\n",
       "      <td>12</td>\n",
       "      <td>512</td>\n",
       "      <td>0.03099</td>\n",
       "    </tr>\n",
       "    <tr>\n",
       "      <td>27</td>\n",
       "      <td>2019-08-28</td>\n",
       "      <td>25</td>\n",
       "      <td>537</td>\n",
       "      <td>0.03126</td>\n",
       "    </tr>\n",
       "    <tr>\n",
       "      <td>28</td>\n",
       "      <td>2019-08-29</td>\n",
       "      <td>16</td>\n",
       "      <td>553</td>\n",
       "      <td>0.03123</td>\n",
       "    </tr>\n",
       "    <tr>\n",
       "      <td>29</td>\n",
       "      <td>2019-08-30</td>\n",
       "      <td>21</td>\n",
       "      <td>574</td>\n",
       "      <td>0.03154</td>\n",
       "    </tr>\n",
       "    <tr>\n",
       "      <td>30</td>\n",
       "      <td>2019-08-31</td>\n",
       "      <td>18</td>\n",
       "      <td>592</td>\n",
       "      <td>0.03130</td>\n",
       "    </tr>\n",
       "  </tbody>\n",
       "</table>\n",
       "</div>"
      ],
      "text/plain": [
       "          date  transactionId  cum_count_of_ordersB_clean  conversionB_clean\n",
       "26  2019-08-27  12             512                         0.03099          \n",
       "27  2019-08-28  25             537                         0.03126          \n",
       "28  2019-08-29  16             553                         0.03123          \n",
       "29  2019-08-30  21             574                         0.03154          \n",
       "30  2019-08-31  18             592                         0.03130          "
      ]
     },
     "execution_count": 54,
     "metadata": {},
     "output_type": "execute_result"
    }
   ],
   "source": [
    "count_of_ordersByUsersB_clean['conversionB_clean']=(count_of_ordersByUsersB_clean['cum_count_of_ordersB_clean']/mergedCummulative['cum_visitorsB']).round(5)\n",
    "count_of_ordersByUsersB_clean.tail()"
   ]
  },
  {
   "cell_type": "code",
   "execution_count": 55,
   "metadata": {},
   "outputs": [
    {
     "name": "stdout",
     "output_type": "stream",
     "text": [
      "0.000000004\n",
      "0.15074\n"
     ]
    }
   ],
   "source": [
    "print(\"{0:.9f}\".format(stats.mannwhitneyu(count_of_ordersByUsersB_clean['conversionB_clean'], count_of_ordersByUsersA_clean['conversionA_clean'])[1]))\n",
    "print(\"{0:.5f}\".format(count_of_ordersByUsersB_clean['conversionB_clean'].mean()/count_of_ordersByUsersA_clean['conversionA_clean'].mean()-1))"
   ]
  },
  {
   "cell_type": "markdown",
   "metadata": {},
   "source": [
    "##### P-value значительно меньше 0.05, потому нулевую гипотезу отвергаем. Анализ «сырых данных» сообщает, что в конверсии между группами есть статистически значимые различия. Относительный прирост конверсии группы B к конверсии группы A равен 15.1%."
   ]
  },
  {
   "cell_type": "markdown",
   "metadata": {},
   "source": [
    "<a name=\"3.14\"></a><br/>\n",
    "<font size=\"3\">3.14 Посчитайте статистическую значимость различий в среднем чеке заказа между группами по «очищенным» данным. Сделайте выводы и предположения.</font><br/>\n",
    "<font size=\"2\">([к содержанию](#0.0))</font><br/>"
   ]
  },
  {
   "cell_type": "code",
   "execution_count": 56,
   "metadata": {},
   "outputs": [
    {
     "name": "stdout",
     "output_type": "stream",
     "text": [
      "0.358518203\n",
      "-0.05640\n"
     ]
    }
   ],
   "source": [
    "print(\"{0:.9f}\".format(stats.mannwhitneyu(orders.query('group==\"B\"')['revenue'], orders.query('group==\"A\"')['revenue'])[1]))\n",
    "print(\"{0:.5f}\".format(orders.query('group==\"B\"')['revenue'].mean()/orders.query('group==\"A\"')['revenue'].mean()-1))"
   ]
  },
  {
   "cell_type": "markdown",
   "metadata": {},
   "source": [
    "P-value больше 0.05 — статистически значимых отличий в среднем чеке между группами нет. Относительное различие среднего чека между сегментами составляет -5,6%, что является незначительным результатом."
   ]
  },
  {
   "cell_type": "markdown",
   "metadata": {},
   "source": [
    "<a name=\"3.15\"></a><br/>\n",
    "## Выводы:\n",
    "##### 1.  Часть покупателей одновременно в группе А и В  это большая проблема. Один из основных принцип работы A/B-теста - один пользователь видит только одну версию на всём протяжении теста.\n",
    "##### 2.  Если проблема обнаружилась в таблице orders,  то наверняка проблема есть и в таблице visitors, но доказать наличие ошибок в ней по аналогии с orders у нас нет возможности, т.к данные там агрегированы.\n",
    "##### 3. Поставить задачу программистам на проверку корретности выгрузки.\n",
    "\n",
    "##### 4. По конверсии между группами A и B (как по сырым данным, так и по очищенным) есть статистически значимые различия;\n",
    "##### 5. По среднему чеку между группами A и B (как по сырым данным, так и по очищенным) нет статистически значимых различий.\n",
    "\n",
    "#####  6. Данный тест можно остановить и считать успешно проведенным, если цель стоит проверка конверсий на массовом покупателе. Конверсия из пользователя в покупателя у группы B статистически значимо выше, чем у группы A. При этом средний чек между группами не отличается.\n",
    "\n",
    "#####  7. Обнаружена группа покупателей anomaly_buyers2 которые делают нам 28% всей выручки, при том, что таких пользователей всего 2%!!\n",
    "##### Считаю просто необходимо вывести таких пользователей в отдельную касту Golden_buyers, затем провести тесты относительно этой группы.\n",
    "\n",
    "##### Нам стоит переорентировать все усилия для привлечения таких пользователей. У нас в разы сократятся трудоресурсы, если мы привлечем хотя бы еще половину от таких VIP покупателей и отпустим в свободное плавание \"массового покупателя\".\n",
    "\n",
    "##### Чтобы проводить такие тесты для Golden_buyers, тут без стат.калькулятора видно, что выборка очень мала, поэтому необходимо наращивать выборку.\n",
    "\n",
    "<font size=\"2\">([к содержанию](#0.0))</font><br/>"
   ]
  },
  {
   "cell_type": "code",
   "execution_count": null,
   "metadata": {},
   "outputs": [],
   "source": []
  }
 ],
 "metadata": {
  "kernelspec": {
   "display_name": "Python 3",
   "language": "python",
   "name": "python3"
  },
  "language_info": {
   "codemirror_mode": {
    "name": "ipython",
    "version": 3
   },
   "file_extension": ".py",
   "mimetype": "text/x-python",
   "name": "python",
   "nbconvert_exporter": "python",
   "pygments_lexer": "ipython3",
   "version": "3.7.4"
  }
 },
 "nbformat": 4,
 "nbformat_minor": 2
}
