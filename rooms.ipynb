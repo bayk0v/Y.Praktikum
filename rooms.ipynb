{
 "cells": [
  {
   "cell_type": "markdown",
   "metadata": {},
   "source": [
    "# Исследование объявлений о продаже квартир\n",
    "\n",
    "В вашем распоряжении данные сервиса Яндекс.Недвижимость — архив объявлений о продаже квартир в Санкт-Петербурге и соседних населённых пунктов за несколько лет. Нужно научиться определять рыночную стоимость объектов недвижимости. Ваша задача — установить параметры. Это позволит построить автоматизированную систему: она отследит аномалии и мошенническую деятельность. \n",
    "\n",
    "По каждой квартире на продажу доступны два вида данных. Первые вписаны пользователем, вторые — получены автоматически на основе картографических данных. Например, расстояние до центра, аэропорта, ближайшего парка и водоёма. "
   ]
  },
  {
   "cell_type": "markdown",
   "metadata": {},
   "source": [
    "### Шаг 1. Откройте файл с данными и изучите общую информацию. "
   ]
  },
  {
   "cell_type": "markdown",
   "metadata": {},
   "source": [
    "Импортируем необходимые библиотеки для дальнейшей работы, затем прочитаем файл /datasets/real_estate_data.csv и сохраним его в переменной data."
   ]
  },
  {
   "cell_type": "code",
   "execution_count": 1,
   "metadata": {},
   "outputs": [],
   "source": [
    "# импорт библиотеки pandas\n",
    "import pandas as pd \n",
    "# импортируем библиотек matplotlib.pyplot, colors\n",
    "import matplotlib.pyplot as plt\n",
    "from matplotlib import colors\n",
    "data=pd.read_csv('/datasets/real_estate_data.csv') # чтение файла с данными с сохранением в data"
   ]
  },
  {
   "cell_type": "markdown",
   "metadata": {},
   "source": [
    "Для знакомства данными, выведем на экран первые 5 строк таблицы."
   ]
  },
  {
   "cell_type": "code",
   "execution_count": 2,
   "metadata": {},
   "outputs": [
    {
     "data": {
      "text/html": [
       "<div>\n",
       "<style scoped>\n",
       "    .dataframe tbody tr th:only-of-type {\n",
       "        vertical-align: middle;\n",
       "    }\n",
       "\n",
       "    .dataframe tbody tr th {\n",
       "        vertical-align: top;\n",
       "    }\n",
       "\n",
       "    .dataframe thead th {\n",
       "        text-align: right;\n",
       "    }\n",
       "</style>\n",
       "<table border=\"1\" class=\"dataframe\">\n",
       "  <thead>\n",
       "    <tr style=\"text-align: right;\">\n",
       "      <th></th>\n",
       "      <th>total_images\\tlast_price\\ttotal_area\\tfirst_day_exposition\\trooms\\tceiling_height\\tfloors_total\\tliving_area\\tfloor\\tis_apartment\\tstudio\\topen_plan\\tkitchen_area\\tbalcony\\tlocality_name\\tairports_nearest\\tcityCenters_nearest\\tparks_around3000\\tparks_nearest\\tponds_around3000\\tponds_nearest\\tdays_exposition</th>\n",
       "    </tr>\n",
       "  </thead>\n",
       "  <tbody>\n",
       "    <tr>\n",
       "      <td>0</td>\n",
       "      <td>20\\t13000000.0\\t108.0\\t2019-03-07T00:00:00\\t3\\...</td>\n",
       "    </tr>\n",
       "    <tr>\n",
       "      <td>1</td>\n",
       "      <td>7\\t3350000.0\\t40.4\\t2018-12-04T00:00:00\\t1\\t\\t...</td>\n",
       "    </tr>\n",
       "    <tr>\n",
       "      <td>2</td>\n",
       "      <td>10\\t5196000.0\\t56.0\\t2015-08-20T00:00:00\\t2\\t\\...</td>\n",
       "    </tr>\n",
       "    <tr>\n",
       "      <td>3</td>\n",
       "      <td>0\\t64900000.0\\t159.0\\t2015-07-24T00:00:00\\t3\\t...</td>\n",
       "    </tr>\n",
       "    <tr>\n",
       "      <td>4</td>\n",
       "      <td>2\\t10000000.0\\t100.0\\t2018-06-19T00:00:00\\t2\\t...</td>\n",
       "    </tr>\n",
       "  </tbody>\n",
       "</table>\n",
       "</div>"
      ],
      "text/plain": [
       "  total_images\\tlast_price\\ttotal_area\\tfirst_day_exposition\\trooms\\tceiling_height\\tfloors_total\\tliving_area\\tfloor\\tis_apartment\\tstudio\\topen_plan\\tkitchen_area\\tbalcony\\tlocality_name\\tairports_nearest\\tcityCenters_nearest\\tparks_around3000\\tparks_nearest\\tponds_around3000\\tponds_nearest\\tdays_exposition\n",
       "0  20\\t13000000.0\\t108.0\\t2019-03-07T00:00:00\\t3\\...                                                                                                                                                                                                                                                                  \n",
       "1  7\\t3350000.0\\t40.4\\t2018-12-04T00:00:00\\t1\\t\\t...                                                                                                                                                                                                                                                                  \n",
       "2  10\\t5196000.0\\t56.0\\t2015-08-20T00:00:00\\t2\\t\\...                                                                                                                                                                                                                                                                  \n",
       "3  0\\t64900000.0\\t159.0\\t2015-07-24T00:00:00\\t3\\t...                                                                                                                                                                                                                                                                  \n",
       "4  2\\t10000000.0\\t100.0\\t2018-06-19T00:00:00\\t2\\t...                                                                                                                                                                                                                                                                  "
      ]
     },
     "execution_count": 2,
     "metadata": {},
     "output_type": "execute_result"
    }
   ],
   "source": [
    "data.head() #Получение первых 5 строк таблицы."
   ]
  },
  {
   "cell_type": "markdown",
   "metadata": {},
   "source": [
    "Вывод первых 5строк показал,что данные выгружены в одну строку через разделитель \\t. !!!!!!!!!!!!!!!!!!!!!!!!!!!!!!!!!СТРОКУ\n",
    "Перезапишем таблицу data используя в методе read_csv параметр разделителя sep='\\t', затем выведем первые 10 строк таблицы."
   ]
  },
  {
   "cell_type": "code",
   "execution_count": 3,
   "metadata": {},
   "outputs": [
    {
     "data": {
      "text/html": [
       "<div>\n",
       "<style scoped>\n",
       "    .dataframe tbody tr th:only-of-type {\n",
       "        vertical-align: middle;\n",
       "    }\n",
       "\n",
       "    .dataframe tbody tr th {\n",
       "        vertical-align: top;\n",
       "    }\n",
       "\n",
       "    .dataframe thead th {\n",
       "        text-align: right;\n",
       "    }\n",
       "</style>\n",
       "<table border=\"1\" class=\"dataframe\">\n",
       "  <thead>\n",
       "    <tr style=\"text-align: right;\">\n",
       "      <th></th>\n",
       "      <th>total_images</th>\n",
       "      <th>last_price</th>\n",
       "      <th>total_area</th>\n",
       "      <th>first_day_exposition</th>\n",
       "      <th>rooms</th>\n",
       "      <th>ceiling_height</th>\n",
       "      <th>floors_total</th>\n",
       "      <th>living_area</th>\n",
       "      <th>floor</th>\n",
       "      <th>is_apartment</th>\n",
       "      <th>...</th>\n",
       "      <th>kitchen_area</th>\n",
       "      <th>balcony</th>\n",
       "      <th>locality_name</th>\n",
       "      <th>airports_nearest</th>\n",
       "      <th>cityCenters_nearest</th>\n",
       "      <th>parks_around3000</th>\n",
       "      <th>parks_nearest</th>\n",
       "      <th>ponds_around3000</th>\n",
       "      <th>ponds_nearest</th>\n",
       "      <th>days_exposition</th>\n",
       "    </tr>\n",
       "  </thead>\n",
       "  <tbody>\n",
       "    <tr>\n",
       "      <td>0</td>\n",
       "      <td>20</td>\n",
       "      <td>13000000.0</td>\n",
       "      <td>108.0</td>\n",
       "      <td>2019-03-07T00:00:00</td>\n",
       "      <td>3</td>\n",
       "      <td>2.70</td>\n",
       "      <td>16.0</td>\n",
       "      <td>51.0</td>\n",
       "      <td>8</td>\n",
       "      <td>NaN</td>\n",
       "      <td>...</td>\n",
       "      <td>25.0</td>\n",
       "      <td>NaN</td>\n",
       "      <td>Санкт-Петербург</td>\n",
       "      <td>18863.0</td>\n",
       "      <td>16028.0</td>\n",
       "      <td>1.0</td>\n",
       "      <td>482.0</td>\n",
       "      <td>2.0</td>\n",
       "      <td>755.0</td>\n",
       "      <td>NaN</td>\n",
       "    </tr>\n",
       "    <tr>\n",
       "      <td>1</td>\n",
       "      <td>7</td>\n",
       "      <td>3350000.0</td>\n",
       "      <td>40.4</td>\n",
       "      <td>2018-12-04T00:00:00</td>\n",
       "      <td>1</td>\n",
       "      <td>NaN</td>\n",
       "      <td>11.0</td>\n",
       "      <td>18.6</td>\n",
       "      <td>1</td>\n",
       "      <td>NaN</td>\n",
       "      <td>...</td>\n",
       "      <td>11.0</td>\n",
       "      <td>2.0</td>\n",
       "      <td>посёлок Шушары</td>\n",
       "      <td>12817.0</td>\n",
       "      <td>18603.0</td>\n",
       "      <td>0.0</td>\n",
       "      <td>NaN</td>\n",
       "      <td>0.0</td>\n",
       "      <td>NaN</td>\n",
       "      <td>81.0</td>\n",
       "    </tr>\n",
       "    <tr>\n",
       "      <td>2</td>\n",
       "      <td>10</td>\n",
       "      <td>5196000.0</td>\n",
       "      <td>56.0</td>\n",
       "      <td>2015-08-20T00:00:00</td>\n",
       "      <td>2</td>\n",
       "      <td>NaN</td>\n",
       "      <td>5.0</td>\n",
       "      <td>34.3</td>\n",
       "      <td>4</td>\n",
       "      <td>NaN</td>\n",
       "      <td>...</td>\n",
       "      <td>8.3</td>\n",
       "      <td>0.0</td>\n",
       "      <td>Санкт-Петербург</td>\n",
       "      <td>21741.0</td>\n",
       "      <td>13933.0</td>\n",
       "      <td>1.0</td>\n",
       "      <td>90.0</td>\n",
       "      <td>2.0</td>\n",
       "      <td>574.0</td>\n",
       "      <td>558.0</td>\n",
       "    </tr>\n",
       "    <tr>\n",
       "      <td>3</td>\n",
       "      <td>0</td>\n",
       "      <td>64900000.0</td>\n",
       "      <td>159.0</td>\n",
       "      <td>2015-07-24T00:00:00</td>\n",
       "      <td>3</td>\n",
       "      <td>NaN</td>\n",
       "      <td>14.0</td>\n",
       "      <td>NaN</td>\n",
       "      <td>9</td>\n",
       "      <td>NaN</td>\n",
       "      <td>...</td>\n",
       "      <td>NaN</td>\n",
       "      <td>0.0</td>\n",
       "      <td>Санкт-Петербург</td>\n",
       "      <td>28098.0</td>\n",
       "      <td>6800.0</td>\n",
       "      <td>2.0</td>\n",
       "      <td>84.0</td>\n",
       "      <td>3.0</td>\n",
       "      <td>234.0</td>\n",
       "      <td>424.0</td>\n",
       "    </tr>\n",
       "    <tr>\n",
       "      <td>4</td>\n",
       "      <td>2</td>\n",
       "      <td>10000000.0</td>\n",
       "      <td>100.0</td>\n",
       "      <td>2018-06-19T00:00:00</td>\n",
       "      <td>2</td>\n",
       "      <td>3.03</td>\n",
       "      <td>14.0</td>\n",
       "      <td>32.0</td>\n",
       "      <td>13</td>\n",
       "      <td>NaN</td>\n",
       "      <td>...</td>\n",
       "      <td>41.0</td>\n",
       "      <td>NaN</td>\n",
       "      <td>Санкт-Петербург</td>\n",
       "      <td>31856.0</td>\n",
       "      <td>8098.0</td>\n",
       "      <td>2.0</td>\n",
       "      <td>112.0</td>\n",
       "      <td>1.0</td>\n",
       "      <td>48.0</td>\n",
       "      <td>121.0</td>\n",
       "    </tr>\n",
       "  </tbody>\n",
       "</table>\n",
       "<p>5 rows × 22 columns</p>\n",
       "</div>"
      ],
      "text/plain": [
       "   total_images  last_price  total_area first_day_exposition  rooms  \\\n",
       "0            20  13000000.0       108.0  2019-03-07T00:00:00      3   \n",
       "1             7   3350000.0        40.4  2018-12-04T00:00:00      1   \n",
       "2            10   5196000.0        56.0  2015-08-20T00:00:00      2   \n",
       "3             0  64900000.0       159.0  2015-07-24T00:00:00      3   \n",
       "4             2  10000000.0       100.0  2018-06-19T00:00:00      2   \n",
       "\n",
       "   ceiling_height  floors_total  living_area  floor is_apartment  ...  \\\n",
       "0            2.70          16.0         51.0      8          NaN  ...   \n",
       "1             NaN          11.0         18.6      1          NaN  ...   \n",
       "2             NaN           5.0         34.3      4          NaN  ...   \n",
       "3             NaN          14.0          NaN      9          NaN  ...   \n",
       "4            3.03          14.0         32.0     13          NaN  ...   \n",
       "\n",
       "   kitchen_area  balcony    locality_name  airports_nearest  \\\n",
       "0          25.0      NaN  Санкт-Петербург           18863.0   \n",
       "1          11.0      2.0   посёлок Шушары           12817.0   \n",
       "2           8.3      0.0  Санкт-Петербург           21741.0   \n",
       "3           NaN      0.0  Санкт-Петербург           28098.0   \n",
       "4          41.0      NaN  Санкт-Петербург           31856.0   \n",
       "\n",
       "  cityCenters_nearest  parks_around3000  parks_nearest  ponds_around3000  \\\n",
       "0             16028.0               1.0          482.0               2.0   \n",
       "1             18603.0               0.0            NaN               0.0   \n",
       "2             13933.0               1.0           90.0               2.0   \n",
       "3              6800.0               2.0           84.0               3.0   \n",
       "4              8098.0               2.0          112.0               1.0   \n",
       "\n",
       "   ponds_nearest  days_exposition  \n",
       "0          755.0              NaN  \n",
       "1            NaN             81.0  \n",
       "2          574.0            558.0  \n",
       "3          234.0            424.0  \n",
       "4           48.0            121.0  \n",
       "\n",
       "[5 rows x 22 columns]"
      ]
     },
     "execution_count": 3,
     "metadata": {},
     "output_type": "execute_result"
    }
   ],
   "source": [
    "data=pd.read_csv('/datasets/real_estate_data.csv',sep='\\t')\n",
    "data.head(5)"
   ]
  },
  {
   "cell_type": "markdown",
   "metadata": {},
   "source": [
    "Не все столбцы из 22 отображаются на эране, выведем поочередно, первые 13, а затем остальные."
   ]
  },
  {
   "cell_type": "code",
   "execution_count": 4,
   "metadata": {},
   "outputs": [
    {
     "data": {
      "text/html": [
       "<div>\n",
       "<style scoped>\n",
       "    .dataframe tbody tr th:only-of-type {\n",
       "        vertical-align: middle;\n",
       "    }\n",
       "\n",
       "    .dataframe tbody tr th {\n",
       "        vertical-align: top;\n",
       "    }\n",
       "\n",
       "    .dataframe thead th {\n",
       "        text-align: right;\n",
       "    }\n",
       "</style>\n",
       "<table border=\"1\" class=\"dataframe\">\n",
       "  <thead>\n",
       "    <tr style=\"text-align: right;\">\n",
       "      <th></th>\n",
       "      <th>total_images</th>\n",
       "      <th>last_price</th>\n",
       "      <th>total_area</th>\n",
       "      <th>first_day_exposition</th>\n",
       "      <th>rooms</th>\n",
       "      <th>ceiling_height</th>\n",
       "      <th>floors_total</th>\n",
       "      <th>living_area</th>\n",
       "      <th>floor</th>\n",
       "      <th>is_apartment</th>\n",
       "      <th>studio</th>\n",
       "      <th>open_plan</th>\n",
       "      <th>kitchen_area</th>\n",
       "    </tr>\n",
       "  </thead>\n",
       "  <tbody>\n",
       "    <tr>\n",
       "      <td>0</td>\n",
       "      <td>20</td>\n",
       "      <td>13000000.0</td>\n",
       "      <td>108.0</td>\n",
       "      <td>2019-03-07T00:00:00</td>\n",
       "      <td>3</td>\n",
       "      <td>2.70</td>\n",
       "      <td>16.0</td>\n",
       "      <td>51.0</td>\n",
       "      <td>8</td>\n",
       "      <td>NaN</td>\n",
       "      <td>False</td>\n",
       "      <td>False</td>\n",
       "      <td>25.0</td>\n",
       "    </tr>\n",
       "    <tr>\n",
       "      <td>1</td>\n",
       "      <td>7</td>\n",
       "      <td>3350000.0</td>\n",
       "      <td>40.4</td>\n",
       "      <td>2018-12-04T00:00:00</td>\n",
       "      <td>1</td>\n",
       "      <td>NaN</td>\n",
       "      <td>11.0</td>\n",
       "      <td>18.6</td>\n",
       "      <td>1</td>\n",
       "      <td>NaN</td>\n",
       "      <td>False</td>\n",
       "      <td>False</td>\n",
       "      <td>11.0</td>\n",
       "    </tr>\n",
       "    <tr>\n",
       "      <td>2</td>\n",
       "      <td>10</td>\n",
       "      <td>5196000.0</td>\n",
       "      <td>56.0</td>\n",
       "      <td>2015-08-20T00:00:00</td>\n",
       "      <td>2</td>\n",
       "      <td>NaN</td>\n",
       "      <td>5.0</td>\n",
       "      <td>34.3</td>\n",
       "      <td>4</td>\n",
       "      <td>NaN</td>\n",
       "      <td>False</td>\n",
       "      <td>False</td>\n",
       "      <td>8.3</td>\n",
       "    </tr>\n",
       "    <tr>\n",
       "      <td>3</td>\n",
       "      <td>0</td>\n",
       "      <td>64900000.0</td>\n",
       "      <td>159.0</td>\n",
       "      <td>2015-07-24T00:00:00</td>\n",
       "      <td>3</td>\n",
       "      <td>NaN</td>\n",
       "      <td>14.0</td>\n",
       "      <td>NaN</td>\n",
       "      <td>9</td>\n",
       "      <td>NaN</td>\n",
       "      <td>False</td>\n",
       "      <td>False</td>\n",
       "      <td>NaN</td>\n",
       "    </tr>\n",
       "    <tr>\n",
       "      <td>4</td>\n",
       "      <td>2</td>\n",
       "      <td>10000000.0</td>\n",
       "      <td>100.0</td>\n",
       "      <td>2018-06-19T00:00:00</td>\n",
       "      <td>2</td>\n",
       "      <td>3.03</td>\n",
       "      <td>14.0</td>\n",
       "      <td>32.0</td>\n",
       "      <td>13</td>\n",
       "      <td>NaN</td>\n",
       "      <td>False</td>\n",
       "      <td>False</td>\n",
       "      <td>41.0</td>\n",
       "    </tr>\n",
       "  </tbody>\n",
       "</table>\n",
       "</div>"
      ],
      "text/plain": [
       "   total_images  last_price  total_area first_day_exposition  rooms  \\\n",
       "0            20  13000000.0       108.0  2019-03-07T00:00:00      3   \n",
       "1             7   3350000.0        40.4  2018-12-04T00:00:00      1   \n",
       "2            10   5196000.0        56.0  2015-08-20T00:00:00      2   \n",
       "3             0  64900000.0       159.0  2015-07-24T00:00:00      3   \n",
       "4             2  10000000.0       100.0  2018-06-19T00:00:00      2   \n",
       "\n",
       "   ceiling_height  floors_total  living_area  floor is_apartment  studio  \\\n",
       "0            2.70          16.0         51.0      8          NaN   False   \n",
       "1             NaN          11.0         18.6      1          NaN   False   \n",
       "2             NaN           5.0         34.3      4          NaN   False   \n",
       "3             NaN          14.0          NaN      9          NaN   False   \n",
       "4            3.03          14.0         32.0     13          NaN   False   \n",
       "\n",
       "   open_plan  kitchen_area  \n",
       "0      False          25.0  \n",
       "1      False          11.0  \n",
       "2      False           8.3  \n",
       "3      False           NaN  \n",
       "4      False          41.0  "
      ]
     },
     "execution_count": 4,
     "metadata": {},
     "output_type": "execute_result"
    }
   ],
   "source": [
    "data[data.columns[0:13]].head()"
   ]
  },
  {
   "cell_type": "code",
   "execution_count": 5,
   "metadata": {},
   "outputs": [
    {
     "data": {
      "text/html": [
       "<div>\n",
       "<style scoped>\n",
       "    .dataframe tbody tr th:only-of-type {\n",
       "        vertical-align: middle;\n",
       "    }\n",
       "\n",
       "    .dataframe tbody tr th {\n",
       "        vertical-align: top;\n",
       "    }\n",
       "\n",
       "    .dataframe thead th {\n",
       "        text-align: right;\n",
       "    }\n",
       "</style>\n",
       "<table border=\"1\" class=\"dataframe\">\n",
       "  <thead>\n",
       "    <tr style=\"text-align: right;\">\n",
       "      <th></th>\n",
       "      <th>balcony</th>\n",
       "      <th>locality_name</th>\n",
       "      <th>airports_nearest</th>\n",
       "      <th>cityCenters_nearest</th>\n",
       "      <th>parks_around3000</th>\n",
       "      <th>parks_nearest</th>\n",
       "      <th>ponds_around3000</th>\n",
       "      <th>ponds_nearest</th>\n",
       "      <th>days_exposition</th>\n",
       "    </tr>\n",
       "  </thead>\n",
       "  <tbody>\n",
       "    <tr>\n",
       "      <td>0</td>\n",
       "      <td>NaN</td>\n",
       "      <td>Санкт-Петербург</td>\n",
       "      <td>18863.0</td>\n",
       "      <td>16028.0</td>\n",
       "      <td>1.0</td>\n",
       "      <td>482.0</td>\n",
       "      <td>2.0</td>\n",
       "      <td>755.0</td>\n",
       "      <td>NaN</td>\n",
       "    </tr>\n",
       "    <tr>\n",
       "      <td>1</td>\n",
       "      <td>2.0</td>\n",
       "      <td>посёлок Шушары</td>\n",
       "      <td>12817.0</td>\n",
       "      <td>18603.0</td>\n",
       "      <td>0.0</td>\n",
       "      <td>NaN</td>\n",
       "      <td>0.0</td>\n",
       "      <td>NaN</td>\n",
       "      <td>81.0</td>\n",
       "    </tr>\n",
       "    <tr>\n",
       "      <td>2</td>\n",
       "      <td>0.0</td>\n",
       "      <td>Санкт-Петербург</td>\n",
       "      <td>21741.0</td>\n",
       "      <td>13933.0</td>\n",
       "      <td>1.0</td>\n",
       "      <td>90.0</td>\n",
       "      <td>2.0</td>\n",
       "      <td>574.0</td>\n",
       "      <td>558.0</td>\n",
       "    </tr>\n",
       "    <tr>\n",
       "      <td>3</td>\n",
       "      <td>0.0</td>\n",
       "      <td>Санкт-Петербург</td>\n",
       "      <td>28098.0</td>\n",
       "      <td>6800.0</td>\n",
       "      <td>2.0</td>\n",
       "      <td>84.0</td>\n",
       "      <td>3.0</td>\n",
       "      <td>234.0</td>\n",
       "      <td>424.0</td>\n",
       "    </tr>\n",
       "    <tr>\n",
       "      <td>4</td>\n",
       "      <td>NaN</td>\n",
       "      <td>Санкт-Петербург</td>\n",
       "      <td>31856.0</td>\n",
       "      <td>8098.0</td>\n",
       "      <td>2.0</td>\n",
       "      <td>112.0</td>\n",
       "      <td>1.0</td>\n",
       "      <td>48.0</td>\n",
       "      <td>121.0</td>\n",
       "    </tr>\n",
       "  </tbody>\n",
       "</table>\n",
       "</div>"
      ],
      "text/plain": [
       "   balcony    locality_name  airports_nearest  cityCenters_nearest  \\\n",
       "0      NaN  Санкт-Петербург           18863.0              16028.0   \n",
       "1      2.0   посёлок Шушары           12817.0              18603.0   \n",
       "2      0.0  Санкт-Петербург           21741.0              13933.0   \n",
       "3      0.0  Санкт-Петербург           28098.0               6800.0   \n",
       "4      NaN  Санкт-Петербург           31856.0               8098.0   \n",
       "\n",
       "   parks_around3000  parks_nearest  ponds_around3000  ponds_nearest  \\\n",
       "0               1.0          482.0               2.0          755.0   \n",
       "1               0.0            NaN               0.0            NaN   \n",
       "2               1.0           90.0               2.0          574.0   \n",
       "3               2.0           84.0               3.0          234.0   \n",
       "4               2.0          112.0               1.0           48.0   \n",
       "\n",
       "   days_exposition  \n",
       "0              NaN  \n",
       "1             81.0  \n",
       "2            558.0  \n",
       "3            424.0  \n",
       "4            121.0  "
      ]
     },
     "execution_count": 5,
     "metadata": {},
     "output_type": "execute_result"
    }
   ],
   "source": [
    "data[data.columns[13:]].head()"
   ]
  },
  {
   "cell_type": "markdown",
   "metadata": {},
   "source": [
    "Таблица имеет 22 колонки, а именно:\n",
    " \n",
    "* airports_nearest — расстояние до ближайшего аэропорта в метрах (м)\n",
    "* balcony — число балконов\n",
    "* ceiling_height — высота потолков (м)\n",
    "* cityCenters_nearest — расстояние до центра города (м)\n",
    "* days_exposition — сколько дней было размещено объявление (от публикации до снятия)\n",
    "* first_day_exposition — дата публикации\n",
    "* floor — этаж\n",
    "* floors_total — всего этажей в доме\n",
    "* is_apartment — апартаменты (булев тип)\n",
    "* kitchen_area — площадь кухни в квадратных метрах (м²)\n",
    "* last_price — цена на момент снятия с публикации\n",
    "* living_area — жилая площадь в квадратных метрах(м²)\n",
    "* locality_name — название населённого пункта\n",
    "* open_plan — свободная планировка (булев тип)\n",
    "* parks_around3000 — число парков в радиусе 3 км\n",
    "* parks_nearest — расстояние до ближайшего парка (м)\n",
    "* ponds_around3000 — число водоёмов в радиусе 3 км\n",
    "* ponds_nearest — расстояние до ближайшего водоёма (м)\n",
    "* rooms — число комнат\n",
    "* studio — квартира-студия (булев тип)\n",
    "* total_area — площадь квартиры в квадратных метрах (м²)\n",
    "* total_images — число фотографий квартиры в объявлении\n",
    "\n",
    "Получим общую информацию о данных таблицы используя метод info()."
   ]
  },
  {
   "cell_type": "code",
   "execution_count": 6,
   "metadata": {},
   "outputs": [
    {
     "name": "stdout",
     "output_type": "stream",
     "text": [
      "<class 'pandas.core.frame.DataFrame'>\n",
      "RangeIndex: 23699 entries, 0 to 23698\n",
      "Data columns (total 22 columns):\n",
      "total_images            23699 non-null int64\n",
      "last_price              23699 non-null float64\n",
      "total_area              23699 non-null float64\n",
      "first_day_exposition    23699 non-null object\n",
      "rooms                   23699 non-null int64\n",
      "ceiling_height          14504 non-null float64\n",
      "floors_total            23613 non-null float64\n",
      "living_area             21796 non-null float64\n",
      "floor                   23699 non-null int64\n",
      "is_apartment            2775 non-null object\n",
      "studio                  23699 non-null bool\n",
      "open_plan               23699 non-null bool\n",
      "kitchen_area            21421 non-null float64\n",
      "balcony                 12180 non-null float64\n",
      "locality_name           23650 non-null object\n",
      "airports_nearest        18157 non-null float64\n",
      "cityCenters_nearest     18180 non-null float64\n",
      "parks_around3000        18181 non-null float64\n",
      "parks_nearest           8079 non-null float64\n",
      "ponds_around3000        18181 non-null float64\n",
      "ponds_nearest           9110 non-null float64\n",
      "days_exposition         20518 non-null float64\n",
      "dtypes: bool(2), float64(14), int64(3), object(3)\n",
      "memory usage: 3.7+ MB\n"
     ]
    }
   ],
   "source": [
    "data.info()"
   ]
  },
  {
   "cell_type": "markdown",
   "metadata": {},
   "source": [
    "Количество значений в столбцах различается. Это говорит о том, что в данных есть пустые значения."
   ]
  },
  {
   "cell_type": "markdown",
   "metadata": {},
   "source": [
    "### Вывод"
   ]
  },
  {
   "cell_type": "markdown",
   "metadata": {},
   "source": [
    "При знакомстве с таблицой бросается в глаза,\n",
    "11 столбцов имеют пустые значения, а именно:\n",
    "* ceiling_height \n",
    "* is_apartment \n",
    "* living_area\n",
    "* kitchen_area \n",
    "* balcony\n",
    "* airports_nearest\n",
    "* cityCenters_nearest\n",
    "* parks_around3000 \n",
    "* parks_nearest \n",
    "* ponds_around3000\n",
    "* ponds_nearest\n",
    "* days_exposition\n",
    "* locality_name \n",
    "\n",
    "Следующие столбцы имеют тип данных с плавающей точкой float64 вместо целочисленного int64.\n",
    "\n",
    "* floors_total — всего этажей в доме, \n",
    "* balcony — число балконов, \n",
    "* parks_around3000 — число парков в радиусе 3 км, \n",
    "* ponds_around3000 — число водоёмов в радиусе 3 км, \n",
    "* days_exposition — сколько дней было размещено объявление (от публикации до снятия)\n",
    "* airports_nearest — расстояние до ближайшего аэропорта в метрах (м)\n",
    "* cityCenters_nearest — расстояние до центра города (м)\n",
    "\n",
    "Столбец название населённого пункта 'locality_name' необходимо привести к одному регистру букв, а также заменить букву \"ё\" на \"е\", т.к. все это может давать дублирующие значения.\n",
    "\n",
    "Столбец дата публикации 'first_day_exposition' имеет формат данных - дата со временем. Время не является информативным, т.к. судя по названию, столбец должен отображать информацию о дате, к тому же вместо значений времени указаны \"0\". Необходимо  привести данные к сокращенному виду, оставить только дату.\n",
    "\n",
    "Предстоит серьезная работа по предобработке данных."
   ]
  },
  {
   "cell_type": "markdown",
   "metadata": {},
   "source": [
    "### Шаг 2. Предобработка данных"
   ]
  },
  {
   "cell_type": "markdown",
   "metadata": {},
   "source": [
    "#### Определим порядок действий для предобработки данных таблицы.\n",
    "* 2.1. Подсчитаем количество пропущенных значений.\n",
    "* 2.1.1.Найдем \"мусорные\" строки, те строки где отсутствует большое количество значений. Подсчитаем количество таких строк и при необходимости удалим.\n",
    "\n",
    "* 2.2. Проверка/удаление дубликатов.\n",
    "\n",
    "* 2.2.1 Проверим могут ли давать дубликаты, разный регистр написания насленных пунктов.\n",
    "* 2.2.2 Проверим могут ли давать дубликаты, разное написание в наименованиях насленных пунктов букв \"ё\" и \"е\".\n",
    "\n",
    "* 2.3. Выдвинем несколько гипотез относительно пропущенных значениях в столбцах.  \n",
    "\n",
    "* 2.3.1 Заполним пропуски в столбце высота потолков, в домах, которые находятся в одном населенном пунке, имеют одинаковую этажность, равно удалены от аэропорта и центра города. Предположим, что это один и тот же дом или типовой(одной серии).\n",
    "\n",
    "* 2.3.2 Заполним пропуски в столбце всего этажей. Докажем, что дома в одном населенном пункте, равноудаленные от аэропортов, своих центров и локаций пруд или парк, имеют одинаковую этажность, а следовательно это один и тот же дом. Если мы это докажем, то мы сможем заполнить пропуски в столбце floors_total.\n",
    "\n",
    "* 2.3.3 Предположим, что если в строках таблицы мы найдем уникальные строки, дома которых имеют одинаковую этажность, равноудалены от своих центров и  от аэропорта, при этом равноудалены от парка или пруда, то эти дома из одного населенного пункта.Если мы это докажем, то это позволит нам заполнить пустые значения в столбце locality_name.\n",
    "\n",
    "* 2.3.4 Заполним пропуски в столбце ponds_around3000. Пропущенные значения в столбце ponds_around3000 — число водоёмов в радиусе 3 км могут иметь пустое значение, т.к. прудов в конкретном населенном пункте может не быть. \n",
    "\n",
    "* 2.3.5  Заполним пропуски в столбце parks_around3000. Пропущенные значения в столбце parks_arond3000 — число парков в радиусе 3 км могут иметь пустое значение, т.к. парков в конкретном населенном пункте может не быть.\n",
    "\n",
    "* 2.3.6 Заполним пропуски столбцов  столбцы parks_nearest и ponds_nearest.\n",
    "\n",
    "* 2.3.7 Заполним пропуски в столбце 'cityCenters_nearest' по среднему значению для каждого из населенного пункта.\n",
    "\n",
    "* 2.3.8 Заполним пропуски в столбце 'airports_nearest' по среднему значению для каждого из населенного пункта.\n",
    "\n",
    "* 2.3.9 Заполним пропуски в столбце 'balcony'. В столбце balcony — число балконов, пропущенные значения могут означать, что их нет.\n",
    "\n",
    "* 2.3.10 Заполним пропуски в столбце kitchen_area — площадь кухни в квадратных метрах (м²). \n",
    "\n",
    "* 2.3.11 Заполним пропуски в столбце living_area —  жилая площадь в квадратных метрах(м²)\n",
    "\n",
    "* 2.3.12 Заполним пропущенные значения столбца days_exposition - сколько дней было размещено объявление (от публикации до снятия)\n",
    "\n",
    "* 2.4 Столбец дата публикации 'first_day_exposition' имеет формат данных - дата со временем. Время не является информативным, т.к. судя по названию, столбец должен отображать информацию о дате, к тому же вместо значений времени указаны \"0\". Необходимо привести данные к сокращенному виду, оставить только дату.\n",
    "\n",
    "* 2.5 Замена типа данных.\n",
    "Следующие столбцы имеют тип данных с плавающей точкой float64 вместо целочисленного int64:\n",
    "floors_total — всего этажей в доме,\n",
    "balcony — число балконов,\n",
    "parks_around3000 — число парков в радиусе 3 км,\n",
    "ponds_around3000 — число водоёмов в радиусе 3 км,\n",
    "days_exposition — сколько дней было размещено объявление (от публикации до снятия)\n",
    "airports_nearest — расстояние до ближайшего аэропорта в метрах (м)\n",
    "cityCenters_nearest — расстояние до центра города (м)"
   ]
  },
  {
   "cell_type": "markdown",
   "metadata": {},
   "source": [
    "### 2.1. Подсчитаем количество пропущенных значений, при определении заполним, если не возможно удалим."
   ]
  },
  {
   "cell_type": "code",
   "execution_count": 7,
   "metadata": {},
   "outputs": [
    {
     "data": {
      "text/plain": [
       "total_images                0\n",
       "last_price                  0\n",
       "total_area                  0\n",
       "first_day_exposition        0\n",
       "rooms                       0\n",
       "ceiling_height           9195\n",
       "floors_total               86\n",
       "living_area              1903\n",
       "floor                       0\n",
       "is_apartment            20924\n",
       "studio                      0\n",
       "open_plan                   0\n",
       "kitchen_area             2278\n",
       "balcony                 11519\n",
       "locality_name              49\n",
       "airports_nearest         5542\n",
       "cityCenters_nearest      5519\n",
       "parks_around3000         5518\n",
       "parks_nearest           15620\n",
       "ponds_around3000         5518\n",
       "ponds_nearest           14589\n",
       "days_exposition          3181\n",
       "dtype: int64"
      ]
     },
     "execution_count": 7,
     "metadata": {},
     "output_type": "execute_result"
    }
   ],
   "source": [
    "data.isnull().sum()# <суммарное количество пропусков, выявленных методом isnull() "
   ]
  },
  {
   "cell_type": "markdown",
   "metadata": {},
   "source": [
    "#### 2.1.1 Найдем \"мусорные\" строки, те строки, где отсутствует большое количество значений. \n",
    "#### Составим словарь в котором будем хранить в качестве ключей количество пустых значений в конкретной строке,  значениями ключей будут индексы строк в соответствии с количеством незаполненных данных"
   ]
  },
  {
   "cell_type": "code",
   "execution_count": 8,
   "metadata": {},
   "outputs": [],
   "source": [
    "dict_of_line_with_garbage={} # создаем пустой словарь для заполнения\n",
    "# создадим цикл который будет проходить по каждой строке где есть NaN\n",
    "for i in range(len(data)):\n",
    "    # метод try-except поможет заполнить правильно словарь, \n",
    "    # в котором одному ключу будет соответствовать список или один номер индексов\n",
    "    try:\n",
    "        # сначала пытаемся добавить к ключу еще одно значение в список\n",
    "        dict_of_line_with_garbage[data.loc[i].isnull().sum()].append(i)\n",
    "    except AttributeError:\n",
    "        # если ключ,имеет уже значение, то создаем список иззначений\n",
    "        dict_of_line_with_garbage[data.loc[i].isnull().sum()]=[dict_of_line_with_garbage[data.loc[i].isnull().sum()],i]\n",
    "        # если ключа нет в словаре, создаем первую пару ключ-значение\n",
    "    except KeyError:\n",
    "        dict_of_line_with_garbage[data.loc[i].isnull().sum()]=i"
   ]
  },
  {
   "cell_type": "markdown",
   "metadata": {},
   "source": [
    "Выведем на экран информацию по \"мусорным\" строках."
   ]
  },
  {
   "cell_type": "code",
   "execution_count": 9,
   "metadata": {},
   "outputs": [
    {
     "name": "stdout",
     "output_type": "stream",
     "text": [
      "250 строк имеют в сумме 0 пустых значений - 1.055%  от всех строк \n",
      "\n",
      "1570 строк имеют в сумме 1 пустых значений - 6.625%  от всех строк \n",
      "\n",
      "4286 строк имеют в сумме 2 пустых значений - 18.085%  от всех строк \n",
      "\n",
      "5596 строк имеют в сумме 3 пустых значений - 23.613%  от всех строк \n",
      "\n",
      "4192 строк имеют в сумме 4 пустых значений - 17.689%  от всех строк \n",
      "\n",
      "1648 строк имеют в сумме 5 пустых значений - 6.954%  от всех строк \n",
      "\n",
      "719 строк имеют в сумме 6 пустых значений - 3.034%  от всех строк \n",
      "\n",
      "1418 строк имеют в сумме 7 пустых значений - 5.983%  от всех строк \n",
      "\n",
      "2012 строк имеют в сумме 8 пустых значений - 8.490%  от всех строк \n",
      "\n",
      "1236 строк имеют в сумме 9 пустых значений - 5.215%  от всех строк \n",
      "\n",
      "467 строк имеют в сумме 10 пустых значений - 1.971%  от всех строк \n",
      "\n",
      "288 строк имеют в сумме 11 пустых значений - 1.215%  от всех строк \n",
      "\n",
      "16 строк имеют в сумме 12 пустых значений - 0.068%  от всех строк \n",
      "\n",
      "1 строка имеет в сумме 13 пустых значений \n",
      "\n"
     ]
    }
   ],
   "source": [
    "# пройдемся по значениям словаря с помощью цикла, \n",
    "# количество значений по ключу словаря определим с помощью функции len\n",
    "for i in range(len(dict_of_line_with_garbage)):\n",
    "    # индексами строк являются целочисленные значения, \n",
    "    # функция len не работает, если у одного числа узнать длину,поэтому добавим следующие условие\n",
    "    if type(dict_of_line_with_garbage[i])==int:\n",
    "        print('1 строка имеет в сумме',i, 'пустых значений','\\n', )\n",
    "    else:\n",
    "        print(len(dict_of_line_with_garbage[i]),'строк имеют в сумме',i,\n",
    "              'пустых значений - {:.3%}'.format(len(dict_of_line_with_garbage[i])/23699),' от всех строк \\n')  \n",
    "             "
   ]
  },
  {
   "cell_type": "markdown",
   "metadata": {},
   "source": [
    "Строки, которые имеют 12 и 13 пустых значений определим, как \"мусорные\". \n",
    "Т.к. таких строк всего 17(0,07% от всех данных), и не могут повлиять на статистику. Удалим строки методом drop, в параметре укажем нужные строки из словаря с \"мусором\".\n",
    "288 строк имеют 11 пустых значений - это 1,2% от всех строк, не будем удалять."
   ]
  },
  {
   "cell_type": "code",
   "execution_count": 10,
   "metadata": {},
   "outputs": [],
   "source": [
    "data=data.drop([dict_of_line_with_garbage[13]]) # удаляем строку с 13ю пустыми значениями\n",
    "data=data.drop(dict_of_line_with_garbage[12]).reset_index(drop=True) #удаляем строки с 12ю пустыми значениями,обновляем индексы"
   ]
  },
  {
   "cell_type": "code",
   "execution_count": 11,
   "metadata": {},
   "outputs": [
    {
     "name": "stdout",
     "output_type": "stream",
     "text": [
      "<class 'pandas.core.frame.DataFrame'>\n",
      "RangeIndex: 23682 entries, 0 to 23681\n",
      "Data columns (total 22 columns):\n",
      "total_images            23682 non-null int64\n",
      "last_price              23682 non-null float64\n",
      "total_area              23682 non-null float64\n",
      "first_day_exposition    23682 non-null object\n",
      "rooms                   23682 non-null int64\n",
      "ceiling_height          14504 non-null float64\n",
      "floors_total            23602 non-null float64\n",
      "living_area             21796 non-null float64\n",
      "floor                   23682 non-null int64\n",
      "is_apartment            2775 non-null object\n",
      "studio                  23682 non-null bool\n",
      "open_plan               23682 non-null bool\n",
      "kitchen_area            21421 non-null float64\n",
      "balcony                 12180 non-null float64\n",
      "locality_name           23633 non-null object\n",
      "airports_nearest        18157 non-null float64\n",
      "cityCenters_nearest     18180 non-null float64\n",
      "parks_around3000        18181 non-null float64\n",
      "parks_nearest           8079 non-null float64\n",
      "ponds_around3000        18181 non-null float64\n",
      "ponds_nearest           9110 non-null float64\n",
      "days_exposition         20513 non-null float64\n",
      "dtypes: bool(2), float64(14), int64(3), object(3)\n",
      "memory usage: 3.7+ MB\n"
     ]
    }
   ],
   "source": [
    "data.info()"
   ]
  },
  {
   "cell_type": "markdown",
   "metadata": {},
   "source": [
    "#### 2.2. Проверим есть ли внашей таблице дубликаты, узнаем их количество."
   ]
  },
  {
   "cell_type": "code",
   "execution_count": 12,
   "metadata": {},
   "outputs": [
    {
     "data": {
      "text/plain": [
       "0"
      ]
     },
     "execution_count": 12,
     "metadata": {},
     "output_type": "execute_result"
    }
   ],
   "source": [
    "data.duplicated().sum() #получение суммарного количества дубликатов в таблице data"
   ]
  },
  {
   "cell_type": "markdown",
   "metadata": {},
   "source": [
    "Дубликаты могут давать значения текстового столбеца записанного в разных регистрах, а также разное написание в наименованиях насленных пунктов букв \"ё\" и \"е\". Проверим это.\n",
    "Выведем количество и уникальные значения по столбцу 'locality_name', для этого составим функцию вывода уникальных значений,назовем её find_unique_name"
   ]
  },
  {
   "cell_type": "code",
   "execution_count": 13,
   "metadata": {},
   "outputs": [
    {
     "name": "stdout",
     "output_type": "stream",
     "text": [
      "Количество уникальных значений столбца: locality_name равно: 365 \n",
      "\n",
      "Уникальные значения столбца locality_name : \n",
      "\n",
      " ['Санкт-Петербург' 'посёлок Шушары' 'городской посёлок Янино-1'\n",
      " 'посёлок Парголово' 'посёлок Мурино' 'Ломоносов' 'Сертолово' 'Петергоф'\n",
      " 'Пушкин' 'деревня Кудрово' 'Коммунар' 'Колпино'\n",
      " 'поселок городского типа Красный Бор' 'Гатчина' 'поселок Мурино'\n",
      " 'деревня Фёдоровское' 'Выборг' 'Кронштадт' 'Кировск'\n",
      " 'деревня Новое Девяткино' 'посёлок Металлострой'\n",
      " 'посёлок городского типа Лебяжье' 'посёлок городского типа Сиверский'\n",
      " 'поселок Молодцово' 'поселок городского типа Кузьмоловский'\n",
      " 'садовое товарищество Новая Ропша' 'Павловск' 'деревня Пикколово'\n",
      " 'Всеволожск' 'Волхов' 'Кингисепп' 'Приозерск' 'Сестрорецк'\n",
      " 'деревня Куттузи' 'посёлок Аннино' 'поселок городского типа Ефимовский'\n",
      " 'посёлок Плодовое' 'деревня Заклинье' 'поселок Торковичи'\n",
      " 'поселок Первомайское' 'Красное Село' 'посёлок Понтонный' 'Сясьстрой'\n",
      " 'деревня Старая' 'деревня Лесколово' 'посёлок Новый Свет' 'Сланцы'\n",
      " 'село Путилово' 'Ивангород' 'Мурино' 'Шлиссельбург' 'Никольское'\n",
      " 'Зеленогорск' 'Сосновый Бор' 'поселок Новый Свет' 'деревня Оржицы'\n",
      " 'деревня Кальтино' 'Кудрово' 'поселок Романовка' 'посёлок Бугры'\n",
      " 'поселок Бугры' 'поселок городского типа Рощино' 'Кириши' 'Луга'\n",
      " 'Волосово' 'Отрадное' 'село Павлово' 'поселок Оредеж' 'село Копорье'\n",
      " 'посёлок городского типа Красный Бор' 'посёлок Молодёжное' 'Тихвин'\n",
      " 'посёлок Победа' 'деревня Нурма' 'поселок городского типа Синявино'\n",
      " 'Тосно' 'посёлок городского типа Кузьмоловский' 'посёлок Стрельна'\n",
      " 'Бокситогорск' 'посёлок Александровская' 'деревня Лопухинка' 'Пикалёво'\n",
      " 'поселок Терволово' 'поселок городского типа Советский' 'Подпорожье'\n",
      " 'посёлок Петровское' 'посёлок городского типа Токсово' 'поселок Сельцо'\n",
      " 'посёлок городского типа Вырица' 'деревня Кипень' 'деревня Келози'\n",
      " 'деревня Вартемяги' 'посёлок Тельмана' 'поселок Севастьяново'\n",
      " 'городской поселок Большая Ижора' nan 'городской посёлок Павлово'\n",
      " 'деревня Агалатово' 'посёлок Новогорелово'\n",
      " 'городской посёлок Лесогорский' 'деревня Лаголово' 'поселок Цвелодубово'\n",
      " 'поселок городского типа Рахья' 'поселок городского типа Вырица'\n",
      " 'деревня Белогорка' 'поселок Заводской' 'городской посёлок Новоселье'\n",
      " 'деревня Большие Колпаны' 'деревня Горбунки' 'деревня Батово'\n",
      " 'деревня Заневка' 'деревня Иссад' 'Приморск'\n",
      " 'городской посёлок Фёдоровское' 'деревня Мистолово' 'Новая Ладога'\n",
      " 'поселок Зимитицы' 'поселок Барышево' 'деревня Разметелево'\n",
      " 'поселок городского типа имени Свердлова' 'деревня Пеники'\n",
      " 'поселок Рябово' 'деревня Пудомяги' 'поселок станции Корнево'\n",
      " 'деревня Низино' 'деревня Бегуницы' 'посёлок Поляны'\n",
      " 'городской посёлок Мга' 'поселок Елизаветино'\n",
      " 'посёлок городского типа Кузнечное' 'деревня Колтуши'\n",
      " 'поселок Запорожское' 'посёлок городского типа Рощино'\n",
      " 'деревня Гостилицы' 'деревня Малое Карлино' 'посёлок Мичуринское'\n",
      " 'посёлок городского типа имени Морозова' 'посёлок Песочный'\n",
      " 'посёлок Сосново' 'деревня Аро' 'поселок Ильичёво'\n",
      " 'посёлок городского типа Тайцы' 'деревня Малое Верево' 'деревня Извара'\n",
      " 'поселок станции Вещево' 'село Паша' 'деревня Калитино'\n",
      " 'посёлок городского типа Ульяновка' 'деревня Чудской Бор'\n",
      " 'поселок городского типа Дубровка' 'деревня Мины' 'поселок Войсковицы'\n",
      " 'посёлок городского типа имени Свердлова' 'деревня Коркино'\n",
      " 'посёлок Ропша' 'поселок городского типа Приладожский' 'посёлок Щеглово'\n",
      " 'посёлок Гаврилово' 'Лодейное Поле' 'деревня Рабитицы'\n",
      " 'поселок городского типа Никольский' 'деревня Кузьмолово'\n",
      " 'деревня Малые Колпаны' 'поселок Тельмана' 'посёлок Петро-Славянка'\n",
      " 'городской посёлок Назия' 'посёлок Репино' 'посёлок Ильичёво'\n",
      " 'поселок Углово' 'поселок Старая Малукса' 'садовое товарищество Рахья'\n",
      " 'поселок Аннино' 'поселок Победа' 'деревня Меньково'\n",
      " 'деревня Старые Бегуницы' 'посёлок Сапёрный' 'поселок Семрино'\n",
      " 'поселок Гаврилово' 'поселок Глажево' 'поселок Кобринское'\n",
      " 'деревня Гарболово' 'деревня Юкки' 'поселок станции Приветнинское'\n",
      " 'деревня Мануйлово' 'деревня Пчева' 'поселок Поляны' 'поселок Цвылёво'\n",
      " 'поселок Мельниково' 'посёлок Пудость' 'посёлок Усть-Луга' 'Светогорск'\n",
      " 'Любань' 'поселок Селезнёво' 'поселок городского типа Рябово'\n",
      " 'Каменногорск' 'деревня Кривко' 'поселок Глебычево' 'деревня Парицы'\n",
      " 'поселок Жилпосёлок' 'посёлок городского типа Мга'\n",
      " 'городской поселок Янино-1' 'посёлок Войскорово' 'село Никольское'\n",
      " 'посёлок Терволово' 'поселок Стеклянный' 'посёлок городского типа Важины'\n",
      " 'посёлок Мыза-Ивановка' 'село Русско-Высоцкое'\n",
      " 'поселок городского типа Лебяжье' 'поселок городского типа Форносово'\n",
      " 'село Старая Ладога' 'поселок Житково' 'городской посёлок Виллози'\n",
      " 'деревня Лампово' 'деревня Шпаньково' 'деревня Лаврики' 'посёлок Сумино'\n",
      " 'посёлок Возрождение' 'деревня Старосиверская' 'посёлок Кикерино'\n",
      " 'поселок Возрождение' 'деревня Старое Хинколово' 'посёлок Пригородный'\n",
      " 'посёлок Торфяное' 'городской посёлок Будогощь' 'поселок Суходолье'\n",
      " 'поселок Красная Долина' 'деревня Хапо-Ое'\n",
      " 'поселок городского типа Дружная Горка' 'поселок Лисий Нос'\n",
      " 'деревня Яльгелево' 'посёлок Стеклянный' 'село Рождествено'\n",
      " 'деревня Старополье' 'посёлок Левашово' 'деревня Сяськелево'\n",
      " 'деревня Камышовка'\n",
      " 'садоводческое некоммерческое товарищество Лесная Поляна'\n",
      " 'деревня Хязельки' 'поселок Жилгородок' 'посёлок городского типа Павлово'\n",
      " 'деревня Ялгино' 'поселок Новый Учхоз' 'городской посёлок Рощино'\n",
      " 'поселок Гончарово' 'поселок Почап' 'посёлок Сапёрное'\n",
      " 'посёлок Платформа 69-й километр' 'поселок Каложицы' 'деревня Фалилеево'\n",
      " 'деревня Пельгора' 'поселок городского типа Лесогорский'\n",
      " 'деревня Торошковичи' 'посёлок Белоостров' 'посёлок Алексеевка'\n",
      " 'поселок Серебрянский' 'поселок Лукаши' 'поселок Петровское'\n",
      " 'деревня Щеглово' 'поселок Мичуринское' 'деревня Тарасово'\n",
      " 'поселок Кингисеппский' 'посёлок при железнодорожной станции Вещево'\n",
      " 'поселок Ушаки' 'деревня Котлы' 'деревня Сижно' 'деревня Торосово'\n",
      " 'посёлок Форт Красная Горка' 'поселок городского типа Токсово'\n",
      " 'деревня Новолисино' 'посёлок станции Громово' 'деревня Глинка'\n",
      " 'посёлок Мельниково' 'поселок городского типа Назия'\n",
      " 'деревня Старая Пустошь' 'поселок Коммунары' 'поселок Починок'\n",
      " 'посёлок городского типа Вознесенье' 'деревня Разбегаево'\n",
      " 'посёлок городского типа Рябово' 'поселок Гладкое'\n",
      " 'посёлок при железнодорожной станции Приветнинское' 'поселок Тёсово-4'\n",
      " 'посёлок Жилгородок' 'деревня Бор' 'посёлок Коробицыно'\n",
      " 'деревня Большая Вруда' 'деревня Курковицы' 'посёлок Лисий Нос'\n",
      " 'городской посёлок Советский' 'посёлок Кобралово' 'деревня Суоранда'\n",
      " 'поселок Кобралово' 'поселок городского типа Кондратьево'\n",
      " 'коттеджный поселок Счастье' 'поселок Любань' 'деревня Реброво'\n",
      " 'деревня Зимитицы' 'деревня Тойворово' 'поселок Семиозерье'\n",
      " 'поселок Лесное' 'поселок Совхозный' 'поселок Усть-Луга'\n",
      " 'посёлок Ленинское' 'посёлок Суйда' 'посёлок городского типа Форносово'\n",
      " 'деревня Нижние Осельки' 'посёлок станции Свирь' 'поселок Перово'\n",
      " 'Высоцк' 'поселок Гарболово' 'село Шум' 'поселок Котельский'\n",
      " 'поселок станции Лужайка' 'деревня Большая Пустомержа'\n",
      " 'поселок Красносельское' 'деревня Вахнова Кара' 'деревня Пижма'\n",
      " 'коттеджный поселок Кивеннапа Север' 'поселок Коробицыно'\n",
      " 'поселок Ромашки' 'посёлок Перово' 'деревня Каськово' 'деревня Куровицы'\n",
      " 'посёлок Плоское' 'поселок Сумино'\n",
      " 'поселок городского типа Большая Ижора' 'поселок Кирпичное'\n",
      " 'деревня Ям-Тесово' 'деревня Раздолье' 'деревня Терпилицы'\n",
      " 'посёлок Шугозеро' 'деревня Ваганово' 'поселок Пушное'\n",
      " 'садовое товарищество Садко' 'посёлок Усть-Ижора' 'деревня Выскатка'\n",
      " 'городской посёлок Свирьстрой' 'поселок Громово' 'деревня Кисельня'\n",
      " 'посёлок Старая Малукса' 'деревня Трубников Бор' 'поселок Калитино'\n",
      " 'посёлок Высокоключевой' 'садовое товарищество Приладожский'\n",
      " 'посёлок Пансионат Зелёный Бор' 'деревня Ненимяки'\n",
      " 'поселок Пансионат Зелёный Бор' 'деревня Снегирёвка' 'деревня Рапполово'\n",
      " 'деревня Пустынка' 'поселок Рабитицы' 'деревня Большой Сабск'\n",
      " 'деревня Русско' 'деревня Лупполово' 'деревня Большое Рейзино'\n",
      " 'деревня Малая Романовка' 'поселок Дружноселье' 'поселок Пчевжа'\n",
      " 'поселок Володарское' 'деревня Нижняя' 'коттеджный посёлок Лесное'\n",
      " 'деревня Тихковицы' 'деревня Борисова Грива' 'посёлок Дзержинского']\n"
     ]
    }
   ],
   "source": [
    "# объявим функцию find_unique_name для вывода количества и уникальные значения по столбцу\n",
    "def find_unique_name(query,column, var):\n",
    "    if query==0:\n",
    "        # присваиваем значения применяем метод unique()\n",
    "        list_of_unique_name=data[column].unique()\n",
    "        # печать кол-ва уникальных значений\n",
    "        print('Количество уникальных значений столбца:', column, 'равно:', len(list_of_unique_name),'\\n') \n",
    "        # печать уникальных значений\n",
    "        print('Уникальные значения столбца', column, ':','\\n'*2, list_of_unique_name)\n",
    "    else:\n",
    "        list_of_unique_name=data.query(query)[column].unique()\n",
    "        print('Количество уникальных значений столбца', column, 'при условии',query, 'равно:', len(list_of_unique_name),'\\n') \n",
    "        print('Уникальные значения столбца', column, 'при условии', query, ':','\\n'*2, list_of_unique_name)\n",
    "    if var!=0:\n",
    "        for name in list_of_unique_name: \n",
    "            var.append(name)\n",
    "        print('Уникальные значения записаны в переменую')\n",
    "    return \n",
    "\n",
    "# вызовем функцию по столбцу 'locality_name'\n",
    "find_unique_name(0,'locality_name',0)"
   ]
  },
  {
   "cell_type": "raw",
   "metadata": {},
   "source": [
    "Методом replace() произведем замену буквы 'ё' на 'е' в названиях населенных пунктов?"
   ]
  },
  {
   "cell_type": "code",
   "execution_count": 14,
   "metadata": {},
   "outputs": [],
   "source": [
    "# замену буквы 'ё' на 'е'\n",
    "data.loc[:,'locality_name']=data.loc[:,'locality_name'].replace('ё', 'е', regex = True)"
   ]
  },
  {
   "cell_type": "markdown",
   "metadata": {},
   "source": [
    "Методом str.upper() переведем в верхний регистр наименование населенных пунктов. (т.к. в нижнем регистре отображение названий населенных пунктов недопустимо)"
   ]
  },
  {
   "cell_type": "code",
   "execution_count": 15,
   "metadata": {},
   "outputs": [],
   "source": [
    "#перевод в верхний регистр значений столбца\n",
    "data['locality_name']=data['locality_name'].str.upper() "
   ]
  },
  {
   "cell_type": "raw",
   "metadata": {},
   "source": [
    "Вызовем еще раз функцию find_unique_name по столбцу 'locality_name'"
   ]
  },
  {
   "cell_type": "code",
   "execution_count": 16,
   "metadata": {},
   "outputs": [
    {
     "name": "stdout",
     "output_type": "stream",
     "text": [
      "Количество уникальных значений столбца: locality_name равно: 331 \n",
      "\n",
      "Уникальные значения столбца locality_name : \n",
      "\n",
      " ['САНКТ-ПЕТЕРБУРГ' 'ПОСЕЛОК ШУШАРЫ' 'ГОРОДСКОЙ ПОСЕЛОК ЯНИНО-1'\n",
      " 'ПОСЕЛОК ПАРГОЛОВО' 'ПОСЕЛОК МУРИНО' 'ЛОМОНОСОВ' 'СЕРТОЛОВО' 'ПЕТЕРГОФ'\n",
      " 'ПУШКИН' 'ДЕРЕВНЯ КУДРОВО' 'КОММУНАР' 'КОЛПИНО'\n",
      " 'ПОСЕЛОК ГОРОДСКОГО ТИПА КРАСНЫЙ БОР' 'ГАТЧИНА' 'ДЕРЕВНЯ ФЕДОРОВСКОЕ'\n",
      " 'ВЫБОРГ' 'КРОНШТАДТ' 'КИРОВСК' 'ДЕРЕВНЯ НОВОЕ ДЕВЯТКИНО'\n",
      " 'ПОСЕЛОК МЕТАЛЛОСТРОЙ' 'ПОСЕЛОК ГОРОДСКОГО ТИПА ЛЕБЯЖЬЕ'\n",
      " 'ПОСЕЛОК ГОРОДСКОГО ТИПА СИВЕРСКИЙ' 'ПОСЕЛОК МОЛОДЦОВО'\n",
      " 'ПОСЕЛОК ГОРОДСКОГО ТИПА КУЗЬМОЛОВСКИЙ'\n",
      " 'САДОВОЕ ТОВАРИЩЕСТВО НОВАЯ РОПША' 'ПАВЛОВСК' 'ДЕРЕВНЯ ПИККОЛОВО'\n",
      " 'ВСЕВОЛОЖСК' 'ВОЛХОВ' 'КИНГИСЕПП' 'ПРИОЗЕРСК' 'СЕСТРОРЕЦК'\n",
      " 'ДЕРЕВНЯ КУТТУЗИ' 'ПОСЕЛОК АННИНО' 'ПОСЕЛОК ГОРОДСКОГО ТИПА ЕФИМОВСКИЙ'\n",
      " 'ПОСЕЛОК ПЛОДОВОЕ' 'ДЕРЕВНЯ ЗАКЛИНЬЕ' 'ПОСЕЛОК ТОРКОВИЧИ'\n",
      " 'ПОСЕЛОК ПЕРВОМАЙСКОЕ' 'КРАСНОЕ СЕЛО' 'ПОСЕЛОК ПОНТОННЫЙ' 'СЯСЬСТРОЙ'\n",
      " 'ДЕРЕВНЯ СТАРАЯ' 'ДЕРЕВНЯ ЛЕСКОЛОВО' 'ПОСЕЛОК НОВЫЙ СВЕТ' 'СЛАНЦЫ'\n",
      " 'СЕЛО ПУТИЛОВО' 'ИВАНГОРОД' 'МУРИНО' 'ШЛИССЕЛЬБУРГ' 'НИКОЛЬСКОЕ'\n",
      " 'ЗЕЛЕНОГОРСК' 'СОСНОВЫЙ БОР' 'ДЕРЕВНЯ ОРЖИЦЫ' 'ДЕРЕВНЯ КАЛЬТИНО'\n",
      " 'КУДРОВО' 'ПОСЕЛОК РОМАНОВКА' 'ПОСЕЛОК БУГРЫ'\n",
      " 'ПОСЕЛОК ГОРОДСКОГО ТИПА РОЩИНО' 'КИРИШИ' 'ЛУГА' 'ВОЛОСОВО' 'ОТРАДНОЕ'\n",
      " 'СЕЛО ПАВЛОВО' 'ПОСЕЛОК ОРЕДЕЖ' 'СЕЛО КОПОРЬЕ' 'ПОСЕЛОК МОЛОДЕЖНОЕ'\n",
      " 'ТИХВИН' 'ПОСЕЛОК ПОБЕДА' 'ДЕРЕВНЯ НУРМА'\n",
      " 'ПОСЕЛОК ГОРОДСКОГО ТИПА СИНЯВИНО' 'ТОСНО' 'ПОСЕЛОК СТРЕЛЬНА'\n",
      " 'БОКСИТОГОРСК' 'ПОСЕЛОК АЛЕКСАНДРОВСКАЯ' 'ДЕРЕВНЯ ЛОПУХИНКА' 'ПИКАЛЕВО'\n",
      " 'ПОСЕЛОК ТЕРВОЛОВО' 'ПОСЕЛОК ГОРОДСКОГО ТИПА СОВЕТСКИЙ' 'ПОДПОРОЖЬЕ'\n",
      " 'ПОСЕЛОК ПЕТРОВСКОЕ' 'ПОСЕЛОК ГОРОДСКОГО ТИПА ТОКСОВО' 'ПОСЕЛОК СЕЛЬЦО'\n",
      " 'ПОСЕЛОК ГОРОДСКОГО ТИПА ВЫРИЦА' 'ДЕРЕВНЯ КИПЕНЬ' 'ДЕРЕВНЯ КЕЛОЗИ'\n",
      " 'ДЕРЕВНЯ ВАРТЕМЯГИ' 'ПОСЕЛОК ТЕЛЬМАНА' 'ПОСЕЛОК СЕВАСТЬЯНОВО'\n",
      " 'ГОРОДСКОЙ ПОСЕЛОК БОЛЬШАЯ ИЖОРА' nan 'ГОРОДСКОЙ ПОСЕЛОК ПАВЛОВО'\n",
      " 'ДЕРЕВНЯ АГАЛАТОВО' 'ПОСЕЛОК НОВОГОРЕЛОВО'\n",
      " 'ГОРОДСКОЙ ПОСЕЛОК ЛЕСОГОРСКИЙ' 'ДЕРЕВНЯ ЛАГОЛОВО' 'ПОСЕЛОК ЦВЕЛОДУБОВО'\n",
      " 'ПОСЕЛОК ГОРОДСКОГО ТИПА РАХЬЯ' 'ДЕРЕВНЯ БЕЛОГОРКА' 'ПОСЕЛОК ЗАВОДСКОЙ'\n",
      " 'ГОРОДСКОЙ ПОСЕЛОК НОВОСЕЛЬЕ' 'ДЕРЕВНЯ БОЛЬШИЕ КОЛПАНЫ'\n",
      " 'ДЕРЕВНЯ ГОРБУНКИ' 'ДЕРЕВНЯ БАТОВО' 'ДЕРЕВНЯ ЗАНЕВКА' 'ДЕРЕВНЯ ИССАД'\n",
      " 'ПРИМОРСК' 'ГОРОДСКОЙ ПОСЕЛОК ФЕДОРОВСКОЕ' 'ДЕРЕВНЯ МИСТОЛОВО'\n",
      " 'НОВАЯ ЛАДОГА' 'ПОСЕЛОК ЗИМИТИЦЫ' 'ПОСЕЛОК БАРЫШЕВО'\n",
      " 'ДЕРЕВНЯ РАЗМЕТЕЛЕВО' 'ПОСЕЛОК ГОРОДСКОГО ТИПА ИМЕНИ СВЕРДЛОВА'\n",
      " 'ДЕРЕВНЯ ПЕНИКИ' 'ПОСЕЛОК РЯБОВО' 'ДЕРЕВНЯ ПУДОМЯГИ'\n",
      " 'ПОСЕЛОК СТАНЦИИ КОРНЕВО' 'ДЕРЕВНЯ НИЗИНО' 'ДЕРЕВНЯ БЕГУНИЦЫ'\n",
      " 'ПОСЕЛОК ПОЛЯНЫ' 'ГОРОДСКОЙ ПОСЕЛОК МГА' 'ПОСЕЛОК ЕЛИЗАВЕТИНО'\n",
      " 'ПОСЕЛОК ГОРОДСКОГО ТИПА КУЗНЕЧНОЕ' 'ДЕРЕВНЯ КОЛТУШИ'\n",
      " 'ПОСЕЛОК ЗАПОРОЖСКОЕ' 'ДЕРЕВНЯ ГОСТИЛИЦЫ' 'ДЕРЕВНЯ МАЛОЕ КАРЛИНО'\n",
      " 'ПОСЕЛОК МИЧУРИНСКОЕ' 'ПОСЕЛОК ГОРОДСКОГО ТИПА ИМЕНИ МОРОЗОВА'\n",
      " 'ПОСЕЛОК ПЕСОЧНЫЙ' 'ПОСЕЛОК СОСНОВО' 'ДЕРЕВНЯ АРО' 'ПОСЕЛОК ИЛЬИЧЕВО'\n",
      " 'ПОСЕЛОК ГОРОДСКОГО ТИПА ТАЙЦЫ' 'ДЕРЕВНЯ МАЛОЕ ВЕРЕВО' 'ДЕРЕВНЯ ИЗВАРА'\n",
      " 'ПОСЕЛОК СТАНЦИИ ВЕЩЕВО' 'СЕЛО ПАША' 'ДЕРЕВНЯ КАЛИТИНО'\n",
      " 'ПОСЕЛОК ГОРОДСКОГО ТИПА УЛЬЯНОВКА' 'ДЕРЕВНЯ ЧУДСКОЙ БОР'\n",
      " 'ПОСЕЛОК ГОРОДСКОГО ТИПА ДУБРОВКА' 'ДЕРЕВНЯ МИНЫ' 'ПОСЕЛОК ВОЙСКОВИЦЫ'\n",
      " 'ДЕРЕВНЯ КОРКИНО' 'ПОСЕЛОК РОПША' 'ПОСЕЛОК ГОРОДСКОГО ТИПА ПРИЛАДОЖСКИЙ'\n",
      " 'ПОСЕЛОК ЩЕГЛОВО' 'ПОСЕЛОК ГАВРИЛОВО' 'ЛОДЕЙНОЕ ПОЛЕ' 'ДЕРЕВНЯ РАБИТИЦЫ'\n",
      " 'ПОСЕЛОК ГОРОДСКОГО ТИПА НИКОЛЬСКИЙ' 'ДЕРЕВНЯ КУЗЬМОЛОВО'\n",
      " 'ДЕРЕВНЯ МАЛЫЕ КОЛПАНЫ' 'ПОСЕЛОК ПЕТРО-СЛАВЯНКА'\n",
      " 'ГОРОДСКОЙ ПОСЕЛОК НАЗИЯ' 'ПОСЕЛОК РЕПИНО' 'ПОСЕЛОК УГЛОВО'\n",
      " 'ПОСЕЛОК СТАРАЯ МАЛУКСА' 'САДОВОЕ ТОВАРИЩЕСТВО РАХЬЯ' 'ДЕРЕВНЯ МЕНЬКОВО'\n",
      " 'ДЕРЕВНЯ СТАРЫЕ БЕГУНИЦЫ' 'ПОСЕЛОК САПЕРНЫЙ' 'ПОСЕЛОК СЕМРИНО'\n",
      " 'ПОСЕЛОК ГЛАЖЕВО' 'ПОСЕЛОК КОБРИНСКОЕ' 'ДЕРЕВНЯ ГАРБОЛОВО' 'ДЕРЕВНЯ ЮККИ'\n",
      " 'ПОСЕЛОК СТАНЦИИ ПРИВЕТНИНСКОЕ' 'ДЕРЕВНЯ МАНУЙЛОВО' 'ДЕРЕВНЯ ПЧЕВА'\n",
      " 'ПОСЕЛОК ЦВЫЛЕВО' 'ПОСЕЛОК МЕЛЬНИКОВО' 'ПОСЕЛОК ПУДОСТЬ'\n",
      " 'ПОСЕЛОК УСТЬ-ЛУГА' 'СВЕТОГОРСК' 'ЛЮБАНЬ' 'ПОСЕЛОК СЕЛЕЗНЕВО'\n",
      " 'ПОСЕЛОК ГОРОДСКОГО ТИПА РЯБОВО' 'КАМЕННОГОРСК' 'ДЕРЕВНЯ КРИВКО'\n",
      " 'ПОСЕЛОК ГЛЕБЫЧЕВО' 'ДЕРЕВНЯ ПАРИЦЫ' 'ПОСЕЛОК ЖИЛПОСЕЛОК'\n",
      " 'ПОСЕЛОК ГОРОДСКОГО ТИПА МГА' 'ПОСЕЛОК ВОЙСКОРОВО' 'СЕЛО НИКОЛЬСКОЕ'\n",
      " 'ПОСЕЛОК СТЕКЛЯННЫЙ' 'ПОСЕЛОК ГОРОДСКОГО ТИПА ВАЖИНЫ'\n",
      " 'ПОСЕЛОК МЫЗА-ИВАНОВКА' 'СЕЛО РУССКО-ВЫСОЦКОЕ'\n",
      " 'ПОСЕЛОК ГОРОДСКОГО ТИПА ФОРНОСОВО' 'СЕЛО СТАРАЯ ЛАДОГА'\n",
      " 'ПОСЕЛОК ЖИТКОВО' 'ГОРОДСКОЙ ПОСЕЛОК ВИЛЛОЗИ' 'ДЕРЕВНЯ ЛАМПОВО'\n",
      " 'ДЕРЕВНЯ ШПАНЬКОВО' 'ДЕРЕВНЯ ЛАВРИКИ' 'ПОСЕЛОК СУМИНО'\n",
      " 'ПОСЕЛОК ВОЗРОЖДЕНИЕ' 'ДЕРЕВНЯ СТАРОСИВЕРСКАЯ' 'ПОСЕЛОК КИКЕРИНО'\n",
      " 'ДЕРЕВНЯ СТАРОЕ ХИНКОЛОВО' 'ПОСЕЛОК ПРИГОРОДНЫЙ' 'ПОСЕЛОК ТОРФЯНОЕ'\n",
      " 'ГОРОДСКОЙ ПОСЕЛОК БУДОГОЩЬ' 'ПОСЕЛОК СУХОДОЛЬЕ' 'ПОСЕЛОК КРАСНАЯ ДОЛИНА'\n",
      " 'ДЕРЕВНЯ ХАПО-ОЕ' 'ПОСЕЛОК ГОРОДСКОГО ТИПА ДРУЖНАЯ ГОРКА'\n",
      " 'ПОСЕЛОК ЛИСИЙ НОС' 'ДЕРЕВНЯ ЯЛЬГЕЛЕВО' 'СЕЛО РОЖДЕСТВЕНО'\n",
      " 'ДЕРЕВНЯ СТАРОПОЛЬЕ' 'ПОСЕЛОК ЛЕВАШОВО' 'ДЕРЕВНЯ СЯСЬКЕЛЕВО'\n",
      " 'ДЕРЕВНЯ КАМЫШОВКА'\n",
      " 'САДОВОДЧЕСКОЕ НЕКОММЕРЧЕСКОЕ ТОВАРИЩЕСТВО ЛЕСНАЯ ПОЛЯНА'\n",
      " 'ДЕРЕВНЯ ХЯЗЕЛЬКИ' 'ПОСЕЛОК ЖИЛГОРОДОК' 'ПОСЕЛОК ГОРОДСКОГО ТИПА ПАВЛОВО'\n",
      " 'ДЕРЕВНЯ ЯЛГИНО' 'ПОСЕЛОК НОВЫЙ УЧХОЗ' 'ГОРОДСКОЙ ПОСЕЛОК РОЩИНО'\n",
      " 'ПОСЕЛОК ГОНЧАРОВО' 'ПОСЕЛОК ПОЧАП' 'ПОСЕЛОК САПЕРНОЕ'\n",
      " 'ПОСЕЛОК ПЛАТФОРМА 69-Й КИЛОМЕТР' 'ПОСЕЛОК КАЛОЖИЦЫ' 'ДЕРЕВНЯ ФАЛИЛЕЕВО'\n",
      " 'ДЕРЕВНЯ ПЕЛЬГОРА' 'ПОСЕЛОК ГОРОДСКОГО ТИПА ЛЕСОГОРСКИЙ'\n",
      " 'ДЕРЕВНЯ ТОРОШКОВИЧИ' 'ПОСЕЛОК БЕЛООСТРОВ' 'ПОСЕЛОК АЛЕКСЕЕВКА'\n",
      " 'ПОСЕЛОК СЕРЕБРЯНСКИЙ' 'ПОСЕЛОК ЛУКАШИ' 'ДЕРЕВНЯ ЩЕГЛОВО'\n",
      " 'ДЕРЕВНЯ ТАРАСОВО' 'ПОСЕЛОК КИНГИСЕППСКИЙ'\n",
      " 'ПОСЕЛОК ПРИ ЖЕЛЕЗНОДОРОЖНОЙ СТАНЦИИ ВЕЩЕВО' 'ПОСЕЛОК УШАКИ'\n",
      " 'ДЕРЕВНЯ КОТЛЫ' 'ДЕРЕВНЯ СИЖНО' 'ДЕРЕВНЯ ТОРОСОВО'\n",
      " 'ПОСЕЛОК ФОРТ КРАСНАЯ ГОРКА' 'ДЕРЕВНЯ НОВОЛИСИНО'\n",
      " 'ПОСЕЛОК СТАНЦИИ ГРОМОВО' 'ДЕРЕВНЯ ГЛИНКА'\n",
      " 'ПОСЕЛОК ГОРОДСКОГО ТИПА НАЗИЯ' 'ДЕРЕВНЯ СТАРАЯ ПУСТОШЬ'\n",
      " 'ПОСЕЛОК КОММУНАРЫ' 'ПОСЕЛОК ПОЧИНОК'\n",
      " 'ПОСЕЛОК ГОРОДСКОГО ТИПА ВОЗНЕСЕНЬЕ' 'ДЕРЕВНЯ РАЗБЕГАЕВО'\n",
      " 'ПОСЕЛОК ГЛАДКОЕ' 'ПОСЕЛОК ПРИ ЖЕЛЕЗНОДОРОЖНОЙ СТАНЦИИ ПРИВЕТНИНСКОЕ'\n",
      " 'ПОСЕЛОК ТЕСОВО-4' 'ДЕРЕВНЯ БОР' 'ПОСЕЛОК КОРОБИЦЫНО'\n",
      " 'ДЕРЕВНЯ БОЛЬШАЯ ВРУДА' 'ДЕРЕВНЯ КУРКОВИЦЫ' 'ГОРОДСКОЙ ПОСЕЛОК СОВЕТСКИЙ'\n",
      " 'ПОСЕЛОК КОБРАЛОВО' 'ДЕРЕВНЯ СУОРАНДА'\n",
      " 'ПОСЕЛОК ГОРОДСКОГО ТИПА КОНДРАТЬЕВО' 'КОТТЕДЖНЫЙ ПОСЕЛОК СЧАСТЬЕ'\n",
      " 'ПОСЕЛОК ЛЮБАНЬ' 'ДЕРЕВНЯ РЕБРОВО' 'ДЕРЕВНЯ ЗИМИТИЦЫ' 'ДЕРЕВНЯ ТОЙВОРОВО'\n",
      " 'ПОСЕЛОК СЕМИОЗЕРЬЕ' 'ПОСЕЛОК ЛЕСНОЕ' 'ПОСЕЛОК СОВХОЗНЫЙ'\n",
      " 'ПОСЕЛОК ЛЕНИНСКОЕ' 'ПОСЕЛОК СУЙДА' 'ДЕРЕВНЯ НИЖНИЕ ОСЕЛЬКИ'\n",
      " 'ПОСЕЛОК СТАНЦИИ СВИРЬ' 'ПОСЕЛОК ПЕРОВО' 'ВЫСОЦК' 'ПОСЕЛОК ГАРБОЛОВО'\n",
      " 'СЕЛО ШУМ' 'ПОСЕЛОК КОТЕЛЬСКИЙ' 'ПОСЕЛОК СТАНЦИИ ЛУЖАЙКА'\n",
      " 'ДЕРЕВНЯ БОЛЬШАЯ ПУСТОМЕРЖА' 'ПОСЕЛОК КРАСНОСЕЛЬСКОЕ'\n",
      " 'ДЕРЕВНЯ ВАХНОВА КАРА' 'ДЕРЕВНЯ ПИЖМА'\n",
      " 'КОТТЕДЖНЫЙ ПОСЕЛОК КИВЕННАПА СЕВЕР' 'ПОСЕЛОК РОМАШКИ' 'ДЕРЕВНЯ КАСЬКОВО'\n",
      " 'ДЕРЕВНЯ КУРОВИЦЫ' 'ПОСЕЛОК ПЛОСКОЕ'\n",
      " 'ПОСЕЛОК ГОРОДСКОГО ТИПА БОЛЬШАЯ ИЖОРА' 'ПОСЕЛОК КИРПИЧНОЕ'\n",
      " 'ДЕРЕВНЯ ЯМ-ТЕСОВО' 'ДЕРЕВНЯ РАЗДОЛЬЕ' 'ДЕРЕВНЯ ТЕРПИЛИЦЫ'\n",
      " 'ПОСЕЛОК ШУГОЗЕРО' 'ДЕРЕВНЯ ВАГАНОВО' 'ПОСЕЛОК ПУШНОЕ'\n",
      " 'САДОВОЕ ТОВАРИЩЕСТВО САДКО' 'ПОСЕЛОК УСТЬ-ИЖОРА' 'ДЕРЕВНЯ ВЫСКАТКА'\n",
      " 'ГОРОДСКОЙ ПОСЕЛОК СВИРЬСТРОЙ' 'ПОСЕЛОК ГРОМОВО' 'ДЕРЕВНЯ КИСЕЛЬНЯ'\n",
      " 'ДЕРЕВНЯ ТРУБНИКОВ БОР' 'ПОСЕЛОК КАЛИТИНО' 'ПОСЕЛОК ВЫСОКОКЛЮЧЕВОЙ'\n",
      " 'САДОВОЕ ТОВАРИЩЕСТВО ПРИЛАДОЖСКИЙ' 'ПОСЕЛОК ПАНСИОНАТ ЗЕЛЕНЫЙ БОР'\n",
      " 'ДЕРЕВНЯ НЕНИМЯКИ' 'ДЕРЕВНЯ СНЕГИРЕВКА' 'ДЕРЕВНЯ РАППОЛОВО'\n",
      " 'ДЕРЕВНЯ ПУСТЫНКА' 'ПОСЕЛОК РАБИТИЦЫ' 'ДЕРЕВНЯ БОЛЬШОЙ САБСК'\n",
      " 'ДЕРЕВНЯ РУССКО' 'ДЕРЕВНЯ ЛУППОЛОВО' 'ДЕРЕВНЯ БОЛЬШОЕ РЕЙЗИНО'\n",
      " 'ДЕРЕВНЯ МАЛАЯ РОМАНОВКА' 'ПОСЕЛОК ДРУЖНОСЕЛЬЕ' 'ПОСЕЛОК ПЧЕВЖА'\n",
      " 'ПОСЕЛОК ВОЛОДАРСКОЕ' 'ДЕРЕВНЯ НИЖНЯЯ' 'КОТТЕДЖНЫЙ ПОСЕЛОК ЛЕСНОЕ'\n",
      " 'ДЕРЕВНЯ ТИХКОВИЦЫ' 'ДЕРЕВНЯ БОРИСОВА ГРИВА' 'ПОСЕЛОК ДЗЕРЖИНСКОГО']\n"
     ]
    }
   ],
   "source": [
    "find_unique_name(0,'locality_name',0)"
   ]
  },
  {
   "cell_type": "markdown",
   "metadata": {},
   "source": [
    "Провем еще раз на дуликаты исходную таблицу."
   ]
  },
  {
   "cell_type": "code",
   "execution_count": 17,
   "metadata": {},
   "outputs": [
    {
     "data": {
      "text/plain": [
       "0"
      ]
     },
     "execution_count": 17,
     "metadata": {},
     "output_type": "execute_result"
    }
   ],
   "source": [
    "data.duplicated().sum() #получение суммарного количества дубликатов в таблице data"
   ]
  },
  {
   "cell_type": "markdown",
   "metadata": {},
   "source": [
    "Манипуляции по переводу строки в единый регистр и замена буквы 'ё' на 'е' позволила избавиться от 34 дублирующих наименований внутри столбца с названиями населенных пунктов. Но строковых дубликатов это не помогло выявить, возможно их нет."
   ]
  },
  {
   "cell_type": "markdown",
   "metadata": {},
   "source": [
    "### 2.3.1 Заполним пропуски в столбце высота потолков, в домах, которые находятся в одном населенном пунке, имеют одинаковую этажность, равно удалены от аэропорта и центра города. Предположим, что это один и тот же дом или типовой."
   ]
  },
  {
   "cell_type": "markdown",
   "metadata": {},
   "source": [
    "Для это нам необходимо составиь словарь-справочник, в котором ключем будет \"сцепка\" значений населенный пункт+удаленность от аэропорта+удаленность от центра города+этажность дома, а значением будет высота потолка. Затем беря информацию из справочника, заполним пустые значения в столбце ceiling_height.\n",
    "Сначала составим срез таблицы в котором заполнены поля 'airports_nearest, cityCenters_nearest, locality_name, floors_total, ceiling_height, запишем в переменную suppose_3_1."
   ]
  },
  {
   "cell_type": "code",
   "execution_count": 18,
   "metadata": {},
   "outputs": [
    {
     "data": {
      "text/plain": [
       "1977"
      ]
     },
     "execution_count": 18,
     "metadata": {},
     "output_type": "execute_result"
    }
   ],
   "source": [
    "suppose_3_1=data.query('airports_nearest>0 & cityCenters_nearest>0 & locality_name.notnull() & floors_total.notnull() & ceiling_height.notnull()')[\n",
    "    ['locality_name','cityCenters_nearest','airports_nearest','floors_total','ceiling_height']]\n",
    "# подсчитае кол-во дубликатов\n",
    "suppose_3_1.duplicated().sum()"
   ]
  },
  {
   "cell_type": "markdown",
   "metadata": {},
   "source": [
    "Удалим дубликаты, чтобы срез хранил только уникальные строки по которым мы будем составлять словарь-справочник."
   ]
  },
  {
   "cell_type": "code",
   "execution_count": 19,
   "metadata": {},
   "outputs": [
    {
     "name": "stdout",
     "output_type": "stream",
     "text": [
      "Длина справочника: 9541 \n",
      "\n"
     ]
    },
    {
     "data": {
      "text/html": [
       "<div>\n",
       "<style scoped>\n",
       "    .dataframe tbody tr th:only-of-type {\n",
       "        vertical-align: middle;\n",
       "    }\n",
       "\n",
       "    .dataframe tbody tr th {\n",
       "        vertical-align: top;\n",
       "    }\n",
       "\n",
       "    .dataframe thead th {\n",
       "        text-align: right;\n",
       "    }\n",
       "</style>\n",
       "<table border=\"1\" class=\"dataframe\">\n",
       "  <thead>\n",
       "    <tr style=\"text-align: right;\">\n",
       "      <th></th>\n",
       "      <th>locality_name</th>\n",
       "      <th>cityCenters_nearest</th>\n",
       "      <th>airports_nearest</th>\n",
       "      <th>floors_total</th>\n",
       "      <th>ceiling_height</th>\n",
       "    </tr>\n",
       "  </thead>\n",
       "  <tbody>\n",
       "    <tr>\n",
       "      <td>9536</td>\n",
       "      <td>САНКТ-ПЕТЕРБУРГ</td>\n",
       "      <td>11602.0</td>\n",
       "      <td>11751.0</td>\n",
       "      <td>9.0</td>\n",
       "      <td>2.55</td>\n",
       "    </tr>\n",
       "    <tr>\n",
       "      <td>9537</td>\n",
       "      <td>САНКТ-ПЕТЕРБУРГ</td>\n",
       "      <td>14428.0</td>\n",
       "      <td>15632.0</td>\n",
       "      <td>15.0</td>\n",
       "      <td>3.05</td>\n",
       "    </tr>\n",
       "    <tr>\n",
       "      <td>9538</td>\n",
       "      <td>САНКТ-ПЕТЕРБУРГ</td>\n",
       "      <td>4489.0</td>\n",
       "      <td>19424.0</td>\n",
       "      <td>25.0</td>\n",
       "      <td>2.75</td>\n",
       "    </tr>\n",
       "    <tr>\n",
       "      <td>9539</td>\n",
       "      <td>ПЕТЕРГОФ</td>\n",
       "      <td>34104.0</td>\n",
       "      <td>45602.0</td>\n",
       "      <td>9.0</td>\n",
       "      <td>2.60</td>\n",
       "    </tr>\n",
       "    <tr>\n",
       "      <td>9540</td>\n",
       "      <td>САНКТ-ПЕТЕРБУРГ</td>\n",
       "      <td>4232.0</td>\n",
       "      <td>24665.0</td>\n",
       "      <td>5.0</td>\n",
       "      <td>3.70</td>\n",
       "    </tr>\n",
       "  </tbody>\n",
       "</table>\n",
       "</div>"
      ],
      "text/plain": [
       "        locality_name  cityCenters_nearest  airports_nearest  floors_total  \\\n",
       "9536  САНКТ-ПЕТЕРБУРГ              11602.0           11751.0           9.0   \n",
       "9537  САНКТ-ПЕТЕРБУРГ              14428.0           15632.0          15.0   \n",
       "9538  САНКТ-ПЕТЕРБУРГ               4489.0           19424.0          25.0   \n",
       "9539         ПЕТЕРГОФ              34104.0           45602.0           9.0   \n",
       "9540  САНКТ-ПЕТЕРБУРГ               4232.0           24665.0           5.0   \n",
       "\n",
       "      ceiling_height  \n",
       "9536            2.55  \n",
       "9537            3.05  \n",
       "9538            2.75  \n",
       "9539            2.60  \n",
       "9540            3.70  "
      ]
     },
     "execution_count": 19,
     "metadata": {},
     "output_type": "execute_result"
    }
   ],
   "source": [
    "# удалим дубликаты методом drop_duplicates() обновим индексы методом reset_index()\n",
    "suppose_3_1=suppose_3_1.drop_duplicates().reset_index(drop= True)\n",
    "#выведем длинну и несколько значений справочника\n",
    "print('Длина справочника:',len(suppose_3_1),'\\n')\n",
    "suppose_3_1.tail()"
   ]
  },
  {
   "cell_type": "markdown",
   "metadata": {},
   "source": [
    "Воспользуемся методом describe для оценки значений по столбцу."
   ]
  },
  {
   "cell_type": "code",
   "execution_count": 20,
   "metadata": {},
   "outputs": [
    {
     "data": {
      "text/plain": [
       "count    9541.000000\n",
       "mean        2.805081\n",
       "std         1.353897\n",
       "min         1.000000\n",
       "25%         2.550000\n",
       "50%         2.700000\n",
       "75%         2.850000\n",
       "max       100.000000\n",
       "Name: ceiling_height, dtype: float64"
      ]
     },
     "execution_count": 20,
     "metadata": {},
     "output_type": "execute_result"
    }
   ],
   "source": [
    "suppose_3_1['ceiling_height'].describe()"
   ]
  },
  {
   "cell_type": "markdown",
   "metadata": {},
   "source": [
    "Максимальная высота потолков 100 метров, это явно выброс. Определим все выбросы, чтобы сформировать корректный справочник.\n",
    "Для определения выбросов построим диаграмму размаха."
   ]
  },
  {
   "cell_type": "code",
   "execution_count": 21,
   "metadata": {},
   "outputs": [
    {
     "data": {
      "text/plain": [
       "<matplotlib.axes._subplots.AxesSubplot at 0x7f246bff2160>"
      ]
     },
     "execution_count": 21,
     "metadata": {},
     "output_type": "execute_result"
    },
    {
     "data": {
      "image/png": "[encoded data removed]",
      "text/plain": [
       "<Figure size 432x288 with 1 Axes>"
      ]
     },
     "metadata": {
      "needs_background": "light"
     },
     "output_type": "display_data"
    }
   ],
   "source": [
    "# построим диаграмму размаха\n",
    "suppose_3_1.boxplot('ceiling_height')"
   ]
  },
  {
   "cell_type": "code",
   "execution_count": 22,
   "metadata": {},
   "outputs": [
    {
     "data": {
      "text/plain": [
       "<matplotlib.axes._subplots.AxesSubplot at 0x7f246bedbbe0>"
      ]
     },
     "execution_count": 22,
     "metadata": {},
     "output_type": "execute_result"
    },
    {
     "data": {
      "image/png": "[encoded data removed]",
      "text/plain": [
       "<Figure size 432x288 with 1 Axes>"
      ]
     },
     "metadata": {
      "needs_background": "light"
     },
     "output_type": "display_data"
    }
   ],
   "source": [
    "# какой то глюк, надо два раза запустить boxplot, чтобы отрисовал диаграмму размаха\n",
    "suppose_3_1.boxplot('ceiling_height')"
   ]
  },
  {
   "cell_type": "markdown",
   "metadata": {},
   "source": [
    "Получилось не наглядно. Отмаштабируем."
   ]
  },
  {
   "cell_type": "code",
   "execution_count": 23,
   "metadata": {},
   "outputs": [
    {
     "data": {
      "text/plain": [
       "(2, 3.5)"
      ]
     },
     "execution_count": 23,
     "metadata": {},
     "output_type": "execute_result"
    },
    {
     "data": {
      "image/png": "[encoded data removed]",
      "text/plain": [
       "<Figure size 432x288 with 1 Axes>"
      ]
     },
     "metadata": {
      "needs_background": "light"
     },
     "output_type": "display_data"
    }
   ],
   "source": [
    "suppose_3_1.boxplot('ceiling_height')\n",
    "plt.ylim(2, 3.5)"
   ]
  },
  {
   "cell_type": "markdown",
   "metadata": {},
   "source": [
    "Теперь наглядно.По графику легко определить, \"нижний ус\" равный 2.3 и \"верхний ус\" - 3.3. Все, что не попадает в область значений крайних значений усов - есть выбросы. \n",
    "На основании полученных данных откорректируем наш справочник."
   ]
  },
  {
   "cell_type": "code",
   "execution_count": 24,
   "metadata": {},
   "outputs": [
    {
     "data": {
      "text/html": [
       "<div>\n",
       "<style scoped>\n",
       "    .dataframe tbody tr th:only-of-type {\n",
       "        vertical-align: middle;\n",
       "    }\n",
       "\n",
       "    .dataframe tbody tr th {\n",
       "        vertical-align: top;\n",
       "    }\n",
       "\n",
       "    .dataframe thead th {\n",
       "        text-align: right;\n",
       "    }\n",
       "</style>\n",
       "<table border=\"1\" class=\"dataframe\">\n",
       "  <thead>\n",
       "    <tr style=\"text-align: right;\">\n",
       "      <th></th>\n",
       "      <th>locality_name</th>\n",
       "      <th>cityCenters_nearest</th>\n",
       "      <th>airports_nearest</th>\n",
       "      <th>floors_total</th>\n",
       "      <th>ceiling_height</th>\n",
       "    </tr>\n",
       "  </thead>\n",
       "  <tbody>\n",
       "    <tr>\n",
       "      <td>0</td>\n",
       "      <td>САНКТ-ПЕТЕРБУРГ</td>\n",
       "      <td>16028.0</td>\n",
       "      <td>18863.0</td>\n",
       "      <td>16.0</td>\n",
       "      <td>2.70</td>\n",
       "    </tr>\n",
       "    <tr>\n",
       "      <td>1</td>\n",
       "      <td>САНКТ-ПЕТЕРБУРГ</td>\n",
       "      <td>8098.0</td>\n",
       "      <td>31856.0</td>\n",
       "      <td>14.0</td>\n",
       "      <td>3.03</td>\n",
       "    </tr>\n",
       "    <tr>\n",
       "      <td>2</td>\n",
       "      <td>САНКТ-ПЕТЕРБУРГ</td>\n",
       "      <td>15008.0</td>\n",
       "      <td>50898.0</td>\n",
       "      <td>9.0</td>\n",
       "      <td>2.50</td>\n",
       "    </tr>\n",
       "    <tr>\n",
       "      <td>3</td>\n",
       "      <td>САНКТ-ПЕТЕРБУРГ</td>\n",
       "      <td>13878.0</td>\n",
       "      <td>38357.0</td>\n",
       "      <td>12.0</td>\n",
       "      <td>2.67</td>\n",
       "    </tr>\n",
       "    <tr>\n",
       "      <td>4</td>\n",
       "      <td>ПЕТЕРГОФ</td>\n",
       "      <td>33058.0</td>\n",
       "      <td>37868.0</td>\n",
       "      <td>5.0</td>\n",
       "      <td>2.56</td>\n",
       "    </tr>\n",
       "    <tr>\n",
       "      <td>...</td>\n",
       "      <td>...</td>\n",
       "      <td>...</td>\n",
       "      <td>...</td>\n",
       "      <td>...</td>\n",
       "      <td>...</td>\n",
       "    </tr>\n",
       "    <tr>\n",
       "      <td>8981</td>\n",
       "      <td>ЛОМОНОСОВ</td>\n",
       "      <td>51818.0</td>\n",
       "      <td>48393.0</td>\n",
       "      <td>5.0</td>\n",
       "      <td>2.50</td>\n",
       "    </tr>\n",
       "    <tr>\n",
       "      <td>8982</td>\n",
       "      <td>САНКТ-ПЕТЕРБУРГ</td>\n",
       "      <td>11602.0</td>\n",
       "      <td>11751.0</td>\n",
       "      <td>9.0</td>\n",
       "      <td>2.55</td>\n",
       "    </tr>\n",
       "    <tr>\n",
       "      <td>8983</td>\n",
       "      <td>САНКТ-ПЕТЕРБУРГ</td>\n",
       "      <td>14428.0</td>\n",
       "      <td>15632.0</td>\n",
       "      <td>15.0</td>\n",
       "      <td>3.05</td>\n",
       "    </tr>\n",
       "    <tr>\n",
       "      <td>8984</td>\n",
       "      <td>САНКТ-ПЕТЕРБУРГ</td>\n",
       "      <td>4489.0</td>\n",
       "      <td>19424.0</td>\n",
       "      <td>25.0</td>\n",
       "      <td>2.75</td>\n",
       "    </tr>\n",
       "    <tr>\n",
       "      <td>8985</td>\n",
       "      <td>ПЕТЕРГОФ</td>\n",
       "      <td>34104.0</td>\n",
       "      <td>45602.0</td>\n",
       "      <td>9.0</td>\n",
       "      <td>2.60</td>\n",
       "    </tr>\n",
       "  </tbody>\n",
       "</table>\n",
       "<p>8986 rows × 5 columns</p>\n",
       "</div>"
      ],
      "text/plain": [
       "        locality_name  cityCenters_nearest  airports_nearest  floors_total  \\\n",
       "0     САНКТ-ПЕТЕРБУРГ              16028.0           18863.0          16.0   \n",
       "1     САНКТ-ПЕТЕРБУРГ               8098.0           31856.0          14.0   \n",
       "2     САНКТ-ПЕТЕРБУРГ              15008.0           50898.0           9.0   \n",
       "3     САНКТ-ПЕТЕРБУРГ              13878.0           38357.0          12.0   \n",
       "4            ПЕТЕРГОФ              33058.0           37868.0           5.0   \n",
       "...               ...                  ...               ...           ...   \n",
       "8981        ЛОМОНОСОВ              51818.0           48393.0           5.0   \n",
       "8982  САНКТ-ПЕТЕРБУРГ              11602.0           11751.0           9.0   \n",
       "8983  САНКТ-ПЕТЕРБУРГ              14428.0           15632.0          15.0   \n",
       "8984  САНКТ-ПЕТЕРБУРГ               4489.0           19424.0          25.0   \n",
       "8985         ПЕТЕРГОФ              34104.0           45602.0           9.0   \n",
       "\n",
       "      ceiling_height  \n",
       "0               2.70  \n",
       "1               3.03  \n",
       "2               2.50  \n",
       "3               2.67  \n",
       "4               2.56  \n",
       "...              ...  \n",
       "8981            2.50  \n",
       "8982            2.55  \n",
       "8983            3.05  \n",
       "8984            2.75  \n",
       "8985            2.60  \n",
       "\n",
       "[8986 rows x 5 columns]"
      ]
     },
     "execution_count": 24,
     "metadata": {},
     "output_type": "execute_result"
    }
   ],
   "source": [
    "suppose_3_1=suppose_3_1.query('2.3<=ceiling_height<=3.3').reset_index(drop=True)\n",
    "suppose_3_1"
   ]
  },
  {
   "cell_type": "markdown",
   "metadata": {},
   "source": [
    "Составим словарь в котором ключ это конкретный дом, определяемый как связка значений населенный пункт+удаленность от аэропорта+удаленность от центра города+этажность дома, а значением будет высота потолка. Для формирования словаря-справочника по 4 значениям напишем функцию make_dict_for_4_values."
   ]
  },
  {
   "cell_type": "code",
   "execution_count": 25,
   "metadata": {},
   "outputs": [],
   "source": [
    "# объявляем функцию, с параметрами название словаря, и срез таблицы по которой будет формироватся словарь\n",
    "def make_dict_for_4_values(name_of_dict,table):\n",
    "    for i in range(len(table)):\n",
    "        try:\n",
    "            # сначала пытаемся добавить к ключу еще одно значение в список\n",
    "            name_of_dict[str(table.loc[i][0])+'#'+str(table.loc[i][1])+'#'+str(table.loc[i][2])+'#'+str(table.loc[i][3])].append(table.loc[i][4])\n",
    "        except AttributeError:\n",
    "        # если ключ,имеет уже значение, то создаем список из значений\n",
    "            name_of_dict[str(table.loc[i][0])+'#'+str(table.loc[i][1])+'#'+str(table.loc[i][2])+'#'+str(table.loc[i][3])]=([name_of_dict[str(table.loc[i][0])+'#'+str(table.loc[i][1])+'#'+str(table.loc[i][2])+'#'+str(table.loc[i][3])],table.loc[i][4]])\n",
    "        # ключ со значениями больше одного,добавляем в список many_values_of_keys_4\n",
    "            many_values_of_keys_4.append(str(table.loc[i][0])+'#'+str(table.loc[i][1])+'#'+str(table.loc[i][2])+'#'+str(table.loc[i][3]))\n",
    "        # если ключа нет в словаре, создаем первую пару ключ-значение\n",
    "        except KeyError:\n",
    "            name_of_dict[str(table.loc[i][0])+'#'+str(table.loc[i][1])+'#'+str(table.loc[i][2])+'#'+str(table.loc[i][3])]=(table.loc[i][4])\n",
    "    print('Длина словаря:',len(name_of_dict),'\\\\n','Количество ключей имеющих больше одного значения',len(many_values_of_keys_4))"
   ]
  },
  {
   "cell_type": "code",
   "execution_count": 26,
   "metadata": {},
   "outputs": [
    {
     "name": "stdout",
     "output_type": "stream",
     "text": [
      "Длина словаря: 7533 \\n Количество ключей имеющих больше одного значения 1187\n"
     ]
    }
   ],
   "source": [
    "# объявляем cловарь-справочник\n",
    "dict_suppose_3_1={}\n",
    "# объявляем список для ключей имеющих больше одного значения\n",
    "many_values_of_keys_4=[]\n",
    "# формируем cловарь используя написаную функцию \n",
    "make_dict_for_4_values(dict_suppose_3_1,suppose_3_1)"
   ]
  },
  {
   "cell_type": "markdown",
   "metadata": {},
   "source": [
    "Словарь имеет ключи в которых больше одного значения, это означает:\n",
    "    \n",
    "Вариант1: владельцы объявлений указавали не точную высоту потолков, а примерную. В одном и том же доме не может быть разной высоты потолков. \n",
    "\n",
    "Вариант2: менее правдоподобный, но возможный: это не серийные дома, из одного населенного пункта, одинаковой этажности, равноудаленные от своих центров и аэропортов.\n",
    "\n",
    "Подкорректируем наш словарь для ключей со значением больше одного, как средняя между величинами одного ключа.\n",
    "\n",
    "Необходимо, рекомендовать программистам из Я.Недвижимость подтягивать значение высоты потолков из кадастровой выписки по конкретному дому или по серии(типу) дома."
   ]
  },
  {
   "cell_type": "code",
   "execution_count": 27,
   "metadata": {
    "scrolled": false
   },
   "outputs": [],
   "source": [
    "# функция перезаписи словаря по ключу с присваиванием ключу среднего значения\n",
    "def refresh_dict(dict_to_refresh, list_of_keys):\n",
    "    for name in list_of_keys:\n",
    "        total=0\n",
    "        for i in range(len(dict_to_refresh[name])):\n",
    "            total+=dict_to_refresh[name][i]\n",
    "            mean_value=total/len(dict_to_refresh[name])\n",
    "        del dict_to_refresh[name]\n",
    "        dict_to_refresh[name]=mean_value    \n",
    "    return"
   ]
  },
  {
   "cell_type": "code",
   "execution_count": 28,
   "metadata": {
    "scrolled": false
   },
   "outputs": [],
   "source": [
    "refresh_dict(dict_suppose_3_1,many_values_of_keys_4)"
   ]
  },
  {
   "cell_type": "markdown",
   "metadata": {},
   "source": [
    "Проверим замену в словаре по первому ключу, которое имел больше одного значения."
   ]
  },
  {
   "cell_type": "code",
   "execution_count": 29,
   "metadata": {},
   "outputs": [
    {
     "name": "stdout",
     "output_type": "stream",
     "text": [
      "Ключ: ПОСЕЛОК ШУШАРЫ#24272.0#18471.0#9.0 значение: 2.625\n"
     ]
    }
   ],
   "source": [
    "print('Ключ:',many_values_of_keys_4[0], 'значение:', dict_suppose_3_1[many_values_of_keys_4[0]])"
   ]
  },
  {
   "cell_type": "markdown",
   "metadata": {},
   "source": [
    "Замена прошла успешно. Произведем замену в исходной таблице data, для этого нам придется распарсить ключи.Распарсинг будем проводить по длине значения в ключе, до разделителя \"#\" указанного между значениями."
   ]
  },
  {
   "cell_type": "code",
   "execution_count": 30,
   "metadata": {
    "scrolled": false
   },
   "outputs": [],
   "source": [
    "for key in dict_suppose_3_1.keys():\n",
    "    # распарсим ключ на значения для каждого из столбцов\n",
    "    local_name_value=key[0:(key.index(\"#\"))]\n",
    "    cityCenters_nearest_value=float(key[(key.index(\"#\")+1):][0:key[(key.index(\"#\")+1):].index('#')])\n",
    "    airports_nearest_value=float(key[(key.index(\"#\")+key[len(key[0:(key.index(\"#\")+1)]):].index('#')+2):][0:key[(key.index(\"#\")+key[len(key[0:(key.index(\"#\")+1)]):].index('#')+2):].index('#')])\n",
    "    floor_total_value=float(key[len(key)-5+key[-6:].index('#'):])\n",
    "    # узнаем индекс строки которая соответствует значениям из нашего справочника, в которой пропущено значение высоты потолка\n",
    "    # запишем в переменную index_of_line_of_null_ceiling_height индексы строк в которыхнеобходима замена.\n",
    "    index_of_line_of_null_ceiling_height=data.query('locality_name in @local_name_value & floors_total==@floor_total_value & cityCenters_nearest==@cityCenters_nearest_value & airports_nearest==@airports_nearest_value & ceiling_height.isnull()')['ceiling_height'].index.tolist()\n",
    "    # меняем в строке с найденным индексом пропущеное значение высоты потолка на среднее значение из справочника \n",
    "    data.loc[index_of_line_of_null_ceiling_height, 'ceiling_height']=data.loc[index_of_line_of_null_ceiling_height, 'ceiling_height'].fillna(dict_suppose_3_1[key])"
   ]
  },
  {
   "cell_type": "markdown",
   "metadata": {},
   "source": [
    "Замену в исходной таблице data произведена, подсчитаем сколько осталось пустых значений в столбце 'ceiling_height'"
   ]
  },
  {
   "cell_type": "code",
   "execution_count": 31,
   "metadata": {},
   "outputs": [
    {
     "name": "stdout",
     "output_type": "stream",
     "text": [
      "Заменено 29.88% пустых значений в столбце \"ceiling_height\"\n"
     ]
    }
   ],
   "source": [
    "print('Заменено {:.2%}'.format((9178-data['ceiling_height'].isnull().sum())/9178),'пустых значений в столбце \"ceiling_height\"')"
   ]
  },
  {
   "cell_type": "markdown",
   "metadata": {},
   "source": [
    "Заполним остальные 70% пропущенных значений высоты потолков в соответствии со средним значением для домов одинаковой этажности. \n",
    "Предположим, что дома одинаковой этажности типовые или серийные.\n",
    "Возьмем из нашего справочника dict_suppose_3_1 значение этажности дома и среднее значение высоты потолка."
   ]
  },
  {
   "cell_type": "code",
   "execution_count": 32,
   "metadata": {},
   "outputs": [],
   "source": [
    "# если делать красиво, то надо делать одну функцию формирования словаря,\n",
    "# в которой одним из параметров будет количество значений ключа\n",
    "# будет время исправлю, а пока код, для формирования словаря по несоставному ключу\n",
    "def make_a_dict_for_1_value(name_of_dict,table):\n",
    "    for i in range(len(table)):\n",
    "        try:\n",
    "            # сначала пытаемся добавить к ключу еще одно значение в список\n",
    "            name_of_dict[table.loc[i][0]].append(table.loc[i][1])\n",
    "        except AttributeError:\n",
    "        # если ключ,имеет уже значение, то создаем список из значений\n",
    "            name_of_dict[table.loc[i][0]]=([name_of_dict[table.loc[i][0]],table.loc[i][1]])\n",
    "        # ключ со значениями больше одного,добавляем в список list_of_keys_with_many_values\n",
    "            list_of_keys_with_many_values.append(table.loc[i][0])\n",
    "            #many_values_of_keys_4.append(str(table.loc[i][0])+'#'+str(table.loc[i][1])+'#'+str(table.loc[i][2])+'#'+str(table.loc[i][3]))\n",
    "        # если ключа нет в словаре, создаем первую пару ключ-значение\n",
    "        except KeyError:\n",
    "            name_of_dict[table.loc[i][0]]=table.loc[i][1]\n",
    "    print('Длина словаря:',len(name_of_dict),'\\n','Количество ключей имеющих больше одного значения',len(list_of_keys_with_many_values))"
   ]
  },
  {
   "cell_type": "code",
   "execution_count": 33,
   "metadata": {},
   "outputs": [],
   "source": [
    "suppose_3_1.drop(['locality_name','cityCenters_nearest','airports_nearest'], axis='columns', inplace=True)"
   ]
  },
  {
   "cell_type": "code",
   "execution_count": 34,
   "metadata": {},
   "outputs": [
    {
     "name": "stdout",
     "output_type": "stream",
     "text": [
      "Длина словаря: 34 \n",
      " Количество ключей имеющих больше одного значения 29\n"
     ]
    }
   ],
   "source": [
    "dict_suppose_3_1_total_floors_full={}\n",
    "list_of_keys_with_many_values=[]\n",
    "make_a_dict_for_1_value(dict_suppose_3_1_total_floors_full,suppose_3_1)"
   ]
  },
  {
   "cell_type": "markdown",
   "metadata": {},
   "source": [
    "Для 29 ключей имеющих больше одного значения высот потолков. Возьмем среднею для каждого из таких ключей, затем перезапишем в словарь dict_suppose_3_1_total_floors_full, воспользуемся функцией refresh_dict"
   ]
  },
  {
   "cell_type": "code",
   "execution_count": 35,
   "metadata": {},
   "outputs": [
    {
     "data": {
      "text/plain": [
       "{34.0: 2.65,\n",
       " 60.0: 2.88,\n",
       " 29.0: 2.6,\n",
       " 36.0: 2.7,\n",
       " 52.0: 2.65,\n",
       " 5.0: 2.7103536345776162,\n",
       " 16.0: 2.6909824561403526,\n",
       " 9.0: 2.5781839904420574,\n",
       " 4.0: 2.8932135306553906,\n",
       " 23.0: 2.751583333333333,\n",
       " 25.0: 2.723140243902439,\n",
       " 3.0: 2.8460103626943005,\n",
       " 10.0: 2.6582092555331966,\n",
       " 8.0: 2.8361111111111126,\n",
       " 17.0: 2.714042553191488,\n",
       " 12.0: 2.6405000000000007,\n",
       " 24.0: 2.741036585365854,\n",
       " 22.0: 2.7309638554216864,\n",
       " 7.0: 2.871598513011151,\n",
       " 14.0: 2.6416104868913868,\n",
       " 19.0: 2.776526315789473,\n",
       " 15.0: 2.6919230769230786,\n",
       " 11.0: 2.7723076923076926,\n",
       " 6.0: 2.9525125628140714,\n",
       " 13.0: 2.7167816091954022,\n",
       " 18.0: 2.708853503184713,\n",
       " 20.0: 2.765052631578948,\n",
       " 26.0: 2.676086956521739,\n",
       " 21.0: 2.714318181818182,\n",
       " 27.0: 2.6946874999999997,\n",
       " 2.0: 2.865714285714286,\n",
       " 35.0: 2.696,\n",
       " 28.0: 2.60625,\n",
       " 1.0: 2.7125000000000004}"
      ]
     },
     "execution_count": 35,
     "metadata": {},
     "output_type": "execute_result"
    }
   ],
   "source": [
    "refresh_dict(dict_suppose_3_1_total_floors_full, list_of_keys_with_many_values)\n",
    "dict_suppose_3_1_total_floors_full"
   ]
  },
  {
   "cell_type": "markdown",
   "metadata": {},
   "source": [
    "Произведем замену в столбце 'ceiling_height'."
   ]
  },
  {
   "cell_type": "code",
   "execution_count": 36,
   "metadata": {
    "scrolled": false
   },
   "outputs": [],
   "source": [
    "# запусть цикл, для каждого ключа из списка ключей словаря dict_suppose_3_1_total_floors_full\n",
    "for key in dict_suppose_3_1_total_floors_full.keys():\n",
    "    # узнаем индекс строки которая соответствует значениям из нашего справочника, в которой пропущено значение высоты потолка\n",
    "    floor_total_value=float(key)\n",
    "    # запишем в переменную index_of_line_of_null_ceiling_height\n",
    "    index_of_line_of_null_ceiling_height=data.query('ceiling_height.isnull() &  floors_total==@floor_total_value')['ceiling_height'].index.tolist()\n",
    "    # меняем в строке с найденным индексом пропущеное значение высоты потолка на среднее значение из справочника \n",
    "    data.loc[index_of_line_of_null_ceiling_height, 'ceiling_height']=data.loc[index_of_line_of_null_ceiling_height, 'ceiling_height'].fillna(dict_suppose_3_1_total_floors_full[key])"
   ]
  },
  {
   "cell_type": "code",
   "execution_count": 37,
   "metadata": {
    "scrolled": true
   },
   "outputs": [
    {
     "data": {
      "text/plain": [
       "total_images                0\n",
       "last_price                  0\n",
       "total_area                  0\n",
       "first_day_exposition        0\n",
       "rooms                       0\n",
       "ceiling_height             72\n",
       "floors_total               80\n",
       "living_area              1886\n",
       "floor                       0\n",
       "is_apartment            20907\n",
       "studio                      0\n",
       "open_plan                   0\n",
       "kitchen_area             2261\n",
       "balcony                 11502\n",
       "locality_name              49\n",
       "airports_nearest         5525\n",
       "cityCenters_nearest      5502\n",
       "parks_around3000         5501\n",
       "parks_nearest           15603\n",
       "ponds_around3000         5501\n",
       "ponds_nearest           14572\n",
       "days_exposition          3169\n",
       "dtype: int64"
      ]
     },
     "execution_count": 37,
     "metadata": {},
     "output_type": "execute_result"
    }
   ],
   "source": [
    "data.isnull().sum()"
   ]
  },
  {
   "cell_type": "markdown",
   "metadata": {},
   "source": [
    "Из 9195 пустых значений столбца 'ceiling_height', осталось 72. Но мы заполнили пропущенные значения везде, где проставлено значение всего этажей в доме.\n",
    "\n",
    "\n",
    "### 2.3.2. Заполним пропуски в столбце всего этажей.\n",
    "\n",
    "Докажем, что дома в одном населенном пункте, равноудаленные от аэропортов, своих центров и локаций пруд или парк, имеют одинаковую этажность, а следовательно это один и тот же дом. Если мы это докажем, то мы сможем заполнить пропуски в столбце floors_total.\n",
    "\n",
    "Для этого составим срезы таблиц, где эти данные определены."
   ]
  },
  {
   "cell_type": "code",
   "execution_count": 38,
   "metadata": {},
   "outputs": [
    {
     "name": "stdout",
     "output_type": "stream",
     "text": [
      "Количество таких домов: 49\n"
     ]
    }
   ],
   "source": [
    "# дома в одном населенном пункте у которых нет этажности,но указана удаленность от аэропорта, центра города и пруда \n",
    "# подсчитаем количество таких домов\n",
    "print('Количество таких домов:',len(data.query('floors_total.isnull() & airports_nearest>0 & cityCenters_nearest>0 & locality_name.notnull()&ponds_nearest.notnull()')))\n",
    "# сделаем срез\n",
    "try_to_fill_floors1=data.query('floors_total.isnull() & airports_nearest>0 & cityCenters_nearest>0 & locality_name.notnull()&ponds_nearest.notnull()')[\n",
    "    ['locality_name','cityCenters_nearest','airports_nearest','ponds_nearest']].reset_index(drop=True)\n",
    "# сделаем список из таких домов\n",
    "list_of_key_try_to_fill_floors1=[]\n"
   ]
  },
  {
   "cell_type": "code",
   "execution_count": 39,
   "metadata": {},
   "outputs": [
    {
     "name": "stdout",
     "output_type": "stream",
     "text": [
      "Количество таких домов: 10\n"
     ]
    }
   ],
   "source": [
    "# дома в которых нет этажности,удаленность от аэропорта, центра города и пруда, в одном населенном пункте\n",
    "# подсчитаем количество таких домов\n",
    "print('Количество таких домов:',len(data.query('floors_total.isnull() & airports_nearest>0 & cityCenters_nearest>0 & locality_name.notnull()&parks_nearest.notnull()&ponds_nearest.isnull()')))\n",
    "# сделаем срез\n",
    "try_to_fill_floors2=data.query('floors_total.isnull() & airports_nearest>0 & cityCenters_nearest>0 & locality_name.notnull()&parks_nearest.notnull()&ponds_nearest.isnull()')[\n",
    "    ['locality_name','cityCenters_nearest','airports_nearest','parks_nearest']].reset_index(drop=True)\n",
    "# сделаем список из таких домов\n",
    "list_of_key_try_to_fill_floors2=[]"
   ]
  },
  {
   "cell_type": "markdown",
   "metadata": {},
   "source": [
    "Если гипотеза верна то, таким способом это позволит нам заполнить 59 пустых значений из 80 пустых значений столбца 'floors_total'"
   ]
  },
  {
   "cell_type": "code",
   "execution_count": 40,
   "metadata": {},
   "outputs": [],
   "source": [
    "# сделаем фунцию формирования списка ключей\n",
    "def make_list_of_keys(namelist,table):\n",
    "    for i in range(len(table)):\n",
    "        namelist.append(str(table.loc[i][0])+'#'+str(table.loc[i][1])+'#'+str(table.loc[i][2])+'#'+str(table.loc[i][3]))\n",
    "    return"
   ]
  },
  {
   "cell_type": "code",
   "execution_count": 41,
   "metadata": {},
   "outputs": [],
   "source": [
    "# запустим функцию по двум таблицам\n",
    "make_list_of_keys(list_of_key_try_to_fill_floors1,try_to_fill_floors1)\n",
    "make_list_of_keys(list_of_key_try_to_fill_floors2,try_to_fill_floors2)\n",
    "# для каждого списка оставит только уникальные значения методом set() \n",
    "list_of_key_try_to_fill_floors1 = list(set(list_of_key_try_to_fill_floors1))\n",
    "list_of_key_try_to_fill_floors2 = list(set(list_of_key_try_to_fill_floors2))"
   ]
  },
  {
   "cell_type": "markdown",
   "metadata": {},
   "source": [
    "Подготовим срезы таблицы для формирования справочника-словаря, в котором ключ это связка из 4х значений, а значение ключа этажность.\n",
    "Срез таблицы населенный пункт+удаленность от аэропорта+удаленность от центра города+удаленность от парка (назовем cut_of_table_parks) или пруда(cut_of_table_ponds), а значением будет всего этажей."
   ]
  },
  {
   "cell_type": "code",
   "execution_count": 42,
   "metadata": {},
   "outputs": [],
   "source": [
    "cut_of_table=data.query('floors_total.notnull() & airports_nearest>0 & cityCenters_nearest>0 & locality_name.notnull()&parks_nearest>0')[\n",
    "    ['locality_name','cityCenters_nearest','airports_nearest','parks_nearest','floors_total']].reset_index(drop=True)\n",
    "cut_of_table=cut_of_table.drop_duplicates().reset_index(drop= True)"
   ]
  },
  {
   "cell_type": "code",
   "execution_count": 43,
   "metadata": {},
   "outputs": [],
   "source": [
    "cut_of_table2=data.query('floors_total.notnull() & airports_nearest>0 & cityCenters_nearest>0 & locality_name.notnull()&ponds_nearest>0')[\n",
    "    ['locality_name','cityCenters_nearest','airports_nearest','ponds_nearest','floors_total']].reset_index(drop=True)\n",
    "cut_of_table2=cut_of_table2.drop_duplicates().reset_index(drop= True)"
   ]
  },
  {
   "cell_type": "markdown",
   "metadata": {},
   "source": [
    "Составим справочник-словарь, в котором ключ это связка из 4х значений, а значение ключа этажность.\n",
    "Пример ключа: населенный пункт+удаленность от аэропорта+удаленность от центра города+удаленность от пруда, а значением будет всего этажей."
   ]
  },
  {
   "cell_type": "code",
   "execution_count": 44,
   "metadata": {
    "scrolled": true
   },
   "outputs": [
    {
     "name": "stdout",
     "output_type": "stream",
     "text": [
      "Длина словаря: 4583 \\n Количество ключей имеющих больше одного значения 1680\n"
     ]
    }
   ],
   "source": [
    "dict_for_total_floors_from_parks={}\n",
    "make_dict_for_4_values(dict_for_total_floors_from_parks,cut_of_table)"
   ]
  },
  {
   "cell_type": "code",
   "execution_count": 45,
   "metadata": {
    "scrolled": true
   },
   "outputs": [
    {
     "name": "stdout",
     "output_type": "stream",
     "text": [
      "Длина словаря: 4699 \\n Количество ключей имеющих больше одного значения 2308\n"
     ]
    }
   ],
   "source": [
    "dict_for_total_floors_from_ponds={}\n",
    "make_dict_for_4_values(dict_for_total_floors_from_ponds,cut_of_table2)"
   ]
  },
  {
   "cell_type": "markdown",
   "metadata": {},
   "source": [
    "Попытки заполнить пропуски корректными значениями в столбце total_floors, оказалась нереальной задачей, т.к. на основании данных которые представлены, нельзя однозначно сказать являются ли объявления для одного дома. Заполнять медианным значением пропуски для столбца \\\"всего этажей\\\" считаю утопией.\n",
    "В связи с небольшим количеством таких домов, а именно 80, что является 0,3% от всех данных, принимаю ответственость за удаление данных строк."
   ]
  },
  {
   "cell_type": "code",
   "execution_count": 46,
   "metadata": {
    "scrolled": true
   },
   "outputs": [
    {
     "data": {
      "text/html": [
       "<div>\n",
       "<style scoped>\n",
       "    .dataframe tbody tr th:only-of-type {\n",
       "        vertical-align: middle;\n",
       "    }\n",
       "\n",
       "    .dataframe tbody tr th {\n",
       "        vertical-align: top;\n",
       "    }\n",
       "\n",
       "    .dataframe thead th {\n",
       "        text-align: right;\n",
       "    }\n",
       "</style>\n",
       "<table border=\"1\" class=\"dataframe\">\n",
       "  <thead>\n",
       "    <tr style=\"text-align: right;\">\n",
       "      <th></th>\n",
       "      <th>total_images</th>\n",
       "      <th>last_price</th>\n",
       "      <th>total_area</th>\n",
       "      <th>first_day_exposition</th>\n",
       "      <th>rooms</th>\n",
       "      <th>ceiling_height</th>\n",
       "      <th>floors_total</th>\n",
       "      <th>living_area</th>\n",
       "      <th>floor</th>\n",
       "      <th>is_apartment</th>\n",
       "      <th>...</th>\n",
       "      <th>kitchen_area</th>\n",
       "      <th>balcony</th>\n",
       "      <th>locality_name</th>\n",
       "      <th>airports_nearest</th>\n",
       "      <th>cityCenters_nearest</th>\n",
       "      <th>parks_around3000</th>\n",
       "      <th>parks_nearest</th>\n",
       "      <th>ponds_around3000</th>\n",
       "      <th>ponds_nearest</th>\n",
       "      <th>days_exposition</th>\n",
       "    </tr>\n",
       "  </thead>\n",
       "  <tbody>\n",
       "    <tr>\n",
       "      <td>23597</td>\n",
       "      <td>9</td>\n",
       "      <td>9700000.0</td>\n",
       "      <td>133.81</td>\n",
       "      <td>2017-03-21T00:00:00</td>\n",
       "      <td>3</td>\n",
       "      <td>3.700000</td>\n",
       "      <td>5.0</td>\n",
       "      <td>73.3</td>\n",
       "      <td>3</td>\n",
       "      <td>NaN</td>\n",
       "      <td>...</td>\n",
       "      <td>13.83</td>\n",
       "      <td>NaN</td>\n",
       "      <td>САНКТ-ПЕТЕРБУРГ</td>\n",
       "      <td>24665.0</td>\n",
       "      <td>4232.0</td>\n",
       "      <td>1.0</td>\n",
       "      <td>796.0</td>\n",
       "      <td>3.0</td>\n",
       "      <td>381.0</td>\n",
       "      <td>NaN</td>\n",
       "    </tr>\n",
       "    <tr>\n",
       "      <td>23598</td>\n",
       "      <td>14</td>\n",
       "      <td>3100000.0</td>\n",
       "      <td>59.00</td>\n",
       "      <td>2018-01-15T00:00:00</td>\n",
       "      <td>3</td>\n",
       "      <td>2.710354</td>\n",
       "      <td>5.0</td>\n",
       "      <td>38.0</td>\n",
       "      <td>4</td>\n",
       "      <td>NaN</td>\n",
       "      <td>...</td>\n",
       "      <td>8.50</td>\n",
       "      <td>NaN</td>\n",
       "      <td>ТОСНО</td>\n",
       "      <td>NaN</td>\n",
       "      <td>NaN</td>\n",
       "      <td>NaN</td>\n",
       "      <td>NaN</td>\n",
       "      <td>NaN</td>\n",
       "      <td>NaN</td>\n",
       "      <td>45.0</td>\n",
       "    </tr>\n",
       "    <tr>\n",
       "      <td>23599</td>\n",
       "      <td>18</td>\n",
       "      <td>2500000.0</td>\n",
       "      <td>56.70</td>\n",
       "      <td>2018-02-11T00:00:00</td>\n",
       "      <td>2</td>\n",
       "      <td>2.846010</td>\n",
       "      <td>3.0</td>\n",
       "      <td>29.7</td>\n",
       "      <td>1</td>\n",
       "      <td>NaN</td>\n",
       "      <td>...</td>\n",
       "      <td>NaN</td>\n",
       "      <td>NaN</td>\n",
       "      <td>СЕЛО РОЖДЕСТВЕНО</td>\n",
       "      <td>NaN</td>\n",
       "      <td>NaN</td>\n",
       "      <td>NaN</td>\n",
       "      <td>NaN</td>\n",
       "      <td>NaN</td>\n",
       "      <td>NaN</td>\n",
       "      <td>NaN</td>\n",
       "    </tr>\n",
       "    <tr>\n",
       "      <td>23600</td>\n",
       "      <td>13</td>\n",
       "      <td>11475000.0</td>\n",
       "      <td>76.75</td>\n",
       "      <td>2017-03-28T00:00:00</td>\n",
       "      <td>2</td>\n",
       "      <td>3.000000</td>\n",
       "      <td>17.0</td>\n",
       "      <td>NaN</td>\n",
       "      <td>12</td>\n",
       "      <td>NaN</td>\n",
       "      <td>...</td>\n",
       "      <td>23.30</td>\n",
       "      <td>2.0</td>\n",
       "      <td>САНКТ-ПЕТЕРБУРГ</td>\n",
       "      <td>39140.0</td>\n",
       "      <td>10364.0</td>\n",
       "      <td>2.0</td>\n",
       "      <td>173.0</td>\n",
       "      <td>3.0</td>\n",
       "      <td>196.0</td>\n",
       "      <td>602.0</td>\n",
       "    </tr>\n",
       "    <tr>\n",
       "      <td>23601</td>\n",
       "      <td>4</td>\n",
       "      <td>1350000.0</td>\n",
       "      <td>32.30</td>\n",
       "      <td>2017-07-21T00:00:00</td>\n",
       "      <td>1</td>\n",
       "      <td>2.500000</td>\n",
       "      <td>5.0</td>\n",
       "      <td>12.3</td>\n",
       "      <td>1</td>\n",
       "      <td>NaN</td>\n",
       "      <td>...</td>\n",
       "      <td>9.00</td>\n",
       "      <td>NaN</td>\n",
       "      <td>ПОСЕЛОК НОВЫЙ УЧХОЗ</td>\n",
       "      <td>NaN</td>\n",
       "      <td>NaN</td>\n",
       "      <td>NaN</td>\n",
       "      <td>NaN</td>\n",
       "      <td>NaN</td>\n",
       "      <td>NaN</td>\n",
       "      <td>NaN</td>\n",
       "    </tr>\n",
       "  </tbody>\n",
       "</table>\n",
       "<p>5 rows × 22 columns</p>\n",
       "</div>"
      ],
      "text/plain": [
       "       total_images  last_price  total_area first_day_exposition  rooms  \\\n",
       "23597             9   9700000.0      133.81  2017-03-21T00:00:00      3   \n",
       "23598            14   3100000.0       59.00  2018-01-15T00:00:00      3   \n",
       "23599            18   2500000.0       56.70  2018-02-11T00:00:00      2   \n",
       "23600            13  11475000.0       76.75  2017-03-28T00:00:00      2   \n",
       "23601             4   1350000.0       32.30  2017-07-21T00:00:00      1   \n",
       "\n",
       "       ceiling_height  floors_total  living_area  floor is_apartment  ...  \\\n",
       "23597        3.700000           5.0         73.3      3          NaN  ...   \n",
       "23598        2.710354           5.0         38.0      4          NaN  ...   \n",
       "23599        2.846010           3.0         29.7      1          NaN  ...   \n",
       "23600        3.000000          17.0          NaN     12          NaN  ...   \n",
       "23601        2.500000           5.0         12.3      1          NaN  ...   \n",
       "\n",
       "       kitchen_area  balcony        locality_name  airports_nearest  \\\n",
       "23597         13.83      NaN      САНКТ-ПЕТЕРБУРГ           24665.0   \n",
       "23598          8.50      NaN                ТОСНО               NaN   \n",
       "23599           NaN      NaN     СЕЛО РОЖДЕСТВЕНО               NaN   \n",
       "23600         23.30      2.0      САНКТ-ПЕТЕРБУРГ           39140.0   \n",
       "23601          9.00      NaN  ПОСЕЛОК НОВЫЙ УЧХОЗ               NaN   \n",
       "\n",
       "      cityCenters_nearest  parks_around3000  parks_nearest  ponds_around3000  \\\n",
       "23597              4232.0               1.0          796.0               3.0   \n",
       "23598                 NaN               NaN            NaN               NaN   \n",
       "23599                 NaN               NaN            NaN               NaN   \n",
       "23600             10364.0               2.0          173.0               3.0   \n",
       "23601                 NaN               NaN            NaN               NaN   \n",
       "\n",
       "       ponds_nearest  days_exposition  \n",
       "23597          381.0              NaN  \n",
       "23598            NaN             45.0  \n",
       "23599            NaN              NaN  \n",
       "23600          196.0            602.0  \n",
       "23601            NaN              NaN  \n",
       "\n",
       "[5 rows x 22 columns]"
      ]
     },
     "execution_count": 46,
     "metadata": {},
     "output_type": "execute_result"
    }
   ],
   "source": [
    "# удаляем строки с пропущенными значениями в столбце 'floors_total'\n",
    "data.dropna(subset=['floors_total'], inplace = True)\n",
    "# обновляем индексы у таблицы\n",
    "data=data.reset_index()\n",
    "# столбец со старыми индексами удаляем\n",
    "del data['index']\n",
    "# выведем несколько последних строк\n",
    "data.tail()"
   ]
  },
  {
   "cell_type": "markdown",
   "metadata": {},
   "source": [
    "Подсчитаем пропуски."
   ]
  },
  {
   "cell_type": "code",
   "execution_count": 47,
   "metadata": {
    "scrolled": true
   },
   "outputs": [
    {
     "data": {
      "text/plain": [
       "total_images                0\n",
       "last_price                  0\n",
       "total_area                  0\n",
       "first_day_exposition        0\n",
       "rooms                       0\n",
       "ceiling_height              1\n",
       "floors_total                0\n",
       "living_area              1859\n",
       "floor                       0\n",
       "is_apartment            20827\n",
       "studio                      0\n",
       "open_plan                   0\n",
       "kitchen_area             2220\n",
       "balcony                 11469\n",
       "locality_name              48\n",
       "airports_nearest         5521\n",
       "cityCenters_nearest      5498\n",
       "parks_around3000         5497\n",
       "parks_nearest           15557\n",
       "ponds_around3000         5497\n",
       "ponds_nearest           14541\n",
       "days_exposition          3161\n",
       "dtype: int64"
      ]
     },
     "execution_count": 47,
     "metadata": {},
     "output_type": "execute_result"
    }
   ],
   "source": [
    "data.isnull().sum()"
   ]
  },
  {
   "cell_type": "markdown",
   "metadata": {},
   "source": [
    "### 2.3.3 Заполним пропуски в  столбце 'locality_name' .\n",
    "Предположим, что если в строках таблицы мы найдем уникальные строки, дома которых имеют одинаковую этажность, равноудалены от своих центров и  от аэропорта, при этом равноудалены от парка или пруда, то эти дома из одного населенного пункта.\n",
    "Если мы это докажем, то это позволит нам заполнить пустые значения в столбце locality_name.аем\n",
    "\n",
    "Для составления справочника, сделаем срез данных где данные определены для столбцов cityCenters_nearest,  ponds_nearest,  airports_nearest,  floors_total,  locality_name."
   ]
  },
  {
   "cell_type": "code",
   "execution_count": 48,
   "metadata": {},
   "outputs": [
    {
     "name": "stdout",
     "output_type": "stream",
     "text": [
      "Длина среза данных для справочника: 5665 \n",
      "    cityCenters_nearest  ponds_nearest  airports_nearest  floors_total  \\\n",
      "0              16028.0          755.0           18863.0          16.0   \n",
      "1              13933.0          574.0           21741.0           5.0   \n",
      "2               6800.0          234.0           28098.0          14.0   \n",
      "3               8098.0           48.0           31856.0          14.0   \n",
      "4              13878.0          553.0           38357.0          12.0   \n",
      "\n",
      "     locality_name  \n",
      "0  САНКТ-ПЕТЕРБУРГ  \n",
      "1  САНКТ-ПЕТЕРБУРГ  \n",
      "2  САНКТ-ПЕТЕРБУРГ  \n",
      "3  САНКТ-ПЕТЕРБУРГ  \n",
      "4  САНКТ-ПЕТЕРБУРГ  \n"
     ]
    }
   ],
   "source": [
    "# сделаем срез где данные определены для столбцов cityCenters_nearest,  ponds_nearest,  airports_nearest,  floors_total,  locality_name  \n",
    "# удалим дубликаты методом drop_duplicates() обновим индексы методом reset_index()\n",
    "cut_of_table_with_ponds=data.query('airports_nearest>0 & cityCenters_nearest>0 & locality_name.notnull() & floors_total.notnull() &ponds_nearest.notnull()')[\n",
    "['cityCenters_nearest','ponds_nearest','airports_nearest','floors_total','locality_name']].drop_duplicates().reset_index(drop= True)\n",
    "#выведем длинну и несколько значений справочника\n",
    "print('Длина среза данных для справочника:',len(cut_of_table_with_ponds),'\\n',cut_of_table_with_ponds.head())"
   ]
  },
  {
   "cell_type": "markdown",
   "metadata": {},
   "source": [
    "Составим словарь-справочник, назовем его dict_of_local_name_with_ponds, вызовом ранее написанной функцией make_dict_for_4_values."
   ]
  },
  {
   "cell_type": "code",
   "execution_count": 49,
   "metadata": {},
   "outputs": [
    {
     "name": "stdout",
     "output_type": "stream",
     "text": [
      "Длина словаря: 5665 \\n Количество ключей имеющих больше одного значения 0\n",
      "[]\n"
     ]
    }
   ],
   "source": [
    "# объявляем cловарь-справочник\n",
    "dict_of_local_name_with_ponds={}\n",
    "# обнуляем список ключей имеющих больше одного значения\n",
    "many_values_of_keys_4=[]\n",
    "make_dict_for_4_values(dict_of_local_name_with_ponds,cut_of_table_with_ponds)\n",
    "print(many_values_of_keys_4)"
   ]
  },
  {
   "cell_type": "markdown",
   "metadata": {},
   "source": [
    "Ключи имеют, только одно значение, значит гипотеза была верна, что только одной локации присуще связка из набора данных cityCenters_nearest,  ponds_nearest,  airports_nearest,  floors_total.\n",
    "\n",
    "Заполним пропущенные значения в столбце locality_name, при помощи сформированного словаря."
   ]
  },
  {
   "cell_type": "code",
   "execution_count": 50,
   "metadata": {},
   "outputs": [],
   "source": [
    "for key in dict_of_local_name_with_ponds.keys():\n",
    "    # распарсим ключ на значения для каждого из столбцов\n",
    "    cityCenters_nearest_value=float(key[0:(key.index(\"#\"))])\n",
    "    # кажется, что тут без бутылки не разобратся,но здесь просто операции со строками\n",
    "    ponds_nearest_value=float(key[(key.index(\"#\")+1):][0:key[(key.index(\"#\")+1):].index('#')])\n",
    "    airports_nearest_value=float(key[(key.index(\"#\")+key[len(key[0:(key.index(\"#\")+1)]):].index('#')+2):][0:key[(key.index(\"#\")+key[len(key[0:(key.index(\"#\")+1)]):].index('#')+2):].index('#')])\n",
    "    floor_total_value=float(key[len(key)-5+key[-6:].index('#'):])\n",
    "    # узнаем индекс строки которая соответствует значениям из нашего справочника, в которой пропущено значение высоты потолка\n",
    "    # запишем в переменную index_of_line_where_isnull_local_name индексы строк в которыхнеобходима замена.\n",
    "    index_of_line_where_isnull_local_name=data.query('ponds_nearest==@ponds_nearest_value & floors_total==@floor_total_value & cityCenters_nearest==@cityCenters_nearest_value & airports_nearest==@airports_nearest_value & locality_name.isnull()')['locality_name'].index.tolist()\n",
    "    # меняем в строке с найденным индексом пропущеное значение высоты потолка на среднее значение из справочника \n",
    "    data.loc[index_of_line_where_isnull_local_name, 'locality_name']=data.loc[index_of_line_where_isnull_local_name, 'locality_name'].fillna(dict_of_local_name_with_ponds[key])"
   ]
  },
  {
   "cell_type": "markdown",
   "metadata": {},
   "source": [
    "Проделаем тоже самое, только вместо ponds_nearest будет parks_nearest.\n",
    "Для составления справочника, сделаем срез данных где данные определены для столбцов cityCenters_nearest,  parks_nearest,  airports_nearest,  floors_total,  locality_name."
   ]
  },
  {
   "cell_type": "code",
   "execution_count": 51,
   "metadata": {},
   "outputs": [
    {
     "name": "stdout",
     "output_type": "stream",
     "text": [
      "Длина среза данных для справочника: 5262 \\n    cityCenters_nearest  parks_nearest  airports_nearest  floors_total  \\\n",
      "0              16028.0          482.0           18863.0          16.0   \n",
      "1              13933.0           90.0           21741.0           5.0   \n",
      "2               6800.0           84.0           28098.0          14.0   \n",
      "3               8098.0          112.0           31856.0          14.0   \n",
      "4              13878.0          310.0           38357.0          12.0   \n",
      "\n",
      "     locality_name  \n",
      "0  САНКТ-ПЕТЕРБУРГ  \n",
      "1  САНКТ-ПЕТЕРБУРГ  \n",
      "2  САНКТ-ПЕТЕРБУРГ  \n",
      "3  САНКТ-ПЕТЕРБУРГ  \n",
      "4  САНКТ-ПЕТЕРБУРГ  \n"
     ]
    }
   ],
   "source": [
    "# сделаем срез где данные определены для столбцов cityCenters_nearest,   parks_nearest,  airports_nearest,  floors_total,  locality_name  \n",
    "# удалим дубликаты методом drop_duplicates() обновим индексы методом reset_index()\n",
    "cut_of_table_with_parks=data.query('airports_nearest>0 & cityCenters_nearest>0 & locality_name.notnull() & floors_total.notnull() & parks_nearest.notnull()')[\n",
    "['cityCenters_nearest','parks_nearest','airports_nearest','floors_total','locality_name']].drop_duplicates().reset_index(drop= True)\n",
    "#выведем длинну и несколько значений справочника\n",
    "print('Длина среза данных для справочника:',len(cut_of_table_with_parks),'\\\\n',cut_of_table_with_parks.head())"
   ]
  },
  {
   "cell_type": "code",
   "execution_count": 52,
   "metadata": {},
   "outputs": [
    {
     "name": "stdout",
     "output_type": "stream",
     "text": [
      "Длина словаря: 5262 \\n Количество ключей имеющих больше одного значения 0\n",
      "[]\n"
     ]
    }
   ],
   "source": [
    "# объявляем cловарь-справочник\n",
    "dict_of_local_name_with_parks={}\n",
    "# обнуляем список для ключей имеющих больше одного значения\n",
    "many_values_of_keys_4=[]\n",
    "make_dict_for_4_values(dict_of_local_name_with_parks,cut_of_table_with_parks)\n",
    "print(many_values_of_keys_4)"
   ]
  },
  {
   "cell_type": "markdown",
   "metadata": {},
   "source": [
    "Ключи имеют, только одно значение, значит гипотеза была верна, что только одной локации присуще связка из набора данных cityCenters_nearest,  parks_nearest,  airports_nearest,  floors_total.\n",
    "\n",
    "Заполним пропущенные значения в столбце locality_name, при помощи сформированного словаря."
   ]
  },
  {
   "cell_type": "code",
   "execution_count": 53,
   "metadata": {},
   "outputs": [],
   "source": [
    "for key in dict_of_local_name_with_parks.keys():\n",
    "    # распарсим ключ на значения для каждого из столбцов\n",
    "    cityCenters_nearest_value=float(key[0:(key.index(\"#\"))])\n",
    "    # кажется, что тут без бутылки не разобратся,но здесь просто операции со строками\n",
    "    parks_nearest_value=float(key[(key.index(\"#\")+1):][0:key[(key.index(\"#\")+1):].index('#')])\n",
    "    airports_nearest_value=float(key[(key.index(\"#\")+key[len(key[0:(key.index(\"#\")+1)]):].index('#')+2):][0:key[(key.index(\"#\")+key[len(key[0:(key.index(\"#\")+1)]):].index('#')+2):].index('#')])\n",
    "    floor_total_value=float(key[len(key)-5+key[-6:].index('#'):])\n",
    "    # узнаем индекс строки которая соответствует значениям из нашего справочника, в которой пропущено значение высоты потолка\n",
    "    # запишем в переменную index_of_line_where_isnull_local_name индексы строк в которыхнеобходима замена.\n",
    "    index_of_line_where_isnull_local_name=data.query('parks_nearest==@parks_nearest_value & floors_total==@floor_total_value & cityCenters_nearest==@cityCenters_nearest_value & airports_nearest==@airports_nearest_value & locality_name.isnull()')['locality_name'].index.tolist()\n",
    "    # меняем в строке с найденным индексом пропущеное значение высоты потолка на среднее значение из справочника\n",
    "    data.loc[index_of_line_where_isnull_local_name, 'locality_name']=data.loc[index_of_line_where_isnull_local_name, 'locality_name'].fillna(dict_of_local_name_with_parks[key])"
   ]
  },
  {
   "cell_type": "markdown",
   "metadata": {},
   "source": [
    "Снова подсчитаем количесто пустых строк в столбце 'locality_name'"
   ]
  },
  {
   "cell_type": "code",
   "execution_count": 54,
   "metadata": {},
   "outputs": [
    {
     "data": {
      "text/plain": [
       "43"
      ]
     },
     "execution_count": 54,
     "metadata": {},
     "output_type": "execute_result"
    }
   ],
   "source": [
    "data['locality_name'].isnull().sum()"
   ]
  },
  {
   "cell_type": "markdown",
   "metadata": {},
   "source": [
    "Всего 5 объявлений мы нашли по одним и тем же домам.\n",
    "Исследуем таблицу по фильтру столбец locality name с пустыми значениями. Попробуем определить закономерности."
   ]
  },
  {
   "cell_type": "markdown",
   "metadata": {},
   "source": [
    "### Посмотрим,на общую статистику по значениям столбцов 'airports_nearest' и 'cityCenters_nearest'  города Санкт-Петербург, и населенных пунктов в области, попробуем найти закономерности."
   ]
  },
  {
   "cell_type": "code",
   "execution_count": 55,
   "metadata": {},
   "outputs": [],
   "source": [
    "# перефирия аэропорты\n",
    "len_obl_air=data.query('locality_name!=\\\"САНКТ-ПЕТЕРБУРГ\\\" & locality_name.notnull() & airports_nearest>0')['airports_nearest'].describe()\n",
    "# питер аэропорты\n",
    "piter_air=data.query('locality_name==\\\"САНКТ-ПЕТЕРБУРГ\\\" & airports_nearest>0')['airports_nearest'].describe()\n",
    "# не указана локация аэропорты\n",
    "no_name_air=data.query('locality_name.isnull() & airports_nearest>0')['airports_nearest'].describe()\n",
    "# перефирия центры\n",
    "len_obl_center=data.query('locality_name!=\\\"САНКТ-ПЕТЕРБУРГ\\\" & locality_name.notnull() & cityCenters_nearest>0')['cityCenters_nearest'].describe()\n",
    "# питер центры\n",
    "piter_center=data.query('locality_name==\\\"САНКТ-ПЕТЕРБУРГ\\\" & cityCenters_nearest>0')['cityCenters_nearest'].describe()\n",
    "# не указана локация центры\n",
    "no_name_center=data.query('locality_name.isnull() & cityCenters_nearest>0')['cityCenters_nearest'].describe()"
   ]
  },
  {
   "cell_type": "code",
   "execution_count": 56,
   "metadata": {},
   "outputs": [
    {
     "data": {
      "text/html": [
       "<div>\n",
       "<style scoped>\n",
       "    .dataframe tbody tr th:only-of-type {\n",
       "        vertical-align: middle;\n",
       "    }\n",
       "\n",
       "    .dataframe tbody tr th {\n",
       "        vertical-align: top;\n",
       "    }\n",
       "\n",
       "    .dataframe thead tr th {\n",
       "        text-align: left;\n",
       "    }\n",
       "</style>\n",
       "<table border=\"1\" class=\"dataframe\">\n",
       "  <thead>\n",
       "    <tr>\n",
       "      <th></th>\n",
       "      <th colspan=\"3\" halign=\"left\">airports_nearest</th>\n",
       "      <th colspan=\"3\" halign=\"left\">cityCenters_nearest</th>\n",
       "    </tr>\n",
       "    <tr>\n",
       "      <th></th>\n",
       "      <th>Лен.обл.</th>\n",
       "      <th>Санкт-Петербург</th>\n",
       "      <th>НоуНеймы</th>\n",
       "      <th>Лен.обл.2</th>\n",
       "      <th>Санкт-Петербург2</th>\n",
       "      <th>НоуНеймы2</th>\n",
       "    </tr>\n",
       "  </thead>\n",
       "  <tbody>\n",
       "    <tr>\n",
       "      <td>count</td>\n",
       "      <td>2474.000000</td>\n",
       "      <td>15571.000000</td>\n",
       "      <td>35.000000</td>\n",
       "      <td>2473.000000</td>\n",
       "      <td>15596.000000</td>\n",
       "      <td>35.000000</td>\n",
       "    </tr>\n",
       "    <tr>\n",
       "      <td>mean</td>\n",
       "      <td>33559.056184</td>\n",
       "      <td>28040.499518</td>\n",
       "      <td>24921.514286</td>\n",
       "      <td>30610.566114</td>\n",
       "      <td>11587.050846</td>\n",
       "      <td>11291.028571</td>\n",
       "    </tr>\n",
       "    <tr>\n",
       "      <td>std</td>\n",
       "      <td>17270.512107</td>\n",
       "      <td>11545.725104</td>\n",
       "      <td>9081.430201</td>\n",
       "      <td>9077.894034</td>\n",
       "      <td>4833.214375</td>\n",
       "      <td>8610.895917</td>\n",
       "    </tr>\n",
       "    <tr>\n",
       "      <td>min</td>\n",
       "      <td>9294.000000</td>\n",
       "      <td>6450.000000</td>\n",
       "      <td>10556.000000</td>\n",
       "      <td>17012.000000</td>\n",
       "      <td>181.000000</td>\n",
       "      <td>1780.000000</td>\n",
       "    </tr>\n",
       "    <tr>\n",
       "      <td>25%</td>\n",
       "      <td>18544.500000</td>\n",
       "      <td>18577.000000</td>\n",
       "      <td>21907.500000</td>\n",
       "      <td>24765.000000</td>\n",
       "      <td>8321.250000</td>\n",
       "      <td>4428.500000</td>\n",
       "    </tr>\n",
       "    <tr>\n",
       "      <td>50%</td>\n",
       "      <td>26725.500000</td>\n",
       "      <td>26757.000000</td>\n",
       "      <td>23297.000000</td>\n",
       "      <td>30375.000000</td>\n",
       "      <td>12242.000000</td>\n",
       "      <td>8943.000000</td>\n",
       "    </tr>\n",
       "    <tr>\n",
       "      <td>75%</td>\n",
       "      <td>52610.000000</td>\n",
       "      <td>36583.500000</td>\n",
       "      <td>25848.000000</td>\n",
       "      <td>33719.000000</td>\n",
       "      <td>14938.250000</td>\n",
       "      <td>17369.000000</td>\n",
       "    </tr>\n",
       "    <tr>\n",
       "      <td>max</td>\n",
       "      <td>84869.000000</td>\n",
       "      <td>54784.000000</td>\n",
       "      <td>60195.000000</td>\n",
       "      <td>65968.000000</td>\n",
       "      <td>29493.000000</td>\n",
       "      <td>41294.000000</td>\n",
       "    </tr>\n",
       "  </tbody>\n",
       "</table>\n",
       "</div>"
      ],
      "text/plain": [
       "      airports_nearest                               cityCenters_nearest  \\\n",
       "              Лен.обл. Санкт-Петербург      НоуНеймы           Лен.обл.2   \n",
       "count      2474.000000    15571.000000     35.000000         2473.000000   \n",
       "mean      33559.056184    28040.499518  24921.514286        30610.566114   \n",
       "std       17270.512107    11545.725104   9081.430201         9077.894034   \n",
       "min        9294.000000     6450.000000  10556.000000        17012.000000   \n",
       "25%       18544.500000    18577.000000  21907.500000        24765.000000   \n",
       "50%       26725.500000    26757.000000  23297.000000        30375.000000   \n",
       "75%       52610.000000    36583.500000  25848.000000        33719.000000   \n",
       "max       84869.000000    54784.000000  60195.000000        65968.000000   \n",
       "\n",
       "                                      \n",
       "      Санкт-Петербург2     НоуНеймы2  \n",
       "count     15596.000000     35.000000  \n",
       "mean      11587.050846  11291.028571  \n",
       "std        4833.214375   8610.895917  \n",
       "min         181.000000   1780.000000  \n",
       "25%        8321.250000   4428.500000  \n",
       "50%       12242.000000   8943.000000  \n",
       "75%       14938.250000  17369.000000  \n",
       "max       29493.000000  41294.000000  "
      ]
     },
     "execution_count": 56,
     "metadata": {},
     "output_type": "execute_result"
    }
   ],
   "source": [
    "compare=pd.DataFrame(len_obl_air)\n",
    "compare.rename(columns={'airports_nearest': 'Лен.обл.'}, inplace=True)\n",
    "compare['Санкт-Петербург']=piter_air\n",
    "compare['НоуНеймы']=no_name_air\n",
    "compare['Лен.обл.2']=len_obl_center\n",
    "compare['Санкт-Петербург2']=piter_center\n",
    "compare['НоуНеймы2']=no_name_center\n",
    "arrays = [['airports_nearest', 'airports_nearest', 'airports_nearest','cityCenters_nearest','cityCenters_nearest','cityCenters_nearest'], compare.columns]\n",
    "compare.columns = pd.MultiIndex.from_arrays(arrays)\n",
    "compare"
   ]
  },
  {
   "cell_type": "markdown",
   "metadata": {},
   "source": [
    "### Глядя на статистику, можно утверждать, что там где значение расстояния до центра города меньше чем у минимального расстояния до центра города по Лен.области, то этот  населенный пункт является Санкт-Петербургом. Заполним пустые значения исходя из полученной информации.\n",
    "\n",
    "Найдем индексы строк где столбец locality_name пустое и при этом имеет значение расстояния до центра города меньше 17012м, где 17012м - это минимального расстояния до центра населенного пункта по Лен.области."
   ]
  },
  {
   "cell_type": "code",
   "execution_count": 57,
   "metadata": {},
   "outputs": [
    {
     "name": "stdout",
     "output_type": "stream",
     "text": [
      "Осталось 19 строк имеющие пустое значение в столбце \"locality_name\"\n"
     ]
    }
   ],
   "source": [
    "# найдем индексы строк\n",
    "index_of_line_where_isnull_local_name=data.query('cityCenters_nearest<17012 & locality_name.isnull()')['locality_name'].index.tolist()\n",
    "# меняем в строке с найденным индексом пропущеное значение населенного пункта\n",
    "data.loc[index_of_line_where_isnull_local_name, 'locality_name']=data.loc[index_of_line_where_isnull_local_name, 'locality_name'].fillna(\"САНКТ-ПЕТЕРБУРГ\")\n",
    "print('Осталось {:d} строк имеющие пустое значение в столбце \"locality_name\"'.format(data['locality_name'].isnull().sum()))"
   ]
  },
  {
   "cell_type": "markdown",
   "metadata": {},
   "source": [
    "Удалим 19 строк где значение столбца \"locality_name\" не определено."
   ]
  },
  {
   "cell_type": "code",
   "execution_count": 58,
   "metadata": {},
   "outputs": [
    {
     "data": {
      "text/html": [
       "<div>\n",
       "<style scoped>\n",
       "    .dataframe tbody tr th:only-of-type {\n",
       "        vertical-align: middle;\n",
       "    }\n",
       "\n",
       "    .dataframe tbody tr th {\n",
       "        vertical-align: top;\n",
       "    }\n",
       "\n",
       "    .dataframe thead th {\n",
       "        text-align: right;\n",
       "    }\n",
       "</style>\n",
       "<table border=\"1\" class=\"dataframe\">\n",
       "  <thead>\n",
       "    <tr style=\"text-align: right;\">\n",
       "      <th></th>\n",
       "      <th>total_images</th>\n",
       "      <th>last_price</th>\n",
       "      <th>total_area</th>\n",
       "      <th>first_day_exposition</th>\n",
       "      <th>rooms</th>\n",
       "      <th>ceiling_height</th>\n",
       "      <th>floors_total</th>\n",
       "      <th>living_area</th>\n",
       "      <th>floor</th>\n",
       "      <th>is_apartment</th>\n",
       "      <th>...</th>\n",
       "      <th>kitchen_area</th>\n",
       "      <th>balcony</th>\n",
       "      <th>locality_name</th>\n",
       "      <th>airports_nearest</th>\n",
       "      <th>cityCenters_nearest</th>\n",
       "      <th>parks_around3000</th>\n",
       "      <th>parks_nearest</th>\n",
       "      <th>ponds_around3000</th>\n",
       "      <th>ponds_nearest</th>\n",
       "      <th>days_exposition</th>\n",
       "    </tr>\n",
       "  </thead>\n",
       "  <tbody>\n",
       "    <tr>\n",
       "      <td>23578</td>\n",
       "      <td>9</td>\n",
       "      <td>9700000.0</td>\n",
       "      <td>133.81</td>\n",
       "      <td>2017-03-21T00:00:00</td>\n",
       "      <td>3</td>\n",
       "      <td>3.700000</td>\n",
       "      <td>5.0</td>\n",
       "      <td>73.3</td>\n",
       "      <td>3</td>\n",
       "      <td>NaN</td>\n",
       "      <td>...</td>\n",
       "      <td>13.83</td>\n",
       "      <td>NaN</td>\n",
       "      <td>САНКТ-ПЕТЕРБУРГ</td>\n",
       "      <td>24665.0</td>\n",
       "      <td>4232.0</td>\n",
       "      <td>1.0</td>\n",
       "      <td>796.0</td>\n",
       "      <td>3.0</td>\n",
       "      <td>381.0</td>\n",
       "      <td>NaN</td>\n",
       "    </tr>\n",
       "    <tr>\n",
       "      <td>23579</td>\n",
       "      <td>14</td>\n",
       "      <td>3100000.0</td>\n",
       "      <td>59.00</td>\n",
       "      <td>2018-01-15T00:00:00</td>\n",
       "      <td>3</td>\n",
       "      <td>2.710354</td>\n",
       "      <td>5.0</td>\n",
       "      <td>38.0</td>\n",
       "      <td>4</td>\n",
       "      <td>NaN</td>\n",
       "      <td>...</td>\n",
       "      <td>8.50</td>\n",
       "      <td>NaN</td>\n",
       "      <td>ТОСНО</td>\n",
       "      <td>NaN</td>\n",
       "      <td>NaN</td>\n",
       "      <td>NaN</td>\n",
       "      <td>NaN</td>\n",
       "      <td>NaN</td>\n",
       "      <td>NaN</td>\n",
       "      <td>45.0</td>\n",
       "    </tr>\n",
       "    <tr>\n",
       "      <td>23580</td>\n",
       "      <td>18</td>\n",
       "      <td>2500000.0</td>\n",
       "      <td>56.70</td>\n",
       "      <td>2018-02-11T00:00:00</td>\n",
       "      <td>2</td>\n",
       "      <td>2.846010</td>\n",
       "      <td>3.0</td>\n",
       "      <td>29.7</td>\n",
       "      <td>1</td>\n",
       "      <td>NaN</td>\n",
       "      <td>...</td>\n",
       "      <td>NaN</td>\n",
       "      <td>NaN</td>\n",
       "      <td>СЕЛО РОЖДЕСТВЕНО</td>\n",
       "      <td>NaN</td>\n",
       "      <td>NaN</td>\n",
       "      <td>NaN</td>\n",
       "      <td>NaN</td>\n",
       "      <td>NaN</td>\n",
       "      <td>NaN</td>\n",
       "      <td>NaN</td>\n",
       "    </tr>\n",
       "    <tr>\n",
       "      <td>23581</td>\n",
       "      <td>13</td>\n",
       "      <td>11475000.0</td>\n",
       "      <td>76.75</td>\n",
       "      <td>2017-03-28T00:00:00</td>\n",
       "      <td>2</td>\n",
       "      <td>3.000000</td>\n",
       "      <td>17.0</td>\n",
       "      <td>NaN</td>\n",
       "      <td>12</td>\n",
       "      <td>NaN</td>\n",
       "      <td>...</td>\n",
       "      <td>23.30</td>\n",
       "      <td>2.0</td>\n",
       "      <td>САНКТ-ПЕТЕРБУРГ</td>\n",
       "      <td>39140.0</td>\n",
       "      <td>10364.0</td>\n",
       "      <td>2.0</td>\n",
       "      <td>173.0</td>\n",
       "      <td>3.0</td>\n",
       "      <td>196.0</td>\n",
       "      <td>602.0</td>\n",
       "    </tr>\n",
       "    <tr>\n",
       "      <td>23582</td>\n",
       "      <td>4</td>\n",
       "      <td>1350000.0</td>\n",
       "      <td>32.30</td>\n",
       "      <td>2017-07-21T00:00:00</td>\n",
       "      <td>1</td>\n",
       "      <td>2.500000</td>\n",
       "      <td>5.0</td>\n",
       "      <td>12.3</td>\n",
       "      <td>1</td>\n",
       "      <td>NaN</td>\n",
       "      <td>...</td>\n",
       "      <td>9.00</td>\n",
       "      <td>NaN</td>\n",
       "      <td>ПОСЕЛОК НОВЫЙ УЧХОЗ</td>\n",
       "      <td>NaN</td>\n",
       "      <td>NaN</td>\n",
       "      <td>NaN</td>\n",
       "      <td>NaN</td>\n",
       "      <td>NaN</td>\n",
       "      <td>NaN</td>\n",
       "      <td>NaN</td>\n",
       "    </tr>\n",
       "  </tbody>\n",
       "</table>\n",
       "<p>5 rows × 22 columns</p>\n",
       "</div>"
      ],
      "text/plain": [
       "       total_images  last_price  total_area first_day_exposition  rooms  \\\n",
       "23578             9   9700000.0      133.81  2017-03-21T00:00:00      3   \n",
       "23579            14   3100000.0       59.00  2018-01-15T00:00:00      3   \n",
       "23580            18   2500000.0       56.70  2018-02-11T00:00:00      2   \n",
       "23581            13  11475000.0       76.75  2017-03-28T00:00:00      2   \n",
       "23582             4   1350000.0       32.30  2017-07-21T00:00:00      1   \n",
       "\n",
       "       ceiling_height  floors_total  living_area  floor is_apartment  ...  \\\n",
       "23578        3.700000           5.0         73.3      3          NaN  ...   \n",
       "23579        2.710354           5.0         38.0      4          NaN  ...   \n",
       "23580        2.846010           3.0         29.7      1          NaN  ...   \n",
       "23581        3.000000          17.0          NaN     12          NaN  ...   \n",
       "23582        2.500000           5.0         12.3      1          NaN  ...   \n",
       "\n",
       "       kitchen_area  balcony        locality_name  airports_nearest  \\\n",
       "23578         13.83      NaN      САНКТ-ПЕТЕРБУРГ           24665.0   \n",
       "23579          8.50      NaN                ТОСНО               NaN   \n",
       "23580           NaN      NaN     СЕЛО РОЖДЕСТВЕНО               NaN   \n",
       "23581         23.30      2.0      САНКТ-ПЕТЕРБУРГ           39140.0   \n",
       "23582          9.00      NaN  ПОСЕЛОК НОВЫЙ УЧХОЗ               NaN   \n",
       "\n",
       "      cityCenters_nearest  parks_around3000  parks_nearest  ponds_around3000  \\\n",
       "23578              4232.0               1.0          796.0               3.0   \n",
       "23579                 NaN               NaN            NaN               NaN   \n",
       "23580                 NaN               NaN            NaN               NaN   \n",
       "23581             10364.0               2.0          173.0               3.0   \n",
       "23582                 NaN               NaN            NaN               NaN   \n",
       "\n",
       "       ponds_nearest  days_exposition  \n",
       "23578          381.0              NaN  \n",
       "23579            NaN             45.0  \n",
       "23580            NaN              NaN  \n",
       "23581          196.0            602.0  \n",
       "23582            NaN              NaN  \n",
       "\n",
       "[5 rows x 22 columns]"
      ]
     },
     "execution_count": 58,
     "metadata": {},
     "output_type": "execute_result"
    }
   ],
   "source": [
    "# удаляем строки с пропущенными значениями в столбце 'floors_total'\n",
    "data.dropna(subset=['locality_name'], inplace = True)\n",
    "# обновляем индексы у таблицы\n",
    "data=data.reset_index()\n",
    "# столбец со старыми индексами удаляем\n",
    "del data['index']\n",
    "# выведем несколько последних строк\n",
    "data.tail()"
   ]
  },
  {
   "cell_type": "markdown",
   "metadata": {},
   "source": [
    "### 2.3.4 Заполним пропуски в столбце ponds_around3000. Пропущенные значения в столбце ponds_around3000 — число водоёмов в радиусе 3 км могут иметь пустое значение, т.к. прудов в конкретном населенном пункте может не быть. \n",
    "\n",
    "Найдем населенные пункты в которых есть пруды, и запишем их в переменную locality_name_with_ponds,для этого воспользуемся ранее написаной функцией find_unique_name.\n",
    "\n",
    "Используя метод .loc, отфильтруем таблицу по пустым строкам из столбца число водоёмов в радиусе 3 км 'ponds_around3000' —  и населенным пунктам, которые не входят в список городов имеющие пруды locality_name_with_ponds. Затем заменим пустые строки на \"0\" с помощью метода .fillna()"
   ]
  },
  {
   "cell_type": "code",
   "execution_count": 59,
   "metadata": {},
   "outputs": [
    {
     "name": "stdout",
     "output_type": "stream",
     "text": [
      "Количество уникальных значений столбца locality_name при условии ponds_around3000>0 равно: 18 \n",
      "\n",
      "Уникальные значения столбца locality_name при условии ponds_around3000>0 : \n",
      "\n",
      " ['САНКТ-ПЕТЕРБУРГ' 'ПЕТЕРГОФ' 'ПУШКИН' 'ПОСЕЛОК ШУШАРЫ' 'ЛОМОНОСОВ'\n",
      " 'КРОНШТАДТ' 'ПОСЕЛОК ПАРГОЛОВО' 'КОЛПИНО' 'ПАВЛОВСК' 'СЕСТРОРЕЦК'\n",
      " 'ЗЕЛЕНОГОРСК' 'ПОСЕЛОК АЛЕКСАНДРОВСКАЯ' 'ПОСЕЛОК ПОНТОННЫЙ'\n",
      " 'КРАСНОЕ СЕЛО' 'ПОСЕЛОК ПЕТРО-СЛАВЯНКА' 'ПОСЕЛОК СТРЕЛЬНА'\n",
      " 'ПОСЕЛОК САПЕРНЫЙ' 'ПОСЕЛОК БЕЛООСТРОВ']\n",
      "Уникальные значения записаны в переменую\n"
     ]
    }
   ],
   "source": [
    "locality_name_with_ponds=[]\n",
    "# в городах в которых есть пруды запишем в переменную locality_name_with_ponds\n",
    "#locality_name_with_ponds=data.query('ponds_around3000>0')['locality_name'].unique()\n",
    "find_unique_name('ponds_around3000>0','locality_name',locality_name_with_ponds)"
   ]
  },
  {
   "cell_type": "markdown",
   "metadata": {},
   "source": [
    "Найдем индексы строк где пропущено значение ponds_around3000 и строки с населенными пунктами, которые не входят в список локаций имеющих пруды locality_name_with_ponds, запишем их в переменную index_of_line_where_isnull_ponds_around3000.\n",
    "Затем в этих строках заполним значения ponds_around3000 равное 0."
   ]
  },
  {
   "cell_type": "code",
   "execution_count": 60,
   "metadata": {},
   "outputs": [
    {
     "name": "stdout",
     "output_type": "stream",
     "text": [
      "Осталось 59 строк имеющие пустое значение в столбце \"ponds_around3000\"\n"
     ]
    }
   ],
   "source": [
    "# индексы записываем в список index_of_line_where_isnull_ponds_around3000\n",
    "index_of_line_where_isnull_ponds_around3000=data.query('ponds_around3000.isnull() & locality_name not in @locality_name_with_ponds')['locality_name'].index.tolist()\n",
    "data.loc[index_of_line_where_isnull_ponds_around3000, 'ponds_around3000']=data.loc[index_of_line_where_isnull_ponds_around3000, 'ponds_around3000'].fillna(0)\n",
    "print('Осталось {:d} строк имеющие пустое значение в столбце \"ponds_around3000\"'.format(data['ponds_around3000'].isnull().sum()))"
   ]
  },
  {
   "cell_type": "markdown",
   "metadata": {},
   "source": [
    "### 2.3.5 Заполним пропуски в столбце parks_around3000. Пропущенные значения в столбце parks_arond3000 — число парков в радиусе 3 км могут иметь пустое значение, т.к. парков в конкретном населенном пункте может не быть.\n",
    "\n",
    "Делаем все те же операции как с прудами только для парков. Сохраним в список locality_name_with_parks населенные пункты в которых есть парки."
   ]
  },
  {
   "cell_type": "code",
   "execution_count": 61,
   "metadata": {},
   "outputs": [
    {
     "name": "stdout",
     "output_type": "stream",
     "text": [
      "Количество уникальных значений столбца locality_name при условии parks_around3000>0 равно: 12 \n",
      "\n",
      "Уникальные значения столбца locality_name при условии parks_around3000>0 : \n",
      "\n",
      " ['САНКТ-ПЕТЕРБУРГ' 'ПЕТЕРГОФ' 'ПУШКИН' 'КРОНШТАДТ' 'КОЛПИНО' 'ПАВЛОВСК'\n",
      " 'СЕСТРОРЕЦК' 'ЗЕЛЕНОГОРСК' 'КРАСНОЕ СЕЛО' 'ПОСЕЛОК СТРЕЛЬНА' 'ЛОМОНОСОВ'\n",
      " 'ПОСЕЛОК ПАРГОЛОВО']\n",
      "Уникальные значения записаны в переменую\n"
     ]
    }
   ],
   "source": [
    "locality_name_with_parks=[]\n",
    "# в городах в которых есть пруды запишем в переменную locality_name_with_parks\n",
    "find_unique_name('parks_around3000>0','locality_name',locality_name_with_parks)"
   ]
  },
  {
   "cell_type": "code",
   "execution_count": 62,
   "metadata": {},
   "outputs": [
    {
     "name": "stdout",
     "output_type": "stream",
     "text": [
      "Осталось 56 строк имеющие пустое значение в столбце \"parks_around3000\"\n"
     ]
    }
   ],
   "source": [
    "index_of_line_where_isnull_parks_around3000=data.query('parks_around3000.isnull() & locality_name not in @locality_name_with_parks').index.tolist()\n",
    "data.loc[index_of_line_where_isnull_parks_around3000, 'parks_around3000']=data.loc[index_of_line_where_isnull_parks_around3000, 'parks_around3000'].fillna(0)\n",
    "print('Осталось {:d} строк имеющие пустое значение в столбце \"parks_around3000\"'.format(data['parks_around3000'].isnull().sum()))"
   ]
  },
  {
   "cell_type": "markdown",
   "metadata": {},
   "source": [
    "### 2.3.6 Заполним пропуски столбцов  столбцы parks_nearest и ponds_nearest.\n",
    "Проверим, какие значения имеют столбцы parks_nearest и ponds_nearest, где значения столбцов parks_around3000 и ponds_around3000 равны 0."
   ]
  },
  {
   "cell_type": "code",
   "execution_count": 63,
   "metadata": {},
   "outputs": [
    {
     "name": "stdout",
     "output_type": "stream",
     "text": [
      "Строки где столбец parks_around3000=0, имеет следующие значения [  nan 3064. 3190. 3013.] \n",
      "\n",
      " Строки где столбец ponds_around3000=0, имеет следующие значения [nan]\n"
     ]
    }
   ],
   "source": [
    "print('Строки где столбец parks_around3000=0, имеет следующие значения', data.query('parks_around3000==0')['parks_nearest'].unique(), '\\n'*2,'Строки где столбец ponds_around3000=0, имеет следующие значения', data.query('ponds_around3000==0')['ponds_nearest'].unique())"
   ]
  },
  {
   "cell_type": "code",
   "execution_count": 64,
   "metadata": {},
   "outputs": [
    {
     "name": "stdout",
     "output_type": "stream",
     "text": [
      "Строки где столбец parks_around3000>3000, имеет следующие значения [] \n",
      "\n",
      " Строки где столбец ponds_around3000>3000, имеет следующие значения []\n"
     ]
    }
   ],
   "source": [
    "print('Строки где столбец parks_around3000>3000, имеет следующие значения', data.query('parks_around3000>3000')['parks_nearest'].unique(), '\\n'*2,'Строки где столбец ponds_around3000>3000, имеет следующие значения', data.query('ponds_around3000>3000')['ponds_nearest'].unique())"
   ]
  },
  {
   "cell_type": "markdown",
   "metadata": {},
   "source": [
    "На основании полученного результата, можем утверждать, что столбцы parks_nearest и ponds_nearest, где значения столбцов parks_around3000 и ponds_around3000 равны 0, можем заменить на нулевые значения."
   ]
  },
  {
   "cell_type": "code",
   "execution_count": 65,
   "metadata": {},
   "outputs": [
    {
     "name": "stdout",
     "output_type": "stream",
     "text": [
      "Осталось 56 строк имеющие пустое значение в столбце \"parks_nearest\"\n",
      "Осталось 59 строк имеющие пустое значение в столбце \"ponds_nearest\"\n"
     ]
    }
   ],
   "source": [
    "index_of_line_where_isnull_parks_nearest=data.query('parks_around3000==0 & parks_nearest.isnull()').index.tolist() \n",
    "data.loc[index_of_line_where_isnull_parks_nearest, 'parks_nearest']=data.loc[index_of_line_where_isnull_parks_nearest, 'parks_nearest'].fillna(0)\n",
    "print('Осталось {:d} строк имеющие пустое значение в столбце \"parks_nearest\"'.format(data['parks_nearest'].isnull().sum()))\n",
    "index_of_line_where_isnull_ponds_nearest=data.query('ponds_around3000==0 & ponds_nearest.isnull()').index.tolist() \n",
    "data.loc[index_of_line_where_isnull_ponds_nearest, 'ponds_nearest']=data.loc[index_of_line_where_isnull_ponds_nearest, 'ponds_nearest'].fillna(0)\n",
    "print('Осталось {:d} строк имеющие пустое значение в столбце \"ponds_nearest\"'.format(data['ponds_nearest'].isnull().sum()))"
   ]
  },
  {
   "cell_type": "code",
   "execution_count": 66,
   "metadata": {},
   "outputs": [
    {
     "data": {
      "text/plain": [
       "total_images                0\n",
       "last_price                  0\n",
       "total_area                  0\n",
       "first_day_exposition        0\n",
       "rooms                       0\n",
       "ceiling_height              1\n",
       "floors_total                0\n",
       "living_area              1856\n",
       "floor                       0\n",
       "is_apartment            20814\n",
       "studio                      0\n",
       "open_plan                   0\n",
       "kitchen_area             2216\n",
       "balcony                 11464\n",
       "locality_name               0\n",
       "airports_nearest         5513\n",
       "cityCenters_nearest      5490\n",
       "parks_around3000           56\n",
       "parks_nearest              56\n",
       "ponds_around3000           59\n",
       "ponds_nearest              59\n",
       "days_exposition          3160\n",
       "dtype: int64"
      ]
     },
     "execution_count": 66,
     "metadata": {},
     "output_type": "execute_result"
    }
   ],
   "source": [
    "data.isnull().sum()"
   ]
  },
  {
   "cell_type": "markdown",
   "metadata": {},
   "source": [
    "### 2.3.7 Заполним пропуски в столбце 'cityCenters_nearest' по среднему значению для каждого из населенного пункта.\n",
    "Для этого составим словарь, в котором ключем будет населенный пункт, а значениями расстояние до центра города.\n",
    "Чтобы составить словарь нам необходимо сделать срез данных по столбцу locality_name и знаениям cityCenters_nearest,затем воспользуемся ранее написанной функцией для составления словаря по одному значению make_a_dict_for_1_value."
   ]
  },
  {
   "cell_type": "code",
   "execution_count": 67,
   "metadata": {},
   "outputs": [
    {
     "name": "stdout",
     "output_type": "stream",
     "text": [
      "Длина словаря: 25 \n",
      " Количество ключей имеющих больше одного значения 22\n"
     ]
    }
   ],
   "source": [
    "# сделаем срез\n",
    "cut_citycenters_and_locality_name=data.query('cityCenters_nearest.notnull()')[['locality_name','cityCenters_nearest']].drop_duplicates().reset_index(drop= True)\n",
    "# объявим словарь\n",
    "dict_for_citycenters_nearest={}\n",
    "# обнулим ключи списка с несколькими значениями\n",
    "list_of_keys_with_many_values=[]\n",
    "make_a_dict_for_1_value(dict_for_citycenters_nearest,cut_citycenters_and_locality_name)"
   ]
  },
  {
   "cell_type": "markdown",
   "metadata": {},
   "source": [
    "Обновим словарь-справочник dict_for_citycenters_nearest с помощью ранее написанной функции refresh_dict, меняющей значение у ключа,на среднее значение."
   ]
  },
  {
   "cell_type": "code",
   "execution_count": 68,
   "metadata": {},
   "outputs": [],
   "source": [
    "refresh_dict(dict_for_citycenters_nearest,list_of_keys_with_many_values)"
   ]
  },
  {
   "cell_type": "markdown",
   "metadata": {},
   "source": [
    "Проверим замену в словаре-справочнике dict_for_citycenters_nearest по первому ключу который имел несколько значений."
   ]
  },
  {
   "cell_type": "code",
   "execution_count": 69,
   "metadata": {},
   "outputs": [
    {
     "name": "stdout",
     "output_type": "stream",
     "text": [
      "Ключ: САНКТ-ПЕТЕРБУРГ значение: 10769.71000475662\n"
     ]
    }
   ],
   "source": [
    "print('Ключ:',list_of_keys_with_many_values[0], 'значение:', dict_for_citycenters_nearest[list_of_keys_with_many_values[0]])"
   ]
  },
  {
   "cell_type": "markdown",
   "metadata": {},
   "source": [
    "Замена в словаре-справочнике dict_for_citycenters_nearest прошла успешно. \n",
    "Заполним пропуски."
   ]
  },
  {
   "cell_type": "code",
   "execution_count": 70,
   "metadata": {
    "scrolled": false
   },
   "outputs": [],
   "source": [
    "# запусть цикл, для каждого ключа из списка ключей словаря dict_for_citycenters_nearest\n",
    "for key in dict_for_citycenters_nearest.keys():\n",
    "    # узнаем индекс строки которая соответствует значениям из нашего справочника, в которой пропущено значение высоты потолка\n",
    "    locality_name_value=str(key)\n",
    "    # запишем в переменную index_of_line_where_isnull_citycenters_nearest\n",
    "    index_of_line_where_isnull_citycenters_nearest=data.query('cityCenters_nearest.isnull() &  locality_name in @locality_name_value').index.tolist()\n",
    "    # меняем в строке с найденным индексом пропущеное значение высоты потолка на среднее значение из справочника \n",
    "    data.loc[index_of_line_where_isnull_citycenters_nearest, 'cityCenters_nearest']=data.loc[index_of_line_where_isnull_citycenters_nearest, 'cityCenters_nearest'].fillna(dict_for_citycenters_nearest[key])"
   ]
  },
  {
   "cell_type": "code",
   "execution_count": 71,
   "metadata": {},
   "outputs": [
    {
     "data": {
      "text/plain": [
       "5430"
      ]
     },
     "execution_count": 71,
     "metadata": {},
     "output_type": "execute_result"
    }
   ],
   "source": [
    "data['cityCenters_nearest'].isnull().sum()"
   ]
  },
  {
   "cell_type": "markdown",
   "metadata": {},
   "source": [
    "Таким способом удалось заменить 60 пропущенных значений, это говорит о том, что у остальных населенных пунктов не проставлено значение 'cityCenters_nearest'.\n",
    "Проверим это."
   ]
  },
  {
   "cell_type": "code",
   "execution_count": 72,
   "metadata": {},
   "outputs": [
    {
     "data": {
      "text/plain": [
       "array([nan])"
      ]
     },
     "execution_count": 72,
     "metadata": {},
     "output_type": "execute_result"
    }
   ],
   "source": [
    "# составим список из населенных пунктов, там где не проставлено значение столбца 'cityCenters_nearest'\n",
    "list_of_locality_without_cityCenters=data.query('cityCenters_nearest.isnull()')['locality_name'].unique()\n",
    "# сделаем срез в котором отобразим значения столбца 'cityCenters_nearest' по ранеесозданому списку населенных пунктов\n",
    "data.query('locality_name in @list_of_locality_without_cityCenters')['cityCenters_nearest'].unique()"
   ]
  },
  {
   "cell_type": "markdown",
   "metadata": {},
   "source": [
    "Гипотеза подтвердилась. Предполагаю, что данные населенные пункты настолько малы, что у них нет центра города, а значит  и значение 'cityCenters_nearest' можно проставить как 0."
   ]
  },
  {
   "cell_type": "code",
   "execution_count": 73,
   "metadata": {},
   "outputs": [
    {
     "name": "stdout",
     "output_type": "stream",
     "text": [
      "Осталось 0 строк имеющие пустое значение в столбце \"cityCenters_nearest\"\n"
     ]
    }
   ],
   "source": [
    "index_of_line_where_isnull_citycenters_nearest=data.query('cityCenters_nearest.isnull() & locality_name in @list_of_locality_without_cityCenters').index.tolist()\n",
    "data.loc[index_of_line_where_isnull_citycenters_nearest, 'cityCenters_nearest']=data.loc[index_of_line_where_isnull_citycenters_nearest, 'cityCenters_nearest'].fillna(0)\n",
    "print('Осталось {:d} строк имеющие пустое значение в столбце \"cityCenters_nearest\"'.format(data['cityCenters_nearest'].isnull().sum()))\n"
   ]
  },
  {
   "cell_type": "markdown",
   "metadata": {},
   "source": [
    "### 2.3.8 Заполним пропуски в столбце 'airports_nearest' по среднему значению для каждого из населенного пункта.\n",
    "Для этого составим словарь, в котором ключем будет населенный пункт, а значениями расстояние до центра города.\n",
    "Чтобы составить словарь нам необходимо сделать срез данных по столбцу locality_name и знаениям airports_nearest,затем воспользуемся ранее написанной функцией для составления словаря по одному значению make_a_dict_for_1_value."
   ]
  },
  {
   "cell_type": "code",
   "execution_count": 74,
   "metadata": {},
   "outputs": [
    {
     "name": "stdout",
     "output_type": "stream",
     "text": [
      "Длина словаря: 25 \n",
      " Количество ключей имеющих больше одного значения 22\n"
     ]
    }
   ],
   "source": [
    "# сделаем срез\n",
    "cut_airports_nearest_and_locality_name=data.query('airports_nearest.notnull()')[['locality_name','airports_nearest']].drop_duplicates().reset_index(drop= True)\n",
    "# объявим словарь\n",
    "dict_for_airports_nearest={}\n",
    "# обнулим ключи списка с несколькими значениями\n",
    "list_of_keys_with_many_values=[]\n",
    "make_a_dict_for_1_value(dict_for_airports_nearest,cut_airports_nearest_and_locality_name)"
   ]
  },
  {
   "cell_type": "code",
   "execution_count": 75,
   "metadata": {},
   "outputs": [
    {
     "data": {
      "text/plain": [
       "5513"
      ]
     },
     "execution_count": 75,
     "metadata": {},
     "output_type": "execute_result"
    }
   ],
   "source": [
    "data['airports_nearest'].isnull().sum()"
   ]
  },
  {
   "cell_type": "code",
   "execution_count": 76,
   "metadata": {},
   "outputs": [],
   "source": [
    "refresh_dict(dict_for_airports_nearest,list_of_keys_with_many_values)"
   ]
  },
  {
   "cell_type": "code",
   "execution_count": 77,
   "metadata": {
    "scrolled": false
   },
   "outputs": [],
   "source": [
    "# запусть цикл, для каждого ключа из списка ключей словаря dict_for_citycenters_nearest\n",
    "for key in dict_for_airports_nearest.keys():\n",
    "    # узнаем индекс строки которая соответствует значениям из нашего справочника, в которой пропущено значение высоты потолка\n",
    "    locality_name_value=key\n",
    "    # запишем в переменную index_of_line_where_isnull_citycenters_nearest\n",
    "    index_of_line_where_isnull_airports_nearest=data.query('airports_nearest.isnull() &  locality_name in @locality_name_value').index.tolist()\n",
    "    # меняем в строке с найденным индексом пропущеное значение высоты потолка на среднее значение из справочника \n",
    "    data.loc[index_of_line_where_isnull_airports_nearest, 'airports_nearest']=data.loc[index_of_line_where_isnull_airports_nearest, 'airports_nearest'].fillna(dict_for_airports_nearest[key])"
   ]
  },
  {
   "cell_type": "code",
   "execution_count": 78,
   "metadata": {},
   "outputs": [
    {
     "data": {
      "text/plain": [
       "5430"
      ]
     },
     "execution_count": 78,
     "metadata": {},
     "output_type": "execute_result"
    }
   ],
   "source": [
    "data['airports_nearest'].isnull().sum()"
   ]
  },
  {
   "cell_type": "markdown",
   "metadata": {},
   "source": [
    "Таким способом удалось заменить 83 пропущенных значений, это говорит о том, что у остальных населенных пунктов не проставлено значение 'airports_nearest'.\n",
    "Нет подходящих значений для замены пустых строк расстояние до аэропорта, кроме как парсить результат полученных значений из Я.Карты по каждому из населенных пунктов."
   ]
  },
  {
   "cell_type": "markdown",
   "metadata": {},
   "source": [
    "### 2.3.9  Заполним пропуски в столбце 'balcony'. Столбец балконы имеет пустые значения, скорее всего из-за того, что балконов в квартире нет. Проверим были ли вобще значения 0 в этом столбце 'balcony'."
   ]
  },
  {
   "cell_type": "code",
   "execution_count": 79,
   "metadata": {},
   "outputs": [
    {
     "data": {
      "text/plain": [
       "array([nan,  2.,  0.,  1.,  5.,  4.,  3.])"
      ]
     },
     "execution_count": 79,
     "metadata": {},
     "output_type": "execute_result"
    }
   ],
   "source": [
    "data['balcony'].unique()"
   ]
  },
  {
   "cell_type": "markdown",
   "metadata": {},
   "source": [
    "Для столбца 'balcony' встречаются значения 0. Заполним пропуски в этом столбце значением \"-1\", чтобы не смешивать пропуски с уже заполнеными значениеми 0."
   ]
  },
  {
   "cell_type": "code",
   "execution_count": 80,
   "metadata": {},
   "outputs": [
    {
     "data": {
      "text/html": [
       "<div>\n",
       "<style scoped>\n",
       "    .dataframe tbody tr th:only-of-type {\n",
       "        vertical-align: middle;\n",
       "    }\n",
       "\n",
       "    .dataframe tbody tr th {\n",
       "        vertical-align: top;\n",
       "    }\n",
       "\n",
       "    .dataframe thead th {\n",
       "        text-align: right;\n",
       "    }\n",
       "</style>\n",
       "<table border=\"1\" class=\"dataframe\">\n",
       "  <thead>\n",
       "    <tr style=\"text-align: right;\">\n",
       "      <th></th>\n",
       "      <th>total_images</th>\n",
       "      <th>last_price</th>\n",
       "      <th>total_area</th>\n",
       "      <th>first_day_exposition</th>\n",
       "      <th>rooms</th>\n",
       "      <th>ceiling_height</th>\n",
       "      <th>floors_total</th>\n",
       "      <th>living_area</th>\n",
       "      <th>floor</th>\n",
       "      <th>is_apartment</th>\n",
       "      <th>...</th>\n",
       "      <th>kitchen_area</th>\n",
       "      <th>balcony</th>\n",
       "      <th>locality_name</th>\n",
       "      <th>airports_nearest</th>\n",
       "      <th>cityCenters_nearest</th>\n",
       "      <th>parks_around3000</th>\n",
       "      <th>parks_nearest</th>\n",
       "      <th>ponds_around3000</th>\n",
       "      <th>ponds_nearest</th>\n",
       "      <th>days_exposition</th>\n",
       "    </tr>\n",
       "  </thead>\n",
       "  <tbody>\n",
       "    <tr>\n",
       "      <td>0</td>\n",
       "      <td>20</td>\n",
       "      <td>13000000.0</td>\n",
       "      <td>108.0</td>\n",
       "      <td>2019-03-07T00:00:00</td>\n",
       "      <td>3</td>\n",
       "      <td>2.700000</td>\n",
       "      <td>16.0</td>\n",
       "      <td>51.0</td>\n",
       "      <td>8</td>\n",
       "      <td>NaN</td>\n",
       "      <td>...</td>\n",
       "      <td>25.0</td>\n",
       "      <td>-1.0</td>\n",
       "      <td>САНКТ-ПЕТЕРБУРГ</td>\n",
       "      <td>18863.0</td>\n",
       "      <td>16028.0</td>\n",
       "      <td>1.0</td>\n",
       "      <td>482.0</td>\n",
       "      <td>2.0</td>\n",
       "      <td>755.0</td>\n",
       "      <td>NaN</td>\n",
       "    </tr>\n",
       "    <tr>\n",
       "      <td>1</td>\n",
       "      <td>7</td>\n",
       "      <td>3350000.0</td>\n",
       "      <td>40.4</td>\n",
       "      <td>2018-12-04T00:00:00</td>\n",
       "      <td>1</td>\n",
       "      <td>2.772308</td>\n",
       "      <td>11.0</td>\n",
       "      <td>18.6</td>\n",
       "      <td>1</td>\n",
       "      <td>NaN</td>\n",
       "      <td>...</td>\n",
       "      <td>11.0</td>\n",
       "      <td>2.0</td>\n",
       "      <td>ПОСЕЛОК ШУШАРЫ</td>\n",
       "      <td>12817.0</td>\n",
       "      <td>18603.0</td>\n",
       "      <td>0.0</td>\n",
       "      <td>0.0</td>\n",
       "      <td>0.0</td>\n",
       "      <td>0.0</td>\n",
       "      <td>81.0</td>\n",
       "    </tr>\n",
       "    <tr>\n",
       "      <td>2</td>\n",
       "      <td>10</td>\n",
       "      <td>5196000.0</td>\n",
       "      <td>56.0</td>\n",
       "      <td>2015-08-20T00:00:00</td>\n",
       "      <td>2</td>\n",
       "      <td>2.710354</td>\n",
       "      <td>5.0</td>\n",
       "      <td>34.3</td>\n",
       "      <td>4</td>\n",
       "      <td>NaN</td>\n",
       "      <td>...</td>\n",
       "      <td>8.3</td>\n",
       "      <td>0.0</td>\n",
       "      <td>САНКТ-ПЕТЕРБУРГ</td>\n",
       "      <td>21741.0</td>\n",
       "      <td>13933.0</td>\n",
       "      <td>1.0</td>\n",
       "      <td>90.0</td>\n",
       "      <td>2.0</td>\n",
       "      <td>574.0</td>\n",
       "      <td>558.0</td>\n",
       "    </tr>\n",
       "    <tr>\n",
       "      <td>3</td>\n",
       "      <td>0</td>\n",
       "      <td>64900000.0</td>\n",
       "      <td>159.0</td>\n",
       "      <td>2015-07-24T00:00:00</td>\n",
       "      <td>3</td>\n",
       "      <td>3.000000</td>\n",
       "      <td>14.0</td>\n",
       "      <td>NaN</td>\n",
       "      <td>9</td>\n",
       "      <td>NaN</td>\n",
       "      <td>...</td>\n",
       "      <td>NaN</td>\n",
       "      <td>0.0</td>\n",
       "      <td>САНКТ-ПЕТЕРБУРГ</td>\n",
       "      <td>28098.0</td>\n",
       "      <td>6800.0</td>\n",
       "      <td>2.0</td>\n",
       "      <td>84.0</td>\n",
       "      <td>3.0</td>\n",
       "      <td>234.0</td>\n",
       "      <td>424.0</td>\n",
       "    </tr>\n",
       "    <tr>\n",
       "      <td>4</td>\n",
       "      <td>2</td>\n",
       "      <td>10000000.0</td>\n",
       "      <td>100.0</td>\n",
       "      <td>2018-06-19T00:00:00</td>\n",
       "      <td>2</td>\n",
       "      <td>3.030000</td>\n",
       "      <td>14.0</td>\n",
       "      <td>32.0</td>\n",
       "      <td>13</td>\n",
       "      <td>NaN</td>\n",
       "      <td>...</td>\n",
       "      <td>41.0</td>\n",
       "      <td>-1.0</td>\n",
       "      <td>САНКТ-ПЕТЕРБУРГ</td>\n",
       "      <td>31856.0</td>\n",
       "      <td>8098.0</td>\n",
       "      <td>2.0</td>\n",
       "      <td>112.0</td>\n",
       "      <td>1.0</td>\n",
       "      <td>48.0</td>\n",
       "      <td>121.0</td>\n",
       "    </tr>\n",
       "  </tbody>\n",
       "</table>\n",
       "<p>5 rows × 22 columns</p>\n",
       "</div>"
      ],
      "text/plain": [
       "   total_images  last_price  total_area first_day_exposition  rooms  \\\n",
       "0            20  13000000.0       108.0  2019-03-07T00:00:00      3   \n",
       "1             7   3350000.0        40.4  2018-12-04T00:00:00      1   \n",
       "2            10   5196000.0        56.0  2015-08-20T00:00:00      2   \n",
       "3             0  64900000.0       159.0  2015-07-24T00:00:00      3   \n",
       "4             2  10000000.0       100.0  2018-06-19T00:00:00      2   \n",
       "\n",
       "   ceiling_height  floors_total  living_area  floor is_apartment  ...  \\\n",
       "0        2.700000          16.0         51.0      8          NaN  ...   \n",
       "1        2.772308          11.0         18.6      1          NaN  ...   \n",
       "2        2.710354           5.0         34.3      4          NaN  ...   \n",
       "3        3.000000          14.0          NaN      9          NaN  ...   \n",
       "4        3.030000          14.0         32.0     13          NaN  ...   \n",
       "\n",
       "   kitchen_area  balcony    locality_name  airports_nearest  \\\n",
       "0          25.0     -1.0  САНКТ-ПЕТЕРБУРГ           18863.0   \n",
       "1          11.0      2.0   ПОСЕЛОК ШУШАРЫ           12817.0   \n",
       "2           8.3      0.0  САНКТ-ПЕТЕРБУРГ           21741.0   \n",
       "3           NaN      0.0  САНКТ-ПЕТЕРБУРГ           28098.0   \n",
       "4          41.0     -1.0  САНКТ-ПЕТЕРБУРГ           31856.0   \n",
       "\n",
       "  cityCenters_nearest  parks_around3000  parks_nearest  ponds_around3000  \\\n",
       "0             16028.0               1.0          482.0               2.0   \n",
       "1             18603.0               0.0            0.0               0.0   \n",
       "2             13933.0               1.0           90.0               2.0   \n",
       "3              6800.0               2.0           84.0               3.0   \n",
       "4              8098.0               2.0          112.0               1.0   \n",
       "\n",
       "   ponds_nearest  days_exposition  \n",
       "0          755.0              NaN  \n",
       "1            0.0             81.0  \n",
       "2          574.0            558.0  \n",
       "3          234.0            424.0  \n",
       "4           48.0            121.0  \n",
       "\n",
       "[5 rows x 22 columns]"
      ]
     },
     "execution_count": 80,
     "metadata": {},
     "output_type": "execute_result"
    }
   ],
   "source": [
    "data['balcony']=data['balcony'].fillna(-1)\n",
    "data.head()"
   ]
  },
  {
   "cell_type": "code",
   "execution_count": 81,
   "metadata": {
    "scrolled": true
   },
   "outputs": [
    {
     "data": {
      "text/plain": [
       "total_images                0\n",
       "last_price                  0\n",
       "total_area                  0\n",
       "first_day_exposition        0\n",
       "rooms                       0\n",
       "ceiling_height              1\n",
       "floors_total                0\n",
       "living_area              1856\n",
       "floor                       0\n",
       "is_apartment            20814\n",
       "studio                      0\n",
       "open_plan                   0\n",
       "kitchen_area             2216\n",
       "balcony                     0\n",
       "locality_name               0\n",
       "airports_nearest         5430\n",
       "cityCenters_nearest         0\n",
       "parks_around3000           56\n",
       "parks_nearest              56\n",
       "ponds_around3000           59\n",
       "ponds_nearest              59\n",
       "days_exposition          3160\n",
       "dtype: int64"
      ]
     },
     "execution_count": 81,
     "metadata": {},
     "output_type": "execute_result"
    }
   ],
   "source": [
    "data.isnull().sum()"
   ]
  },
  {
   "cell_type": "markdown",
   "metadata": {},
   "source": [
    "### 2.3.10 Заполним пропуски в столбце kitchen_area — площадь кухни в квадратных метрах (м²). \n",
    "Квартиры-студии это квартиры у которых единое пространство, а значит  kitchen_area можем заменить на значение 0. "
   ]
  },
  {
   "cell_type": "code",
   "execution_count": 82,
   "metadata": {},
   "outputs": [
    {
     "data": {
      "text/plain": [
       "array([nan])"
      ]
     },
     "execution_count": 82,
     "metadata": {},
     "output_type": "execute_result"
    }
   ],
   "source": [
    "data.query('studio==True')['kitchen_area'].unique()"
   ]
  },
  {
   "cell_type": "code",
   "execution_count": 83,
   "metadata": {},
   "outputs": [],
   "source": [
    "index_of_null_kitchen=data.query('studio==True')['kitchen_area'].index.tolist()\n",
    "data.loc[index_of_null_kitchen, 'kitchen_area']=data.loc[index_of_null_kitchen, 'kitchen_area'].fillna(0)"
   ]
  },
  {
   "cell_type": "code",
   "execution_count": 84,
   "metadata": {},
   "outputs": [
    {
     "data": {
      "text/plain": [
       "2070"
      ]
     },
     "execution_count": 84,
     "metadata": {},
     "output_type": "execute_result"
    }
   ],
   "source": [
    "data['kitchen_area'].isnull().sum()"
   ]
  },
  {
   "cell_type": "markdown",
   "metadata": {},
   "source": [
    "146 нулов мы заполнили таким способом.\n",
    "#### Посмотрим на корреляцию общей площади и площади кухни,если она положительная, то остальные пропуски в столбце 'kitchen_area', заполним как произведение общей площади на коэффициент(сколько занимает кухня от общей площади помещения)."
   ]
  },
  {
   "cell_type": "code",
   "execution_count": 85,
   "metadata": {},
   "outputs": [
    {
     "data": {
      "text/plain": [
       "<matplotlib.axes._subplots.AxesSubplot at 0x7f246beecac8>"
      ]
     },
     "execution_count": 85,
     "metadata": {},
     "output_type": "execute_result"
    },
    {
     "data": {
      "image/png": "[encoded data removed]",
      "text/plain": [
       "<Figure size 432x288 with 1 Axes>"
      ]
     },
     "metadata": {
      "needs_background": "light"
     },
     "output_type": "display_data"
    }
   ],
   "source": [
    "data.query('kitchen_area.notnull()&kitchen_area>0')[['total_area','kitchen_area']].sort_values('total_area').plot(x='total_area', y='kitchen_area', kind='scatter',alpha=0.03)"
   ]
  },
  {
   "cell_type": "markdown",
   "metadata": {},
   "source": [
    "Мы видим на графике, что корреляция положительна.\n",
    "Рассчитаем коэффициент корреляции Пирсона. Он помогает определить, как сильно меняется одна величина при изменении другой\n",
    "Если с ростом первой величины, растёт вторая, то коэффициент корреляции Пирсона — положительный."
   ]
  },
  {
   "cell_type": "code",
   "execution_count": 86,
   "metadata": {},
   "outputs": [
    {
     "name": "stdout",
     "output_type": "stream",
     "text": [
      "Коэффициент Пирсона равен: 0.6093518684072688\n"
     ]
    }
   ],
   "source": [
    "print('Коэффициент Пирсона равен:',data.query('kitchen_area.notnull()&kitchen_area>0')[['total_area','kitchen_area']]['total_area'].corr(data.query('kitchen_area.notnull()&kitchen_area>0')[['total_area','kitchen_area']]['kitchen_area']))"
   ]
  },
  {
   "cell_type": "markdown",
   "metadata": {},
   "source": [
    "Коэффициент Пирсона равен: 0.61, чтобы увеличить значение этого коэффициента и выжать максимум из очевидности,нужно построить диаграмму размахаи избавится от выбросов.\n",
    "Но мы уже доказали, что между величинами общей площади помещения и кухни есть положительная зависимость, чем больше площадь помещения, тем больше площадь кухни. Значит можем рассчитать коэффициэнт этой зависимости. Для этого воспользуемся методом describe()"
   ]
  },
  {
   "cell_type": "code",
   "execution_count": 87,
   "metadata": {},
   "outputs": [
    {
     "data": {
      "text/html": [
       "<div>\n",
       "<style scoped>\n",
       "    .dataframe tbody tr th:only-of-type {\n",
       "        vertical-align: middle;\n",
       "    }\n",
       "\n",
       "    .dataframe tbody tr th {\n",
       "        vertical-align: top;\n",
       "    }\n",
       "\n",
       "    .dataframe thead th {\n",
       "        text-align: right;\n",
       "    }\n",
       "</style>\n",
       "<table border=\"1\" class=\"dataframe\">\n",
       "  <thead>\n",
       "    <tr style=\"text-align: right;\">\n",
       "      <th></th>\n",
       "      <th>total_area</th>\n",
       "      <th>kitchen_area</th>\n",
       "    </tr>\n",
       "  </thead>\n",
       "  <tbody>\n",
       "    <tr>\n",
       "      <td>count</td>\n",
       "      <td>21367.000000</td>\n",
       "      <td>21367.000000</td>\n",
       "    </tr>\n",
       "    <tr>\n",
       "      <td>mean</td>\n",
       "      <td>60.720017</td>\n",
       "      <td>10.560944</td>\n",
       "    </tr>\n",
       "    <tr>\n",
       "      <td>std</td>\n",
       "      <td>35.014699</td>\n",
       "      <td>5.899363</td>\n",
       "    </tr>\n",
       "    <tr>\n",
       "      <td>min</td>\n",
       "      <td>14.000000</td>\n",
       "      <td>1.300000</td>\n",
       "    </tr>\n",
       "    <tr>\n",
       "      <td>25%</td>\n",
       "      <td>40.600000</td>\n",
       "      <td>7.000000</td>\n",
       "    </tr>\n",
       "    <tr>\n",
       "      <td>50%</td>\n",
       "      <td>52.400000</td>\n",
       "      <td>9.100000</td>\n",
       "    </tr>\n",
       "    <tr>\n",
       "      <td>75%</td>\n",
       "      <td>70.000000</td>\n",
       "      <td>12.000000</td>\n",
       "    </tr>\n",
       "    <tr>\n",
       "      <td>max</td>\n",
       "      <td>900.000000</td>\n",
       "      <td>112.000000</td>\n",
       "    </tr>\n",
       "  </tbody>\n",
       "</table>\n",
       "</div>"
      ],
      "text/plain": [
       "         total_area  kitchen_area\n",
       "count  21367.000000  21367.000000\n",
       "mean      60.720017     10.560944\n",
       "std       35.014699      5.899363\n",
       "min       14.000000      1.300000\n",
       "25%       40.600000      7.000000\n",
       "50%       52.400000      9.100000\n",
       "75%       70.000000     12.000000\n",
       "max      900.000000    112.000000"
      ]
     },
     "execution_count": 87,
     "metadata": {},
     "output_type": "execute_result"
    }
   ],
   "source": [
    "data.query('kitchen_area.notnull()&kitchen_area')[['total_area','kitchen_area']].describe()"
   ]
  },
  {
   "cell_type": "markdown",
   "metadata": {},
   "source": [
    "Расчитаем этот коэффициэнт, как отношение медианное значение kitchen_area/медианное значение total_area. \n",
    "9.1/52.4*100% = 17,4% занимает кухня от общей площади помещения.\n",
    "Зная этот коэффициэнт, заполним пропущенные значения."
   ]
  },
  {
   "cell_type": "code",
   "execution_count": 88,
   "metadata": {},
   "outputs": [],
   "source": [
    "data.loc[data['kitchen_area'].isnull(), 'kitchen_area'] = data.loc[data['kitchen_area'].isnull(), 'total_area']*0.174"
   ]
  },
  {
   "cell_type": "markdown",
   "metadata": {},
   "source": [
    "### 2.3.11 Посмотрим на корреляцию общей площади и жилой площади,если она положительная, то пропуски в столбце 'living_area', заполним как произведение общей площади на коэффициент(сколько процентов занимает жилая площадь от общей площади помещения)."
   ]
  },
  {
   "cell_type": "code",
   "execution_count": 89,
   "metadata": {},
   "outputs": [
    {
     "data": {
      "text/plain": [
       "<matplotlib.axes._subplots.AxesSubplot at 0x7f246bb4f5f8>"
      ]
     },
     "execution_count": 89,
     "metadata": {},
     "output_type": "execute_result"
    },
    {
     "data": {
      "image/png": "[encoded data removed]",
      "text/plain": [
       "<Figure size 432x288 with 1 Axes>"
      ]
     },
     "metadata": {
      "needs_background": "light"
     },
     "output_type": "display_data"
    }
   ],
   "source": [
    "data.query('living_area.notnull()&living_area>0')[['total_area','living_area']].sort_values('total_area').plot(x='total_area', y='living_area', kind='scatter',alpha=0.03)"
   ]
  },
  {
   "cell_type": "markdown",
   "metadata": {},
   "source": [
    "Мы видим на графике, что корреляция положительна.\n",
    "Рассчитаем коэффициент корреляции Пирсона. "
   ]
  },
  {
   "cell_type": "code",
   "execution_count": 90,
   "metadata": {},
   "outputs": [
    {
     "name": "stdout",
     "output_type": "stream",
     "text": [
      "Коэффициент Пирсона равен: 0.9397927149219233\n"
     ]
    }
   ],
   "source": [
    "print('Коэффициент Пирсона равен:',data.query('living_area.notnull()&living_area>0')[['total_area','living_area']]['total_area']\n",
    "      .corr(data.query('living_area.notnull()&living_area>0')[['total_area','living_area']]['living_area']))"
   ]
  },
  {
   "cell_type": "markdown",
   "metadata": {},
   "source": [
    "Коэффициент Пирсона равен: 0.94, это говорит о том, что зависимость положительна и стремится к максимальному значению 1.\n",
    "\n",
    "Рассчитаем коэффициэнт этой зависимости. Для этого воспользуемся методом describe()"
   ]
  },
  {
   "cell_type": "code",
   "execution_count": 91,
   "metadata": {},
   "outputs": [
    {
     "data": {
      "text/html": [
       "<div>\n",
       "<style scoped>\n",
       "    .dataframe tbody tr th:only-of-type {\n",
       "        vertical-align: middle;\n",
       "    }\n",
       "\n",
       "    .dataframe tbody tr th {\n",
       "        vertical-align: top;\n",
       "    }\n",
       "\n",
       "    .dataframe thead th {\n",
       "        text-align: right;\n",
       "    }\n",
       "</style>\n",
       "<table border=\"1\" class=\"dataframe\">\n",
       "  <thead>\n",
       "    <tr style=\"text-align: right;\">\n",
       "      <th></th>\n",
       "      <th>total_area</th>\n",
       "      <th>living_area</th>\n",
       "    </tr>\n",
       "  </thead>\n",
       "  <tbody>\n",
       "    <tr>\n",
       "      <td>count</td>\n",
       "      <td>21727.000000</td>\n",
       "      <td>21727.000000</td>\n",
       "    </tr>\n",
       "    <tr>\n",
       "      <td>mean</td>\n",
       "      <td>60.076000</td>\n",
       "      <td>34.465847</td>\n",
       "    </tr>\n",
       "    <tr>\n",
       "      <td>std</td>\n",
       "      <td>34.695686</td>\n",
       "      <td>22.043705</td>\n",
       "    </tr>\n",
       "    <tr>\n",
       "      <td>min</td>\n",
       "      <td>12.000000</td>\n",
       "      <td>2.000000</td>\n",
       "    </tr>\n",
       "    <tr>\n",
       "      <td>25%</td>\n",
       "      <td>40.000000</td>\n",
       "      <td>18.600000</td>\n",
       "    </tr>\n",
       "    <tr>\n",
       "      <td>50%</td>\n",
       "      <td>52.000000</td>\n",
       "      <td>30.000000</td>\n",
       "    </tr>\n",
       "    <tr>\n",
       "      <td>75%</td>\n",
       "      <td>69.500000</td>\n",
       "      <td>42.300000</td>\n",
       "    </tr>\n",
       "    <tr>\n",
       "      <td>max</td>\n",
       "      <td>900.000000</td>\n",
       "      <td>409.700000</td>\n",
       "    </tr>\n",
       "  </tbody>\n",
       "</table>\n",
       "</div>"
      ],
      "text/plain": [
       "         total_area   living_area\n",
       "count  21727.000000  21727.000000\n",
       "mean      60.076000     34.465847\n",
       "std       34.695686     22.043705\n",
       "min       12.000000      2.000000\n",
       "25%       40.000000     18.600000\n",
       "50%       52.000000     30.000000\n",
       "75%       69.500000     42.300000\n",
       "max      900.000000    409.700000"
      ]
     },
     "execution_count": 91,
     "metadata": {},
     "output_type": "execute_result"
    }
   ],
   "source": [
    "data.query('living_area.notnull()&living_area>0')[['total_area','living_area']].describe()"
   ]
  },
  {
   "cell_type": "markdown",
   "metadata": {},
   "source": [
    "Расчитаем этот коэффициэнт, как отношение медианное значение kitchen_area/медианное значение total_area. \n",
    "30/52*100% = 57,7% занимает жилая площадь от общей площади помещения.\n",
    "Зная этот коэффициэнт, заполним пропущенные значения."
   ]
  },
  {
   "cell_type": "code",
   "execution_count": 92,
   "metadata": {},
   "outputs": [],
   "source": [
    "data.loc[data['living_area'].isnull(), 'living_area'] = data.loc[data['living_area'].isnull(), 'total_area']*0.577"
   ]
  },
  {
   "cell_type": "code",
   "execution_count": 93,
   "metadata": {},
   "outputs": [
    {
     "data": {
      "text/plain": [
       "total_images                0\n",
       "last_price                  0\n",
       "total_area                  0\n",
       "first_day_exposition        0\n",
       "rooms                       0\n",
       "ceiling_height              1\n",
       "floors_total                0\n",
       "living_area                 0\n",
       "floor                       0\n",
       "is_apartment            20814\n",
       "studio                      0\n",
       "open_plan                   0\n",
       "kitchen_area                0\n",
       "balcony                     0\n",
       "locality_name               0\n",
       "airports_nearest         5430\n",
       "cityCenters_nearest         0\n",
       "parks_around3000           56\n",
       "parks_nearest              56\n",
       "ponds_around3000           59\n",
       "ponds_nearest              59\n",
       "days_exposition          3160\n",
       "dtype: int64"
      ]
     },
     "execution_count": 93,
     "metadata": {},
     "output_type": "execute_result"
    }
   ],
   "source": [
    "data.isnull().sum()"
   ]
  },
  {
   "cell_type": "markdown",
   "metadata": {},
   "source": [
    "### 2.3.12 Заполним пропущенные значения столбца days_exposition значением 0. Пропущенное значение в столбце days_exposition,говорит о том, что помещение еще не продалось. Но сначала проверим есть \"0\" в данном столбце."
   ]
  },
  {
   "cell_type": "code",
   "execution_count": 94,
   "metadata": {},
   "outputs": [
    {
     "data": {
      "text/html": [
       "<div>\n",
       "<style scoped>\n",
       "    .dataframe tbody tr th:only-of-type {\n",
       "        vertical-align: middle;\n",
       "    }\n",
       "\n",
       "    .dataframe tbody tr th {\n",
       "        vertical-align: top;\n",
       "    }\n",
       "\n",
       "    .dataframe thead th {\n",
       "        text-align: right;\n",
       "    }\n",
       "</style>\n",
       "<table border=\"1\" class=\"dataframe\">\n",
       "  <thead>\n",
       "    <tr style=\"text-align: right;\">\n",
       "      <th></th>\n",
       "      <th>total_images</th>\n",
       "      <th>last_price</th>\n",
       "      <th>total_area</th>\n",
       "      <th>first_day_exposition</th>\n",
       "      <th>rooms</th>\n",
       "      <th>ceiling_height</th>\n",
       "      <th>floors_total</th>\n",
       "      <th>living_area</th>\n",
       "      <th>floor</th>\n",
       "      <th>is_apartment</th>\n",
       "      <th>...</th>\n",
       "      <th>kitchen_area</th>\n",
       "      <th>balcony</th>\n",
       "      <th>locality_name</th>\n",
       "      <th>airports_nearest</th>\n",
       "      <th>cityCenters_nearest</th>\n",
       "      <th>parks_around3000</th>\n",
       "      <th>parks_nearest</th>\n",
       "      <th>ponds_around3000</th>\n",
       "      <th>ponds_nearest</th>\n",
       "      <th>days_exposition</th>\n",
       "    </tr>\n",
       "  </thead>\n",
       "  <tbody>\n",
       "  </tbody>\n",
       "</table>\n",
       "<p>0 rows × 22 columns</p>\n",
       "</div>"
      ],
      "text/plain": [
       "Empty DataFrame\n",
       "Columns: [total_images, last_price, total_area, first_day_exposition, rooms, ceiling_height, floors_total, living_area, floor, is_apartment, studio, open_plan, kitchen_area, balcony, locality_name, airports_nearest, cityCenters_nearest, parks_around3000, parks_nearest, ponds_around3000, ponds_nearest, days_exposition]\n",
       "Index: []\n",
       "\n",
       "[0 rows x 22 columns]"
      ]
     },
     "execution_count": 94,
     "metadata": {},
     "output_type": "execute_result"
    }
   ],
   "source": [
    "data.query('days_exposition==0')"
   ]
  },
  {
   "cell_type": "markdown",
   "metadata": {},
   "source": [
    "В столбце days_exposition значений 0 не найдено, заполним \"0\" пропущенные значения."
   ]
  },
  {
   "cell_type": "code",
   "execution_count": 95,
   "metadata": {},
   "outputs": [],
   "source": [
    "data['days_exposition']=data['days_exposition'].fillna(0)"
   ]
  },
  {
   "cell_type": "markdown",
   "metadata": {},
   "source": [
    "Подсчитаем оставшиеся пропущенные значения."
   ]
  },
  {
   "cell_type": "code",
   "execution_count": 96,
   "metadata": {},
   "outputs": [
    {
     "name": "stdout",
     "output_type": "stream",
     "text": [
      "<class 'pandas.core.frame.DataFrame'>\n",
      "RangeIndex: 23583 entries, 0 to 23582\n",
      "Data columns (total 22 columns):\n",
      "total_images            23583 non-null int64\n",
      "last_price              23583 non-null float64\n",
      "total_area              23583 non-null float64\n",
      "first_day_exposition    23583 non-null object\n",
      "rooms                   23583 non-null int64\n",
      "ceiling_height          23582 non-null float64\n",
      "floors_total            23583 non-null float64\n",
      "living_area             23583 non-null float64\n",
      "floor                   23583 non-null int64\n",
      "is_apartment            2769 non-null object\n",
      "studio                  23583 non-null bool\n",
      "open_plan               23583 non-null bool\n",
      "kitchen_area            23583 non-null float64\n",
      "balcony                 23583 non-null float64\n",
      "locality_name           23583 non-null object\n",
      "airports_nearest        18153 non-null float64\n",
      "cityCenters_nearest     23583 non-null float64\n",
      "parks_around3000        23527 non-null float64\n",
      "parks_nearest           23527 non-null float64\n",
      "ponds_around3000        23524 non-null float64\n",
      "ponds_nearest           23524 non-null float64\n",
      "days_exposition         23583 non-null float64\n",
      "dtypes: bool(2), float64(14), int64(3), object(3)\n",
      "memory usage: 3.6+ MB\n"
     ]
    }
   ],
   "source": [
    "data.info()"
   ]
  },
  {
   "cell_type": "markdown",
   "metadata": {},
   "source": [
    "Проверим, в одних ли строках и тех же строках пропущены значения parks_around3000 и ponds_around3000"
   ]
  },
  {
   "cell_type": "code",
   "execution_count": 97,
   "metadata": {},
   "outputs": [
    {
     "data": {
      "text/plain": [
       "array([nan])"
      ]
     },
     "execution_count": 97,
     "metadata": {},
     "output_type": "execute_result"
    }
   ],
   "source": [
    "data.query('parks_around3000.isnull()')['ponds_around3000'].unique()"
   ]
  },
  {
   "cell_type": "markdown",
   "metadata": {},
   "source": [
    "Это одни и те же строки. Поверим, что находится в строке с пропущенным значением 'ceiling_height'."
   ]
  },
  {
   "cell_type": "code",
   "execution_count": 98,
   "metadata": {},
   "outputs": [
    {
     "data": {
      "text/html": [
       "<div>\n",
       "<style scoped>\n",
       "    .dataframe tbody tr th:only-of-type {\n",
       "        vertical-align: middle;\n",
       "    }\n",
       "\n",
       "    .dataframe tbody tr th {\n",
       "        vertical-align: top;\n",
       "    }\n",
       "\n",
       "    .dataframe thead th {\n",
       "        text-align: right;\n",
       "    }\n",
       "</style>\n",
       "<table border=\"1\" class=\"dataframe\">\n",
       "  <thead>\n",
       "    <tr style=\"text-align: right;\">\n",
       "      <th></th>\n",
       "      <th>total_images</th>\n",
       "      <th>last_price</th>\n",
       "      <th>total_area</th>\n",
       "      <th>first_day_exposition</th>\n",
       "      <th>rooms</th>\n",
       "      <th>ceiling_height</th>\n",
       "      <th>floors_total</th>\n",
       "      <th>living_area</th>\n",
       "      <th>floor</th>\n",
       "      <th>is_apartment</th>\n",
       "      <th>...</th>\n",
       "      <th>kitchen_area</th>\n",
       "      <th>balcony</th>\n",
       "      <th>locality_name</th>\n",
       "      <th>airports_nearest</th>\n",
       "      <th>cityCenters_nearest</th>\n",
       "      <th>parks_around3000</th>\n",
       "      <th>parks_nearest</th>\n",
       "      <th>ponds_around3000</th>\n",
       "      <th>ponds_nearest</th>\n",
       "      <th>days_exposition</th>\n",
       "    </tr>\n",
       "  </thead>\n",
       "  <tbody>\n",
       "    <tr>\n",
       "      <td>11515</td>\n",
       "      <td>9</td>\n",
       "      <td>9900000.0</td>\n",
       "      <td>101.0</td>\n",
       "      <td>2016-04-28T00:00:00</td>\n",
       "      <td>3</td>\n",
       "      <td>NaN</td>\n",
       "      <td>33.0</td>\n",
       "      <td>53.0</td>\n",
       "      <td>32</td>\n",
       "      <td>False</td>\n",
       "      <td>...</td>\n",
       "      <td>21.0</td>\n",
       "      <td>0.0</td>\n",
       "      <td>САНКТ-ПЕТЕРБУРГ</td>\n",
       "      <td>18732.0</td>\n",
       "      <td>20444.0</td>\n",
       "      <td>0.0</td>\n",
       "      <td>0.0</td>\n",
       "      <td>3.0</td>\n",
       "      <td>80.0</td>\n",
       "      <td>53.0</td>\n",
       "    </tr>\n",
       "  </tbody>\n",
       "</table>\n",
       "<p>1 rows × 22 columns</p>\n",
       "</div>"
      ],
      "text/plain": [
       "       total_images  last_price  total_area first_day_exposition  rooms  \\\n",
       "11515             9   9900000.0       101.0  2016-04-28T00:00:00      3   \n",
       "\n",
       "       ceiling_height  floors_total  living_area  floor is_apartment  ...  \\\n",
       "11515             NaN          33.0         53.0     32        False  ...   \n",
       "\n",
       "       kitchen_area  balcony    locality_name  airports_nearest  \\\n",
       "11515          21.0      0.0  САНКТ-ПЕТЕРБУРГ           18732.0   \n",
       "\n",
       "      cityCenters_nearest  parks_around3000  parks_nearest  ponds_around3000  \\\n",
       "11515             20444.0               0.0            0.0               3.0   \n",
       "\n",
       "       ponds_nearest  days_exposition  \n",
       "11515           80.0             53.0  \n",
       "\n",
       "[1 rows x 22 columns]"
      ]
     },
     "execution_count": 98,
     "metadata": {},
     "output_type": "execute_result"
    }
   ],
   "source": [
    "data.query('ceiling_height.isnull()')"
   ]
  },
  {
   "cell_type": "markdown",
   "metadata": {},
   "source": [
    "Т.е. у нас осталось 60 строк для которых мы не можем определить значения, удалим их так это 0,25% от оставшихся строк."
   ]
  },
  {
   "cell_type": "code",
   "execution_count": 99,
   "metadata": {},
   "outputs": [
    {
     "data": {
      "text/html": [
       "<div>\n",
       "<style scoped>\n",
       "    .dataframe tbody tr th:only-of-type {\n",
       "        vertical-align: middle;\n",
       "    }\n",
       "\n",
       "    .dataframe tbody tr th {\n",
       "        vertical-align: top;\n",
       "    }\n",
       "\n",
       "    .dataframe thead th {\n",
       "        text-align: right;\n",
       "    }\n",
       "</style>\n",
       "<table border=\"1\" class=\"dataframe\">\n",
       "  <thead>\n",
       "    <tr style=\"text-align: right;\">\n",
       "      <th></th>\n",
       "      <th>total_images</th>\n",
       "      <th>last_price</th>\n",
       "      <th>total_area</th>\n",
       "      <th>first_day_exposition</th>\n",
       "      <th>rooms</th>\n",
       "      <th>ceiling_height</th>\n",
       "      <th>floors_total</th>\n",
       "      <th>living_area</th>\n",
       "      <th>floor</th>\n",
       "      <th>is_apartment</th>\n",
       "      <th>...</th>\n",
       "      <th>kitchen_area</th>\n",
       "      <th>balcony</th>\n",
       "      <th>locality_name</th>\n",
       "      <th>airports_nearest</th>\n",
       "      <th>cityCenters_nearest</th>\n",
       "      <th>parks_around3000</th>\n",
       "      <th>parks_nearest</th>\n",
       "      <th>ponds_around3000</th>\n",
       "      <th>ponds_nearest</th>\n",
       "      <th>days_exposition</th>\n",
       "    </tr>\n",
       "  </thead>\n",
       "  <tbody>\n",
       "    <tr>\n",
       "      <td>23518</td>\n",
       "      <td>9</td>\n",
       "      <td>9700000.0</td>\n",
       "      <td>133.81</td>\n",
       "      <td>2017-03-21T00:00:00</td>\n",
       "      <td>3</td>\n",
       "      <td>3.700000</td>\n",
       "      <td>5.0</td>\n",
       "      <td>73.30000</td>\n",
       "      <td>3</td>\n",
       "      <td>NaN</td>\n",
       "      <td>...</td>\n",
       "      <td>13.8300</td>\n",
       "      <td>-1.0</td>\n",
       "      <td>САНКТ-ПЕТЕРБУРГ</td>\n",
       "      <td>24665.0</td>\n",
       "      <td>4232.0</td>\n",
       "      <td>1.0</td>\n",
       "      <td>796.0</td>\n",
       "      <td>3.0</td>\n",
       "      <td>381.0</td>\n",
       "      <td>0.0</td>\n",
       "    </tr>\n",
       "    <tr>\n",
       "      <td>23519</td>\n",
       "      <td>14</td>\n",
       "      <td>3100000.0</td>\n",
       "      <td>59.00</td>\n",
       "      <td>2018-01-15T00:00:00</td>\n",
       "      <td>3</td>\n",
       "      <td>2.710354</td>\n",
       "      <td>5.0</td>\n",
       "      <td>38.00000</td>\n",
       "      <td>4</td>\n",
       "      <td>NaN</td>\n",
       "      <td>...</td>\n",
       "      <td>8.5000</td>\n",
       "      <td>-1.0</td>\n",
       "      <td>ТОСНО</td>\n",
       "      <td>NaN</td>\n",
       "      <td>0.0</td>\n",
       "      <td>0.0</td>\n",
       "      <td>0.0</td>\n",
       "      <td>0.0</td>\n",
       "      <td>0.0</td>\n",
       "      <td>45.0</td>\n",
       "    </tr>\n",
       "    <tr>\n",
       "      <td>23520</td>\n",
       "      <td>18</td>\n",
       "      <td>2500000.0</td>\n",
       "      <td>56.70</td>\n",
       "      <td>2018-02-11T00:00:00</td>\n",
       "      <td>2</td>\n",
       "      <td>2.846010</td>\n",
       "      <td>3.0</td>\n",
       "      <td>29.70000</td>\n",
       "      <td>1</td>\n",
       "      <td>NaN</td>\n",
       "      <td>...</td>\n",
       "      <td>9.8658</td>\n",
       "      <td>-1.0</td>\n",
       "      <td>СЕЛО РОЖДЕСТВЕНО</td>\n",
       "      <td>NaN</td>\n",
       "      <td>0.0</td>\n",
       "      <td>0.0</td>\n",
       "      <td>0.0</td>\n",
       "      <td>0.0</td>\n",
       "      <td>0.0</td>\n",
       "      <td>0.0</td>\n",
       "    </tr>\n",
       "    <tr>\n",
       "      <td>23521</td>\n",
       "      <td>13</td>\n",
       "      <td>11475000.0</td>\n",
       "      <td>76.75</td>\n",
       "      <td>2017-03-28T00:00:00</td>\n",
       "      <td>2</td>\n",
       "      <td>3.000000</td>\n",
       "      <td>17.0</td>\n",
       "      <td>44.28475</td>\n",
       "      <td>12</td>\n",
       "      <td>NaN</td>\n",
       "      <td>...</td>\n",
       "      <td>23.3000</td>\n",
       "      <td>2.0</td>\n",
       "      <td>САНКТ-ПЕТЕРБУРГ</td>\n",
       "      <td>39140.0</td>\n",
       "      <td>10364.0</td>\n",
       "      <td>2.0</td>\n",
       "      <td>173.0</td>\n",
       "      <td>3.0</td>\n",
       "      <td>196.0</td>\n",
       "      <td>602.0</td>\n",
       "    </tr>\n",
       "    <tr>\n",
       "      <td>23522</td>\n",
       "      <td>4</td>\n",
       "      <td>1350000.0</td>\n",
       "      <td>32.30</td>\n",
       "      <td>2017-07-21T00:00:00</td>\n",
       "      <td>1</td>\n",
       "      <td>2.500000</td>\n",
       "      <td>5.0</td>\n",
       "      <td>12.30000</td>\n",
       "      <td>1</td>\n",
       "      <td>NaN</td>\n",
       "      <td>...</td>\n",
       "      <td>9.0000</td>\n",
       "      <td>-1.0</td>\n",
       "      <td>ПОСЕЛОК НОВЫЙ УЧХОЗ</td>\n",
       "      <td>NaN</td>\n",
       "      <td>0.0</td>\n",
       "      <td>0.0</td>\n",
       "      <td>0.0</td>\n",
       "      <td>0.0</td>\n",
       "      <td>0.0</td>\n",
       "      <td>0.0</td>\n",
       "    </tr>\n",
       "  </tbody>\n",
       "</table>\n",
       "<p>5 rows × 22 columns</p>\n",
       "</div>"
      ],
      "text/plain": [
       "       total_images  last_price  total_area first_day_exposition  rooms  \\\n",
       "23518             9   9700000.0      133.81  2017-03-21T00:00:00      3   \n",
       "23519            14   3100000.0       59.00  2018-01-15T00:00:00      3   \n",
       "23520            18   2500000.0       56.70  2018-02-11T00:00:00      2   \n",
       "23521            13  11475000.0       76.75  2017-03-28T00:00:00      2   \n",
       "23522             4   1350000.0       32.30  2017-07-21T00:00:00      1   \n",
       "\n",
       "       ceiling_height  floors_total  living_area  floor is_apartment  ...  \\\n",
       "23518        3.700000           5.0     73.30000      3          NaN  ...   \n",
       "23519        2.710354           5.0     38.00000      4          NaN  ...   \n",
       "23520        2.846010           3.0     29.70000      1          NaN  ...   \n",
       "23521        3.000000          17.0     44.28475     12          NaN  ...   \n",
       "23522        2.500000           5.0     12.30000      1          NaN  ...   \n",
       "\n",
       "       kitchen_area  balcony        locality_name  airports_nearest  \\\n",
       "23518       13.8300     -1.0      САНКТ-ПЕТЕРБУРГ           24665.0   \n",
       "23519        8.5000     -1.0                ТОСНО               NaN   \n",
       "23520        9.8658     -1.0     СЕЛО РОЖДЕСТВЕНО               NaN   \n",
       "23521       23.3000      2.0      САНКТ-ПЕТЕРБУРГ           39140.0   \n",
       "23522        9.0000     -1.0  ПОСЕЛОК НОВЫЙ УЧХОЗ               NaN   \n",
       "\n",
       "      cityCenters_nearest  parks_around3000  parks_nearest  ponds_around3000  \\\n",
       "23518              4232.0               1.0          796.0               3.0   \n",
       "23519                 0.0               0.0            0.0               0.0   \n",
       "23520                 0.0               0.0            0.0               0.0   \n",
       "23521             10364.0               2.0          173.0               3.0   \n",
       "23522                 0.0               0.0            0.0               0.0   \n",
       "\n",
       "       ponds_nearest  days_exposition  \n",
       "23518          381.0              0.0  \n",
       "23519            0.0             45.0  \n",
       "23520            0.0              0.0  \n",
       "23521          196.0            602.0  \n",
       "23522            0.0              0.0  \n",
       "\n",
       "[5 rows x 22 columns]"
      ]
     },
     "execution_count": 99,
     "metadata": {},
     "output_type": "execute_result"
    }
   ],
   "source": [
    "data.dropna(subset = ['ponds_around3000','ceiling_height'],inplace = True)\n",
    "# обновляем индексы у таблицы\n",
    "data=data.reset_index()\n",
    "# столбец со старыми индексами удаляем\n",
    "del data['index']\n",
    "# выведем несколько последних строк\n",
    "data.tail()"
   ]
  },
  {
   "cell_type": "markdown",
   "metadata": {},
   "source": [
    "Замена пустых значений завершена,так где это было возможно мы заполнили значения."
   ]
  },
  {
   "cell_type": "markdown",
   "metadata": {},
   "source": [
    "### 2.4 Столбец дата публикации 'first_day_exposition' имеет формат данных - дата со временем. Время не является информативным, т.к. судя по названию, столбец должен отображать информацию о дате, к тому же вместо значений времени указаны \"0\". Необходимо привести данные к сокращенному виду, оставить только дату."
   ]
  },
  {
   "cell_type": "code",
   "execution_count": 100,
   "metadata": {},
   "outputs": [],
   "source": [
    "# используем метод to_datetime\n",
    "data['first_day_exposition'] = pd.to_datetime(data['first_day_exposition'], format='%Y-%m-%d %H:%M')"
   ]
  },
  {
   "cell_type": "markdown",
   "metadata": {},
   "source": [
    "### 2.5 Замена типа данных с помощью метода astype().\n",
    "Следующие столбцы имеют тип данных с плавающей точкой float64 вместо целочисленного int64.\n",
    "\n",
    "floors_total — всего этажей в доме,\n",
    "balcony — число балконов,\n",
    "parks_around3000 — число парков в радиусе 3 км,\n",
    "ponds_around3000 — число водоёмов в радиусе 3 км,\n",
    "days_exposition — сколько дней было размещено объявление (от публикации до снятия)"
   ]
  },
  {
   "cell_type": "code",
   "execution_count": 101,
   "metadata": {},
   "outputs": [
    {
     "data": {
      "text/html": [
       "<div>\n",
       "<style scoped>\n",
       "    .dataframe tbody tr th:only-of-type {\n",
       "        vertical-align: middle;\n",
       "    }\n",
       "\n",
       "    .dataframe tbody tr th {\n",
       "        vertical-align: top;\n",
       "    }\n",
       "\n",
       "    .dataframe thead th {\n",
       "        text-align: right;\n",
       "    }\n",
       "</style>\n",
       "<table border=\"1\" class=\"dataframe\">\n",
       "  <thead>\n",
       "    <tr style=\"text-align: right;\">\n",
       "      <th></th>\n",
       "      <th>total_images</th>\n",
       "      <th>last_price</th>\n",
       "      <th>total_area</th>\n",
       "      <th>first_day_exposition</th>\n",
       "      <th>rooms</th>\n",
       "      <th>ceiling_height</th>\n",
       "      <th>floors_total</th>\n",
       "      <th>living_area</th>\n",
       "      <th>floor</th>\n",
       "      <th>is_apartment</th>\n",
       "      <th>...</th>\n",
       "      <th>kitchen_area</th>\n",
       "      <th>balcony</th>\n",
       "      <th>locality_name</th>\n",
       "      <th>airports_nearest</th>\n",
       "      <th>cityCenters_nearest</th>\n",
       "      <th>parks_around3000</th>\n",
       "      <th>parks_nearest</th>\n",
       "      <th>ponds_around3000</th>\n",
       "      <th>ponds_nearest</th>\n",
       "      <th>days_exposition</th>\n",
       "    </tr>\n",
       "  </thead>\n",
       "  <tbody>\n",
       "    <tr>\n",
       "      <td>23518</td>\n",
       "      <td>9</td>\n",
       "      <td>9700000</td>\n",
       "      <td>133.81</td>\n",
       "      <td>2017-03-21</td>\n",
       "      <td>3</td>\n",
       "      <td>3.700000</td>\n",
       "      <td>5</td>\n",
       "      <td>73.30000</td>\n",
       "      <td>3</td>\n",
       "      <td>NaN</td>\n",
       "      <td>...</td>\n",
       "      <td>13.8300</td>\n",
       "      <td>-1</td>\n",
       "      <td>САНКТ-ПЕТЕРБУРГ</td>\n",
       "      <td>24665.0</td>\n",
       "      <td>4232</td>\n",
       "      <td>1</td>\n",
       "      <td>796</td>\n",
       "      <td>3</td>\n",
       "      <td>381</td>\n",
       "      <td>0</td>\n",
       "    </tr>\n",
       "    <tr>\n",
       "      <td>23519</td>\n",
       "      <td>14</td>\n",
       "      <td>3100000</td>\n",
       "      <td>59.00</td>\n",
       "      <td>2018-01-15</td>\n",
       "      <td>3</td>\n",
       "      <td>2.710354</td>\n",
       "      <td>5</td>\n",
       "      <td>38.00000</td>\n",
       "      <td>4</td>\n",
       "      <td>NaN</td>\n",
       "      <td>...</td>\n",
       "      <td>8.5000</td>\n",
       "      <td>-1</td>\n",
       "      <td>ТОСНО</td>\n",
       "      <td>NaN</td>\n",
       "      <td>0</td>\n",
       "      <td>0</td>\n",
       "      <td>0</td>\n",
       "      <td>0</td>\n",
       "      <td>0</td>\n",
       "      <td>45</td>\n",
       "    </tr>\n",
       "    <tr>\n",
       "      <td>23520</td>\n",
       "      <td>18</td>\n",
       "      <td>2500000</td>\n",
       "      <td>56.70</td>\n",
       "      <td>2018-02-11</td>\n",
       "      <td>2</td>\n",
       "      <td>2.846010</td>\n",
       "      <td>3</td>\n",
       "      <td>29.70000</td>\n",
       "      <td>1</td>\n",
       "      <td>NaN</td>\n",
       "      <td>...</td>\n",
       "      <td>9.8658</td>\n",
       "      <td>-1</td>\n",
       "      <td>СЕЛО РОЖДЕСТВЕНО</td>\n",
       "      <td>NaN</td>\n",
       "      <td>0</td>\n",
       "      <td>0</td>\n",
       "      <td>0</td>\n",
       "      <td>0</td>\n",
       "      <td>0</td>\n",
       "      <td>0</td>\n",
       "    </tr>\n",
       "    <tr>\n",
       "      <td>23521</td>\n",
       "      <td>13</td>\n",
       "      <td>11475000</td>\n",
       "      <td>76.75</td>\n",
       "      <td>2017-03-28</td>\n",
       "      <td>2</td>\n",
       "      <td>3.000000</td>\n",
       "      <td>17</td>\n",
       "      <td>44.28475</td>\n",
       "      <td>12</td>\n",
       "      <td>NaN</td>\n",
       "      <td>...</td>\n",
       "      <td>23.3000</td>\n",
       "      <td>2</td>\n",
       "      <td>САНКТ-ПЕТЕРБУРГ</td>\n",
       "      <td>39140.0</td>\n",
       "      <td>10364</td>\n",
       "      <td>2</td>\n",
       "      <td>173</td>\n",
       "      <td>3</td>\n",
       "      <td>196</td>\n",
       "      <td>602</td>\n",
       "    </tr>\n",
       "    <tr>\n",
       "      <td>23522</td>\n",
       "      <td>4</td>\n",
       "      <td>1350000</td>\n",
       "      <td>32.30</td>\n",
       "      <td>2017-07-21</td>\n",
       "      <td>1</td>\n",
       "      <td>2.500000</td>\n",
       "      <td>5</td>\n",
       "      <td>12.30000</td>\n",
       "      <td>1</td>\n",
       "      <td>NaN</td>\n",
       "      <td>...</td>\n",
       "      <td>9.0000</td>\n",
       "      <td>-1</td>\n",
       "      <td>ПОСЕЛОК НОВЫЙ УЧХОЗ</td>\n",
       "      <td>NaN</td>\n",
       "      <td>0</td>\n",
       "      <td>0</td>\n",
       "      <td>0</td>\n",
       "      <td>0</td>\n",
       "      <td>0</td>\n",
       "      <td>0</td>\n",
       "    </tr>\n",
       "  </tbody>\n",
       "</table>\n",
       "<p>5 rows × 22 columns</p>\n",
       "</div>"
      ],
      "text/plain": [
       "       total_images  last_price  total_area first_day_exposition  rooms  \\\n",
       "23518             9     9700000      133.81           2017-03-21      3   \n",
       "23519            14     3100000       59.00           2018-01-15      3   \n",
       "23520            18     2500000       56.70           2018-02-11      2   \n",
       "23521            13    11475000       76.75           2017-03-28      2   \n",
       "23522             4     1350000       32.30           2017-07-21      1   \n",
       "\n",
       "       ceiling_height  floors_total  living_area  floor is_apartment  ...  \\\n",
       "23518        3.700000             5     73.30000      3          NaN  ...   \n",
       "23519        2.710354             5     38.00000      4          NaN  ...   \n",
       "23520        2.846010             3     29.70000      1          NaN  ...   \n",
       "23521        3.000000            17     44.28475     12          NaN  ...   \n",
       "23522        2.500000             5     12.30000      1          NaN  ...   \n",
       "\n",
       "       kitchen_area  balcony        locality_name  airports_nearest  \\\n",
       "23518       13.8300       -1      САНКТ-ПЕТЕРБУРГ           24665.0   \n",
       "23519        8.5000       -1                ТОСНО               NaN   \n",
       "23520        9.8658       -1     СЕЛО РОЖДЕСТВЕНО               NaN   \n",
       "23521       23.3000        2      САНКТ-ПЕТЕРБУРГ           39140.0   \n",
       "23522        9.0000       -1  ПОСЕЛОК НОВЫЙ УЧХОЗ               NaN   \n",
       "\n",
       "      cityCenters_nearest  parks_around3000  parks_nearest  ponds_around3000  \\\n",
       "23518                4232                 1            796                 3   \n",
       "23519                   0                 0              0                 0   \n",
       "23520                   0                 0              0                 0   \n",
       "23521               10364                 2            173                 3   \n",
       "23522                   0                 0              0                 0   \n",
       "\n",
       "       ponds_nearest  days_exposition  \n",
       "23518            381                0  \n",
       "23519              0               45  \n",
       "23520              0                0  \n",
       "23521            196              602  \n",
       "23522              0                0  \n",
       "\n",
       "[5 rows x 22 columns]"
      ]
     },
     "execution_count": 101,
     "metadata": {},
     "output_type": "execute_result"
    }
   ],
   "source": [
    "data['floors_total']=data['floors_total'].astype('int')\n",
    "data['balcony']=data['balcony'].astype('int')\n",
    "data['parks_around3000']=data['parks_around3000'].astype('int')\n",
    "data['ponds_around3000']=data['ponds_around3000'].astype('int')\n",
    "data['days_exposition']=data['days_exposition'].astype('int')\n",
    "data['parks_nearest']=data['parks_nearest'].astype('int')\n",
    "data['ponds_nearest']=data['ponds_nearest'].astype('int')\n",
    "data['cityCenters_nearest']=data['cityCenters_nearest'].astype('int')\n",
    "data['last_price']=data['last_price'].astype('int')\n",
    "data.tail()"
   ]
  },
  {
   "cell_type": "markdown",
   "metadata": {},
   "source": [
    "### Вывод:"
   ]
  },
  {
   "cell_type": "markdown",
   "metadata": {},
   "source": [
    "Выгрузка предоставлена с большим количеством пропусков, много времени ушло на заполнение их.\n",
    "Необходимо сообщить об этом программистам Я.Недвижимости. Надо реализовать возможность поддтягивания данных о доме из кадастра. Вариант установки \"заглушек по полям\" для пользователей, упростит задачу для обработки пропусков и неверных значений. Например,  не дать возможности для ввода величин не придусмотреные данной категории дома(высота потолков, этажность, максимальная площадь и т.д.),при условии реализации подтягивания данных из кадастра.\n",
    "\n",
    "У меня нет подходящей гипотезы каким образом можно заполнить столбец 'is_apartment', поэтому пропуски менять не буду, возможно он нам не понадобится для дальнейшего анализа."
   ]
  },
  {
   "cell_type": "markdown",
   "metadata": {},
   "source": [
    "### Шаг 3. Посчитайте и добавьте в таблицу"
   ]
  },
  {
   "cell_type": "markdown",
   "metadata": {},
   "source": [
    "### 3.1 Добавим столбец цену квадратного метра, назовем его 'price_of_m2'"
   ]
  },
  {
   "cell_type": "code",
   "execution_count": 102,
   "metadata": {},
   "outputs": [
    {
     "data": {
      "text/html": [
       "<div>\n",
       "<style scoped>\n",
       "    .dataframe tbody tr th:only-of-type {\n",
       "        vertical-align: middle;\n",
       "    }\n",
       "\n",
       "    .dataframe tbody tr th {\n",
       "        vertical-align: top;\n",
       "    }\n",
       "\n",
       "    .dataframe thead th {\n",
       "        text-align: right;\n",
       "    }\n",
       "</style>\n",
       "<table border=\"1\" class=\"dataframe\">\n",
       "  <thead>\n",
       "    <tr style=\"text-align: right;\">\n",
       "      <th></th>\n",
       "      <th>total_images</th>\n",
       "      <th>last_price</th>\n",
       "      <th>total_area</th>\n",
       "      <th>first_day_exposition</th>\n",
       "      <th>rooms</th>\n",
       "      <th>ceiling_height</th>\n",
       "      <th>floors_total</th>\n",
       "      <th>living_area</th>\n",
       "      <th>floor</th>\n",
       "      <th>is_apartment</th>\n",
       "      <th>...</th>\n",
       "      <th>balcony</th>\n",
       "      <th>locality_name</th>\n",
       "      <th>airports_nearest</th>\n",
       "      <th>cityCenters_nearest</th>\n",
       "      <th>parks_around3000</th>\n",
       "      <th>parks_nearest</th>\n",
       "      <th>ponds_around3000</th>\n",
       "      <th>ponds_nearest</th>\n",
       "      <th>days_exposition</th>\n",
       "      <th>price_of_m2</th>\n",
       "    </tr>\n",
       "  </thead>\n",
       "  <tbody>\n",
       "    <tr>\n",
       "      <td>23518</td>\n",
       "      <td>9</td>\n",
       "      <td>9700000</td>\n",
       "      <td>133.81</td>\n",
       "      <td>2017-03-21</td>\n",
       "      <td>3</td>\n",
       "      <td>3.700000</td>\n",
       "      <td>5</td>\n",
       "      <td>73.30000</td>\n",
       "      <td>3</td>\n",
       "      <td>NaN</td>\n",
       "      <td>...</td>\n",
       "      <td>-1</td>\n",
       "      <td>САНКТ-ПЕТЕРБУРГ</td>\n",
       "      <td>24665.0</td>\n",
       "      <td>4232</td>\n",
       "      <td>1</td>\n",
       "      <td>796</td>\n",
       "      <td>3</td>\n",
       "      <td>381</td>\n",
       "      <td>0</td>\n",
       "      <td>72491.0</td>\n",
       "    </tr>\n",
       "    <tr>\n",
       "      <td>23519</td>\n",
       "      <td>14</td>\n",
       "      <td>3100000</td>\n",
       "      <td>59.00</td>\n",
       "      <td>2018-01-15</td>\n",
       "      <td>3</td>\n",
       "      <td>2.710354</td>\n",
       "      <td>5</td>\n",
       "      <td>38.00000</td>\n",
       "      <td>4</td>\n",
       "      <td>NaN</td>\n",
       "      <td>...</td>\n",
       "      <td>-1</td>\n",
       "      <td>ТОСНО</td>\n",
       "      <td>NaN</td>\n",
       "      <td>0</td>\n",
       "      <td>0</td>\n",
       "      <td>0</td>\n",
       "      <td>0</td>\n",
       "      <td>0</td>\n",
       "      <td>45</td>\n",
       "      <td>52542.0</td>\n",
       "    </tr>\n",
       "    <tr>\n",
       "      <td>23520</td>\n",
       "      <td>18</td>\n",
       "      <td>2500000</td>\n",
       "      <td>56.70</td>\n",
       "      <td>2018-02-11</td>\n",
       "      <td>2</td>\n",
       "      <td>2.846010</td>\n",
       "      <td>3</td>\n",
       "      <td>29.70000</td>\n",
       "      <td>1</td>\n",
       "      <td>NaN</td>\n",
       "      <td>...</td>\n",
       "      <td>-1</td>\n",
       "      <td>СЕЛО РОЖДЕСТВЕНО</td>\n",
       "      <td>NaN</td>\n",
       "      <td>0</td>\n",
       "      <td>0</td>\n",
       "      <td>0</td>\n",
       "      <td>0</td>\n",
       "      <td>0</td>\n",
       "      <td>0</td>\n",
       "      <td>44092.0</td>\n",
       "    </tr>\n",
       "    <tr>\n",
       "      <td>23521</td>\n",
       "      <td>13</td>\n",
       "      <td>11475000</td>\n",
       "      <td>76.75</td>\n",
       "      <td>2017-03-28</td>\n",
       "      <td>2</td>\n",
       "      <td>3.000000</td>\n",
       "      <td>17</td>\n",
       "      <td>44.28475</td>\n",
       "      <td>12</td>\n",
       "      <td>NaN</td>\n",
       "      <td>...</td>\n",
       "      <td>2</td>\n",
       "      <td>САНКТ-ПЕТЕРБУРГ</td>\n",
       "      <td>39140.0</td>\n",
       "      <td>10364</td>\n",
       "      <td>2</td>\n",
       "      <td>173</td>\n",
       "      <td>3</td>\n",
       "      <td>196</td>\n",
       "      <td>602</td>\n",
       "      <td>149511.0</td>\n",
       "    </tr>\n",
       "    <tr>\n",
       "      <td>23522</td>\n",
       "      <td>4</td>\n",
       "      <td>1350000</td>\n",
       "      <td>32.30</td>\n",
       "      <td>2017-07-21</td>\n",
       "      <td>1</td>\n",
       "      <td>2.500000</td>\n",
       "      <td>5</td>\n",
       "      <td>12.30000</td>\n",
       "      <td>1</td>\n",
       "      <td>NaN</td>\n",
       "      <td>...</td>\n",
       "      <td>-1</td>\n",
       "      <td>ПОСЕЛОК НОВЫЙ УЧХОЗ</td>\n",
       "      <td>NaN</td>\n",
       "      <td>0</td>\n",
       "      <td>0</td>\n",
       "      <td>0</td>\n",
       "      <td>0</td>\n",
       "      <td>0</td>\n",
       "      <td>0</td>\n",
       "      <td>41796.0</td>\n",
       "    </tr>\n",
       "  </tbody>\n",
       "</table>\n",
       "<p>5 rows × 23 columns</p>\n",
       "</div>"
      ],
      "text/plain": [
       "       total_images  last_price  total_area first_day_exposition  rooms  \\\n",
       "23518             9     9700000      133.81           2017-03-21      3   \n",
       "23519            14     3100000       59.00           2018-01-15      3   \n",
       "23520            18     2500000       56.70           2018-02-11      2   \n",
       "23521            13    11475000       76.75           2017-03-28      2   \n",
       "23522             4     1350000       32.30           2017-07-21      1   \n",
       "\n",
       "       ceiling_height  floors_total  living_area  floor is_apartment  ...  \\\n",
       "23518        3.700000             5     73.30000      3          NaN  ...   \n",
       "23519        2.710354             5     38.00000      4          NaN  ...   \n",
       "23520        2.846010             3     29.70000      1          NaN  ...   \n",
       "23521        3.000000            17     44.28475     12          NaN  ...   \n",
       "23522        2.500000             5     12.30000      1          NaN  ...   \n",
       "\n",
       "       balcony        locality_name  airports_nearest  cityCenters_nearest  \\\n",
       "23518       -1      САНКТ-ПЕТЕРБУРГ           24665.0                 4232   \n",
       "23519       -1                ТОСНО               NaN                    0   \n",
       "23520       -1     СЕЛО РОЖДЕСТВЕНО               NaN                    0   \n",
       "23521        2      САНКТ-ПЕТЕРБУРГ           39140.0                10364   \n",
       "23522       -1  ПОСЕЛОК НОВЫЙ УЧХОЗ               NaN                    0   \n",
       "\n",
       "      parks_around3000  parks_nearest  ponds_around3000  ponds_nearest  \\\n",
       "23518                1            796                 3            381   \n",
       "23519                0              0                 0              0   \n",
       "23520                0              0                 0              0   \n",
       "23521                2            173                 3            196   \n",
       "23522                0              0                 0              0   \n",
       "\n",
       "       days_exposition  price_of_m2  \n",
       "23518                0      72491.0  \n",
       "23519               45      52542.0  \n",
       "23520                0      44092.0  \n",
       "23521              602     149511.0  \n",
       "23522                0      41796.0  \n",
       "\n",
       "[5 rows x 23 columns]"
      ]
     },
     "execution_count": 102,
     "metadata": {},
     "output_type": "execute_result"
    }
   ],
   "source": [
    "data['price_of_m2']=(data['last_price']/data['total_area']).round()\n",
    "data.tail()"
   ]
  },
  {
   "cell_type": "markdown",
   "metadata": {},
   "source": [
    "### 3.2 Добавляем столбцы день недели, месяц и год публикации объявления"
   ]
  },
  {
   "cell_type": "code",
   "execution_count": 103,
   "metadata": {},
   "outputs": [
    {
     "data": {
      "text/html": [
       "<div>\n",
       "<style scoped>\n",
       "    .dataframe tbody tr th:only-of-type {\n",
       "        vertical-align: middle;\n",
       "    }\n",
       "\n",
       "    .dataframe tbody tr th {\n",
       "        vertical-align: top;\n",
       "    }\n",
       "\n",
       "    .dataframe thead th {\n",
       "        text-align: right;\n",
       "    }\n",
       "</style>\n",
       "<table border=\"1\" class=\"dataframe\">\n",
       "  <thead>\n",
       "    <tr style=\"text-align: right;\">\n",
       "      <th></th>\n",
       "      <th>ponds_nearest</th>\n",
       "      <th>days_exposition</th>\n",
       "      <th>price_of_m2</th>\n",
       "      <th>weekday</th>\n",
       "      <th>year</th>\n",
       "      <th>month</th>\n",
       "    </tr>\n",
       "  </thead>\n",
       "  <tbody>\n",
       "    <tr>\n",
       "      <td>23518</td>\n",
       "      <td>381</td>\n",
       "      <td>0</td>\n",
       "      <td>72491.0</td>\n",
       "      <td>1</td>\n",
       "      <td>2017</td>\n",
       "      <td>3</td>\n",
       "    </tr>\n",
       "    <tr>\n",
       "      <td>23519</td>\n",
       "      <td>0</td>\n",
       "      <td>45</td>\n",
       "      <td>52542.0</td>\n",
       "      <td>0</td>\n",
       "      <td>2018</td>\n",
       "      <td>1</td>\n",
       "    </tr>\n",
       "    <tr>\n",
       "      <td>23520</td>\n",
       "      <td>0</td>\n",
       "      <td>0</td>\n",
       "      <td>44092.0</td>\n",
       "      <td>6</td>\n",
       "      <td>2018</td>\n",
       "      <td>2</td>\n",
       "    </tr>\n",
       "    <tr>\n",
       "      <td>23521</td>\n",
       "      <td>196</td>\n",
       "      <td>602</td>\n",
       "      <td>149511.0</td>\n",
       "      <td>1</td>\n",
       "      <td>2017</td>\n",
       "      <td>3</td>\n",
       "    </tr>\n",
       "    <tr>\n",
       "      <td>23522</td>\n",
       "      <td>0</td>\n",
       "      <td>0</td>\n",
       "      <td>41796.0</td>\n",
       "      <td>4</td>\n",
       "      <td>2017</td>\n",
       "      <td>7</td>\n",
       "    </tr>\n",
       "  </tbody>\n",
       "</table>\n",
       "</div>"
      ],
      "text/plain": [
       "       ponds_nearest  days_exposition  price_of_m2  weekday  year  month\n",
       "23518            381                0      72491.0        1  2017      3\n",
       "23519              0               45      52542.0        0  2018      1\n",
       "23520              0                0      44092.0        6  2018      2\n",
       "23521            196              602     149511.0        1  2017      3\n",
       "23522              0                0      41796.0        4  2017      7"
      ]
     },
     "execution_count": 103,
     "metadata": {},
     "output_type": "execute_result"
    }
   ],
   "source": [
    "# добавляем столбец с неделями\n",
    "data['weekday'] = data['first_day_exposition'].dt.weekday\n",
    "# добавляем столбец с годом\n",
    "data['year'] = data['first_day_exposition'].dt.year\n",
    "# добавляем столбец с месяцем\n",
    "data['month'] = data['first_day_exposition'].dt.month\n",
    "# проверяем добавление\n",
    "data[data.columns[20:]].tail()"
   ]
  },
  {
   "cell_type": "markdown",
   "metadata": {},
   "source": [
    "### 3.3 Добавим столбец  'floors_first_or_last' этажности квартиры, варианты — первый, последний, другой"
   ]
  },
  {
   "cell_type": "code",
   "execution_count": 104,
   "metadata": {},
   "outputs": [
    {
     "name": "stderr",
     "output_type": "stream",
     "text": [
      "/opt/conda/lib/python3.7/site-packages/ipykernel_launcher.py:8: SettingWithCopyWarning: \n",
      "A value is trying to be set on a copy of a slice from a DataFrame\n",
      "\n",
      "See the caveats in the documentation: http://pandas.pydata.org/pandas-docs/stable/user_guide/indexing.html#returning-a-view-versus-a-copy\n",
      "  \n",
      "/opt/conda/lib/python3.7/site-packages/pandas/core/indexing.py:205: SettingWithCopyWarning: \n",
      "A value is trying to be set on a copy of a slice from a DataFrame\n",
      "\n",
      "See the caveats in the documentation: http://pandas.pydata.org/pandas-docs/stable/user_guide/indexing.html#returning-a-view-versus-a-copy\n",
      "  self._setitem_with_indexer(indexer, value)\n",
      "/opt/conda/lib/python3.7/site-packages/ipykernel_launcher.py:4: SettingWithCopyWarning: \n",
      "A value is trying to be set on a copy of a slice from a DataFrame\n",
      "\n",
      "See the caveats in the documentation: http://pandas.pydata.org/pandas-docs/stable/user_guide/indexing.html#returning-a-view-versus-a-copy\n",
      "  after removing the cwd from sys.path.\n",
      "/opt/conda/lib/python3.7/site-packages/ipykernel_launcher.py:6: SettingWithCopyWarning: \n",
      "A value is trying to be set on a copy of a slice from a DataFrame\n",
      "\n",
      "See the caveats in the documentation: http://pandas.pydata.org/pandas-docs/stable/user_guide/indexing.html#returning-a-view-versus-a-copy\n",
      "  \n"
     ]
    },
    {
     "data": {
      "text/html": [
       "<div>\n",
       "<style scoped>\n",
       "    .dataframe tbody tr th:only-of-type {\n",
       "        vertical-align: middle;\n",
       "    }\n",
       "\n",
       "    .dataframe tbody tr th {\n",
       "        vertical-align: top;\n",
       "    }\n",
       "\n",
       "    .dataframe thead th {\n",
       "        text-align: right;\n",
       "    }\n",
       "</style>\n",
       "<table border=\"1\" class=\"dataframe\">\n",
       "  <thead>\n",
       "    <tr style=\"text-align: right;\">\n",
       "      <th></th>\n",
       "      <th>ponds_nearest</th>\n",
       "      <th>days_exposition</th>\n",
       "      <th>price_of_m2</th>\n",
       "      <th>weekday</th>\n",
       "      <th>year</th>\n",
       "      <th>month</th>\n",
       "      <th>floors_first_or_last</th>\n",
       "    </tr>\n",
       "  </thead>\n",
       "  <tbody>\n",
       "    <tr>\n",
       "      <td>23518</td>\n",
       "      <td>381</td>\n",
       "      <td>0</td>\n",
       "      <td>72491.0</td>\n",
       "      <td>1</td>\n",
       "      <td>2017</td>\n",
       "      <td>3</td>\n",
       "      <td>другой</td>\n",
       "    </tr>\n",
       "    <tr>\n",
       "      <td>23519</td>\n",
       "      <td>0</td>\n",
       "      <td>45</td>\n",
       "      <td>52542.0</td>\n",
       "      <td>0</td>\n",
       "      <td>2018</td>\n",
       "      <td>1</td>\n",
       "      <td>другой</td>\n",
       "    </tr>\n",
       "    <tr>\n",
       "      <td>23520</td>\n",
       "      <td>0</td>\n",
       "      <td>0</td>\n",
       "      <td>44092.0</td>\n",
       "      <td>6</td>\n",
       "      <td>2018</td>\n",
       "      <td>2</td>\n",
       "      <td>другой</td>\n",
       "    </tr>\n",
       "    <tr>\n",
       "      <td>23521</td>\n",
       "      <td>196</td>\n",
       "      <td>602</td>\n",
       "      <td>149511.0</td>\n",
       "      <td>1</td>\n",
       "      <td>2017</td>\n",
       "      <td>3</td>\n",
       "      <td>другой</td>\n",
       "    </tr>\n",
       "    <tr>\n",
       "      <td>23522</td>\n",
       "      <td>0</td>\n",
       "      <td>0</td>\n",
       "      <td>41796.0</td>\n",
       "      <td>4</td>\n",
       "      <td>2017</td>\n",
       "      <td>7</td>\n",
       "      <td>другой</td>\n",
       "    </tr>\n",
       "  </tbody>\n",
       "</table>\n",
       "</div>"
      ],
      "text/plain": [
       "       ponds_nearest  days_exposition  price_of_m2  weekday  year  month  \\\n",
       "23518            381                0      72491.0        1  2017      3   \n",
       "23519              0               45      52542.0        0  2018      1   \n",
       "23520              0                0      44092.0        6  2018      2   \n",
       "23521            196              602     149511.0        1  2017      3   \n",
       "23522              0                0      41796.0        4  2017      7   \n",
       "\n",
       "      floors_first_or_last  \n",
       "23518               другой  \n",
       "23519               другой  \n",
       "23520               другой  \n",
       "23521               другой  \n",
       "23522               другой  "
      ]
     },
     "execution_count": 104,
     "metadata": {},
     "output_type": "execute_result"
    }
   ],
   "source": [
    "data['floors_first_or_last']=data['floors_total']\n",
    "for i in range(len(data)):\n",
    "    if data['floors_total'][i]==data['floor'][i] and data['floors_total'][i]!=1:\n",
    "        data['floors_first_or_last'][i]='последний'\n",
    "    elif data['floors_total'][i]==data['floor'][i]:\n",
    "        data['floors_first_or_last'][i]='первый'\n",
    "    else:\n",
    "        data['floors_first_or_last'][i]='другой'\n",
    "data[data.columns[20:]].tail()"
   ]
  },
  {
   "cell_type": "markdown",
   "metadata": {},
   "source": [
    "### 3.4 Добавляем столбцы соотношение жилой и общей площади, а также отношение площади кухни к общей."
   ]
  },
  {
   "cell_type": "code",
   "execution_count": 105,
   "metadata": {},
   "outputs": [
    {
     "data": {
      "text/html": [
       "<div>\n",
       "<style scoped>\n",
       "    .dataframe tbody tr th:only-of-type {\n",
       "        vertical-align: middle;\n",
       "    }\n",
       "\n",
       "    .dataframe tbody tr th {\n",
       "        vertical-align: top;\n",
       "    }\n",
       "\n",
       "    .dataframe thead th {\n",
       "        text-align: right;\n",
       "    }\n",
       "</style>\n",
       "<table border=\"1\" class=\"dataframe\">\n",
       "  <thead>\n",
       "    <tr style=\"text-align: right;\">\n",
       "      <th></th>\n",
       "      <th>ponds_nearest</th>\n",
       "      <th>days_exposition</th>\n",
       "      <th>price_of_m2</th>\n",
       "      <th>weekday</th>\n",
       "      <th>year</th>\n",
       "      <th>month</th>\n",
       "      <th>floors_first_or_last</th>\n",
       "      <th>living/total_area</th>\n",
       "      <th>kitchen/total_area</th>\n",
       "    </tr>\n",
       "  </thead>\n",
       "  <tbody>\n",
       "    <tr>\n",
       "      <td>0</td>\n",
       "      <td>755</td>\n",
       "      <td>0</td>\n",
       "      <td>120370.0</td>\n",
       "      <td>3</td>\n",
       "      <td>2019</td>\n",
       "      <td>3</td>\n",
       "      <td>другой</td>\n",
       "      <td>0.47</td>\n",
       "      <td>0.23</td>\n",
       "    </tr>\n",
       "    <tr>\n",
       "      <td>1</td>\n",
       "      <td>0</td>\n",
       "      <td>81</td>\n",
       "      <td>82921.0</td>\n",
       "      <td>1</td>\n",
       "      <td>2018</td>\n",
       "      <td>12</td>\n",
       "      <td>другой</td>\n",
       "      <td>0.46</td>\n",
       "      <td>0.27</td>\n",
       "    </tr>\n",
       "    <tr>\n",
       "      <td>2</td>\n",
       "      <td>574</td>\n",
       "      <td>558</td>\n",
       "      <td>92786.0</td>\n",
       "      <td>3</td>\n",
       "      <td>2015</td>\n",
       "      <td>8</td>\n",
       "      <td>другой</td>\n",
       "      <td>0.61</td>\n",
       "      <td>0.15</td>\n",
       "    </tr>\n",
       "    <tr>\n",
       "      <td>3</td>\n",
       "      <td>234</td>\n",
       "      <td>424</td>\n",
       "      <td>408176.0</td>\n",
       "      <td>4</td>\n",
       "      <td>2015</td>\n",
       "      <td>7</td>\n",
       "      <td>другой</td>\n",
       "      <td>0.58</td>\n",
       "      <td>0.17</td>\n",
       "    </tr>\n",
       "    <tr>\n",
       "      <td>4</td>\n",
       "      <td>48</td>\n",
       "      <td>121</td>\n",
       "      <td>100000.0</td>\n",
       "      <td>1</td>\n",
       "      <td>2018</td>\n",
       "      <td>6</td>\n",
       "      <td>другой</td>\n",
       "      <td>0.32</td>\n",
       "      <td>0.41</td>\n",
       "    </tr>\n",
       "  </tbody>\n",
       "</table>\n",
       "</div>"
      ],
      "text/plain": [
       "   ponds_nearest  days_exposition  price_of_m2  weekday  year  month  \\\n",
       "0            755                0     120370.0        3  2019      3   \n",
       "1              0               81      82921.0        1  2018     12   \n",
       "2            574              558      92786.0        3  2015      8   \n",
       "3            234              424     408176.0        4  2015      7   \n",
       "4             48              121     100000.0        1  2018      6   \n",
       "\n",
       "  floors_first_or_last  living/total_area  kitchen/total_area  \n",
       "0               другой               0.47                0.23  \n",
       "1               другой               0.46                0.27  \n",
       "2               другой               0.61                0.15  \n",
       "3               другой               0.58                0.17  \n",
       "4               другой               0.32                0.41  "
      ]
     },
     "execution_count": 105,
     "metadata": {},
     "output_type": "execute_result"
    }
   ],
   "source": [
    "data['living/total_area']=(data['living_area']/data['total_area']).round(2)\n",
    "data['kitchen/total_area']=(data['kitchen_area']/data['total_area']).round(2)\n",
    "data[data.columns[20:]].head()"
   ]
  },
  {
   "cell_type": "markdown",
   "metadata": {},
   "source": [
    "### Вывод: \n",
    "#### Добавленные столбцы понадобятся для детального анализа.\n"
   ]
  },
  {
   "cell_type": "markdown",
   "metadata": {},
   "source": [
    "### Шаг 4. Проведите исследовательский анализ данных и выполните инструкции:"
   ]
  },
  {
   "cell_type": "markdown",
   "metadata": {},
   "source": [
    "#### 4.1 Изучите следующие параметры: площадь, цена, число комнат, высота потолков. Постройте гистограммы для каждого параметра."
   ]
  },
  {
   "cell_type": "markdown",
   "metadata": {},
   "source": [
    "Сделаем срез по параметрам площадь, цена, число комнат, высота потолков.\n",
    "Построим матрицу, найдем корреляцию."
   ]
  },
  {
   "cell_type": "code",
   "execution_count": 106,
   "metadata": {},
   "outputs": [
    {
     "data": {
      "text/html": [
       "<style  type=\"text/css\" >\n",
       "    #T_aa3b9e50_1502_11ea_823d_02420a0030f2row0_col0 {\n",
       "            background-color:  #b40426;\n",
       "            color:  #f1f1f1;\n",
       "        }    #T_aa3b9e50_1502_11ea_823d_02420a0030f2row0_col1 {\n",
       "            background-color:  #f4c5ad;\n",
       "            color:  #000000;\n",
       "        }    #T_aa3b9e50_1502_11ea_823d_02420a0030f2row0_col2 {\n",
       "            background-color:  #f49a7b;\n",
       "            color:  #000000;\n",
       "        }    #T_aa3b9e50_1502_11ea_823d_02420a0030f2row0_col3 {\n",
       "            background-color:  #465ecf;\n",
       "            color:  #f1f1f1;\n",
       "        }    #T_aa3b9e50_1502_11ea_823d_02420a0030f2row1_col0 {\n",
       "            background-color:  #f4c6af;\n",
       "            color:  #000000;\n",
       "        }    #T_aa3b9e50_1502_11ea_823d_02420a0030f2row1_col1 {\n",
       "            background-color:  #b40426;\n",
       "            color:  #f1f1f1;\n",
       "        }    #T_aa3b9e50_1502_11ea_823d_02420a0030f2row1_col2 {\n",
       "            background-color:  #a9c6fd;\n",
       "            color:  #000000;\n",
       "        }    #T_aa3b9e50_1502_11ea_823d_02420a0030f2row1_col3 {\n",
       "            background-color:  #4055c8;\n",
       "            color:  #f1f1f1;\n",
       "        }    #T_aa3b9e50_1502_11ea_823d_02420a0030f2row2_col0 {\n",
       "            background-color:  #f59f80;\n",
       "            color:  #000000;\n",
       "        }    #T_aa3b9e50_1502_11ea_823d_02420a0030f2row2_col1 {\n",
       "            background-color:  #a3c2fe;\n",
       "            color:  #000000;\n",
       "        }    #T_aa3b9e50_1502_11ea_823d_02420a0030f2row2_col2 {\n",
       "            background-color:  #b40426;\n",
       "            color:  #f1f1f1;\n",
       "        }    #T_aa3b9e50_1502_11ea_823d_02420a0030f2row2_col3 {\n",
       "            background-color:  #3b4cc0;\n",
       "            color:  #f1f1f1;\n",
       "        }    #T_aa3b9e50_1502_11ea_823d_02420a0030f2row3_col0 {\n",
       "            background-color:  #3b4cc0;\n",
       "            color:  #f1f1f1;\n",
       "        }    #T_aa3b9e50_1502_11ea_823d_02420a0030f2row3_col1 {\n",
       "            background-color:  #3b4cc0;\n",
       "            color:  #f1f1f1;\n",
       "        }    #T_aa3b9e50_1502_11ea_823d_02420a0030f2row3_col2 {\n",
       "            background-color:  #3b4cc0;\n",
       "            color:  #f1f1f1;\n",
       "        }    #T_aa3b9e50_1502_11ea_823d_02420a0030f2row3_col3 {\n",
       "            background-color:  #b40426;\n",
       "            color:  #f1f1f1;\n",
       "        }</style><table id=\"T_aa3b9e50_1502_11ea_823d_02420a0030f2\" ><thead>    <tr>        <th class=\"blank level0\" ></th>        <th class=\"col_heading level0 col0\" >total_area</th>        <th class=\"col_heading level0 col1\" >last_price</th>        <th class=\"col_heading level0 col2\" >rooms</th>        <th class=\"col_heading level0 col3\" >ceiling_height</th>    </tr></thead><tbody>\n",
       "                <tr>\n",
       "                        <th id=\"T_aa3b9e50_1502_11ea_823d_02420a0030f2level0_row0\" class=\"row_heading level0 row0\" >total_area</th>\n",
       "                        <td id=\"T_aa3b9e50_1502_11ea_823d_02420a0030f2row0_col0\" class=\"data row0 col0\" >1</td>\n",
       "                        <td id=\"T_aa3b9e50_1502_11ea_823d_02420a0030f2row0_col1\" class=\"data row0 col1\" >0.651517</td>\n",
       "                        <td id=\"T_aa3b9e50_1502_11ea_823d_02420a0030f2row0_col2\" class=\"data row0 col2\" >0.758917</td>\n",
       "                        <td id=\"T_aa3b9e50_1502_11ea_823d_02420a0030f2row0_col3\" class=\"data row0 col3\" >0.089471</td>\n",
       "            </tr>\n",
       "            <tr>\n",
       "                        <th id=\"T_aa3b9e50_1502_11ea_823d_02420a0030f2level0_row1\" class=\"row_heading level0 row1\" >last_price</th>\n",
       "                        <td id=\"T_aa3b9e50_1502_11ea_823d_02420a0030f2row1_col0\" class=\"data row1 col0\" >0.651517</td>\n",
       "                        <td id=\"T_aa3b9e50_1502_11ea_823d_02420a0030f2row1_col1\" class=\"data row1 col1\" >1</td>\n",
       "                        <td id=\"T_aa3b9e50_1502_11ea_823d_02420a0030f2row1_col2\" class=\"data row1 col2\" >0.362174</td>\n",
       "                        <td id=\"T_aa3b9e50_1502_11ea_823d_02420a0030f2row1_col3\" class=\"data row1 col3\" >0.0714853</td>\n",
       "            </tr>\n",
       "            <tr>\n",
       "                        <th id=\"T_aa3b9e50_1502_11ea_823d_02420a0030f2level0_row2\" class=\"row_heading level0 row2\" >rooms</th>\n",
       "                        <td id=\"T_aa3b9e50_1502_11ea_823d_02420a0030f2row2_col0\" class=\"data row2 col0\" >0.758917</td>\n",
       "                        <td id=\"T_aa3b9e50_1502_11ea_823d_02420a0030f2row2_col1\" class=\"data row2 col1\" >0.362174</td>\n",
       "                        <td id=\"T_aa3b9e50_1502_11ea_823d_02420a0030f2row2_col2\" class=\"data row2 col2\" >1</td>\n",
       "                        <td id=\"T_aa3b9e50_1502_11ea_823d_02420a0030f2row2_col3\" class=\"data row2 col3\" >0.0501439</td>\n",
       "            </tr>\n",
       "            <tr>\n",
       "                        <th id=\"T_aa3b9e50_1502_11ea_823d_02420a0030f2level0_row3\" class=\"row_heading level0 row3\" >ceiling_height</th>\n",
       "                        <td id=\"T_aa3b9e50_1502_11ea_823d_02420a0030f2row3_col0\" class=\"data row3 col0\" >0.089471</td>\n",
       "                        <td id=\"T_aa3b9e50_1502_11ea_823d_02420a0030f2row3_col1\" class=\"data row3 col1\" >0.0714853</td>\n",
       "                        <td id=\"T_aa3b9e50_1502_11ea_823d_02420a0030f2row3_col2\" class=\"data row3 col2\" >0.0501439</td>\n",
       "                        <td id=\"T_aa3b9e50_1502_11ea_823d_02420a0030f2row3_col3\" class=\"data row3 col3\" >1</td>\n",
       "            </tr>\n",
       "    </tbody></table>"
      ],
      "text/plain": [
       "<pandas.io.formats.style.Styler at 0x7f2468738b00>"
      ]
     },
     "execution_count": 106,
     "metadata": {},
     "output_type": "execute_result"
    }
   ],
   "source": [
    "data[['total_area','last_price','rooms','ceiling_height']].corr().style.background_gradient(cmap='coolwarm')"
   ]
  },
  {
   "cell_type": "markdown",
   "metadata": {},
   "source": [
    "Обнаружили следующие явные зависимости:\n",
    "Цены на недвижимость имеют положительную корреляцию от площади, в свою очередь площадь от количества комнат.\n",
    "Остальные зависимости нейтральные, т.е.их нет. Высота потолков не влияет ни на что.\n",
    "Построим диаграммы."
   ]
  },
  {
   "cell_type": "code",
   "execution_count": 107,
   "metadata": {},
   "outputs": [
    {
     "data": {
      "text/plain": [
       "array([[<matplotlib.axes._subplots.AxesSubplot object at 0x7f2468415dd8>,\n",
       "        <matplotlib.axes._subplots.AxesSubplot object at 0x7f2487dc1588>,\n",
       "        <matplotlib.axes._subplots.AxesSubplot object at 0x7f2487ddf978>,\n",
       "        <matplotlib.axes._subplots.AxesSubplot object at 0x7f2487d8def0>],\n",
       "       [<matplotlib.axes._subplots.AxesSubplot object at 0x7f2487d494e0>,\n",
       "        <matplotlib.axes._subplots.AxesSubplot object at 0x7f2487cfba90>,\n",
       "        <matplotlib.axes._subplots.AxesSubplot object at 0x7f2487cbb080>,\n",
       "        <matplotlib.axes._subplots.AxesSubplot object at 0x7f2487ceb668>],\n",
       "       [<matplotlib.axes._subplots.AxesSubplot object at 0x7f2487ceb6a0>,\n",
       "        <matplotlib.axes._subplots.AxesSubplot object at 0x7f2487c591d0>,\n",
       "        <matplotlib.axes._subplots.AxesSubplot object at 0x7f2487c0a780>,\n",
       "        <matplotlib.axes._subplots.AxesSubplot object at 0x7f2487bbad30>],\n",
       "       [<matplotlib.axes._subplots.AxesSubplot object at 0x7f2487bf8320>,\n",
       "        <matplotlib.axes._subplots.AxesSubplot object at 0x7f2487baa8d0>,\n",
       "        <matplotlib.axes._subplots.AxesSubplot object at 0x7f2487b5de80>,\n",
       "        <matplotlib.axes._subplots.AxesSubplot object at 0x7f2487b1a470>]],\n",
       "      dtype=object)"
      ]
     },
     "execution_count": 107,
     "metadata": {},
     "output_type": "execute_result"
    },
    {
     "data": {
      "image/png": "[encoded data removed]",
      "text/plain": [
       "<Figure size 648x648 with 16 Axes>"
      ]
     },
     "metadata": {
      "needs_background": "light"
     },
     "output_type": "display_data"
    }
   ],
   "source": [
    "pd.plotting.scatter_matrix(data[['total_area','last_price','rooms','ceiling_height']], figsize=(9, 9))"
   ]
  },
  {
   "cell_type": "markdown",
   "metadata": {},
   "source": [
    "#### 4.2 Изучите время продажи квартиры. Постройте гистограмму. Посчитайте среднее и медиану. Опишите, сколько обычно занимает продажа."
   ]
  },
  {
   "cell_type": "code",
   "execution_count": 108,
   "metadata": {},
   "outputs": [
    {
     "data": {
      "text/plain": [
       "count    20390.000000\n",
       "mean       180.959196\n",
       "std        219.814795\n",
       "min          1.000000\n",
       "25%         45.000000\n",
       "50%         95.000000\n",
       "75%        232.000000\n",
       "max       1580.000000\n",
       "Name: days_exposition, dtype: float64"
      ]
     },
     "execution_count": 108,
     "metadata": {},
     "output_type": "execute_result"
    }
   ],
   "source": [
    "# сделаем срез выведем среднее и медианное значение с помощью метода describe()\n",
    "data.query('days_exposition>0')['days_exposition'].describe()"
   ]
  },
  {
   "cell_type": "markdown",
   "metadata": {},
   "source": [
    "В среднем квртиры продаются за 181 день, медианное значение 95 дней."
   ]
  },
  {
   "cell_type": "code",
   "execution_count": 109,
   "metadata": {},
   "outputs": [
    {
     "data": {
      "text/plain": [
       "<matplotlib.axes._subplots.AxesSubplot at 0x7f2468408fd0>"
      ]
     },
     "execution_count": 109,
     "metadata": {},
     "output_type": "execute_result"
    },
    {
     "data": {
      "image/png": "[encoded data removed]",
      "text/plain": [
       "<Figure size 432x288 with 1 Axes>"
      ]
     },
     "metadata": {
      "needs_background": "light"
     },
     "output_type": "display_data"
    }
   ],
   "source": [
    "# построим гистограмму\n",
    "data.query('days_exposition>0')['days_exposition'].hist()"
   ]
  },
  {
   "cell_type": "markdown",
   "metadata": {},
   "source": [
    "#### 4.3 Когда можно считать, что продажи прошли очень быстро, а когда необычно долго?"
   ]
  },
  {
   "cell_type": "markdown",
   "metadata": {},
   "source": [
    "По усам диаграмммы размаха можно определить самую быструю и самую долгую продажу. Все, что за пределами усов - выбросы."
   ]
  },
  {
   "cell_type": "code",
   "execution_count": 110,
   "metadata": {},
   "outputs": [
    {
     "data": {
      "text/plain": [
       "<matplotlib.axes._subplots.AxesSubplot at 0x7f248684b1d0>"
      ]
     },
     "execution_count": 110,
     "metadata": {},
     "output_type": "execute_result"
    },
    {
     "data": {
      "image/png": "[encoded data removed]",
      "text/plain": [
       "<Figure size 432x288 with 1 Axes>"
      ]
     },
     "metadata": {
      "needs_background": "light"
     },
     "output_type": "display_data"
    }
   ],
   "source": [
    "# построим диаграмму размаха\n",
    "data.query('days_exposition>0').boxplot('days_exposition')"
   ]
  },
  {
   "cell_type": "code",
   "execution_count": 111,
   "metadata": {},
   "outputs": [
    {
     "data": {
      "text/plain": [
       "(0, 515)"
      ]
     },
     "execution_count": 111,
     "metadata": {},
     "output_type": "execute_result"
    },
    {
     "data": {
      "image/png": "[encoded data removed]",
      "text/plain": [
       "<Figure size 432x288 with 1 Axes>"
      ]
     },
     "metadata": {
      "needs_background": "light"
     },
     "output_type": "display_data"
    }
   ],
   "source": [
    "# построим диаграмму размаха\n",
    "data.query('days_exposition>0').boxplot('days_exposition')\n",
    "plt.ylim(0, 515)"
   ]
  },
  {
   "cell_type": "markdown",
   "metadata": {},
   "source": [
    "Если левый «ус» длиннее минимума, то он заканчивается минимумом.\n",
    "Итак, самая быстрая продажа это 1день.\n",
    "Выясним самую долгую, рассчитывается как Q1 - 1.5*(Q3 - Q1)\n",
    "Возьмем данные из ранее вызванного метода describe()"
   ]
  },
  {
   "cell_type": "code",
   "execution_count": 112,
   "metadata": {},
   "outputs": [
    {
     "data": {
      "text/plain": [
       "325.5"
      ]
     },
     "execution_count": 112,
     "metadata": {},
     "output_type": "execute_result"
    }
   ],
   "source": [
    "45+1.5*(232-45)"
   ]
  },
  {
   "cell_type": "markdown",
   "metadata": {},
   "source": [
    "Самая долгая продажа на 326 день."
   ]
  },
  {
   "cell_type": "markdown",
   "metadata": {},
   "source": [
    "#### 4.4 Уберите редкие и выбивающиеся значения. Опишите, какие особенности обнаружили."
   ]
  },
  {
   "cell_type": "markdown",
   "metadata": {},
   "source": [
    "Посмотрим на цены недвижимости по количеству дней в продаже."
   ]
  },
  {
   "cell_type": "code",
   "execution_count": 113,
   "metadata": {},
   "outputs": [
    {
     "data": {
      "text/plain": [
       "count    1.996500e+04\n",
       "mean     6.277715e+06\n",
       "std      1.038215e+07\n",
       "min      1.219000e+04\n",
       "25%      3.400000e+06\n",
       "50%      4.590000e+06\n",
       "75%      6.600000e+06\n",
       "max      7.630000e+08\n",
       "Name: last_price, dtype: float64"
      ]
     },
     "execution_count": 113,
     "metadata": {},
     "output_type": "execute_result"
    }
   ],
   "source": [
    "data.query('days_exposition<325')['last_price'].describe()"
   ]
  },
  {
   "cell_type": "code",
   "execution_count": 114,
   "metadata": {},
   "outputs": [
    {
     "data": {
      "text/plain": [
       "count    3.538000e+03\n",
       "mean     7.884126e+06\n",
       "std      1.319990e+07\n",
       "min      4.900000e+05\n",
       "25%      3.500000e+06\n",
       "50%      5.000000e+06\n",
       "75%      8.000000e+06\n",
       "max      4.013000e+08\n",
       "Name: last_price, dtype: float64"
      ]
     },
     "execution_count": 114,
     "metadata": {},
     "output_type": "execute_result"
    }
   ],
   "source": [
    "data.query('days_exposition>325')['last_price'].describe()"
   ]
  },
  {
   "cell_type": "markdown",
   "metadata": {},
   "source": [
    "Квартиры которые продавались дольше, цена такой недвижимости выше в среднем и по медианным значениям."
   ]
  },
  {
   "cell_type": "markdown",
   "metadata": {},
   "source": [
    "#### 4.4 Какие факторы больше всего влияют на стоимость квартиры? Изучите, зависит ли цена от квадратного метра, числа комнат, этажа (первого или последнего), удалённости от центра."
   ]
  },
  {
   "cell_type": "code",
   "execution_count": 115,
   "metadata": {},
   "outputs": [
    {
     "data": {
      "text/plain": [
       "array([[<matplotlib.axes._subplots.AxesSubplot object at 0x7f2467b55e48>,\n",
       "        <matplotlib.axes._subplots.AxesSubplot object at 0x7f2467aa4c18>,\n",
       "        <matplotlib.axes._subplots.AxesSubplot object at 0x7f2467adbf60>,\n",
       "        <matplotlib.axes._subplots.AxesSubplot object at 0x7f2467a97550>],\n",
       "       [<matplotlib.axes._subplots.AxesSubplot object at 0x7f2467a47b00>,\n",
       "        <matplotlib.axes._subplots.AxesSubplot object at 0x7f2467a070f0>,\n",
       "        <matplotlib.axes._subplots.AxesSubplot object at 0x7f24679b76a0>,\n",
       "        <matplotlib.axes._subplots.AxesSubplot object at 0x7f2467967c88>],\n",
       "       [<matplotlib.axes._subplots.AxesSubplot object at 0x7f2467967cc0>,\n",
       "        <matplotlib.axes._subplots.AxesSubplot object at 0x7f24679577f0>,\n",
       "        <matplotlib.axes._subplots.AxesSubplot object at 0x7f2467908da0>,\n",
       "        <matplotlib.axes._subplots.AxesSubplot object at 0x7f2467b55320>],\n",
       "       [<matplotlib.axes._subplots.AxesSubplot object at 0x7f2467b937b8>,\n",
       "        <matplotlib.axes._subplots.AxesSubplot object at 0x7f24678cb518>,\n",
       "        <matplotlib.axes._subplots.AxesSubplot object at 0x7f246787cac8>,\n",
       "        <matplotlib.axes._subplots.AxesSubplot object at 0x7f246783c0b8>]],\n",
       "      dtype=object)"
      ]
     },
     "execution_count": 115,
     "metadata": {},
     "output_type": "execute_result"
    },
    {
     "data": {
      "image/png": "[encoded data removed]",
      "text/plain": [
       "<Figure size 648x648 with 16 Axes>"
      ]
     },
     "metadata": {
      "needs_background": "light"
     },
     "output_type": "display_data"
    }
   ],
   "source": [
    "try_to_find_influence=data.query('floors_first_or_last!=\"другой\" & cityCenters_nearest>0')[['total_area','last_price','rooms','ceiling_height']]\n",
    "pd.plotting.scatter_matrix(try_to_find_influence, figsize=(9, 9))"
   ]
  },
  {
   "cell_type": "code",
   "execution_count": 116,
   "metadata": {},
   "outputs": [
    {
     "data": {
      "text/html": [
       "<style  type=\"text/css\" >\n",
       "    #T_b19e3ebe_1502_11ea_823d_02420a0030f2row0_col0 {\n",
       "            background-color:  #b40426;\n",
       "            color:  #f1f1f1;\n",
       "        }    #T_b19e3ebe_1502_11ea_823d_02420a0030f2row0_col1 {\n",
       "            background-color:  #f4c6af;\n",
       "            color:  #000000;\n",
       "        }    #T_b19e3ebe_1502_11ea_823d_02420a0030f2row0_col2 {\n",
       "            background-color:  #f5a081;\n",
       "            color:  #000000;\n",
       "        }    #T_b19e3ebe_1502_11ea_823d_02420a0030f2row0_col3 {\n",
       "            background-color:  #4257c9;\n",
       "            color:  #f1f1f1;\n",
       "        }    #T_b19e3ebe_1502_11ea_823d_02420a0030f2row1_col0 {\n",
       "            background-color:  #f3c7b1;\n",
       "            color:  #000000;\n",
       "        }    #T_b19e3ebe_1502_11ea_823d_02420a0030f2row1_col1 {\n",
       "            background-color:  #b40426;\n",
       "            color:  #f1f1f1;\n",
       "        }    #T_b19e3ebe_1502_11ea_823d_02420a0030f2row1_col2 {\n",
       "            background-color:  #b1cbfc;\n",
       "            color:  #000000;\n",
       "        }    #T_b19e3ebe_1502_11ea_823d_02420a0030f2row1_col3 {\n",
       "            background-color:  #3f53c6;\n",
       "            color:  #f1f1f1;\n",
       "        }    #T_b19e3ebe_1502_11ea_823d_02420a0030f2row2_col0 {\n",
       "            background-color:  #f6a283;\n",
       "            color:  #000000;\n",
       "        }    #T_b19e3ebe_1502_11ea_823d_02420a0030f2row2_col1 {\n",
       "            background-color:  #adc9fd;\n",
       "            color:  #000000;\n",
       "        }    #T_b19e3ebe_1502_11ea_823d_02420a0030f2row2_col2 {\n",
       "            background-color:  #b40426;\n",
       "            color:  #f1f1f1;\n",
       "        }    #T_b19e3ebe_1502_11ea_823d_02420a0030f2row2_col3 {\n",
       "            background-color:  #3b4cc0;\n",
       "            color:  #f1f1f1;\n",
       "        }    #T_b19e3ebe_1502_11ea_823d_02420a0030f2row3_col0 {\n",
       "            background-color:  #3b4cc0;\n",
       "            color:  #f1f1f1;\n",
       "        }    #T_b19e3ebe_1502_11ea_823d_02420a0030f2row3_col1 {\n",
       "            background-color:  #3b4cc0;\n",
       "            color:  #f1f1f1;\n",
       "        }    #T_b19e3ebe_1502_11ea_823d_02420a0030f2row3_col2 {\n",
       "            background-color:  #3b4cc0;\n",
       "            color:  #f1f1f1;\n",
       "        }    #T_b19e3ebe_1502_11ea_823d_02420a0030f2row3_col3 {\n",
       "            background-color:  #b40426;\n",
       "            color:  #f1f1f1;\n",
       "        }</style><table id=\"T_b19e3ebe_1502_11ea_823d_02420a0030f2\" ><thead>    <tr>        <th class=\"blank level0\" ></th>        <th class=\"col_heading level0 col0\" >total_area</th>        <th class=\"col_heading level0 col1\" >last_price</th>        <th class=\"col_heading level0 col2\" >rooms</th>        <th class=\"col_heading level0 col3\" >ceiling_height</th>    </tr></thead><tbody>\n",
       "                <tr>\n",
       "                        <th id=\"T_b19e3ebe_1502_11ea_823d_02420a0030f2level0_row0\" class=\"row_heading level0 row0\" >total_area</th>\n",
       "                        <td id=\"T_b19e3ebe_1502_11ea_823d_02420a0030f2row0_col0\" class=\"data row0 col0\" >1</td>\n",
       "                        <td id=\"T_b19e3ebe_1502_11ea_823d_02420a0030f2row0_col1\" class=\"data row0 col1\" >0.633535</td>\n",
       "                        <td id=\"T_b19e3ebe_1502_11ea_823d_02420a0030f2row0_col2\" class=\"data row0 col2\" >0.741201</td>\n",
       "                        <td id=\"T_b19e3ebe_1502_11ea_823d_02420a0030f2row0_col3\" class=\"data row0 col3\" >0.0488586</td>\n",
       "            </tr>\n",
       "            <tr>\n",
       "                        <th id=\"T_b19e3ebe_1502_11ea_823d_02420a0030f2level0_row1\" class=\"row_heading level0 row1\" >last_price</th>\n",
       "                        <td id=\"T_b19e3ebe_1502_11ea_823d_02420a0030f2row1_col0\" class=\"data row1 col0\" >0.633535</td>\n",
       "                        <td id=\"T_b19e3ebe_1502_11ea_823d_02420a0030f2row1_col1\" class=\"data row1 col1\" >1</td>\n",
       "                        <td id=\"T_b19e3ebe_1502_11ea_823d_02420a0030f2row1_col2\" class=\"data row1 col2\" >0.36833</td>\n",
       "                        <td id=\"T_b19e3ebe_1502_11ea_823d_02420a0030f2row1_col3\" class=\"data row1 col3\" >0.0411011</td>\n",
       "            </tr>\n",
       "            <tr>\n",
       "                        <th id=\"T_b19e3ebe_1502_11ea_823d_02420a0030f2level0_row2\" class=\"row_heading level0 row2\" >rooms</th>\n",
       "                        <td id=\"T_b19e3ebe_1502_11ea_823d_02420a0030f2row2_col0\" class=\"data row2 col0\" >0.741201</td>\n",
       "                        <td id=\"T_b19e3ebe_1502_11ea_823d_02420a0030f2row2_col1\" class=\"data row2 col1\" >0.36833</td>\n",
       "                        <td id=\"T_b19e3ebe_1502_11ea_823d_02420a0030f2row2_col2\" class=\"data row2 col2\" >1</td>\n",
       "                        <td id=\"T_b19e3ebe_1502_11ea_823d_02420a0030f2row2_col3\" class=\"data row2 col3\" >0.0258317</td>\n",
       "            </tr>\n",
       "            <tr>\n",
       "                        <th id=\"T_b19e3ebe_1502_11ea_823d_02420a0030f2level0_row3\" class=\"row_heading level0 row3\" >ceiling_height</th>\n",
       "                        <td id=\"T_b19e3ebe_1502_11ea_823d_02420a0030f2row3_col0\" class=\"data row3 col0\" >0.0488586</td>\n",
       "                        <td id=\"T_b19e3ebe_1502_11ea_823d_02420a0030f2row3_col1\" class=\"data row3 col1\" >0.0411011</td>\n",
       "                        <td id=\"T_b19e3ebe_1502_11ea_823d_02420a0030f2row3_col2\" class=\"data row3 col2\" >0.0258317</td>\n",
       "                        <td id=\"T_b19e3ebe_1502_11ea_823d_02420a0030f2row3_col3\" class=\"data row3 col3\" >1</td>\n",
       "            </tr>\n",
       "    </tbody></table>"
      ],
      "text/plain": [
       "<pandas.io.formats.style.Styler at 0x7f2467774e80>"
      ]
     },
     "execution_count": 116,
     "metadata": {},
     "output_type": "execute_result"
    }
   ],
   "source": [
    "try_to_find_influence.corr().style.background_gradient(cmap='coolwarm')"
   ]
  },
  {
   "cell_type": "markdown",
   "metadata": {},
   "source": [
    "Чтобы установить зависимость стоимости жилья от факторов цена квадратного метра, числа комнат, этажа (первого или последнего), удалённости от центра, необходимо рассматривать в рамках одной локации."
   ]
  },
  {
   "cell_type": "markdown",
   "metadata": {},
   "source": [
    "#### 4.5 Также изучите зависимость от даты размещения: дня недели, месяца и года."
   ]
  },
  {
   "cell_type": "code",
   "execution_count": 117,
   "metadata": {},
   "outputs": [
    {
     "name": "stdout",
     "output_type": "stream",
     "text": [
      "Проект Я.Недвижимость стартовал за 2 месяца до конца 2014 года\n"
     ]
    },
    {
     "data": {
      "text/plain": [
       "year\n",
       "2014     137\n",
       "2015    1178\n",
       "2016    2757\n",
       "2017    8153\n",
       "2018    8466\n",
       "2019    2832\n",
       "Name: year, dtype: int64"
      ]
     },
     "execution_count": 117,
     "metadata": {},
     "output_type": "execute_result"
    }
   ],
   "source": [
    "print('Проект Я.Недвижимость стартовал за',len(data.query('year==2014')['month'].unique()), 'месяца до конца 2014 года')\n",
    "data.groupby('year')['year'].count()"
   ]
  },
  {
   "cell_type": "markdown",
   "metadata": {},
   "source": [
    "Из года в год  по 2018 количество пользователей портала Я.Недвижимости растет, люди все чаще размещают объявления на портале.\n",
    "В 2019 небольшое количесво объявлений связано с тем, потому что в срезе данных объявления не за весь 2019.\n",
    "Выясним до какого месяца, и сравним с предыдущими двумя годами.Проверим есть ли тенденция к снижению."
   ]
  },
  {
   "cell_type": "code",
   "execution_count": 118,
   "metadata": {},
   "outputs": [
    {
     "name": "stdout",
     "output_type": "stream",
     "text": [
      "Объявление в 2019 размещены за первые 5 месяцев, их количество 2832\n",
      "Количество объявление в 2017 за первые 5 месяцев составило 2127\n",
      "Количество объявление в 2018 за первые 5 месяцев составило 3395\n"
     ]
    }
   ],
   "source": [
    "month_till=data.query('year==2019')['month'].unique()\n",
    "print('Объявление в 2019 размещены за первые', len(month_till), 'месяцев, их количество',len(data.query('year==2019 & month in @month_till')))\n",
    "print('Количество объявление в 2017 за первые', len(month_till), 'месяцев составило',len(data.query('year==2017 & month in @month_till')))\n",
    "print('Количество объявление в 2018 за первые', len(month_till), 'месяцев составило',len(data.query('year==2018 & month in @month_till')))"
   ]
  },
  {
   "cell_type": "markdown",
   "metadata": {},
   "source": [
    "В 2017 и 2018 примерно одинаковое количество размещенных объявлений, по результатам среза за первые 5 месяцев мы не можем утверждать о общем спаде. Можем лишь констатировать, что за этот же период в прошлом году было размещено на 563 объявления больше.\n",
    "\n",
    "Выясним тенденцию размещения объявлений по месяцам за полные года,а это с 2015 по 2018 включительно."
   ]
  },
  {
   "cell_type": "code",
   "execution_count": 119,
   "metadata": {},
   "outputs": [
    {
     "data": {
      "text/plain": [
       "month\n",
       "11    2340\n",
       "10    2107\n",
       "2     2077\n",
       "9     1971\n",
       "6     1748\n",
       "8     1738\n",
       "3     1699\n",
       "7     1683\n",
       "12    1514\n",
       "4     1406\n",
       "5     1199\n",
       "1     1072\n",
       "Name: month, dtype: int64"
      ]
     },
     "execution_count": 119,
     "metadata": {},
     "output_type": "execute_result"
    }
   ],
   "source": [
    "data.query('2014<year<2019').groupby('month')['month'].count().sort_values(ascending = False)\n"
   ]
  },
  {
   "cell_type": "markdown",
   "metadata": {},
   "source": [
    "Наибольший всплеск объявлений приходится на ноябрь, меньше всего в январе. \n",
    "Наибольшее количество объявлений размещены с сентября по ноябрь и в феврале.\n",
    "Меньше всего приходятся на январь и март, остальные месяцы примерно с одинаковым количеством."
   ]
  },
  {
   "cell_type": "code",
   "execution_count": 120,
   "metadata": {},
   "outputs": [
    {
     "data": {
      "text/plain": [
       "weekday\n",
       "3    4262\n",
       "1    4160\n",
       "4    3979\n",
       "2    3940\n",
       "0    3586\n",
       "5    1917\n",
       "6    1679\n",
       "Name: weekday, dtype: int64"
      ]
     },
     "execution_count": 120,
     "metadata": {},
     "output_type": "execute_result"
    }
   ],
   "source": [
    "data.groupby('weekday')['weekday'].count().sort_values(ascending = False)"
   ]
  },
  {
   "cell_type": "markdown",
   "metadata": {},
   "source": [
    "Чаще всего объявления размещают в среду и вторник,меньше всего в воскресенье и субботу.\n",
    "Остальные буднии дни примерно на одном уровне."
   ]
  },
  {
   "cell_type": "markdown",
   "metadata": {},
   "source": [
    "#### 4.6 Выберите 10 населённых пунктов с наибольшим числом объявлений. Посчитайте среднюю цену квадратного метра в этих населённых пунктах. "
   ]
  },
  {
   "cell_type": "code",
   "execution_count": 121,
   "metadata": {},
   "outputs": [
    {
     "data": {
      "text/plain": [
       "locality_name\n",
       "САНКТ-ПЕТЕРБУРГ      15619\n",
       "ПОСЕЛОК МУРИНО         552\n",
       "ПОСЕЛОК ШУШАРЫ         436\n",
       "ВСЕВОЛОЖСК             398\n",
       "ПУШКИН                 369\n",
       "КОЛПИНО                337\n",
       "ПОСЕЛОК ПАРГОЛОВО      327\n",
       "ГАТЧИНА                307\n",
       "ДЕРЕВНЯ КУДРОВО        299\n",
       "ВЫБОРГ                 237\n",
       "Name: year, dtype: int64"
      ]
     },
     "execution_count": 121,
     "metadata": {},
     "output_type": "execute_result"
    }
   ],
   "source": [
    "top10_most_count=data.groupby('locality_name')['year'].count().sort_values(ascending = False)[0:10]\n",
    "top10_most_count"
   ]
  },
  {
   "cell_type": "markdown",
   "metadata": {},
   "source": [
    "Посчитайте среднюю цену квадратного метра в этих населённых пунктах. \n",
    "Выделите населённые пункты с самой высокой и низкой стоимостью жилья. \n",
    "Эти данные можно найти по имени в столбце 'locality_name'."
   ]
  },
  {
   "cell_type": "code",
   "execution_count": 122,
   "metadata": {},
   "outputs": [
    {
     "data": {
      "text/html": [
       "<div>\n",
       "<style scoped>\n",
       "    .dataframe tbody tr th:only-of-type {\n",
       "        vertical-align: middle;\n",
       "    }\n",
       "\n",
       "    .dataframe tbody tr th {\n",
       "        vertical-align: top;\n",
       "    }\n",
       "\n",
       "    .dataframe thead th {\n",
       "        text-align: right;\n",
       "    }\n",
       "</style>\n",
       "<table border=\"1\" class=\"dataframe\">\n",
       "  <thead>\n",
       "    <tr style=\"text-align: right;\">\n",
       "      <th></th>\n",
       "      <th>price_of_m2</th>\n",
       "    </tr>\n",
       "    <tr>\n",
       "      <th>locality_name</th>\n",
       "      <th></th>\n",
       "    </tr>\n",
       "  </thead>\n",
       "  <tbody>\n",
       "    <tr>\n",
       "      <td>ВСЕВОЛОЖСК</td>\n",
       "      <td>68654.474874</td>\n",
       "    </tr>\n",
       "    <tr>\n",
       "      <td>ВЫБОРГ</td>\n",
       "      <td>58141.919831</td>\n",
       "    </tr>\n",
       "    <tr>\n",
       "      <td>ГАТЧИНА</td>\n",
       "      <td>68746.110749</td>\n",
       "    </tr>\n",
       "    <tr>\n",
       "      <td>ДЕРЕВНЯ КУДРОВО</td>\n",
       "      <td>92473.588629</td>\n",
       "    </tr>\n",
       "    <tr>\n",
       "      <td>КОЛПИНО</td>\n",
       "      <td>75402.492582</td>\n",
       "    </tr>\n",
       "    <tr>\n",
       "      <td>ПОСЕЛОК МУРИНО</td>\n",
       "      <td>85629.567029</td>\n",
       "    </tr>\n",
       "    <tr>\n",
       "      <td>ПОСЕЛОК ПАРГОЛОВО</td>\n",
       "      <td>90175.886850</td>\n",
       "    </tr>\n",
       "    <tr>\n",
       "      <td>ПОСЕЛОК ШУШАРЫ</td>\n",
       "      <td>78474.378440</td>\n",
       "    </tr>\n",
       "    <tr>\n",
       "      <td>ПУШКИН</td>\n",
       "      <td>103125.818428</td>\n",
       "    </tr>\n",
       "    <tr>\n",
       "      <td>САНКТ-ПЕТЕРБУРГ</td>\n",
       "      <td>114698.219540</td>\n",
       "    </tr>\n",
       "  </tbody>\n",
       "</table>\n",
       "</div>"
      ],
      "text/plain": [
       "                     price_of_m2\n",
       "locality_name                   \n",
       "ВСЕВОЛОЖСК          68654.474874\n",
       "ВЫБОРГ              58141.919831\n",
       "ГАТЧИНА             68746.110749\n",
       "ДЕРЕВНЯ КУДРОВО     92473.588629\n",
       "КОЛПИНО             75402.492582\n",
       "ПОСЕЛОК МУРИНО      85629.567029\n",
       "ПОСЕЛОК ПАРГОЛОВО   90175.886850\n",
       "ПОСЕЛОК ШУШАРЫ      78474.378440\n",
       "ПУШКИН             103125.818428\n",
       "САНКТ-ПЕТЕРБУРГ    114698.219540"
      ]
     },
     "execution_count": 122,
     "metadata": {},
     "output_type": "execute_result"
    }
   ],
   "source": [
    "# сохраним в список list_of_name_top10 индексы с наименованием населенных пунктов \n",
    "list_of_name_top10=top10_most_count.index.tolist()\n",
    "# сделаем срез таблицы,по списку list_of_name_top10,сгруппируем данные по общей сумме м2, запишем в переменную top10_price_of_m2\n",
    "top10_price_of_m2=data.query('locality_name in @list_of_name_top10').groupby('locality_name')['price_of_m2'].mean()\n",
    "# сформируем таблицу из результата\n",
    "top10_price_of_m2=pd.DataFrame(top10_price_of_m2)\n",
    "# отобразим таблицу \n",
    "top10_price_of_m2"
   ]
  },
  {
   "cell_type": "code",
   "execution_count": 123,
   "metadata": {},
   "outputs": [],
   "source": [
    "top10_most_count=pd.DataFrame(top10_most_count)\n",
    "top10_most_count=top10_most_count.merge(top10_price_of_m2,on='locality_name')"
   ]
  },
  {
   "cell_type": "code",
   "execution_count": 124,
   "metadata": {
    "scrolled": true
   },
   "outputs": [
    {
     "data": {
      "text/html": [
       "<div>\n",
       "<style scoped>\n",
       "    .dataframe tbody tr th:only-of-type {\n",
       "        vertical-align: middle;\n",
       "    }\n",
       "\n",
       "    .dataframe tbody tr th {\n",
       "        vertical-align: top;\n",
       "    }\n",
       "\n",
       "    .dataframe thead th {\n",
       "        text-align: right;\n",
       "    }\n",
       "</style>\n",
       "<table border=\"1\" class=\"dataframe\">\n",
       "  <thead>\n",
       "    <tr style=\"text-align: right;\">\n",
       "      <th></th>\n",
       "      <th>count_of_ad</th>\n",
       "      <th>mean_price_of_m2</th>\n",
       "    </tr>\n",
       "    <tr>\n",
       "      <th>locality_name</th>\n",
       "      <th></th>\n",
       "      <th></th>\n",
       "    </tr>\n",
       "  </thead>\n",
       "  <tbody>\n",
       "    <tr>\n",
       "      <td>САНКТ-ПЕТЕРБУРГ</td>\n",
       "      <td>15619</td>\n",
       "      <td>114698.219540</td>\n",
       "    </tr>\n",
       "    <tr>\n",
       "      <td>ПУШКИН</td>\n",
       "      <td>369</td>\n",
       "      <td>103125.818428</td>\n",
       "    </tr>\n",
       "    <tr>\n",
       "      <td>ДЕРЕВНЯ КУДРОВО</td>\n",
       "      <td>299</td>\n",
       "      <td>92473.588629</td>\n",
       "    </tr>\n",
       "    <tr>\n",
       "      <td>ПОСЕЛОК ПАРГОЛОВО</td>\n",
       "      <td>327</td>\n",
       "      <td>90175.886850</td>\n",
       "    </tr>\n",
       "    <tr>\n",
       "      <td>ПОСЕЛОК МУРИНО</td>\n",
       "      <td>552</td>\n",
       "      <td>85629.567029</td>\n",
       "    </tr>\n",
       "    <tr>\n",
       "      <td>ПОСЕЛОК ШУШАРЫ</td>\n",
       "      <td>436</td>\n",
       "      <td>78474.378440</td>\n",
       "    </tr>\n",
       "    <tr>\n",
       "      <td>КОЛПИНО</td>\n",
       "      <td>337</td>\n",
       "      <td>75402.492582</td>\n",
       "    </tr>\n",
       "    <tr>\n",
       "      <td>ГАТЧИНА</td>\n",
       "      <td>307</td>\n",
       "      <td>68746.110749</td>\n",
       "    </tr>\n",
       "    <tr>\n",
       "      <td>ВСЕВОЛОЖСК</td>\n",
       "      <td>398</td>\n",
       "      <td>68654.474874</td>\n",
       "    </tr>\n",
       "    <tr>\n",
       "      <td>ВЫБОРГ</td>\n",
       "      <td>237</td>\n",
       "      <td>58141.919831</td>\n",
       "    </tr>\n",
       "  </tbody>\n",
       "</table>\n",
       "</div>"
      ],
      "text/plain": [
       "                   count_of_ad  mean_price_of_m2\n",
       "locality_name                                   \n",
       "САНКТ-ПЕТЕРБУРГ          15619     114698.219540\n",
       "ПУШКИН                     369     103125.818428\n",
       "ДЕРЕВНЯ КУДРОВО            299      92473.588629\n",
       "ПОСЕЛОК ПАРГОЛОВО          327      90175.886850\n",
       "ПОСЕЛОК МУРИНО             552      85629.567029\n",
       "ПОСЕЛОК ШУШАРЫ             436      78474.378440\n",
       "КОЛПИНО                    337      75402.492582\n",
       "ГАТЧИНА                    307      68746.110749\n",
       "ВСЕВОЛОЖСК                 398      68654.474874\n",
       "ВЫБОРГ                     237      58141.919831"
      ]
     },
     "execution_count": 124,
     "metadata": {},
     "output_type": "execute_result"
    }
   ],
   "source": [
    "# сортировка по убыванию\n",
    "top10_most_count=top10_most_count.sort_values(by='price_of_m2', ascending = False)\n",
    "# колонке присвоим правильное наименование\n",
    "top10_most_count.rename(columns={'year': 'count_of_ad','price_of_m2':'mean_price_of_m2'}, inplace=True)\n",
    "top10_most_count"
   ]
  },
  {
   "cell_type": "markdown",
   "metadata": {},
   "source": [
    "Санкт-Петербург лидирует по количеству предложений и стоимости м2.\n",
    "Замыкает 10ку Выборг."
   ]
  },
  {
   "cell_type": "markdown",
   "metadata": {},
   "source": [
    "#### 4.7 Изучите предложения квартир: для каждой квартиры есть информация о расстоянии до центра. Выделите квартиры в Санкт-Петербурге ('locality_name'). Ваша задача — выяснить, какая область входит в центр. Создайте столбец с расстоянием до центра в километрах: округлите до целых значений. После этого посчитайте среднюю цену для каждого километра. "
   ]
  },
  {
   "cell_type": "markdown",
   "metadata": {},
   "source": [
    "Сделаем срез данных по г.САНКТ-ПЕТЕРБУРГ сохраним в переменную piter"
   ]
  },
  {
   "cell_type": "code",
   "execution_count": 125,
   "metadata": {},
   "outputs": [],
   "source": [
    "piter=data.query('locality_name==\"САНКТ-ПЕТЕРБУРГ\" & cityCenters_nearest>0')[['cityCenters_nearest','price_of_m2']]"
   ]
  },
  {
   "cell_type": "code",
   "execution_count": 126,
   "metadata": {},
   "outputs": [
    {
     "data": {
      "text/html": [
       "<div>\n",
       "<style scoped>\n",
       "    .dataframe tbody tr th:only-of-type {\n",
       "        vertical-align: middle;\n",
       "    }\n",
       "\n",
       "    .dataframe tbody tr th {\n",
       "        vertical-align: top;\n",
       "    }\n",
       "\n",
       "    .dataframe thead th {\n",
       "        text-align: right;\n",
       "    }\n",
       "</style>\n",
       "<table border=\"1\" class=\"dataframe\">\n",
       "  <thead>\n",
       "    <tr style=\"text-align: right;\">\n",
       "      <th></th>\n",
       "      <th>cityCenters_nearest</th>\n",
       "      <th>price_of_m2</th>\n",
       "    </tr>\n",
       "  </thead>\n",
       "  <tbody>\n",
       "    <tr>\n",
       "      <td>0</td>\n",
       "      <td>16028</td>\n",
       "      <td>120370.0</td>\n",
       "    </tr>\n",
       "    <tr>\n",
       "      <td>2</td>\n",
       "      <td>13933</td>\n",
       "      <td>92786.0</td>\n",
       "    </tr>\n",
       "    <tr>\n",
       "      <td>3</td>\n",
       "      <td>6800</td>\n",
       "      <td>408176.0</td>\n",
       "    </tr>\n",
       "    <tr>\n",
       "      <td>4</td>\n",
       "      <td>8098</td>\n",
       "      <td>100000.0</td>\n",
       "    </tr>\n",
       "    <tr>\n",
       "      <td>7</td>\n",
       "      <td>11634</td>\n",
       "      <td>110545.0</td>\n",
       "    </tr>\n",
       "    <tr>\n",
       "      <td>...</td>\n",
       "      <td>...</td>\n",
       "      <td>...</td>\n",
       "    </tr>\n",
       "    <tr>\n",
       "      <td>23513</td>\n",
       "      <td>16081</td>\n",
       "      <td>100567.0</td>\n",
       "    </tr>\n",
       "    <tr>\n",
       "      <td>23514</td>\n",
       "      <td>6263</td>\n",
       "      <td>105769.0</td>\n",
       "    </tr>\n",
       "    <tr>\n",
       "      <td>23515</td>\n",
       "      <td>4489</td>\n",
       "      <td>129904.0</td>\n",
       "    </tr>\n",
       "    <tr>\n",
       "      <td>23518</td>\n",
       "      <td>4232</td>\n",
       "      <td>72491.0</td>\n",
       "    </tr>\n",
       "    <tr>\n",
       "      <td>23521</td>\n",
       "      <td>10364</td>\n",
       "      <td>149511.0</td>\n",
       "    </tr>\n",
       "  </tbody>\n",
       "</table>\n",
       "<p>15619 rows × 2 columns</p>\n",
       "</div>"
      ],
      "text/plain": [
       "       cityCenters_nearest  price_of_m2\n",
       "0                    16028     120370.0\n",
       "2                    13933      92786.0\n",
       "3                     6800     408176.0\n",
       "4                     8098     100000.0\n",
       "7                    11634     110545.0\n",
       "...                    ...          ...\n",
       "23513                16081     100567.0\n",
       "23514                 6263     105769.0\n",
       "23515                 4489     129904.0\n",
       "23518                 4232      72491.0\n",
       "23521                10364     149511.0\n",
       "\n",
       "[15619 rows x 2 columns]"
      ]
     },
     "execution_count": 126,
     "metadata": {},
     "output_type": "execute_result"
    }
   ],
   "source": [
    "# сформируем таблицу\n",
    "piter=pd.DataFrame(piter)\n",
    "# выведем на экран\n",
    "piter"
   ]
  },
  {
   "cell_type": "code",
   "execution_count": 127,
   "metadata": {
    "scrolled": false
   },
   "outputs": [
    {
     "data": {
      "text/plain": [
       "<matplotlib.axes._subplots.AxesSubplot at 0x7f24677bee10>"
      ]
     },
     "execution_count": 127,
     "metadata": {},
     "output_type": "execute_result"
    },
    {
     "data": {
      "image/png": "[encoded data removed]",
      "text/plain": [
       "<Figure size 432x288 with 1 Axes>"
      ]
     },
     "metadata": {
      "needs_background": "light"
     },
     "output_type": "display_data"
    }
   ],
   "source": [
    "# добавим столбец cityCenters_nearest_KM со значениями cityCenters_nearest в км, округлим до целого\n",
    "piter['cityCenters_nearest_KM']=(piter['cityCenters_nearest']/1000).round()\n",
    "# удалим лишний столбец\n",
    "del piter['cityCenters_nearest']\n",
    "# построим график удаленность от цены за м2\n",
    "piter.plot(x='cityCenters_nearest_KM', y='price_of_m2', kind='scatter',alpha=0.3)\n"
   ]
  },
  {
   "cell_type": "markdown",
   "metadata": {},
   "source": [
    "Даже поэтому графику заметно, что чем дальше от центра тем цена ниже и разброс цен меньше."
   ]
  },
  {
   "cell_type": "code",
   "execution_count": 128,
   "metadata": {},
   "outputs": [
    {
     "name": "stdout",
     "output_type": "stream",
     "text": [
      "Коэффициент Пирсона равен: -0.313346793887771\n"
     ]
    }
   ],
   "source": [
    "# рассчитаем коэффициент Пирсона\n",
    "print('Коэффициент Пирсона равен:',piter['cityCenters_nearest_KM'].corr(piter['price_of_m2']))"
   ]
  },
  {
   "cell_type": "markdown",
   "metadata": {},
   "source": [
    "Корреляция есть,она отрицательная, но не явная. \n",
    "Построем график: он должен показывать, как цена зависит от удалённости от центра."
   ]
  },
  {
   "cell_type": "code",
   "execution_count": 129,
   "metadata": {},
   "outputs": [
    {
     "data": {
      "text/plain": [
       "<matplotlib.axes._subplots.AxesSubplot at 0x7f24675afd68>"
      ]
     },
     "execution_count": 129,
     "metadata": {},
     "output_type": "execute_result"
    },
    {
     "data": {
      "image/png": "[encoded data removed]",
      "text/plain": [
       "<Figure size 1080x360 with 1 Axes>"
      ]
     },
     "metadata": {
      "needs_background": "light"
     },
     "output_type": "display_data"
    }
   ],
   "source": [
    "# сделаем сводную по удаленности от центра и средней величины за м2\n",
    "piter_pivot=piter.pivot_table(index='cityCenters_nearest_KM', values='price_of_m2', aggfunc='mean')\n",
    "# построим график\n",
    "piter_pivot.plot(grid=True, style='o-',figsize=(15, 5))"
   ]
  },
  {
   "cell_type": "markdown",
   "metadata": {},
   "source": [
    "Поставим диапазон до 15км."
   ]
  },
  {
   "cell_type": "code",
   "execution_count": 130,
   "metadata": {},
   "outputs": [
    {
     "data": {
      "text/plain": [
       "<matplotlib.axes._subplots.AxesSubplot at 0x7f2467540f98>"
      ]
     },
     "execution_count": 130,
     "metadata": {},
     "output_type": "execute_result"
    },
    {
     "data": {
      "image/png": "[encoded data removed]",
      "text/plain": [
       "<Figure size 1080x360 with 1 Axes>"
      ]
     },
     "metadata": {
      "needs_background": "light"
     },
     "output_type": "display_data"
    }
   ],
   "source": [
    "piter_pivot.plot(grid=True, style='o-',figsize=(15, 5), xlim=(0,15))"
   ]
  },
  {
   "cell_type": "markdown",
   "metadata": {},
   "source": [
    "На графике видно, что чем ближе к центру,тем цена выше. \n",
    "Также ,что после 7км от центра, идет только спад по стоимости м2, значит до 7км это и есть центральная зона."
   ]
  },
  {
   "cell_type": "markdown",
   "metadata": {},
   "source": [
    "#### 4.8 Также выделите факторы, которые влияют на стоимость квартиры (число комнат, этаж, удалённость от центра, дата размещения объявления). Сделайте выводы. Отличаются ли они от общих выводов по всему городу?"
   ]
  },
  {
   "cell_type": "code",
   "execution_count": 131,
   "metadata": {},
   "outputs": [
    {
     "data": {
      "text/plain": [
       "array([[<matplotlib.axes._subplots.AxesSubplot object at 0x7f24674bb518>,\n",
       "        <matplotlib.axes._subplots.AxesSubplot object at 0x7f2467460fd0>,\n",
       "        <matplotlib.axes._subplots.AxesSubplot object at 0x7f246749a470>,\n",
       "        <matplotlib.axes._subplots.AxesSubplot object at 0x7f246744ca20>,\n",
       "        <matplotlib.axes._subplots.AxesSubplot object at 0x7f24673fffd0>],\n",
       "       [<matplotlib.axes._subplots.AxesSubplot object at 0x7f24673ba5c0>,\n",
       "        <matplotlib.axes._subplots.AxesSubplot object at 0x7f246736cb70>,\n",
       "        <matplotlib.axes._subplots.AxesSubplot object at 0x7f246732a198>,\n",
       "        <matplotlib.axes._subplots.AxesSubplot object at 0x7f246732a1d0>,\n",
       "        <matplotlib.axes._subplots.AxesSubplot object at 0x7f246730dcc0>],\n",
       "       [<matplotlib.axes._subplots.AxesSubplot object at 0x7f24672cb2b0>,\n",
       "        <matplotlib.axes._subplots.AxesSubplot object at 0x7f246727c860>,\n",
       "        <matplotlib.axes._subplots.AxesSubplot object at 0x7f246722ee10>,\n",
       "        <matplotlib.axes._subplots.AxesSubplot object at 0x7f24671ec400>,\n",
       "        <matplotlib.axes._subplots.AxesSubplot object at 0x7f246721c9b0>],\n",
       "       [<matplotlib.axes._subplots.AxesSubplot object at 0x7f24671cff60>,\n",
       "        <matplotlib.axes._subplots.AxesSubplot object at 0x7f246718b550>,\n",
       "        <matplotlib.axes._subplots.AxesSubplot object at 0x7f246713bb00>,\n",
       "        <matplotlib.axes._subplots.AxesSubplot object at 0x7f24670fc0f0>,\n",
       "        <matplotlib.axes._subplots.AxesSubplot object at 0x7f24670ac6a0>],\n",
       "       [<matplotlib.axes._subplots.AxesSubplot object at 0x7f24670dfc50>,\n",
       "        <matplotlib.axes._subplots.AxesSubplot object at 0x7f246709e240>,\n",
       "        <matplotlib.axes._subplots.AxesSubplot object at 0x7f246704d630>,\n",
       "        <matplotlib.axes._subplots.AxesSubplot object at 0x7f2466ffdbe0>,\n",
       "        <matplotlib.axes._subplots.AxesSubplot object at 0x7f2466fbc1d0>]],\n",
       "      dtype=object)"
      ]
     },
     "execution_count": 131,
     "metadata": {},
     "output_type": "execute_result"
    },
    {
     "data": {
      "image/png": "[encoded data removed]",
      "text/plain": [
       "<Figure size 864x864 with 25 Axes>"
      ]
     },
     "metadata": {
      "needs_background": "light"
     },
     "output_type": "display_data"
    }
   ],
   "source": [
    "piter_center=data.query('cityCenters_nearest<7000 & locality_name==\"САНКТ-ПЕТЕРБУРГ\"')[['total_area','last_price','rooms','ceiling_height','floor']]\n",
    "pd.plotting.scatter_matrix(piter_center, figsize=(12, 12))"
   ]
  },
  {
   "cell_type": "code",
   "execution_count": 132,
   "metadata": {},
   "outputs": [
    {
     "data": {
      "text/html": [
       "<style  type=\"text/css\" >\n",
       "    #T_b573dbac_1502_11ea_823d_02420a0030f2row0_col0 {\n",
       "            background-color:  #b40426;\n",
       "            color:  #f1f1f1;\n",
       "        }    #T_b573dbac_1502_11ea_823d_02420a0030f2row0_col1 {\n",
       "            background-color:  #eed0c0;\n",
       "            color:  #000000;\n",
       "        }    #T_b573dbac_1502_11ea_823d_02420a0030f2row0_col2 {\n",
       "            background-color:  #f59f80;\n",
       "            color:  #000000;\n",
       "        }    #T_b573dbac_1502_11ea_823d_02420a0030f2row0_col3 {\n",
       "            background-color:  #7699f6;\n",
       "            color:  #000000;\n",
       "        }    #T_b573dbac_1502_11ea_823d_02420a0030f2row0_col4 {\n",
       "            background-color:  #6f92f3;\n",
       "            color:  #000000;\n",
       "        }    #T_b573dbac_1502_11ea_823d_02420a0030f2row1_col0 {\n",
       "            background-color:  #ebd3c6;\n",
       "            color:  #000000;\n",
       "        }    #T_b573dbac_1502_11ea_823d_02420a0030f2row1_col1 {\n",
       "            background-color:  #b40426;\n",
       "            color:  #f1f1f1;\n",
       "        }    #T_b573dbac_1502_11ea_823d_02420a0030f2row1_col2 {\n",
       "            background-color:  #a9c6fd;\n",
       "            color:  #000000;\n",
       "        }    #T_b573dbac_1502_11ea_823d_02420a0030f2row1_col3 {\n",
       "            background-color:  #6485ec;\n",
       "            color:  #000000;\n",
       "        }    #T_b573dbac_1502_11ea_823d_02420a0030f2row1_col4 {\n",
       "            background-color:  #7396f5;\n",
       "            color:  #000000;\n",
       "        }    #T_b573dbac_1502_11ea_823d_02420a0030f2row2_col0 {\n",
       "            background-color:  #f7af91;\n",
       "            color:  #000000;\n",
       "        }    #T_b573dbac_1502_11ea_823d_02420a0030f2row2_col1 {\n",
       "            background-color:  #8db0fe;\n",
       "            color:  #000000;\n",
       "        }    #T_b573dbac_1502_11ea_823d_02420a0030f2row2_col2 {\n",
       "            background-color:  #b40426;\n",
       "            color:  #f1f1f1;\n",
       "        }    #T_b573dbac_1502_11ea_823d_02420a0030f2row2_col3 {\n",
       "            background-color:  #6a8bef;\n",
       "            color:  #000000;\n",
       "        }    #T_b573dbac_1502_11ea_823d_02420a0030f2row2_col4 {\n",
       "            background-color:  #445acc;\n",
       "            color:  #f1f1f1;\n",
       "        }    #T_b573dbac_1502_11ea_823d_02420a0030f2row3_col0 {\n",
       "            background-color:  #4055c8;\n",
       "            color:  #f1f1f1;\n",
       "        }    #T_b573dbac_1502_11ea_823d_02420a0030f2row3_col1 {\n",
       "            background-color:  #3b4cc0;\n",
       "            color:  #f1f1f1;\n",
       "        }    #T_b573dbac_1502_11ea_823d_02420a0030f2row3_col2 {\n",
       "            background-color:  #5f7fe8;\n",
       "            color:  #000000;\n",
       "        }    #T_b573dbac_1502_11ea_823d_02420a0030f2row3_col3 {\n",
       "            background-color:  #b40426;\n",
       "            color:  #f1f1f1;\n",
       "        }    #T_b573dbac_1502_11ea_823d_02420a0030f2row3_col4 {\n",
       "            background-color:  #3b4cc0;\n",
       "            color:  #f1f1f1;\n",
       "        }    #T_b573dbac_1502_11ea_823d_02420a0030f2row4_col0 {\n",
       "            background-color:  #3b4cc0;\n",
       "            color:  #f1f1f1;\n",
       "        }    #T_b573dbac_1502_11ea_823d_02420a0030f2row4_col1 {\n",
       "            background-color:  #4961d2;\n",
       "            color:  #f1f1f1;\n",
       "        }    #T_b573dbac_1502_11ea_823d_02420a0030f2row4_col2 {\n",
       "            background-color:  #3b4cc0;\n",
       "            color:  #f1f1f1;\n",
       "        }    #T_b573dbac_1502_11ea_823d_02420a0030f2row4_col3 {\n",
       "            background-color:  #3b4cc0;\n",
       "            color:  #f1f1f1;\n",
       "        }    #T_b573dbac_1502_11ea_823d_02420a0030f2row4_col4 {\n",
       "            background-color:  #b40426;\n",
       "            color:  #f1f1f1;\n",
       "        }</style><table id=\"T_b573dbac_1502_11ea_823d_02420a0030f2\" ><thead>    <tr>        <th class=\"blank level0\" ></th>        <th class=\"col_heading level0 col0\" >total_area</th>        <th class=\"col_heading level0 col1\" >last_price</th>        <th class=\"col_heading level0 col2\" >rooms</th>        <th class=\"col_heading level0 col3\" >ceiling_height</th>        <th class=\"col_heading level0 col4\" >floor</th>    </tr></thead><tbody>\n",
       "                <tr>\n",
       "                        <th id=\"T_b573dbac_1502_11ea_823d_02420a0030f2level0_row0\" class=\"row_heading level0 row0\" >total_area</th>\n",
       "                        <td id=\"T_b573dbac_1502_11ea_823d_02420a0030f2row0_col0\" class=\"data row0 col0\" >1</td>\n",
       "                        <td id=\"T_b573dbac_1502_11ea_823d_02420a0030f2row0_col1\" class=\"data row0 col1\" >0.607733</td>\n",
       "                        <td id=\"T_b573dbac_1502_11ea_823d_02420a0030f2row0_col2\" class=\"data row0 col2\" >0.727439</td>\n",
       "                        <td id=\"T_b573dbac_1502_11ea_823d_02420a0030f2row0_col3\" class=\"data row0 col3\" >0.129873</td>\n",
       "                        <td id=\"T_b573dbac_1502_11ea_823d_02420a0030f2row0_col4\" class=\"data row0 col4\" >0.110375</td>\n",
       "            </tr>\n",
       "            <tr>\n",
       "                        <th id=\"T_b573dbac_1502_11ea_823d_02420a0030f2level0_row1\" class=\"row_heading level0 row1\" >last_price</th>\n",
       "                        <td id=\"T_b573dbac_1502_11ea_823d_02420a0030f2row1_col0\" class=\"data row1 col0\" >0.607733</td>\n",
       "                        <td id=\"T_b573dbac_1502_11ea_823d_02420a0030f2row1_col1\" class=\"data row1 col1\" >1</td>\n",
       "                        <td id=\"T_b573dbac_1502_11ea_823d_02420a0030f2row1_col2\" class=\"data row1 col2\" >0.309531</td>\n",
       "                        <td id=\"T_b573dbac_1502_11ea_823d_02420a0030f2row1_col3\" class=\"data row1 col3\" >0.0761381</td>\n",
       "                        <td id=\"T_b573dbac_1502_11ea_823d_02420a0030f2row1_col4\" class=\"data row1 col4\" >0.122738</td>\n",
       "            </tr>\n",
       "            <tr>\n",
       "                        <th id=\"T_b573dbac_1502_11ea_823d_02420a0030f2level0_row2\" class=\"row_heading level0 row2\" >rooms</th>\n",
       "                        <td id=\"T_b573dbac_1502_11ea_823d_02420a0030f2row2_col0\" class=\"data row2 col0\" >0.727439</td>\n",
       "                        <td id=\"T_b573dbac_1502_11ea_823d_02420a0030f2row2_col1\" class=\"data row2 col1\" >0.309531</td>\n",
       "                        <td id=\"T_b573dbac_1502_11ea_823d_02420a0030f2row2_col2\" class=\"data row2 col2\" >1</td>\n",
       "                        <td id=\"T_b573dbac_1502_11ea_823d_02420a0030f2row2_col3\" class=\"data row2 col3\" >0.0923798</td>\n",
       "                        <td id=\"T_b573dbac_1502_11ea_823d_02420a0030f2row2_col4\" class=\"data row2 col4\" >-0.0306793</td>\n",
       "            </tr>\n",
       "            <tr>\n",
       "                        <th id=\"T_b573dbac_1502_11ea_823d_02420a0030f2level0_row3\" class=\"row_heading level0 row3\" >ceiling_height</th>\n",
       "                        <td id=\"T_b573dbac_1502_11ea_823d_02420a0030f2row3_col0\" class=\"data row3 col0\" >0.129873</td>\n",
       "                        <td id=\"T_b573dbac_1502_11ea_823d_02420a0030f2row3_col1\" class=\"data row3 col1\" >0.0761381</td>\n",
       "                        <td id=\"T_b573dbac_1502_11ea_823d_02420a0030f2row3_col2\" class=\"data row3 col2\" >0.0923798</td>\n",
       "                        <td id=\"T_b573dbac_1502_11ea_823d_02420a0030f2row3_col3\" class=\"data row3 col3\" >1</td>\n",
       "                        <td id=\"T_b573dbac_1502_11ea_823d_02420a0030f2row3_col4\" class=\"data row3 col4\" >-0.0673319</td>\n",
       "            </tr>\n",
       "            <tr>\n",
       "                        <th id=\"T_b573dbac_1502_11ea_823d_02420a0030f2level0_row4\" class=\"row_heading level0 row4\" >floor</th>\n",
       "                        <td id=\"T_b573dbac_1502_11ea_823d_02420a0030f2row4_col0\" class=\"data row4 col0\" >0.110375</td>\n",
       "                        <td id=\"T_b573dbac_1502_11ea_823d_02420a0030f2row4_col1\" class=\"data row4 col1\" >0.122738</td>\n",
       "                        <td id=\"T_b573dbac_1502_11ea_823d_02420a0030f2row4_col2\" class=\"data row4 col2\" >-0.0306793</td>\n",
       "                        <td id=\"T_b573dbac_1502_11ea_823d_02420a0030f2row4_col3\" class=\"data row4 col3\" >-0.0673319</td>\n",
       "                        <td id=\"T_b573dbac_1502_11ea_823d_02420a0030f2row4_col4\" class=\"data row4 col4\" >1</td>\n",
       "            </tr>\n",
       "    </tbody></table>"
      ],
      "text/plain": [
       "<pandas.io.formats.style.Styler at 0x7f2466d244e0>"
      ]
     },
     "execution_count": 132,
     "metadata": {},
     "output_type": "execute_result"
    }
   ],
   "source": [
    "piter_center.corr().style.background_gradient(cmap='coolwarm')"
   ]
  },
  {
   "cell_type": "markdown",
   "metadata": {},
   "source": [
    "Цены на недвижимость имеют положительную корреляцию от площади, в свою очередь площадь от количества комнат.\n",
    "Остальные зависимости нейтральные, т.е.их нет. Высота потолков не влияет ни на что."
   ]
  },
  {
   "cell_type": "markdown",
   "metadata": {},
   "source": [
    "### Шаг 5. Общий вывод"
   ]
  },
  {
   "cell_type": "markdown",
   "metadata": {},
   "source": [
    "Выгрузка предоставлена с большим количеством пропусков, 60% времени ушло на заполнение их.\n",
    "Необходимо сообщить об этом программистам Я.Недвижимости. Надо реализовать возможность поддтягивания данных о доме из кадастра. Вариант установки \"заглушек по полям\" для пользователей, упростит задачу для обработки пропусков и неверных значений. Например,  не дать возможности для ввода величин не придусмотреные данной категории дома(высота потолков, этажность, максимальная площадь и т.д.),при условии реализации подтягивания данных из кадастра.\n",
    "\n",
    "Вне зависимости от населенного пункта на цену недвижимости влияет размер её площади.\n",
    "Тем не менее, локация - главный фактор стоимости жилья. \n",
    "Стоимость м2 в Санкт-Петербурге самая выскоя и м.б. в несколько раз выше, чем на перефирии.\n",
    "Чем ближе недвижимость к центру города, тем выше цена. \n",
    "Для Санкт-Петербурга центр города определен радиусом в 7км, стоимость жилья в этом районе отличается высоким ценовым показателем. Разброс цен за 7км менее заметен."
   ]
  },
  {
   "cell_type": "markdown",
   "metadata": {},
   "source": [
    "### Чек-лист готовности проекта\n",
    "\n",
    "Поставьте 'x' в выполненных пунктах. Далее нажмите Shift+Enter."
   ]
  },
  {
   "cell_type": "markdown",
   "metadata": {},
   "source": [
    "- [x]  открыт файл\n",
    "- [x]  файлы изучены (выведены первые строки, метод info())\n",
    "- [x]  определены пропущенные значения\n",
    "- [x]  заполнены пропущенные значения\n",
    "- [x]  есть пояснение какие пропущенные значения обнаружены\n",
    "- [x]  изменены типы данных\n",
    "- [x]  есть пояснение в каких столбцах изменены типы и почему\n",
    "- [x]  посчитано и добавлено в таблицу: цена квадратного метра\n",
    "- [x]  посчитано и добавлено в таблицу: день недели, месяц и год публикации объявления\n",
    "- [x]  посчитано и добавлено в таблицу: этаж квартиры; варианты — первый, последний, другой\n",
    "- [x]  посчитано и добавлено в таблицу: соотношение жилой и общей площади, а также отношение площади кухни к общей\n",
    "- [x]  изучены следующие параметры: площадь, цена, число комнат, высота потолков\n",
    "- [x]  построены гистограммы для каждого параметра\n",
    "- [x]  выполнено задание: \"Изучите время продажи квартиры. Постройте гистограмму. Посчитайте среднее и медиану. Опишите, сколько обычно занимает продажа. Когда можно считать, что продажи прошли очень быстро, а когда необычно долго?\"\n",
    "- [x]  выполнено задание: \"Уберите редкие и выбивающиеся значения. Опишите, какие особенности обнаружили.\"\n",
    "- [x]  выполнено задание: \"Какие факторы больше всего влияют на стоимость квартиры? Изучите, зависит ли цена от квадратного метра, числа комнат, этажа (первого или последнего), удалённости от центра. Также изучите зависимость от даты размещения: дня недели, месяца и года. \"Выберите 10 населённых пунктов с наибольшим числом объявлений. Посчитайте среднюю цену квадратного метра в этих населённых пунктах. Выделите населённые пункты с самой высокой и низкой стоимостью жилья. Эти данные можно найти по имени в столбце '*locality_name'*. \"\n",
    "- [x]  выполнено задание: \"Изучите предложения квартир: для каждой квартиры есть информация о расстоянии до центра. Выделите квартиры в Санкт-Петербурге (*'locality_name'*). Ваша задача — выяснить, какая область входит в центр. Создайте столбец с расстоянием до центра в километрах: округлите до целых значений. После этого посчитайте среднюю цену для каждого километра. Постройте график: он должен показывать, как цена зависит от удалённости от центра. Определите границу, где график сильно меняется — это и будет центральная зона. \"\n",
    "- [x]  выполнено задание: \"Выделите сегмент квартир в центре. Проанализируйте эту территорию и изучите следующие параметры: площадь, цена, число комнат, высота потолков. Также выделите факторы, которые влияют на стоимость квартиры (число комнат, этаж, удалённость от центра, дата размещения объявления). Сделайте выводы. Отличаются ли они от общих выводов по всему городу?\"\n",
    "- [x]  в каждом этапе есть выводы\n",
    "- [x]  есть общий вывод"
   ]
  }
 ],
 "metadata": {
  "kernelspec": {
   "display_name": "Python 3",
   "language": "python",
   "name": "python3"
  },
  "language_info": {
   "codemirror_mode": {
    "name": "ipython",
    "version": 3
   },
   "file_extension": ".py",
   "mimetype": "text/x-python",
   "name": "python",
   "nbconvert_exporter": "python",
   "pygments_lexer": "ipython3",
   "version": "3.7.4"
  }
 },
 "nbformat": 4,
 "nbformat_minor": 2
}
